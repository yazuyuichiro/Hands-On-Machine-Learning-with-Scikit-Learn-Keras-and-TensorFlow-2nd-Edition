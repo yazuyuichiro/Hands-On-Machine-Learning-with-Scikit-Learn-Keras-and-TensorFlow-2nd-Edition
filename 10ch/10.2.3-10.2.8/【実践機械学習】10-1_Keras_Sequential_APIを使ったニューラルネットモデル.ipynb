{
 "cells": [
  {
   "cell_type": "markdown",
   "metadata": {},
   "source": [
    "# 概要"
   ]
  },
  {
   "cell_type": "markdown",
   "metadata": {},
   "source": [
    "KerasのSequential APIを使ったニューラルネットワークの構築例をまとめる。<br>\n",
    "分類問題と回帰問題の例をそれぞれ1モデル作成する。\n"
   ]
  },
  {
   "cell_type": "markdown",
   "metadata": {},
   "source": [
    "# 分類問題：Fashion MNIST"
   ]
  },
  {
   "cell_type": "markdown",
   "metadata": {},
   "source": [
    "Fashion MNISTはファッション商品（写真）の画像データセットである。\n",
    "* ラベル「0」： T-shirt/top（Tシャツ／トップス）\n",
    "* ラベル「1」： Trouser（ズボン）\n",
    "* ラベル「2」： Pullover（プルオーバー、頭から被って着る服）\n",
    "* ラベル「3」： Dress（ドレス）\n",
    "* ラベル「4」： Coat（コート）\n",
    "* ラベル「5」： Sandal（サンダル）\n",
    "* ラベル「6」： Shirt（シャツ）\n",
    "* ラベル「7」： Sneaker（スニーカー）\n",
    "* ラベル「8」： Bag（バッグ）\n",
    "* ラベル「9」： Ankle boot（アンクルブーツ、かかとが隠れる丈のブーツ）"
   ]
  },
  {
   "cell_type": "markdown",
   "metadata": {},
   "source": []
  },
  {
   "cell_type": "markdown",
   "metadata": {},
   "source": [
    "## パッケージインポート"
   ]
  },
  {
   "cell_type": "code",
   "execution_count": 1,
   "metadata": {},
   "outputs": [
    {
     "name": "stdout",
     "output_type": "stream",
     "text": [
      "tensorflow ver.2.5.0\n",
      "keras ver.2.5.0\n"
     ]
    }
   ],
   "source": [
    "import tensorflow as tf\n",
    "from tensorflow import keras\n",
    "import numpy as np\n",
    "\n",
    "print(f'tensorflow ver.{tf.__version__}')\n",
    "print(f'keras ver.{keras.__version__}')"
   ]
  },
  {
   "cell_type": "markdown",
   "metadata": {},
   "source": [
    "## データロード及び前処理"
   ]
  },
  {
   "cell_type": "markdown",
   "metadata": {},
   "source": [
    "### データロード"
   ]
  },
  {
   "cell_type": "code",
   "execution_count": 2,
   "metadata": {},
   "outputs": [],
   "source": [
    "fashion_mnist = keras.datasets.fashion_mnist\n",
    "(x_train_full, y_train_full), (x_test, y_test) = fashion_mnist.load_data()"
   ]
  },
  {
   "cell_type": "markdown",
   "metadata": {},
   "source": [
    "### validation分割"
   ]
  },
  {
   "cell_type": "code",
   "execution_count": 3,
   "metadata": {},
   "outputs": [
    {
     "name": "stdout",
     "output_type": "stream",
     "text": [
      "x_train.shape : (55000, 28, 28)\n",
      "y_train.shape : (55000,)\n",
      "x_valid.shape : (5000, 28, 28)\n",
      "y_valid.shape : (5000,)\n"
     ]
    }
   ],
   "source": [
    "valid_size = 5000\n",
    "x_valid, x_train = x_train_full[:valid_size], x_train_full[valid_size:]\n",
    "y_valid, y_train = y_train_full[:valid_size], y_train_full[valid_size:]\n",
    "\n",
    "print(f'x_train.shape : {x_train.shape}')\n",
    "print(f'y_train.shape : {y_train.shape}')\n",
    "print(f'x_valid.shape : {x_valid.shape}')\n",
    "print(f'y_valid.shape : {y_valid.shape}')"
   ]
  },
  {
   "cell_type": "markdown",
   "metadata": {},
   "source": [
    "### 前処理"
   ]
  },
  {
   "cell_type": "code",
   "execution_count": 4,
   "metadata": {},
   "outputs": [
    {
     "data": {
      "text/plain": [
       "'Coat'"
      ]
     },
     "execution_count": 4,
     "metadata": {},
     "output_type": "execute_result"
    }
   ],
   "source": [
    "# スケーリング0~255を0~1に変換する\n",
    "x_valid, x_train = x_valid/225.0, x_train/225.0\n",
    "\n",
    "# クラス名を定義（データ加工ではないが準備作業としてこちらに記載)\n",
    "class_names = [\"T-shirt/top\", \"Trouser\", \"Pullover\", \"Dress\", \"Coat\", \"Sandal\", \"Shirt\", \"Sneaker\", \"Bag\", \"Ankle boot\"]\n",
    "\n",
    "# サンプルで1枚目のクラウス名を出力\n",
    "class_names[y_train[0]]"
   ]
  },
  {
   "cell_type": "markdown",
   "metadata": {},
   "source": [
    "## モデル作成"
   ]
  },
  {
   "cell_type": "markdown",
   "metadata": {},
   "source": [
    "### レイヤ構成を定義"
   ]
  },
  {
   "cell_type": "code",
   "execution_count": 5,
   "metadata": {},
   "outputs": [
    {
     "name": "stdout",
     "output_type": "stream",
     "text": [
      "Model: \"sequential\"\n",
      "_________________________________________________________________\n",
      "Layer (type)                 Output Shape              Param #   \n",
      "=================================================================\n",
      "flatten (Flatten)            (None, 784)               0         \n",
      "_________________________________________________________________\n",
      "dense (Dense)                (None, 300)               235500    \n",
      "_________________________________________________________________\n",
      "dense_1 (Dense)              (None, 100)               30100     \n",
      "_________________________________________________________________\n",
      "dense_2 (Dense)              (None, 10)                1010      \n",
      "=================================================================\n",
      "Total params: 266,610\n",
      "Trainable params: 266,610\n",
      "Non-trainable params: 0\n",
      "_________________________________________________________________\n"
     ]
    }
   ],
   "source": [
    "# Sequentialモデル生成\n",
    "model = keras.models.Sequential()\n",
    "# 平滑化層\n",
    "model.add(keras.layers.Flatten(input_shape=x_train.shape[1:]))\n",
    "# 全結合層\n",
    "model.add(keras.layers.Dense(units=300, activation='relu'))\n",
    "# 全結合層\n",
    "model.add(keras.layers.Dense(units=100, activation='relu'))\n",
    "# 全結合層（出力層）\n",
    "model.add(keras.layers.Dense(units=10, activation='softmax'))\n",
    "\n",
    "# レイヤ構成を表示\n",
    "model.summary()\n"
   ]
  },
  {
   "cell_type": "markdown",
   "metadata": {},
   "source": [
    "#### ※モデルの直接操作することもできる"
   ]
  },
  {
   "cell_type": "markdown",
   "metadata": {},
   "source": [
    "レイヤを取得"
   ]
  },
  {
   "cell_type": "code",
   "execution_count": 6,
   "metadata": {},
   "outputs": [
    {
     "data": {
      "text/plain": [
       "[<tensorflow.python.keras.layers.core.Flatten at 0x1fb78c00448>,\n",
       " <tensorflow.python.keras.layers.core.Dense at 0x1fb78c07b88>,\n",
       " <tensorflow.python.keras.layers.core.Dense at 0x1fb7f0eaa08>,\n",
       " <tensorflow.python.keras.layers.core.Dense at 0x1fb7f0ea388>]"
      ]
     },
     "execution_count": 6,
     "metadata": {},
     "output_type": "execute_result"
    }
   ],
   "source": [
    "model.layers"
   ]
  },
  {
   "cell_type": "markdown",
   "metadata": {},
   "source": [
    "第1中間レイヤのパラメータを取得"
   ]
  },
  {
   "cell_type": "code",
   "execution_count": 7,
   "metadata": {},
   "outputs": [
    {
     "name": "stdout",
     "output_type": "stream",
     "text": [
      "[[ 0.00764104  0.01126886 -0.00599259 ... -0.01770302  0.01980142\n",
      "   0.05940279]\n",
      " [-0.02537611 -0.03946541 -0.00996497 ...  0.06723717 -0.00879716\n",
      "   0.07436714]\n",
      " [ 0.06061147  0.03658877 -0.02140393 ... -0.06959631 -0.02907168\n",
      "   0.04009003]\n",
      " [-0.0009442  -0.07339472  0.03956322 ... -0.05585682  0.06150056\n",
      "   0.01342092]\n",
      " [ 0.01838857 -0.06732468  0.00936014 ...  0.01951755 -0.06311397\n",
      "  -0.00020175]]\n",
      "[0. 0. 0. 0. 0.]\n"
     ]
    }
   ],
   "source": [
    "hidden_1_weights, hidden_1_biases = model.layers[1].get_weights()\n",
    "print(hidden_1_weights[:5])\n",
    "print(hidden_1_biases[:5])"
   ]
  },
  {
   "cell_type": "markdown",
   "metadata": {},
   "source": [
    "第1中間レイヤのパラメータを設定"
   ]
  },
  {
   "cell_type": "code",
   "execution_count": 8,
   "metadata": {},
   "outputs": [
    {
     "name": "stdout",
     "output_type": "stream",
     "text": [
      "[[1. 1. 1. ... 1. 1. 1.]\n",
      " [1. 1. 1. ... 1. 1. 1.]\n",
      " [1. 1. 1. ... 1. 1. 1.]\n",
      " [1. 1. 1. ... 1. 1. 1.]\n",
      " [1. 1. 1. ... 1. 1. 1.]]\n",
      "[1. 1. 1. 1. 1.]\n"
     ]
    }
   ],
   "source": [
    "# 重みとバイアスをすべて1に設定\n",
    "model.layers[1].set_weights([np.ones_like(model.layers[1].get_weights()[0]), np.ones_like(model.layers[1].get_weights()[1])])\n",
    "print(model.layers[1].get_weights()[0][:5])\n",
    "print(model.layers[1].get_weights()[1][:5])"
   ]
  },
  {
   "cell_type": "code",
   "execution_count": 9,
   "metadata": {},
   "outputs": [
    {
     "name": "stdout",
     "output_type": "stream",
     "text": [
      "[[ 0.00764104  0.01126886 -0.00599259 ... -0.01770302  0.01980142\n",
      "   0.05940279]\n",
      " [-0.02537611 -0.03946541 -0.00996497 ...  0.06723717 -0.00879716\n",
      "   0.07436714]\n",
      " [ 0.06061147  0.03658877 -0.02140393 ... -0.06959631 -0.02907168\n",
      "   0.04009003]\n",
      " [-0.0009442  -0.07339472  0.03956322 ... -0.05585682  0.06150056\n",
      "   0.01342092]\n",
      " [ 0.01838857 -0.06732468  0.00936014 ...  0.01951755 -0.06311397\n",
      "  -0.00020175]]\n",
      "[0. 0. 0. 0. 0.]\n"
     ]
    }
   ],
   "source": [
    "# 重みとバイアスを元に戻す\n",
    "model.layers[1].set_weights([hidden_1_weights, hidden_1_biases])\n",
    "print(model.layers[1].get_weights()[0][:5])\n",
    "print(model.layers[1].get_weights()[1][:5])"
   ]
  },
  {
   "cell_type": "markdown",
   "metadata": {},
   "source": [
    "## モデルのコンパイル\n",
    "モデルの学習プロセスを設定する。<br>\n",
    "ここで損失関数、オプティマイザ、評価関数を指定する。"
   ]
  },
  {
   "cell_type": "code",
   "execution_count": 10,
   "metadata": {},
   "outputs": [],
   "source": [
    "model.compile(loss='sparse_categorical_crossentropy', optimizer='sgd', metrics=['accuracy'])"
   ]
  },
  {
   "cell_type": "markdown",
   "metadata": {},
   "source": [
    "### [損失関数](https://keras.io/api/losses/)\n",
    "こちらも参考：[tf.keras.losses](https://www.tensorflow.org/api_docs/python/tf/keras/losses)\n",
    "\n",
    "|分類|キー|損失関数名|説明|\n",
    "|-|-|-|-|\n",
    "|確率的<br>損失関数|binary_crossentropy|2値交差エントロピー|2値分類問題で使用|\n",
    "||categorical_crossentropy|カテゴリカル交差エントロピー|多クラス分類問題で使用。使用する場合はラベルがone-hot表現である必要がある。|\n",
    "||sparse_categorical_crossentropy|スパースカテゴリカル交差エントロピー|多クラス分類問題で使用。基本はカテゴリカル交差エントロピーと同じだが、スパースな？ラベルを取る点が異なる。使用するにはラベルと出力の次元が同じである必要がある。|\n",
    "||KLdivergence|KLダイバージェンス|予測した確率分布と真の確率分布との分布の距離|\n",
    "||poisson|ピアソン損失|予測値-正解値*log(予測値)の平均|\n",
    "|回帰損失関数|mean_squared_error|平均二乗誤差|2点間の距離の平均。スケールが2乗になる。|\n",
    "||mean_absolute_error|平均絶対誤差|差の絶対値の平均|\n",
    "||mean_absolute_percentage_error|平均絶対パーセント誤差|パーセント誤差（=(予測値-正解値)/正解値）の絶対値の平均。正解に対して何パーセント誤差があるかを測る指標として用いる。|\n",
    "||mean_squared_logarithmic_error|平均二乗対数誤差|予測値と正解値の対数の平均二乗誤差。対数の引き算は割り算に変換できるため、予測値/正解値を測る指標と解釈できる。|\n",
    "||logcosh|||\n",
    "||cosine_similarity|||\n",
    "||huber|||\n",
    "|最大マージンの<br>ヒンジ損失関数|hinge|||\n",
    "||squared_hinge|||\n",
    "||categorical_hinge|||\n"
   ]
  },
  {
   "cell_type": "markdown",
   "metadata": {},
   "source": [
    "### [オプティマイザ](https://keras.io/ja/losses/)\n",
    "こちらも参考：[tf.keras.optimizers](https://www.tensorflow.org/api_docs/python/tf/keras/optimizers)\n",
    "\n",
    "|オプティマイザ|説明|\n",
    "|-|-|\n",
    "|SGD|確率的勾配降下法。モーメンタム，学習率減衰，Nesterov momentumをサポートしている。|\n",
    "|RMSprop|RNNと好相性らしい。|\n",
    "|Adagrad||\n",
    "|Adadelta||\n",
    "|Adam|RMSPropとmomumtumを組み合わせたもの。|\n",
    "|Adamax|無限ノルムに基づく拡張版Adamらしい。|\n",
    "|Nadam|RMSPropとNesterov momentumを組み合わせたもの。|\n",
    "|Ftrl||\n"
   ]
  },
  {
   "cell_type": "markdown",
   "metadata": {},
   "source": [
    "### [評価関数](https://keras.io/api/metrics/)\n",
    "こちらも参考：[tf.keras.metrics](https://www.tensorflow.org/api_docs/python/tf/keras/metrics)\n",
    "\n",
    "|分類|クラス名|説明|\n",
    "|-|-|-|\n",
    "|正解率|Accuracy||\n",
    "||BinaryAccuracy||\n",
    "||CategoricalAccuracy||\n",
    "||SparseCategoricalAccuracy||\n",
    "||TopKCategoricalAccuracy||\n",
    "||SparseTopKCategoricalAccuracy||\n",
    "|確率|BinaryCrossentropy||\n",
    "||CategoricalCrossentropy||\n",
    "||SparseCategoricalCrossentropy||\n",
    "||KLDivergence||\n",
    "||Poisson||\n",
    "|回帰|MeanSquaredError||\n",
    "||RootMeanSquaredError||\n",
    "||MeanAbsoluteError||\n",
    "||MeanAbsolutePercentageError||\n",
    "||MeanSquaredLogarithmicError||\n",
    "||CosineSimilarity||\n",
    "||LogCoshError||\n",
    "|正誤問題に基づく分類|AUC||\n",
    "||Precision||\n",
    "||Recall||\n",
    "||TruePositives||\n",
    "||TrueNegatives||\n",
    "||FalsePositives||\n",
    "||FalseNegatives||\n",
    "||PrecisionAtRecall||\n",
    "||SensitivityAtSpecificity||\n",
    "||SpecificityAtSensitivity||\n",
    "|画像セグメンテーション|MeanIoU||\n",
    "|最大マージンのヒンジ分類|Hinge||\n",
    "||SquaredHinge||\n",
    "||CategoricalHinge||"
   ]
  },
  {
   "cell_type": "markdown",
   "metadata": {},
   "source": [
    "## 学習と評価"
   ]
  },
  {
   "cell_type": "markdown",
   "metadata": {},
   "source": [
    "### コールバックによる学習中のチェックポイント保存"
   ]
  },
  {
   "cell_type": "markdown",
   "metadata": {},
   "source": [
    "コールバックは訓練中で適用される関数の集合である。\n",
    "訓練中にモデル内部の状態と統計量を可視化するためにコールバックを使う。\n",
    "\n",
    "SequentialとModelクラスの.fit()メソッドに（キーワード引数callbacksとして）コールバックのリストを渡すことができる。<br>\n",
    "これを使って学習中のチェックポイントを保存することが出来る。\n",
    "\n",
    "大規模データや層が深いモデルを扱うときには学習に時間がかかるため、google colabなどクラウド実行時にセッションが切れてしまうような場合にこのような設定が有効である。\n",
    "\n",
    "今回はsave_best_only=Trueとしてvalidationに対して性能が最高のモデルの時に保存する（早期打ち切り）"
   ]
  },
  {
   "cell_type": "code",
   "execution_count": 11,
   "metadata": {},
   "outputs": [],
   "source": [
    "# 各エポック終了時のモデルを保存するコールバック関数\n",
    "checkpoint_cb = keras.callbacks.ModelCheckpoint('my_keras_sequential_classification_model.h5', save_best_only=True)  "
   ]
  },
  {
   "cell_type": "markdown",
   "metadata": {},
   "source": [
    "### 学習"
   ]
  },
  {
   "cell_type": "code",
   "execution_count": 12,
   "metadata": {},
   "outputs": [
    {
     "name": "stdout",
     "output_type": "stream",
     "text": [
      "Epoch 1/30\n",
      "1719/1719 [==============================] - 4s 2ms/step - loss: 0.0937 - accuracy: 0.9639 - val_loss: 0.4451 - val_accuracy: 0.8998\n",
      "Epoch 2/30\n",
      "1719/1719 [==============================] - 4s 2ms/step - loss: 0.0821 - accuracy: 0.9683 - val_loss: 0.4516 - val_accuracy: 0.9026\n",
      "Epoch 3/30\n",
      "1719/1719 [==============================] - 5s 3ms/step - loss: 0.0787 - accuracy: 0.9703 - val_loss: 0.4582 - val_accuracy: 0.9012\n",
      "Epoch 4/30\n",
      "1719/1719 [==============================] - 4s 3ms/step - loss: 0.0765 - accuracy: 0.9710 - val_loss: 0.4596 - val_accuracy: 0.9036\n",
      "Epoch 5/30\n",
      "1719/1719 [==============================] - 6s 3ms/step - loss: 0.0746 - accuracy: 0.9710 - val_loss: 0.4666 - val_accuracy: 0.9016\n",
      "Epoch 6/30\n",
      "1719/1719 [==============================] - 6s 3ms/step - loss: 0.0731 - accuracy: 0.9724 - val_loss: 0.4717 - val_accuracy: 0.9032\n",
      "Epoch 7/30\n",
      "1719/1719 [==============================] - 4s 3ms/step - loss: 0.0719 - accuracy: 0.9724 - val_loss: 0.4750 - val_accuracy: 0.9018\n",
      "Epoch 8/30\n",
      "1719/1719 [==============================] - 6s 3ms/step - loss: 0.0711 - accuracy: 0.9730 - val_loss: 0.4783 - val_accuracy: 0.9012\n",
      "Epoch 9/30\n",
      "1719/1719 [==============================] - 5s 3ms/step - loss: 0.0699 - accuracy: 0.9733 - val_loss: 0.4821 - val_accuracy: 0.9022\n",
      "Epoch 10/30\n",
      "1719/1719 [==============================] - 5s 3ms/step - loss: 0.0691 - accuracy: 0.9745 - val_loss: 0.4842 - val_accuracy: 0.9034\n",
      "Epoch 11/30\n",
      "1719/1719 [==============================] - 7s 4ms/step - loss: 0.0681 - accuracy: 0.9741 - val_loss: 0.4863 - val_accuracy: 0.9040\n",
      "Epoch 12/30\n",
      "1719/1719 [==============================] - 5s 3ms/step - loss: 0.0673 - accuracy: 0.9746 - val_loss: 0.4903 - val_accuracy: 0.9018\n",
      "Epoch 13/30\n",
      "1719/1719 [==============================] - 6s 3ms/step - loss: 0.0666 - accuracy: 0.9747 - val_loss: 0.4954 - val_accuracy: 0.9030\n",
      "Epoch 14/30\n",
      "1719/1719 [==============================] - 7s 4ms/step - loss: 0.0658 - accuracy: 0.9752 - val_loss: 0.4956 - val_accuracy: 0.9032\n",
      "Epoch 15/30\n",
      "1719/1719 [==============================] - 6s 3ms/step - loss: 0.0653 - accuracy: 0.9752 - val_loss: 0.4980 - val_accuracy: 0.9032\n",
      "Epoch 16/30\n",
      "1719/1719 [==============================] - 6s 3ms/step - loss: 0.0646 - accuracy: 0.9758 - val_loss: 0.4986 - val_accuracy: 0.9020\n",
      "Epoch 17/30\n",
      "1719/1719 [==============================] - 5s 3ms/step - loss: 0.0639 - accuracy: 0.9761 - val_loss: 0.5078 - val_accuracy: 0.9026\n",
      "Epoch 18/30\n",
      "1719/1719 [==============================] - 6s 3ms/step - loss: 0.0631 - accuracy: 0.9765 - val_loss: 0.5092 - val_accuracy: 0.9028\n",
      "Epoch 19/30\n",
      "1719/1719 [==============================] - 6s 3ms/step - loss: 0.0626 - accuracy: 0.9765 - val_loss: 0.5138 - val_accuracy: 0.9022\n",
      "Epoch 20/30\n",
      "1719/1719 [==============================] - 6s 3ms/step - loss: 0.0621 - accuracy: 0.9765 - val_loss: 0.5159 - val_accuracy: 0.9010\n",
      "Epoch 21/30\n",
      "1719/1719 [==============================] - 5s 3ms/step - loss: 0.0614 - accuracy: 0.9773 - val_loss: 0.5240 - val_accuracy: 0.9032\n",
      "Epoch 22/30\n",
      "1719/1719 [==============================] - 5s 3ms/step - loss: 0.0608 - accuracy: 0.9773 - val_loss: 0.5246 - val_accuracy: 0.9028\n",
      "Epoch 23/30\n",
      "1719/1719 [==============================] - 6s 4ms/step - loss: 0.0603 - accuracy: 0.9778 - val_loss: 0.5268 - val_accuracy: 0.9020\n",
      "Epoch 24/30\n",
      "1719/1719 [==============================] - 6s 3ms/step - loss: 0.0596 - accuracy: 0.9775 - val_loss: 0.5305 - val_accuracy: 0.9016\n",
      "Epoch 25/30\n",
      "1719/1719 [==============================] - 5s 3ms/step - loss: 0.0592 - accuracy: 0.9778 - val_loss: 0.5352 - val_accuracy: 0.9022\n",
      "Epoch 26/30\n",
      "1719/1719 [==============================] - 5s 3ms/step - loss: 0.0585 - accuracy: 0.9781 - val_loss: 0.5350 - val_accuracy: 0.9032\n",
      "Epoch 27/30\n",
      "1719/1719 [==============================] - 5s 3ms/step - loss: 0.0581 - accuracy: 0.9783 - val_loss: 0.5365 - val_accuracy: 0.9018\n",
      "Epoch 28/30\n",
      "1719/1719 [==============================] - 5s 3ms/step - loss: 0.0576 - accuracy: 0.9787 - val_loss: 0.5407 - val_accuracy: 0.9020\n",
      "Epoch 29/30\n",
      "1719/1719 [==============================] - 5s 3ms/step - loss: 0.0570 - accuracy: 0.9789 - val_loss: 0.5465 - val_accuracy: 0.9046\n",
      "Epoch 30/30\n",
      "1719/1719 [==============================] - 5s 3ms/step - loss: 0.0566 - accuracy: 0.9789 - val_loss: 0.5425 - val_accuracy: 0.9014\n"
     ]
    }
   ],
   "source": [
    "history = model.fit(x_train, y_train, epochs=30, validation_data=(x_valid, y_valid), callbacks=[checkpoint_cb])"
   ]
  },
  {
   "cell_type": "markdown",
   "metadata": {},
   "source": [
    "### 学習結果の可視化"
   ]
  },
  {
   "cell_type": "code",
   "execution_count": 9,
   "metadata": {},
   "outputs": [
    {
     "data": {
      "image/png": "[encoded data removed]",
      "text/plain": [
       "<Figure size 576x360 with 1 Axes>"
      ]
     },
     "metadata": {
      "needs_background": "light"
     },
     "output_type": "display_data"
    }
   ],
   "source": [
    "import pandas as pd\n",
    "import matplotlib.pyplot as plt\n",
    "pd.DataFrame(history.history).plot(figsize=(8, 5))  # historyはエポック毎のloss, accuracy, val_loss, val_accuracyを保持する\n",
    "plt.grid(True)\n",
    "plt.gca().set_ylim(0, 1) # 縦の範囲を 0 から 1 までに\n",
    "plt.show()"
   ]
  },
  {
   "cell_type": "markdown",
   "metadata": {},
   "source": [
    "この例では、訓練の開始時には検証セットでの成績の方が訓練セットでの成績よりも高いように見えるが、実際にはそうではない。検証誤差は各エポックの最後に計算されるのに対し、訓練誤差は各エポックの途中で移動平均を使って計算されている。そのため、訓練セットの曲線は、半エポック分左にずらすべきところなのである。\n",
    "\n",
    "実際にそうすると、訓練セットと検証セットの曲線は、訓練開始時にはほぼ完全に重なり合うこと\n",
    "がわかる~~らしいがやり方は分からない~~。"
   ]
  },
  {
   "cell_type": "markdown",
   "metadata": {},
   "source": [
    "### 評価"
   ]
  },
  {
   "cell_type": "code",
   "execution_count": 14,
   "metadata": {},
   "outputs": [
    {
     "name": "stdout",
     "output_type": "stream",
     "text": [
      "313/313 [==============================] - 1s 2ms/step - loss: 78.4538 - accuracy: 0.8826\n"
     ]
    },
    {
     "data": {
      "text/plain": [
       "[78.45384216308594, 0.8826000094413757]"
      ]
     },
     "execution_count": 14,
     "metadata": {},
     "output_type": "execute_result"
    }
   ],
   "source": [
    "model.evaluate(x_test, y_test)"
   ]
  },
  {
   "cell_type": "code",
   "execution_count": 15,
   "metadata": {},
   "outputs": [],
   "source": [
    "# コールバック関数で保存した最高性能のモデルにロールバック\n",
    "model = keras.models.load_model('my_keras_sequential_classification_model.h5')"
   ]
  },
  {
   "cell_type": "code",
   "execution_count": 16,
   "metadata": {},
   "outputs": [
    {
     "name": "stdout",
     "output_type": "stream",
     "text": [
      "313/313 [==============================] - 1s 2ms/step - loss: 47.5977 - accuracy: 0.8630\n"
     ]
    },
    {
     "data": {
      "text/plain": [
       "[47.59771728515625, 0.8629999756813049]"
      ]
     },
     "execution_count": 16,
     "metadata": {},
     "output_type": "execute_result"
    }
   ],
   "source": [
    "# ロールバック後のモデルで再評価\n",
    "mse_test = model.evaluate(x_test, y_test)\n",
    "mse_test"
   ]
  },
  {
   "cell_type": "markdown",
   "metadata": {},
   "source": [
    "## 学習済みモデルを使った予測"
   ]
  },
  {
   "cell_type": "code",
   "execution_count": 17,
   "metadata": {},
   "outputs": [
    {
     "name": "stdout",
     "output_type": "stream",
     "text": [
      "========== predict : probability ==========\n",
      "[[0. 0. 0. 0. 0. 0. 0. 0. 0. 1.]\n",
      " [0. 0. 1. 0. 0. 0. 0. 0. 0. 0.]\n",
      " [0. 1. 0. 0. 0. 0. 0. 0. 0. 0.]]\n",
      "========== predict : class ==========\n",
      "[9 2 1]\n",
      "['Ankle boot' 'Pullover' 'Trouser']\n"
     ]
    }
   ],
   "source": [
    "# サンプル用にデータサイズを限定\n",
    "x_new = x_test[:3]\n",
    "\n",
    "# 各クラスに分類される確率を出力する\n",
    "print('========== predict : probability ==========')\n",
    "y_proba = model.predict(x_new)\n",
    "print(y_proba.round(2))\n",
    "\n",
    "print('========== predict : class ==========')\n",
    "# y_pred = model.predict_classes(x_new)  # 廃止メソッドのよう\n",
    "y_pred = np.argmax(model.predict(x_new), axis=1)  # 確率最大のクラスを出力する\n",
    "print(y_pred)\n",
    "print(np.array(class_names)[y_pred])\n"
   ]
  },
  {
   "cell_type": "markdown",
   "metadata": {},
   "source": [
    "画像を表示して確認"
   ]
  },
  {
   "cell_type": "code",
   "execution_count": 18,
   "metadata": {},
   "outputs": [
    {
     "name": "stdout",
     "output_type": "stream",
     "text": [
      "Saving figure fashion_mnist_images_plot\n"
     ]
    },
    {
     "data": {
      "image/png": "[encoded data removed]",
      "text/plain": [
       "<Figure size 518.4x172.8 with 3 Axes>"
      ]
     },
     "metadata": {
      "needs_background": "light"
     },
     "output_type": "display_data"
    }
   ],
   "source": [
    "import os\n",
    "# Where to save the figures\n",
    "PROJECT_ROOT_DIR = \"..\"\n",
    "CHAPTER_ID = \"ann\"\n",
    "IMAGES_PATH = os.path.join(PROJECT_ROOT_DIR, \"images\", CHAPTER_ID)\n",
    "os.makedirs(IMAGES_PATH, exist_ok=True)\n",
    "\n",
    "def save_fig(fig_id, tight_layout=True, fig_extension=\"png\", resolution=300):\n",
    "    path = os.path.join(IMAGES_PATH, fig_id + \".\" + fig_extension)\n",
    "    print(\"Saving figure\", fig_id)\n",
    "    if tight_layout:\n",
    "        plt.tight_layout()\n",
    "    plt.savefig(path, format=fig_extension, dpi=resolution)\n",
    "\n",
    "plt.figure(figsize=(7.2, 2.4))\n",
    "for index, image in enumerate(x_new):\n",
    "    plt.subplot(1, 3, index + 1)\n",
    "    plt.imshow(image, cmap=\"binary\", interpolation=\"nearest\")\n",
    "    plt.axis('off')\n",
    "    plt.title(class_names[y_test[index]], fontsize=12)\n",
    "plt.subplots_adjust(wspace=0.2, hspace=0.5)\n",
    "save_fig('fashion_mnist_images_plot', tight_layout=False)\n",
    "plt.show()"
   ]
  },
  {
   "cell_type": "markdown",
   "metadata": {},
   "source": [
    "## モデルの保存と復元"
   ]
  },
  {
   "cell_type": "markdown",
   "metadata": {},
   "source": [
    "### 保存"
   ]
  },
  {
   "cell_type": "markdown",
   "metadata": {},
   "source": [
    "Keras は HDF5 形式を使ってモデルのアーキテクチャ（すべてのハイパーパラメータを含む）とすべての層のモデルパラメータの値（たとえば接続重みやバイアス）を保存する。\n",
    "さらに、オプティマイザ（ハイパーパラメータやその他の状態情報を含む）も保存する。"
   ]
  },
  {
   "cell_type": "code",
   "execution_count": 19,
   "metadata": {},
   "outputs": [],
   "source": [
    "model.save('my_keras_sequential_classification_model.h5')"
   ]
  },
  {
   "cell_type": "markdown",
   "metadata": {},
   "source": [
    "### 復元"
   ]
  },
  {
   "cell_type": "code",
   "execution_count": 20,
   "metadata": {},
   "outputs": [],
   "source": [
    "model = keras.models.load_model('my_keras_sequential_classification_model.h5')"
   ]
  },
  {
   "cell_type": "markdown",
   "metadata": {},
   "source": [
    "# 回帰問題：sklearn.datasets.fetch_california_housing"
   ]
  },
  {
   "cell_type": "markdown",
   "metadata": {},
   "source": [
    "## パッケージインポート"
   ]
  },
  {
   "cell_type": "code",
   "execution_count": 13,
   "metadata": {},
   "outputs": [
    {
     "name": "stdout",
     "output_type": "stream",
     "text": [
      "tensorflow ver.2.5.0\n",
      "keras ver.2.5.0\n"
     ]
    }
   ],
   "source": [
    "import tensorflow as tf\n",
    "from tensorflow import keras\n",
    "from tensorflow.keras.layers import Dense  # layerクラスを直接インポートして使用出来る\n",
    "\n",
    "##### これうまくいくはずなんだけど学習できてない #####\n",
    "from tensorflow.keras.losses import MeanSquaredError  # 損失関数クラスを直接インポートして使用出来る\n",
    "from tensorflow.keras.optimizers import SGD  # オプティマイザクラスを直接インポートして使用出来る\n",
    "##################################################\n",
    "\n",
    "import numpy as np\n",
    "import pandas as pd\n",
    "\n",
    "print(f'tensorflow ver.{tf.__version__}')\n",
    "print(f'keras ver.{keras.__version__}')\n",
    "\n",
    "from sklearn.datasets import fetch_california_housing\n",
    "from sklearn.model_selection import train_test_split\n",
    "from sklearn.preprocessing import StandardScaler"
   ]
  },
  {
   "cell_type": "markdown",
   "metadata": {},
   "source": [
    "##  データロードと前処理"
   ]
  },
  {
   "cell_type": "markdown",
   "metadata": {},
   "source": [
    "### データロード"
   ]
  },
  {
   "cell_type": "code",
   "execution_count": 14,
   "metadata": {},
   "outputs": [],
   "source": [
    "housing = fetch_california_housing()\n",
    "x_train_full, x_test, y_train_full, y_test = train_test_split(housing.data, housing.target)\n"
   ]
  },
  {
   "cell_type": "markdown",
   "metadata": {},
   "source": [
    "### validation分割"
   ]
  },
  {
   "cell_type": "code",
   "execution_count": 15,
   "metadata": {},
   "outputs": [
    {
     "name": "stdout",
     "output_type": "stream",
     "text": [
      "x_train.shape : (11610, 8)\n",
      "y_train.shape : (11610,)\n",
      "x_valid.shape : (3870, 8)\n",
      "y_valid.shape : (3870,)\n"
     ]
    }
   ],
   "source": [
    "x_train, x_valid, y_train, y_valid = train_test_split(x_train_full, y_train_full)\n",
    "\n",
    "# データサイズを確認\n",
    "print(f'x_train.shape : {x_train.shape}')\n",
    "print(f'y_train.shape : {y_train.shape}')\n",
    "print(f'x_valid.shape : {x_valid.shape}')\n",
    "print(f'y_valid.shape : {y_valid.shape}')"
   ]
  },
  {
   "cell_type": "markdown",
   "metadata": {},
   "source": [
    "trainデータを確認"
   ]
  },
  {
   "cell_type": "code",
   "execution_count": 16,
   "metadata": {},
   "outputs": [
    {
     "data": {
      "text/html": [
       "<div>\n",
       "<style scoped>\n",
       "    .dataframe tbody tr th:only-of-type {\n",
       "        vertical-align: middle;\n",
       "    }\n",
       "\n",
       "    .dataframe tbody tr th {\n",
       "        vertical-align: top;\n",
       "    }\n",
       "\n",
       "    .dataframe thead th {\n",
       "        text-align: right;\n",
       "    }\n",
       "</style>\n",
       "<table border=\"1\" class=\"dataframe\">\n",
       "  <thead>\n",
       "    <tr style=\"text-align: right;\">\n",
       "      <th></th>\n",
       "      <th>MedInc</th>\n",
       "      <th>HouseAge</th>\n",
       "      <th>AveRooms</th>\n",
       "      <th>AveBedrms</th>\n",
       "      <th>Population</th>\n",
       "      <th>AveOccup</th>\n",
       "      <th>Latitude</th>\n",
       "      <th>Longitude</th>\n",
       "    </tr>\n",
       "  </thead>\n",
       "  <tbody>\n",
       "    <tr>\n",
       "      <th>0</th>\n",
       "      <td>3.5882</td>\n",
       "      <td>21.0</td>\n",
       "      <td>13.568627</td>\n",
       "      <td>2.788235</td>\n",
       "      <td>658.0</td>\n",
       "      <td>2.580392</td>\n",
       "      <td>33.71</td>\n",
       "      <td>-116.68</td>\n",
       "    </tr>\n",
       "    <tr>\n",
       "      <th>1</th>\n",
       "      <td>2.2303</td>\n",
       "      <td>36.0</td>\n",
       "      <td>3.090239</td>\n",
       "      <td>1.116022</td>\n",
       "      <td>1645.0</td>\n",
       "      <td>3.029466</td>\n",
       "      <td>37.80</td>\n",
       "      <td>-122.25</td>\n",
       "    </tr>\n",
       "    <tr>\n",
       "      <th>2</th>\n",
       "      <td>3.5078</td>\n",
       "      <td>36.0</td>\n",
       "      <td>4.510703</td>\n",
       "      <td>1.003058</td>\n",
       "      <td>806.0</td>\n",
       "      <td>2.464832</td>\n",
       "      <td>32.83</td>\n",
       "      <td>-117.21</td>\n",
       "    </tr>\n",
       "    <tr>\n",
       "      <th>3</th>\n",
       "      <td>2.7955</td>\n",
       "      <td>23.0</td>\n",
       "      <td>5.442424</td>\n",
       "      <td>1.151515</td>\n",
       "      <td>939.0</td>\n",
       "      <td>2.845455</td>\n",
       "      <td>38.69</td>\n",
       "      <td>-122.03</td>\n",
       "    </tr>\n",
       "    <tr>\n",
       "      <th>4</th>\n",
       "      <td>6.1064</td>\n",
       "      <td>33.0</td>\n",
       "      <td>6.233818</td>\n",
       "      <td>1.001321</td>\n",
       "      <td>1980.0</td>\n",
       "      <td>2.615588</td>\n",
       "      <td>37.51</td>\n",
       "      <td>-122.28</td>\n",
       "    </tr>\n",
       "    <tr>\n",
       "      <th>...</th>\n",
       "      <td>...</td>\n",
       "      <td>...</td>\n",
       "      <td>...</td>\n",
       "      <td>...</td>\n",
       "      <td>...</td>\n",
       "      <td>...</td>\n",
       "      <td>...</td>\n",
       "      <td>...</td>\n",
       "    </tr>\n",
       "    <tr>\n",
       "      <th>11605</th>\n",
       "      <td>3.1403</td>\n",
       "      <td>30.0</td>\n",
       "      <td>3.541756</td>\n",
       "      <td>0.929336</td>\n",
       "      <td>1843.0</td>\n",
       "      <td>3.946467</td>\n",
       "      <td>33.74</td>\n",
       "      <td>-117.93</td>\n",
       "    </tr>\n",
       "    <tr>\n",
       "      <th>11606</th>\n",
       "      <td>3.1563</td>\n",
       "      <td>37.0</td>\n",
       "      <td>5.109966</td>\n",
       "      <td>1.017182</td>\n",
       "      <td>863.0</td>\n",
       "      <td>2.965636</td>\n",
       "      <td>33.94</td>\n",
       "      <td>-118.32</td>\n",
       "    </tr>\n",
       "    <tr>\n",
       "      <th>11607</th>\n",
       "      <td>1.6540</td>\n",
       "      <td>17.0</td>\n",
       "      <td>3.534307</td>\n",
       "      <td>1.197080</td>\n",
       "      <td>2971.0</td>\n",
       "      <td>4.337226</td>\n",
       "      <td>33.53</td>\n",
       "      <td>-116.12</td>\n",
       "    </tr>\n",
       "    <tr>\n",
       "      <th>11608</th>\n",
       "      <td>3.7232</td>\n",
       "      <td>33.0</td>\n",
       "      <td>4.353474</td>\n",
       "      <td>1.018127</td>\n",
       "      <td>1233.0</td>\n",
       "      <td>3.725076</td>\n",
       "      <td>33.76</td>\n",
       "      <td>-117.94</td>\n",
       "    </tr>\n",
       "    <tr>\n",
       "      <th>11609</th>\n",
       "      <td>3.3177</td>\n",
       "      <td>46.0</td>\n",
       "      <td>4.459829</td>\n",
       "      <td>1.013675</td>\n",
       "      <td>1055.0</td>\n",
       "      <td>1.803419</td>\n",
       "      <td>34.16</td>\n",
       "      <td>-118.38</td>\n",
       "    </tr>\n",
       "  </tbody>\n",
       "</table>\n",
       "<p>11610 rows × 8 columns</p>\n",
       "</div>"
      ],
      "text/plain": [
       "       MedInc  HouseAge   AveRooms  AveBedrms  Population  AveOccup  Latitude  \\\n",
       "0      3.5882      21.0  13.568627   2.788235       658.0  2.580392     33.71   \n",
       "1      2.2303      36.0   3.090239   1.116022      1645.0  3.029466     37.80   \n",
       "2      3.5078      36.0   4.510703   1.003058       806.0  2.464832     32.83   \n",
       "3      2.7955      23.0   5.442424   1.151515       939.0  2.845455     38.69   \n",
       "4      6.1064      33.0   6.233818   1.001321      1980.0  2.615588     37.51   \n",
       "...       ...       ...        ...        ...         ...       ...       ...   \n",
       "11605  3.1403      30.0   3.541756   0.929336      1843.0  3.946467     33.74   \n",
       "11606  3.1563      37.0   5.109966   1.017182       863.0  2.965636     33.94   \n",
       "11607  1.6540      17.0   3.534307   1.197080      2971.0  4.337226     33.53   \n",
       "11608  3.7232      33.0   4.353474   1.018127      1233.0  3.725076     33.76   \n",
       "11609  3.3177      46.0   4.459829   1.013675      1055.0  1.803419     34.16   \n",
       "\n",
       "       Longitude  \n",
       "0        -116.68  \n",
       "1        -122.25  \n",
       "2        -117.21  \n",
       "3        -122.03  \n",
       "4        -122.28  \n",
       "...          ...  \n",
       "11605    -117.93  \n",
       "11606    -118.32  \n",
       "11607    -116.12  \n",
       "11608    -117.94  \n",
       "11609    -118.38  \n",
       "\n",
       "[11610 rows x 8 columns]"
      ]
     },
     "metadata": {},
     "output_type": "display_data"
    },
    {
     "name": "stdout",
     "output_type": "stream",
     "text": [
      "<class 'pandas.core.frame.DataFrame'>\n",
      "RangeIndex: 11610 entries, 0 to 11609\n",
      "Data columns (total 8 columns):\n",
      " #   Column      Non-Null Count  Dtype  \n",
      "---  ------      --------------  -----  \n",
      " 0   MedInc      11610 non-null  float64\n",
      " 1   HouseAge    11610 non-null  float64\n",
      " 2   AveRooms    11610 non-null  float64\n",
      " 3   AveBedrms   11610 non-null  float64\n",
      " 4   Population  11610 non-null  float64\n",
      " 5   AveOccup    11610 non-null  float64\n",
      " 6   Latitude    11610 non-null  float64\n",
      " 7   Longitude   11610 non-null  float64\n",
      "dtypes: float64(8)\n",
      "memory usage: 725.8 KB\n"
     ]
    },
    {
     "data": {
      "text/html": [
       "<div>\n",
       "<style scoped>\n",
       "    .dataframe tbody tr th:only-of-type {\n",
       "        vertical-align: middle;\n",
       "    }\n",
       "\n",
       "    .dataframe tbody tr th {\n",
       "        vertical-align: top;\n",
       "    }\n",
       "\n",
       "    .dataframe thead th {\n",
       "        text-align: right;\n",
       "    }\n",
       "</style>\n",
       "<table border=\"1\" class=\"dataframe\">\n",
       "  <thead>\n",
       "    <tr style=\"text-align: right;\">\n",
       "      <th></th>\n",
       "      <th>MedInc</th>\n",
       "      <th>HouseAge</th>\n",
       "      <th>AveRooms</th>\n",
       "      <th>AveBedrms</th>\n",
       "      <th>Population</th>\n",
       "      <th>AveOccup</th>\n",
       "      <th>Latitude</th>\n",
       "      <th>Longitude</th>\n",
       "    </tr>\n",
       "  </thead>\n",
       "  <tbody>\n",
       "    <tr>\n",
       "      <th>count</th>\n",
       "      <td>11610.00000</td>\n",
       "      <td>11610.000000</td>\n",
       "      <td>11610.000000</td>\n",
       "      <td>11610.000000</td>\n",
       "      <td>11610.000000</td>\n",
       "      <td>11610.000000</td>\n",
       "      <td>11610.000000</td>\n",
       "      <td>11610.000000</td>\n",
       "    </tr>\n",
       "    <tr>\n",
       "      <th>mean</th>\n",
       "      <td>3.85980</td>\n",
       "      <td>28.816193</td>\n",
       "      <td>5.425840</td>\n",
       "      <td>1.097243</td>\n",
       "      <td>1429.844789</td>\n",
       "      <td>3.115970</td>\n",
       "      <td>35.646934</td>\n",
       "      <td>-119.584694</td>\n",
       "    </tr>\n",
       "    <tr>\n",
       "      <th>std</th>\n",
       "      <td>1.90188</td>\n",
       "      <td>12.647223</td>\n",
       "      <td>2.516702</td>\n",
       "      <td>0.450671</td>\n",
       "      <td>1132.545251</td>\n",
       "      <td>12.638810</td>\n",
       "      <td>2.136022</td>\n",
       "      <td>2.003952</td>\n",
       "    </tr>\n",
       "    <tr>\n",
       "      <th>min</th>\n",
       "      <td>0.49990</td>\n",
       "      <td>1.000000</td>\n",
       "      <td>0.846154</td>\n",
       "      <td>0.500000</td>\n",
       "      <td>8.000000</td>\n",
       "      <td>0.970588</td>\n",
       "      <td>32.550000</td>\n",
       "      <td>-124.350000</td>\n",
       "    </tr>\n",
       "    <tr>\n",
       "      <th>25%</th>\n",
       "      <td>2.56030</td>\n",
       "      <td>18.000000</td>\n",
       "      <td>4.429497</td>\n",
       "      <td>1.006270</td>\n",
       "      <td>793.000000</td>\n",
       "      <td>2.426122</td>\n",
       "      <td>33.940000</td>\n",
       "      <td>-121.810000</td>\n",
       "    </tr>\n",
       "    <tr>\n",
       "      <th>50%</th>\n",
       "      <td>3.52135</td>\n",
       "      <td>29.000000</td>\n",
       "      <td>5.213486</td>\n",
       "      <td>1.049261</td>\n",
       "      <td>1168.000000</td>\n",
       "      <td>2.816995</td>\n",
       "      <td>34.260000</td>\n",
       "      <td>-118.510000</td>\n",
       "    </tr>\n",
       "    <tr>\n",
       "      <th>75%</th>\n",
       "      <td>4.71850</td>\n",
       "      <td>37.000000</td>\n",
       "      <td>6.047830</td>\n",
       "      <td>1.100000</td>\n",
       "      <td>1721.000000</td>\n",
       "      <td>3.285622</td>\n",
       "      <td>37.720000</td>\n",
       "      <td>-118.020000</td>\n",
       "    </tr>\n",
       "    <tr>\n",
       "      <th>max</th>\n",
       "      <td>15.00010</td>\n",
       "      <td>52.000000</td>\n",
       "      <td>141.909091</td>\n",
       "      <td>25.636364</td>\n",
       "      <td>35682.000000</td>\n",
       "      <td>1243.333333</td>\n",
       "      <td>41.950000</td>\n",
       "      <td>-114.310000</td>\n",
       "    </tr>\n",
       "  </tbody>\n",
       "</table>\n",
       "</div>"
      ],
      "text/plain": [
       "            MedInc      HouseAge      AveRooms     AveBedrms    Population  \\\n",
       "count  11610.00000  11610.000000  11610.000000  11610.000000  11610.000000   \n",
       "mean       3.85980     28.816193      5.425840      1.097243   1429.844789   \n",
       "std        1.90188     12.647223      2.516702      0.450671   1132.545251   \n",
       "min        0.49990      1.000000      0.846154      0.500000      8.000000   \n",
       "25%        2.56030     18.000000      4.429497      1.006270    793.000000   \n",
       "50%        3.52135     29.000000      5.213486      1.049261   1168.000000   \n",
       "75%        4.71850     37.000000      6.047830      1.100000   1721.000000   \n",
       "max       15.00010     52.000000    141.909091     25.636364  35682.000000   \n",
       "\n",
       "           AveOccup      Latitude     Longitude  \n",
       "count  11610.000000  11610.000000  11610.000000  \n",
       "mean       3.115970     35.646934   -119.584694  \n",
       "std       12.638810      2.136022      2.003952  \n",
       "min        0.970588     32.550000   -124.350000  \n",
       "25%        2.426122     33.940000   -121.810000  \n",
       "50%        2.816995     34.260000   -118.510000  \n",
       "75%        3.285622     37.720000   -118.020000  \n",
       "max     1243.333333     41.950000   -114.310000  "
      ]
     },
     "execution_count": 16,
     "metadata": {},
     "output_type": "execute_result"
    }
   ],
   "source": [
    "pd_x_train = pd.DataFrame(x_train, columns=housing.feature_names)\n",
    "display(pd_x_train)\n",
    "pd_x_train.info()\n",
    "pd_x_train.describe()"
   ]
  },
  {
   "cell_type": "markdown",
   "metadata": {},
   "source": [
    "### 前処理"
   ]
  },
  {
   "cell_type": "markdown",
   "metadata": {},
   "source": [
    "#### スケーリング"
   ]
  },
  {
   "cell_type": "markdown",
   "metadata": {},
   "source": [
    "### [StandardScaler](https://scikit-learn.org/stable/modules/generated/sklearn.preprocessing.StandardScaler.html)\n",
    "データの標準化を行う。\n",
    "\n",
    "代表的なメソッドは以下：\n",
    "\n",
    "|メソッド|説明|\n",
    "|---|---|\n",
    "|fit()|標準化するための平均と分散を計算する。|\n",
    "|trasform()|（事前に計算した平均と分散を使用して）標準化を行う。|\n",
    "|fit_transform()|平均と分散を計算し、標準化を行う。|"
   ]
  },
  {
   "cell_type": "code",
   "execution_count": 17,
   "metadata": {},
   "outputs": [],
   "source": [
    "scaler = StandardScaler()\n",
    "\n",
    "x_train = scaler.fit_transform(x_train)\n",
    "x_valid = scaler.transform(x_valid)  # x_trainの平均・分散を使用する（のはなぜ？）\n",
    "x_test = scaler.transform(x_test)  # x_trainの平均・分散を使用する（のはなぜ？）"
   ]
  },
  {
   "cell_type": "markdown",
   "metadata": {},
   "source": [
    "## モデル作成"
   ]
  },
  {
   "cell_type": "markdown",
   "metadata": {},
   "source": [
    "### レイヤ構成を定義"
   ]
  },
  {
   "cell_type": "code",
   "execution_count": 18,
   "metadata": {},
   "outputs": [],
   "source": [
    "# 初期化時にレイヤのリストを渡すことでレイヤ定義も同時に行う\n",
    "model = keras.models.Sequential([\n",
    "    Dense(30, activation='relu', input_shape=x_train.shape[1:])\n",
    "    , Dense(1)  # 予測値を出力するため出力層のノード数は1\n",
    "])"
   ]
  },
  {
   "cell_type": "markdown",
   "metadata": {},
   "source": [
    "## モデルのコンパイル"
   ]
  },
  {
   "cell_type": "code",
   "execution_count": 19,
   "metadata": {},
   "outputs": [
    {
     "name": "stdout",
     "output_type": "stream",
     "text": [
      "Model: \"sequential_1\"\n",
      "_________________________________________________________________\n",
      "Layer (type)                 Output Shape              Param #   \n",
      "=================================================================\n",
      "dense_3 (Dense)              (None, 30)                270       \n",
      "_________________________________________________________________\n",
      "dense_4 (Dense)              (None, 1)                 31        \n",
      "=================================================================\n",
      "Total params: 301\n",
      "Trainable params: 301\n",
      "Non-trainable params: 0\n",
      "_________________________________________________________________\n"
     ]
    }
   ],
   "source": [
    "# model.compile(loss=MeanSquaredError(), optimizer=SGD())  # なぜかこっちは学習結果がNaNになる\n",
    "# model.compile(loss=\"mean_squared_error\", optimizer=SGD())  # なぜか全然学習が進まない\n",
    "# model.compile(loss=MeanSquaredError(), optimizer='sgd')  # なぜか全然学習が進まない\n",
    "model.compile(loss=\"mean_squared_error\", optimizer='sgd')\n",
    "\n",
    "# モデルのレイヤ構成を表示\n",
    "model.summary()"
   ]
  },
  {
   "cell_type": "markdown",
   "metadata": {},
   "source": [
    "## 学習と評価"
   ]
  },
  {
   "cell_type": "markdown",
   "metadata": {},
   "source": [
    "### コールバックによる学習中のチェックポイント保存"
   ]
  },
  {
   "cell_type": "markdown",
   "metadata": {},
   "source": [
    "今回早期打ち切り設定を入れるためにEarlyStopping関数を使用する。<br>\n",
    "このコールバック関数は学習打ち切り時に性能が最高だった時の重みを自動で復元するかを選べる。これを使うと最良モデルの保存と復元は不要になる。"
   ]
  },
  {
   "cell_type": "code",
   "execution_count": 20,
   "metadata": {},
   "outputs": [],
   "source": [
    "# 早期打ち切りのコールバック関数\n",
    "early_stopping_cb = keras.callbacks.EarlyStopping(patience=10, restore_best_weights=True)  # patienceで指定したエポック数学習が進まなかったときに学習を打ち切る"
   ]
  },
  {
   "cell_type": "markdown",
   "metadata": {},
   "source": [
    "また、コールバック関数は自作したものを使うことが出来る。<br>\n",
    "\n",
    "\n",
    "自作コールバックの作り方については以下を参照：<br>\n",
    "[TensorFlow.Kerasガイド_コールバックを書く](https://www.tensorflow.org/guide/keras/custom_callback?hl=ja)<br>\n",
    "以下のようなことが記載されている。\n",
    "* メソッド名と呼び出しタイミング\n",
    "\n",
    "|メソッドの種類|メソッド名|呼び出しタイミング|\n",
    "|-|-|-|\n",
    "|グローバルメソッド|on_(train/test/predict)_begin(self, logs=None)|fit/evalute/predictメソッドの先頭|\n",
    "||on_(train/test/predict)_end(self, logs=None)|fit/evaluate/predictメソッドの最後|\n",
    "|バッチレベルメソッド|on_(train/test/predict)_batch_begin(self, batch, logs=None)|トレーニング/テスト/予測の各バッチの直前|\n",
    "||on_(train/test/predict)_batch_end(self, batch, logs=None)|トレーニング/テスト/予測の各バッチの終了時|\n",
    "|エポックレベルメソッド|on_epoch_begin(self, epoch, logs=None)|トレーニングの各エポックの先頭|\n",
    "||on_epoch_end(self, epoch, logs=None)|トレーニングの各エポックの最後|\n",
    "\n",
    "* logs ディクショナリ<br>\n",
    "    →バッチまたはエポックの最後の損失値と全てのメトリクスを含む。これを利用して学習過程を出力したり早期打ち切りを実装したりできる。\n",
    "\n",
    "例として学習中の訓練データのlossとvalidationデータのlossの比率を表示する関数を作成する。（過学習を検知すること想定）"
   ]
  },
  {
   "cell_type": "code",
   "execution_count": 29,
   "metadata": {},
   "outputs": [],
   "source": [
    "class PrintValTrainRatioCallback(keras.callbacks.Callback):\n",
    "    def on_epoch_end(self, epoch, logs):  # トレーニングの各エポックの最後\n",
    "        print(\"\\nval/train: {:.2f}\".format(logs[\"val_loss\"] / logs[\"loss\"]))  # logsディレクトリからval_lossとlossを取得\n",
    "\n",
    "print_valid_train_ration_cb = PrintValTrainRatioCallback()"
   ]
  },
  {
   "cell_type": "markdown",
   "metadata": {},
   "source": [
    "### TensorBoardを使った可視化"
   ]
  },
  {
   "cell_type": "markdown",
   "metadata": {},
   "source": [
    "TensorBoardを使って訓練中の学習曲線を表示したり、複数の実行の学習曲線を比較したり、計算グラフを表示したり、訓練の統計情報を解析したりすることが出来る。\n",
    "\n",
    "TensorBoardはコールバック関数として準備されている。<br>\n",
    "利用するにはイベントファイルと呼ばれるバイナリファイルを出力させる必要がある。\n",
    "\n",
    "また、TensorBoardサーバを立てる必要がある。<br>\n",
    "TensorBoardサーバはロートログディレクトリを参照し、プログラムには実行ごとに別のサブディレクトリをに出力するように設定する。こうすることで複数の実行から得た情報が混ざることなく使用することが出来る。\n",
    "\n",
    "ここでは実行ごとのログディレクトリ名を生成する関数を定義し、その関数を使って生成したログディレクトリ名をTensorBoardのコールバックに渡す。"
   ]
  },
  {
   "cell_type": "code",
   "execution_count": 22,
   "metadata": {},
   "outputs": [],
   "source": [
    "import os\n",
    "\n",
    "# ログ出力のルートディレクトリ\n",
    "root_dir = os.path.join(os.curdir, 'my_logs')\n",
    "\n",
    "# ログディレクトリ名を生成する関数\n",
    "def get_run_logdir():\n",
    "    import time\n",
    "    run_id = time.strftime('run_%Y_%m_%d-%H_%M_%S')\n",
    "    return os.path.join(root_dir, run_id)\n",
    "\n",
    "run_logdir = get_run_logdir()\n",
    "\n",
    "tensorboard_cb = keras.callbacks.TensorBoard(run_logdir)"
   ]
  },
  {
   "cell_type": "markdown",
   "metadata": {},
   "source": [
    "### 学習"
   ]
  },
  {
   "cell_type": "code",
   "execution_count": 23,
   "metadata": {},
   "outputs": [
    {
     "name": "stdout",
     "output_type": "stream",
     "text": [
      "Epoch 1/100\n",
      "  3/363 [..............................] - ETA: 17s - loss: 4.7403 WARNING:tensorflow:Callback method `on_train_batch_end` is slow compared to the batch time (batch time: 0.0012s vs `on_train_batch_end` time: 0.0151s). Check your callbacks.\n",
      "363/363 [==============================] - 1s 2ms/step - loss: 0.8130 - val_loss: 0.5553\n",
      "\n",
      "val/train: 0.68\n",
      "Epoch 2/100\n",
      "363/363 [==============================] - 0s 941us/step - loss: 0.5431 - val_loss: 0.4908\n",
      "\n",
      "val/train: 0.90\n",
      "Epoch 3/100\n",
      "363/363 [==============================] - 0s 785us/step - loss: 0.4972 - val_loss: 0.4716\n",
      "\n",
      "val/train: 0.95\n",
      "Epoch 4/100\n",
      "363/363 [==============================] - 0s 922us/step - loss: 0.4983 - val_loss: 0.4611\n",
      "\n",
      "val/train: 0.93\n",
      "Epoch 5/100\n",
      "363/363 [==============================] - 0s 1ms/step - loss: 0.4485 - val_loss: 0.4429\n",
      "\n",
      "val/train: 0.99\n",
      "Epoch 6/100\n",
      "363/363 [==============================] - 0s 782us/step - loss: 0.4572 - val_loss: 0.4510\n",
      "\n",
      "val/train: 0.99\n",
      "Epoch 7/100\n",
      "363/363 [==============================] - 0s 716us/step - loss: 0.4586 - val_loss: 0.4293\n",
      "\n",
      "val/train: 0.94\n",
      "Epoch 8/100\n",
      "363/363 [==============================] - 0s 1ms/step - loss: 0.4219 - val_loss: 0.4251\n",
      "\n",
      "val/train: 1.01\n",
      "Epoch 9/100\n",
      "363/363 [==============================] - 0s 822us/step - loss: 0.4134 - val_loss: 0.4188\n",
      "\n",
      "val/train: 1.01\n",
      "Epoch 10/100\n",
      "363/363 [==============================] - 0s 830us/step - loss: 0.4092 - val_loss: 0.4155\n",
      "\n",
      "val/train: 1.02\n",
      "Epoch 11/100\n",
      "363/363 [==============================] - 0s 778us/step - loss: 0.4026 - val_loss: 0.4080\n",
      "\n",
      "val/train: 1.01\n",
      "Epoch 12/100\n",
      "363/363 [==============================] - 0s 718us/step - loss: 0.4018 - val_loss: 0.4101\n",
      "\n",
      "val/train: 1.02\n",
      "Epoch 13/100\n",
      "363/363 [==============================] - 0s 925us/step - loss: 0.3941 - val_loss: 0.4022\n",
      "\n",
      "val/train: 1.02\n",
      "Epoch 14/100\n",
      "363/363 [==============================] - 0s 778us/step - loss: 0.3894 - val_loss: 0.4004\n",
      "\n",
      "val/train: 1.03\n",
      "Epoch 15/100\n",
      "363/363 [==============================] - 0s 834us/step - loss: 0.3899 - val_loss: 0.4002\n",
      "\n",
      "val/train: 1.03\n",
      "Epoch 16/100\n",
      "363/363 [==============================] - 0s 769us/step - loss: 0.3842 - val_loss: 0.3922\n",
      "\n",
      "val/train: 1.02\n",
      "Epoch 17/100\n",
      "363/363 [==============================] - 0s 706us/step - loss: 0.3843 - val_loss: 0.3990\n",
      "\n",
      "val/train: 1.04\n",
      "Epoch 18/100\n",
      "363/363 [==============================] - 0s 707us/step - loss: 0.3799 - val_loss: 0.3909\n",
      "\n",
      "val/train: 1.03\n",
      "Epoch 19/100\n",
      "363/363 [==============================] - 0s 760us/step - loss: 0.4366 - val_loss: 0.3919\n",
      "\n",
      "val/train: 0.90\n",
      "Epoch 20/100\n",
      "363/363 [==============================] - 0s 1ms/step - loss: 0.3797 - val_loss: 0.3973\n",
      "\n",
      "val/train: 1.05\n",
      "Epoch 21/100\n",
      "363/363 [==============================] - 0s 917us/step - loss: 0.3750 - val_loss: 0.3920\n",
      "\n",
      "val/train: 1.05\n",
      "Epoch 22/100\n",
      "363/363 [==============================] - 0s 994us/step - loss: 0.4135 - val_loss: 0.3892\n",
      "\n",
      "val/train: 0.94\n",
      "Epoch 23/100\n",
      "363/363 [==============================] - 0s 817us/step - loss: 0.3756 - val_loss: 0.3886\n",
      "\n",
      "val/train: 1.03\n",
      "Epoch 24/100\n",
      "363/363 [==============================] - 0s 1ms/step - loss: 0.3688 - val_loss: 0.3878\n",
      "\n",
      "val/train: 1.05\n",
      "Epoch 25/100\n",
      "363/363 [==============================] - 0s 838us/step - loss: 0.3686 - val_loss: 0.3881\n",
      "\n",
      "val/train: 1.05\n",
      "Epoch 26/100\n",
      "363/363 [==============================] - 0s 975us/step - loss: 0.3670 - val_loss: 0.3962\n",
      "\n",
      "val/train: 1.08\n",
      "Epoch 27/100\n",
      "363/363 [==============================] - 0s 903us/step - loss: 0.3667 - val_loss: 0.3780\n",
      "\n",
      "val/train: 1.03\n",
      "Epoch 28/100\n",
      "363/363 [==============================] - 0s 995us/step - loss: 0.3693 - val_loss: 0.3868\n",
      "\n",
      "val/train: 1.05\n",
      "Epoch 29/100\n",
      "363/363 [==============================] - 0s 923us/step - loss: 0.3654 - val_loss: 0.3854\n",
      "\n",
      "val/train: 1.05\n",
      "Epoch 30/100\n",
      "363/363 [==============================] - 0s 858us/step - loss: 0.3654 - val_loss: 0.3794\n",
      "\n",
      "val/train: 1.04\n",
      "Epoch 31/100\n",
      "363/363 [==============================] - 0s 947us/step - loss: 0.3936 - val_loss: 0.3768\n",
      "\n",
      "val/train: 0.96\n",
      "Epoch 32/100\n",
      "363/363 [==============================] - 0s 981us/step - loss: 0.3606 - val_loss: 0.3767\n",
      "\n",
      "val/train: 1.04\n",
      "Epoch 33/100\n",
      "363/363 [==============================] - 0s 1ms/step - loss: 0.3633 - val_loss: 0.3744\n",
      "\n",
      "val/train: 1.03\n",
      "Epoch 34/100\n",
      "363/363 [==============================] - 0s 1ms/step - loss: 0.3598 - val_loss: 0.3863\n",
      "\n",
      "val/train: 1.07\n",
      "Epoch 35/100\n",
      "363/363 [==============================] - 1s 1ms/step - loss: 0.3576 - val_loss: 0.3774\n",
      "\n",
      "val/train: 1.06\n",
      "Epoch 36/100\n",
      "363/363 [==============================] - 0s 1ms/step - loss: 0.3656 - val_loss: 0.3775\n",
      "\n",
      "val/train: 1.03\n",
      "Epoch 37/100\n",
      "363/363 [==============================] - 1s 1ms/step - loss: 0.3552 - val_loss: 0.3777\n",
      "\n",
      "val/train: 1.06\n",
      "Epoch 38/100\n",
      "363/363 [==============================] - 0s 1ms/step - loss: 0.3610 - val_loss: 0.3714\n",
      "\n",
      "val/train: 1.03\n",
      "Epoch 39/100\n",
      "363/363 [==============================] - 0s 1ms/step - loss: 0.3568 - val_loss: 0.3680\n",
      "\n",
      "val/train: 1.03\n",
      "Epoch 40/100\n",
      "363/363 [==============================] - 0s 1ms/step - loss: 0.3530 - val_loss: 0.3686\n",
      "\n",
      "val/train: 1.04\n",
      "Epoch 41/100\n",
      "363/363 [==============================] - 0s 1ms/step - loss: 0.3649 - val_loss: 0.3678\n",
      "\n",
      "val/train: 1.01\n",
      "Epoch 42/100\n",
      "363/363 [==============================] - 0s 1ms/step - loss: 0.3629 - val_loss: 0.3814\n",
      "\n",
      "val/train: 1.05\n",
      "Epoch 43/100\n",
      "363/363 [==============================] - 0s 1ms/step - loss: 0.3619 - val_loss: 0.3674\n",
      "\n",
      "val/train: 1.02\n",
      "Epoch 44/100\n",
      "363/363 [==============================] - 0s 1ms/step - loss: 0.3512 - val_loss: 0.3663\n",
      "\n",
      "val/train: 1.04\n",
      "Epoch 45/100\n",
      "363/363 [==============================] - 0s 980us/step - loss: 0.3478 - val_loss: 0.3766\n",
      "\n",
      "val/train: 1.08\n",
      "Epoch 46/100\n",
      "363/363 [==============================] - 0s 1ms/step - loss: 0.3473 - val_loss: 0.3671\n",
      "\n",
      "val/train: 1.06\n",
      "Epoch 47/100\n",
      "363/363 [==============================] - 0s 1ms/step - loss: 0.3463 - val_loss: 0.3676\n",
      "\n",
      "val/train: 1.06\n",
      "Epoch 48/100\n",
      "363/363 [==============================] - 0s 1ms/step - loss: 0.3426 - val_loss: 0.3735\n",
      "\n",
      "val/train: 1.09\n",
      "Epoch 49/100\n",
      "363/363 [==============================] - 0s 1ms/step - loss: 0.3454 - val_loss: 0.3614\n",
      "\n",
      "val/train: 1.05\n",
      "Epoch 50/100\n",
      "363/363 [==============================] - 0s 872us/step - loss: 0.3489 - val_loss: 0.3730\n",
      "\n",
      "val/train: 1.07\n",
      "Epoch 51/100\n",
      "363/363 [==============================] - 0s 832us/step - loss: 0.3445 - val_loss: 0.3664\n",
      "\n",
      "val/train: 1.06\n",
      "Epoch 52/100\n",
      "363/363 [==============================] - 0s 813us/step - loss: 0.3502 - val_loss: 0.3634\n",
      "\n",
      "val/train: 1.04\n",
      "Epoch 53/100\n",
      "363/363 [==============================] - 0s 854us/step - loss: 0.3439 - val_loss: 0.3623\n",
      "\n",
      "val/train: 1.05\n",
      "Epoch 54/100\n",
      "363/363 [==============================] - 0s 820us/step - loss: 0.3412 - val_loss: 0.3588\n",
      "\n",
      "val/train: 1.05\n",
      "Epoch 55/100\n",
      "363/363 [==============================] - 0s 841us/step - loss: 0.3403 - val_loss: 0.3611\n",
      "\n",
      "val/train: 1.06\n",
      "Epoch 56/100\n",
      "363/363 [==============================] - 0s 1ms/step - loss: 0.3689 - val_loss: 0.3610\n",
      "\n",
      "val/train: 0.98\n",
      "Epoch 57/100\n",
      "363/363 [==============================] - 0s 1ms/step - loss: 0.3478 - val_loss: 0.3589\n",
      "\n",
      "val/train: 1.03\n",
      "Epoch 58/100\n",
      "363/363 [==============================] - 0s 1ms/step - loss: 0.3456 - val_loss: 0.3613\n",
      "\n",
      "val/train: 1.05\n",
      "Epoch 59/100\n",
      "363/363 [==============================] - 0s 1ms/step - loss: 0.3496 - val_loss: 0.3581\n",
      "\n",
      "val/train: 1.02\n",
      "Epoch 60/100\n",
      "363/363 [==============================] - 1s 2ms/step - loss: 0.3378 - val_loss: 0.3616\n",
      "\n",
      "val/train: 1.07\n",
      "Epoch 61/100\n",
      "363/363 [==============================] - 0s 1ms/step - loss: 0.3410 - val_loss: 0.3547\n",
      "\n",
      "val/train: 1.04\n",
      "Epoch 62/100\n",
      "363/363 [==============================] - 0s 1ms/step - loss: 0.3365 - val_loss: 0.3567\n",
      "\n",
      "val/train: 1.06\n",
      "Epoch 63/100\n",
      "363/363 [==============================] - 0s 1ms/step - loss: 0.3395 - val_loss: 0.3725\n",
      "\n",
      "val/train: 1.10\n",
      "Epoch 64/100\n",
      "363/363 [==============================] - 0s 1ms/step - loss: 0.3435 - val_loss: 0.3554\n",
      "\n",
      "val/train: 1.03\n",
      "Epoch 65/100\n",
      "363/363 [==============================] - 0s 950us/step - loss: 0.3353 - val_loss: 0.3556\n",
      "\n",
      "val/train: 1.06\n",
      "Epoch 66/100\n",
      "363/363 [==============================] - 0s 950us/step - loss: 0.3444 - val_loss: 0.3586\n",
      "\n",
      "val/train: 1.04\n",
      "Epoch 67/100\n",
      "363/363 [==============================] - 0s 943us/step - loss: 0.3354 - val_loss: 0.4668\n",
      "\n",
      "val/train: 1.39\n",
      "Epoch 68/100\n",
      "363/363 [==============================] - 0s 1ms/step - loss: 0.3357 - val_loss: 0.5203\n",
      "\n",
      "val/train: 1.55\n",
      "Epoch 69/100\n",
      "363/363 [==============================] - 0s 989us/step - loss: 0.3582 - val_loss: 0.3508\n",
      "\n",
      "val/train: 0.98\n",
      "Epoch 70/100\n",
      "363/363 [==============================] - 0s 1ms/step - loss: 0.3321 - val_loss: 0.3496\n",
      "\n",
      "val/train: 1.05\n",
      "Epoch 71/100\n",
      "363/363 [==============================] - 0s 1ms/step - loss: 0.3963 - val_loss: 0.3531\n",
      "\n",
      "val/train: 0.89\n",
      "Epoch 72/100\n",
      "363/363 [==============================] - 0s 1ms/step - loss: 0.3330 - val_loss: 0.3763\n",
      "\n",
      "val/train: 1.13\n",
      "Epoch 73/100\n",
      "363/363 [==============================] - 0s 856us/step - loss: 0.3419 - val_loss: 0.3520\n",
      "\n",
      "val/train: 1.03\n",
      "Epoch 74/100\n",
      "363/363 [==============================] - 0s 1ms/step - loss: 0.3401 - val_loss: 0.3503\n",
      "\n",
      "val/train: 1.03\n",
      "Epoch 75/100\n",
      "363/363 [==============================] - 0s 1ms/step - loss: 0.3338 - val_loss: 0.3567\n",
      "\n",
      "val/train: 1.07\n",
      "Epoch 76/100\n",
      "363/363 [==============================] - 0s 1ms/step - loss: 0.3304 - val_loss: 0.3480\n",
      "\n",
      "val/train: 1.05\n",
      "Epoch 77/100\n",
      "363/363 [==============================] - 1s 3ms/step - loss: 0.3397 - val_loss: 0.3500\n",
      "\n",
      "val/train: 1.03\n",
      "Epoch 78/100\n",
      "363/363 [==============================] - 1s 4ms/step - loss: 0.3509 - val_loss: 0.3494\n",
      "\n",
      "val/train: 1.00\n",
      "Epoch 79/100\n",
      "363/363 [==============================] - 1s 3ms/step - loss: 0.3315 - val_loss: 0.3548\n",
      "\n",
      "val/train: 1.07\n",
      "Epoch 80/100\n",
      "363/363 [==============================] - 2s 5ms/step - loss: 0.3270 - val_loss: 0.3477\n",
      "\n",
      "val/train: 1.06\n",
      "Epoch 81/100\n",
      "363/363 [==============================] - 0s 1ms/step - loss: 0.3293 - val_loss: 0.3564\n",
      "\n",
      "val/train: 1.08\n",
      "Epoch 82/100\n",
      "363/363 [==============================] - 0s 1ms/step - loss: 0.3318 - val_loss: 0.3454\n",
      "\n",
      "val/train: 1.04\n",
      "Epoch 83/100\n",
      "363/363 [==============================] - 0s 1ms/step - loss: 0.3298 - val_loss: 0.3495\n",
      "\n",
      "val/train: 1.06\n",
      "Epoch 84/100\n",
      "363/363 [==============================] - 0s 1ms/step - loss: 0.3264 - val_loss: 0.3476\n",
      "\n",
      "val/train: 1.06\n",
      "Epoch 85/100\n",
      "363/363 [==============================] - 0s 1ms/step - loss: 0.3237 - val_loss: 0.3466\n",
      "\n",
      "val/train: 1.07\n",
      "Epoch 86/100\n",
      "363/363 [==============================] - 0s 1ms/step - loss: 0.3251 - val_loss: 0.3409\n",
      "\n",
      "val/train: 1.05\n",
      "Epoch 87/100\n",
      "363/363 [==============================] - 0s 1ms/step - loss: 0.3247 - val_loss: 0.3407\n",
      "\n",
      "val/train: 1.05\n",
      "Epoch 88/100\n",
      "363/363 [==============================] - 0s 1ms/step - loss: 0.3217 - val_loss: 0.3412\n",
      "\n",
      "val/train: 1.06\n",
      "Epoch 89/100\n",
      "363/363 [==============================] - 0s 1ms/step - loss: 0.3251 - val_loss: 0.3447\n",
      "\n",
      "val/train: 1.06\n",
      "Epoch 90/100\n",
      "363/363 [==============================] - 0s 1ms/step - loss: 0.3203 - val_loss: 0.3432\n",
      "\n",
      "val/train: 1.07\n",
      "Epoch 91/100\n",
      "363/363 [==============================] - 0s 1ms/step - loss: 0.3291 - val_loss: 0.3432\n",
      "\n",
      "val/train: 1.04\n",
      "Epoch 92/100\n",
      "363/363 [==============================] - 0s 1ms/step - loss: 0.3638 - val_loss: 0.3413\n",
      "\n",
      "val/train: 0.94\n",
      "Epoch 93/100\n",
      "363/363 [==============================] - 0s 1ms/step - loss: 0.3205 - val_loss: 0.3396\n",
      "\n",
      "val/train: 1.06\n",
      "Epoch 94/100\n",
      "363/363 [==============================] - 0s 1ms/step - loss: 0.3202 - val_loss: 0.3382\n",
      "\n",
      "val/train: 1.06\n",
      "Epoch 95/100\n",
      "363/363 [==============================] - 1s 1ms/step - loss: 0.3183 - val_loss: 0.3385\n",
      "\n",
      "val/train: 1.06\n",
      "Epoch 96/100\n",
      "363/363 [==============================] - 0s 1ms/step - loss: 0.3193 - val_loss: 0.3356\n",
      "\n",
      "val/train: 1.05\n",
      "Epoch 97/100\n",
      "363/363 [==============================] - 0s 1ms/step - loss: 0.3192 - val_loss: 0.3377\n",
      "\n",
      "val/train: 1.06\n",
      "Epoch 98/100\n",
      "363/363 [==============================] - 1s 1ms/step - loss: 0.3173 - val_loss: 0.3382\n",
      "\n",
      "val/train: 1.07\n",
      "Epoch 99/100\n",
      "363/363 [==============================] - 0s 1ms/step - loss: 0.3163 - val_loss: 0.3360\n",
      "\n",
      "val/train: 1.06\n",
      "Epoch 100/100\n",
      "363/363 [==============================] - 0s 1ms/step - loss: 0.3150 - val_loss: 0.3349\n",
      "\n",
      "val/train: 1.06\n"
     ]
    }
   ],
   "source": [
    "history = model.fit(x_train, y_train, epochs=100, validation_data=(x_valid, y_valid), callbacks=[early_stopping_cb, print_valid_train_ration_cb, tensorboard_cb])"
   ]
  },
  {
   "cell_type": "code",
   "execution_count": 24,
   "metadata": {},
   "outputs": [
    {
     "data": {
      "text/plain": [
       "Reusing TensorBoard on port 6006 (pid 12840), started 23:11:19 ago. (Use '!kill 12840' to kill it.)"
      ]
     },
     "metadata": {},
     "output_type": "display_data"
    },
    {
     "data": {
      "text/html": [
       "\n",
       "      <iframe id=\"tensorboard-frame-52bd1fbf2521ff87\" width=\"100%\" height=\"800\" frameborder=\"0\">\n",
       "      </iframe>\n",
       "      <script>\n",
       "        (function() {\n",
       "          const frame = document.getElementById(\"tensorboard-frame-52bd1fbf2521ff87\");\n",
       "          const url = new URL(\"http://localhost\");\n",
       "          const port = 6006;\n",
       "          if (port) {\n",
       "            url.port = port;\n",
       "          }\n",
       "          frame.src = url;\n",
       "        })();\n",
       "      </script>\n",
       "    "
      ],
      "text/plain": [
       "<IPython.core.display.HTML object>"
      ]
     },
     "metadata": {},
     "output_type": "display_data"
    }
   ],
   "source": [
    "%load_ext tensorboard\n",
    "\n",
    "%tensorboard --logdir ./my_logs"
   ]
  },
  {
   "cell_type": "markdown",
   "metadata": {},
   "source": [
    "### 評価"
   ]
  },
  {
   "cell_type": "code",
   "execution_count": 25,
   "metadata": {},
   "outputs": [
    {
     "name": "stdout",
     "output_type": "stream",
     "text": [
      "162/162 [==============================] - 0s 1ms/step - loss: 0.3300\n"
     ]
    },
    {
     "data": {
      "text/plain": [
       "0.3300407826900482"
      ]
     },
     "execution_count": 25,
     "metadata": {},
     "output_type": "execute_result"
    }
   ],
   "source": [
    "mse_test = model.evaluate(x_test, y_test)\n",
    "mse_test"
   ]
  },
  {
   "cell_type": "markdown",
   "metadata": {},
   "source": [
    "## 学習済みモデルを使った予測"
   ]
  },
  {
   "cell_type": "code",
   "execution_count": 26,
   "metadata": {},
   "outputs": [
    {
     "name": "stdout",
     "output_type": "stream",
     "text": [
      "predict : [3.9114146 4.157746  1.7524736]\n",
      "correct : [3.93  4.42  3.625]\n"
     ]
    }
   ],
   "source": [
    "# サンプル用にデータサイズを限定\n",
    "x_new = x_test[:3]\n",
    "\n",
    "y_pred = model.predict(x_new)\n",
    "print(f'predict : {y_pred.reshape(-1)}')\n",
    "print(f'correct : {y_test[:3]}')"
   ]
  },
  {
   "cell_type": "markdown",
   "metadata": {},
   "source": [
    "## モデルの保存と復元"
   ]
  },
  {
   "cell_type": "markdown",
   "metadata": {},
   "source": [
    "Keras は HDF5 形式を使ってモデルのアーキテクチャ（すべてのハイパーパラメータを含む）とすべての層のモデルパラメータの値（たとえば接続重みやバイアス）を保存する。\n",
    "さらに、オプティマイザ（ハイパーパラメータやその他の状態情報を含む）も保存する。"
   ]
  },
  {
   "cell_type": "code",
   "execution_count": 27,
   "metadata": {},
   "outputs": [],
   "source": [
    "model.save('my_keras_sequential_regression_model.h5')"
   ]
  },
  {
   "cell_type": "markdown",
   "metadata": {},
   "source": [
    "### 復元"
   ]
  },
  {
   "cell_type": "code",
   "execution_count": 28,
   "metadata": {},
   "outputs": [],
   "source": [
    "model = keras.models.load_model('my_keras_sequential_regression_model.h5')"
   ]
  },
  {
   "cell_type": "markdown",
   "metadata": {},
   "source": []
  }
 ],
 "metadata": {
  "interpreter": {
   "hash": "86c3969cb8e4d6528009ba441e3b227910147fcb8261d5b261fbcbb462fd60ef"
  },
  "kernelspec": {
   "display_name": "Python 3.7.6 ('base')",
   "language": "python",
   "name": "python3"
  },
  "language_info": {
   "codemirror_mode": {
    "name": "ipython",
    "version": 3
   },
   "file_extension": ".py",
   "mimetype": "text/x-python",
   "name": "python",
   "nbconvert_exporter": "python",
   "pygments_lexer": "ipython3",
   "version": "3.7.6"
  },
  "orig_nbformat": 4
 },
 "nbformat": 4,
 "nbformat_minor": 2
}

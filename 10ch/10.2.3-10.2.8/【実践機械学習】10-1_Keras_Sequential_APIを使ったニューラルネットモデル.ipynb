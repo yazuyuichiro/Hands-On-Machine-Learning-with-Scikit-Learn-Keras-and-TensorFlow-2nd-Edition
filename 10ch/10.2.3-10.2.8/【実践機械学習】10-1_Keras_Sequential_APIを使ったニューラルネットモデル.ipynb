{
 "cells": [
  {
   "cell_type": "markdown",
   "metadata": {},
   "source": [
    "# 概要"
   ]
  },
  {
   "cell_type": "markdown",
   "metadata": {},
   "source": [
    "KerasのSequential APIを使ったニューラルネットワークの構築例をまとめる。<br>\n",
    "分類問題と回帰問題の例をそれぞれ1モデル作成する。\n"
   ]
  },
  {
   "cell_type": "markdown",
   "metadata": {},
   "source": [
    "# 分類問題：Fashion MNIST"
   ]
  },
  {
   "cell_type": "markdown",
   "metadata": {},
   "source": [
    "Fashion MNISTはファッション商品（写真）の画像データセットである。\n",
    "* ラベル「0」： T-shirt/top（Tシャツ／トップス）\n",
    "* ラベル「1」： Trouser（ズボン）\n",
    "* ラベル「2」： Pullover（プルオーバー、頭から被って着る服）\n",
    "* ラベル「3」： Dress（ドレス）\n",
    "* ラベル「4」： Coat（コート）\n",
    "* ラベル「5」： Sandal（サンダル）\n",
    "* ラベル「6」： Shirt（シャツ）\n",
    "* ラベル「7」： Sneaker（スニーカー）\n",
    "* ラベル「8」： Bag（バッグ）\n",
    "* ラベル「9」： Ankle boot（アンクルブーツ、かかとが隠れる丈のブーツ）"
   ]
  },
  {
   "cell_type": "markdown",
   "metadata": {},
   "source": []
  },
  {
   "cell_type": "markdown",
   "metadata": {},
   "source": [
    "## パッケージインポート"
   ]
  },
  {
   "cell_type": "code",
   "execution_count": 6,
   "metadata": {},
   "outputs": [
    {
     "name": "stdout",
     "output_type": "stream",
     "text": [
      "tensorflow ver.2.8.0\n",
      "keras ver.2.8.0\n"
     ]
    }
   ],
   "source": [
    "import tensorflow as tf\n",
    "from tensorflow import keras\n",
    "import numpy as np\n",
    "\n",
    "print(f'tensorflow ver.{tf.__version__}')\n",
    "print(f'keras ver.{keras.__version__}')"
   ]
  },
  {
   "cell_type": "markdown",
   "metadata": {},
   "source": [
    "## データロード及び前処理"
   ]
  },
  {
   "cell_type": "markdown",
   "metadata": {},
   "source": [
    "### データロード"
   ]
  },
  {
   "cell_type": "code",
   "execution_count": 7,
   "metadata": {},
   "outputs": [],
   "source": [
    "fashion_mnist = keras.datasets.fashion_mnist\n",
    "(x_train_full, y_train_full), (x_test, y_test) = fashion_mnist.load_data()"
   ]
  },
  {
   "cell_type": "markdown",
   "metadata": {},
   "source": [
    "### validation分割"
   ]
  },
  {
   "cell_type": "code",
   "execution_count": 8,
   "metadata": {},
   "outputs": [
    {
     "name": "stdout",
     "output_type": "stream",
     "text": [
      "x_train.shape : (55000, 28, 28)\n",
      "y_train.shape : (55000,)\n",
      "x_valid.shape : (5000, 28, 28)\n",
      "y_valid.shape : (5000,)\n"
     ]
    }
   ],
   "source": [
    "valid_size = 5000\n",
    "x_valid, x_train = x_train_full[:valid_size], x_train_full[valid_size:]\n",
    "y_valid, y_train = y_train_full[:valid_size], y_train_full[valid_size:]\n",
    "\n",
    "print(f'x_train.shape : {x_train.shape}')\n",
    "print(f'y_train.shape : {y_train.shape}')\n",
    "print(f'x_valid.shape : {x_valid.shape}')\n",
    "print(f'y_valid.shape : {y_valid.shape}')"
   ]
  },
  {
   "cell_type": "markdown",
   "metadata": {},
   "source": [
    "### 前処理"
   ]
  },
  {
   "cell_type": "code",
   "execution_count": 9,
   "metadata": {},
   "outputs": [
    {
     "data": {
      "text/plain": [
       "'Coat'"
      ]
     },
     "execution_count": 9,
     "metadata": {},
     "output_type": "execute_result"
    }
   ],
   "source": [
    "# スケーリング0~255を0~1に変換する\n",
    "x_valid, x_train = x_valid/225.0, x_train/225.0\n",
    "\n",
    "# クラス名を定義（データ加工ではないが準備作業としてこちらに記載)\n",
    "class_names = [\"T-shirt/top\", \"Trouser\", \"Pullover\", \"Dress\", \"Coat\", \"Sandal\", \"Shirt\", \"Sneaker\", \"Bag\", \"Ankle boot\"]\n",
    "\n",
    "# サンプルで1枚目のクラウス名を出力\n",
    "class_names[y_train[0]]"
   ]
  },
  {
   "cell_type": "markdown",
   "metadata": {},
   "source": [
    "## モデル作成"
   ]
  },
  {
   "cell_type": "markdown",
   "metadata": {},
   "source": [
    "### レイヤ構成を定義"
   ]
  },
  {
   "cell_type": "code",
   "execution_count": 10,
   "metadata": {},
   "outputs": [
    {
     "name": "stdout",
     "output_type": "stream",
     "text": [
      "Model: \"sequential_1\"\n",
      "_________________________________________________________________\n",
      " Layer (type)                Output Shape              Param #   \n",
      "=================================================================\n",
      " flatten_1 (Flatten)         (None, 784)               0         \n",
      "                                                                 \n",
      " dense_3 (Dense)             (None, 300)               235500    \n",
      "                                                                 \n",
      " dense_4 (Dense)             (None, 100)               30100     \n",
      "                                                                 \n",
      " dense_5 (Dense)             (None, 10)                1010      \n",
      "                                                                 \n",
      "=================================================================\n",
      "Total params: 266,610\n",
      "Trainable params: 266,610\n",
      "Non-trainable params: 0\n",
      "_________________________________________________________________\n"
     ]
    }
   ],
   "source": [
    "# Sequentialモデル生成\n",
    "model = keras.models.Sequential()\n",
    "# 平滑化層\n",
    "model.add(keras.layers.Flatten(input_shape=x_train.shape[1:]))\n",
    "# 全結合層\n",
    "model.add(keras.layers.Dense(units=300, activation='relu'))\n",
    "# 全結合層\n",
    "model.add(keras.layers.Dense(units=100, activation='relu'))\n",
    "# 全結合層（出力層）\n",
    "model.add(keras.layers.Dense(units=10, activation='softmax'))\n",
    "\n",
    "# レイヤ構成を表示\n",
    "model.summary()\n"
   ]
  },
  {
   "cell_type": "markdown",
   "metadata": {},
   "source": [
    "#### ※モデルの直接操作することもできる"
   ]
  },
  {
   "cell_type": "markdown",
   "metadata": {},
   "source": [
    "レイヤを取得"
   ]
  },
  {
   "cell_type": "code",
   "execution_count": 11,
   "metadata": {},
   "outputs": [
    {
     "data": {
      "text/plain": [
       "[<keras.layers.core.flatten.Flatten at 0x7fa634adacd0>,\n",
       " <keras.layers.core.dense.Dense at 0x7fa632dadf70>,\n",
       " <keras.layers.core.dense.Dense at 0x7fa616f2e490>,\n",
       " <keras.layers.core.dense.Dense at 0x7fa60bae3310>]"
      ]
     },
     "execution_count": 11,
     "metadata": {},
     "output_type": "execute_result"
    }
   ],
   "source": [
    "model.layers"
   ]
  },
  {
   "cell_type": "markdown",
   "metadata": {},
   "source": [
    "第1中間レイヤのパラメータを取得"
   ]
  },
  {
   "cell_type": "code",
   "execution_count": 12,
   "metadata": {},
   "outputs": [
    {
     "name": "stdout",
     "output_type": "stream",
     "text": [
      "[[-0.04944597  0.07349831  0.01990774 ...  0.02750799 -0.03978248\n",
      "   0.06560838]\n",
      " [-0.07312918  0.06113352  0.0139228  ...  0.06875364  0.0067235\n",
      "   0.03491949]\n",
      " [ 0.01352143  0.04283768  0.00900155 ... -0.05407209  0.02654656\n",
      "  -0.02947026]\n",
      " [ 0.06204033 -0.07152744 -0.01059729 ... -0.00289328  0.01441121\n",
      "   0.06374431]\n",
      " [ 0.04045644 -0.03840212  0.00438145 ... -0.02346853 -0.0705626\n",
      "  -0.0361634 ]]\n",
      "[0. 0. 0. 0. 0.]\n"
     ]
    }
   ],
   "source": [
    "hidden_1_weights, hidden_1_biases = model.layers[1].get_weights()\n",
    "print(hidden_1_weights[:5])\n",
    "print(hidden_1_biases[:5])"
   ]
  },
  {
   "cell_type": "markdown",
   "metadata": {},
   "source": [
    "第1中間レイヤのパラメータを設定"
   ]
  },
  {
   "cell_type": "code",
   "execution_count": 13,
   "metadata": {},
   "outputs": [
    {
     "name": "stdout",
     "output_type": "stream",
     "text": [
      "[[1. 1. 1. ... 1. 1. 1.]\n",
      " [1. 1. 1. ... 1. 1. 1.]\n",
      " [1. 1. 1. ... 1. 1. 1.]\n",
      " [1. 1. 1. ... 1. 1. 1.]\n",
      " [1. 1. 1. ... 1. 1. 1.]]\n",
      "[1. 1. 1. 1. 1.]\n"
     ]
    }
   ],
   "source": [
    "# 重みとバイアスをすべて1に設定\n",
    "model.layers[1].set_weights([np.ones_like(model.layers[1].get_weights()[0]), np.ones_like(model.layers[1].get_weights()[1])])\n",
    "print(model.layers[1].get_weights()[0][:5])\n",
    "print(model.layers[1].get_weights()[1][:5])"
   ]
  },
  {
   "cell_type": "code",
   "execution_count": 14,
   "metadata": {},
   "outputs": [
    {
     "name": "stdout",
     "output_type": "stream",
     "text": [
      "[[-0.04944597  0.07349831  0.01990774 ...  0.02750799 -0.03978248\n",
      "   0.06560838]\n",
      " [-0.07312918  0.06113352  0.0139228  ...  0.06875364  0.0067235\n",
      "   0.03491949]\n",
      " [ 0.01352143  0.04283768  0.00900155 ... -0.05407209  0.02654656\n",
      "  -0.02947026]\n",
      " [ 0.06204033 -0.07152744 -0.01059729 ... -0.00289328  0.01441121\n",
      "   0.06374431]\n",
      " [ 0.04045644 -0.03840212  0.00438145 ... -0.02346853 -0.0705626\n",
      "  -0.0361634 ]]\n",
      "[0. 0. 0. 0. 0.]\n"
     ]
    }
   ],
   "source": [
    "# 重みとバイアスを元に戻す\n",
    "model.layers[1].set_weights([hidden_1_weights, hidden_1_biases])\n",
    "print(model.layers[1].get_weights()[0][:5])\n",
    "print(model.layers[1].get_weights()[1][:5])"
   ]
  },
  {
   "cell_type": "markdown",
   "metadata": {},
   "source": [
    "## モデルのコンパイル\n",
    "モデルの学習プロセスを設定する。<br>\n",
    "ここで損失関数、オプティマイザ、評価関数を指定する。"
   ]
  },
  {
   "cell_type": "code",
   "execution_count": 15,
   "metadata": {},
   "outputs": [],
   "source": [
    "model.compile(loss='sparse_categorical_crossentropy', optimizer='sgd', metrics=['accuracy'])"
   ]
  },
  {
   "cell_type": "markdown",
   "metadata": {},
   "source": [
    "### [損失関数](https://keras.io/api/losses/)\n",
    "こちらも参考：[tf.keras.losses](https://www.tensorflow.org/api_docs/python/tf/keras/losses)\n",
    "\n",
    "|分類|キー|損失関数名|説明|\n",
    "|-|-|-|-|\n",
    "|確率的<br>損失関数|binary_crossentropy|2値交差エントロピー|2値分類問題で使用|\n",
    "||categorical_crossentropy|カテゴリカル交差エントロピー|多クラス分類問題で使用。使用する場合はラベルがone-hot表現である必要がある。|\n",
    "||sparse_categorical_crossentropy|スパースカテゴリカル交差エントロピー|多クラス分類問題で使用。基本はカテゴリカル交差エントロピーと同じだが、スパースな？ラベルを取る点が異なる。使用するにはラベルと出力の次元が同じである必要がある。|\n",
    "||KLdivergence|KLダイバージェンス|予測した確率分布と真の確率分布との分布の距離|\n",
    "||poisson|ピアソン損失|予測値-正解値*log(予測値)の平均|\n",
    "|回帰損失関数|mean_squared_error|平均二乗誤差|2点間の距離の平均。スケールが2乗になる。|\n",
    "||mean_absolute_error|平均絶対誤差|差の絶対値の平均|\n",
    "||mean_absolute_percentage_error|平均絶対パーセント誤差|パーセント誤差（=(予測値-正解値)/正解値）の絶対値の平均。正解に対して何パーセント誤差があるかを測る指標として用いる。|\n",
    "||mean_squared_logarithmic_error|平均二乗対数誤差|予測値と正解値の対数の平均二乗誤差。対数の引き算は割り算に変換できるため、予測値/正解値を測る指標と解釈できる。|\n",
    "||logcosh|||\n",
    "||cosine_similarity|||\n",
    "||huber|||\n",
    "|最大マージンの<br>ヒンジ損失関数|hinge|||\n",
    "||squared_hinge|||\n",
    "||categorical_hinge|||\n"
   ]
  },
  {
   "cell_type": "markdown",
   "metadata": {},
   "source": [
    "### [オプティマイザ](https://keras.io/ja/losses/)\n",
    "こちらも参考：[tf.keras.optimizers](https://www.tensorflow.org/api_docs/python/tf/keras/optimizers)\n",
    "\n",
    "|オプティマイザ|説明|\n",
    "|-|-|\n",
    "|SGD|確率的勾配降下法。モーメンタム，学習率減衰，Nesterov momentumをサポートしている。|\n",
    "|RMSprop|RNNと好相性らしい。|\n",
    "|Adagrad||\n",
    "|Adadelta||\n",
    "|Adam|RMSPropとmomumtumを組み合わせたもの。|\n",
    "|Adamax|無限ノルムに基づく拡張版Adamらしい。|\n",
    "|Nadam|RMSPropとNesterov momentumを組み合わせたもの。|\n",
    "|Ftrl||\n"
   ]
  },
  {
   "cell_type": "markdown",
   "metadata": {},
   "source": [
    "### [評価関数](https://keras.io/api/metrics/)\n",
    "こちらも参考：[tf.keras.metrics](https://www.tensorflow.org/api_docs/python/tf/keras/metrics)\n",
    "\n",
    "|分類|クラス名|説明|\n",
    "|-|-|-|\n",
    "|正解率|Accuracy||\n",
    "||BinaryAccuracy||\n",
    "||CategoricalAccuracy||\n",
    "||SparseCategoricalAccuracy||\n",
    "||TopKCategoricalAccuracy||\n",
    "||SparseTopKCategoricalAccuracy||\n",
    "|確率|BinaryCrossentropy||\n",
    "||CategoricalCrossentropy||\n",
    "||SparseCategoricalCrossentropy||\n",
    "||KLDivergence||\n",
    "||Poisson||\n",
    "|回帰|MeanSquaredError||\n",
    "||RootMeanSquaredError||\n",
    "||MeanAbsoluteError||\n",
    "||MeanAbsolutePercentageError||\n",
    "||MeanSquaredLogarithmicError||\n",
    "||CosineSimilarity||\n",
    "||LogCoshError||\n",
    "|正誤問題に基づく分類|AUC||\n",
    "||Precision||\n",
    "||Recall||\n",
    "||TruePositives||\n",
    "||TrueNegatives||\n",
    "||FalsePositives||\n",
    "||FalseNegatives||\n",
    "||PrecisionAtRecall||\n",
    "||SensitivityAtSpecificity||\n",
    "||SpecificityAtSensitivity||\n",
    "|画像セグメンテーション|MeanIoU||\n",
    "|最大マージンのヒンジ分類|Hinge||\n",
    "||SquaredHinge||\n",
    "||CategoricalHinge||"
   ]
  },
  {
   "cell_type": "markdown",
   "metadata": {},
   "source": [
    "## 学習と評価"
   ]
  },
  {
   "cell_type": "markdown",
   "metadata": {},
   "source": [
    "### コールバックによる学習中のチェックポイント保存"
   ]
  },
  {
   "cell_type": "markdown",
   "metadata": {},
   "source": [
    "コールバックは訓練中で適用される関数の集合である。\n",
    "訓練中にモデル内部の状態と統計量を可視化するためにコールバックを使う。\n",
    "\n",
    "SequentialとModelクラスの.fit()メソッドに（キーワード引数callbacksとして）コールバックのリストを渡すことができる。<br>\n",
    "これを使って学習中のチェックポイントを保存することが出来る。\n",
    "\n",
    "大規模データや層が深いモデルを扱うときには学習に時間がかかるため、google colabなどクラウド実行時にセッションが切れてしまうような場合にこのような設定が有効である。\n",
    "\n",
    "今回はsave_best_only=Trueとしてvalidationに対して性能が最高のモデルの時に保存する（早期打ち切り）"
   ]
  },
  {
   "cell_type": "code",
   "execution_count": 16,
   "metadata": {},
   "outputs": [],
   "source": [
    "# 各エポック終了時のモデルを保存するコールバック関数\n",
    "checkpoint_cb = keras.callbacks.ModelCheckpoint('my_keras_sequential_classification_model.h5', save_best_only=True)  "
   ]
  },
  {
   "cell_type": "markdown",
   "metadata": {},
   "source": [
    "### 学習"
   ]
  },
  {
   "cell_type": "code",
   "execution_count": 17,
   "metadata": {},
   "outputs": [
    {
     "name": "stdout",
     "output_type": "stream",
     "text": [
      "Epoch 1/30\n",
      "1719/1719 [==============================] - 4s 2ms/step - loss: 0.6942 - accuracy: 0.7713 - val_loss: 0.5054 - val_accuracy: 0.8252\n",
      "Epoch 2/30\n",
      "1719/1719 [==============================] - 3s 2ms/step - loss: 0.4804 - accuracy: 0.8316 - val_loss: 0.4870 - val_accuracy: 0.8314\n",
      "Epoch 3/30\n",
      "1719/1719 [==============================] - 3s 2ms/step - loss: 0.4358 - accuracy: 0.8471 - val_loss: 0.4187 - val_accuracy: 0.8506\n",
      "Epoch 4/30\n",
      "1719/1719 [==============================] - 3s 2ms/step - loss: 0.4093 - accuracy: 0.8555 - val_loss: 0.3867 - val_accuracy: 0.8674\n",
      "Epoch 5/30\n",
      "1719/1719 [==============================] - 4s 2ms/step - loss: 0.3886 - accuracy: 0.8618 - val_loss: 0.4725 - val_accuracy: 0.8228\n",
      "Epoch 6/30\n",
      "1719/1719 [==============================] - 3s 2ms/step - loss: 0.3727 - accuracy: 0.8678 - val_loss: 0.3809 - val_accuracy: 0.8690\n",
      "Epoch 7/30\n",
      "1719/1719 [==============================] - 4s 2ms/step - loss: 0.3596 - accuracy: 0.8717 - val_loss: 0.3760 - val_accuracy: 0.8720\n",
      "Epoch 8/30\n",
      "1719/1719 [==============================] - 3s 2ms/step - loss: 0.3473 - accuracy: 0.8766 - val_loss: 0.3674 - val_accuracy: 0.8660\n",
      "Epoch 9/30\n",
      "1719/1719 [==============================] - 3s 2ms/step - loss: 0.3385 - accuracy: 0.8798 - val_loss: 0.3494 - val_accuracy: 0.8792\n",
      "Epoch 10/30\n",
      "1719/1719 [==============================] - 3s 2ms/step - loss: 0.3291 - accuracy: 0.8829 - val_loss: 0.3390 - val_accuracy: 0.8814\n",
      "Epoch 11/30\n",
      "1719/1719 [==============================] - 3s 2ms/step - loss: 0.3205 - accuracy: 0.8846 - val_loss: 0.3407 - val_accuracy: 0.8820\n",
      "Epoch 12/30\n",
      "1719/1719 [==============================] - 3s 2ms/step - loss: 0.3131 - accuracy: 0.8866 - val_loss: 0.3275 - val_accuracy: 0.8838\n",
      "Epoch 13/30\n",
      "1719/1719 [==============================] - 3s 2ms/step - loss: 0.3049 - accuracy: 0.8906 - val_loss: 0.3314 - val_accuracy: 0.8808\n",
      "Epoch 14/30\n",
      "1719/1719 [==============================] - 3s 2ms/step - loss: 0.2986 - accuracy: 0.8920 - val_loss: 0.3241 - val_accuracy: 0.8846\n",
      "Epoch 15/30\n",
      "1719/1719 [==============================] - 3s 2ms/step - loss: 0.2921 - accuracy: 0.8951 - val_loss: 0.3372 - val_accuracy: 0.8796\n",
      "Epoch 16/30\n",
      "1719/1719 [==============================] - 3s 2ms/step - loss: 0.2856 - accuracy: 0.8969 - val_loss: 0.3228 - val_accuracy: 0.8846\n",
      "Epoch 17/30\n",
      "1719/1719 [==============================] - 3s 2ms/step - loss: 0.2805 - accuracy: 0.8990 - val_loss: 0.3127 - val_accuracy: 0.8870\n",
      "Epoch 18/30\n",
      "1719/1719 [==============================] - 3s 2ms/step - loss: 0.2747 - accuracy: 0.9001 - val_loss: 0.3281 - val_accuracy: 0.8836\n",
      "Epoch 19/30\n",
      "1719/1719 [==============================] - 3s 2ms/step - loss: 0.2692 - accuracy: 0.9032 - val_loss: 0.3155 - val_accuracy: 0.8896\n",
      "Epoch 20/30\n",
      "1719/1719 [==============================] - 3s 2ms/step - loss: 0.2639 - accuracy: 0.9049 - val_loss: 0.3116 - val_accuracy: 0.8880\n",
      "Epoch 21/30\n",
      "1719/1719 [==============================] - 3s 2ms/step - loss: 0.2589 - accuracy: 0.9065 - val_loss: 0.3045 - val_accuracy: 0.8898\n",
      "Epoch 22/30\n",
      "1719/1719 [==============================] - 3s 2ms/step - loss: 0.2545 - accuracy: 0.9084 - val_loss: 0.3004 - val_accuracy: 0.8944\n",
      "Epoch 23/30\n",
      "1719/1719 [==============================] - 3s 2ms/step - loss: 0.2499 - accuracy: 0.9102 - val_loss: 0.3157 - val_accuracy: 0.8892\n",
      "Epoch 24/30\n",
      "1719/1719 [==============================] - 3s 2ms/step - loss: 0.2458 - accuracy: 0.9106 - val_loss: 0.2974 - val_accuracy: 0.8954\n",
      "Epoch 25/30\n",
      "1719/1719 [==============================] - 3s 2ms/step - loss: 0.2406 - accuracy: 0.9140 - val_loss: 0.3130 - val_accuracy: 0.8876\n",
      "Epoch 26/30\n",
      "1719/1719 [==============================] - 5s 3ms/step - loss: 0.2376 - accuracy: 0.9138 - val_loss: 0.2960 - val_accuracy: 0.8948\n",
      "Epoch 27/30\n",
      "1719/1719 [==============================] - 4s 2ms/step - loss: 0.2334 - accuracy: 0.9166 - val_loss: 0.2900 - val_accuracy: 0.8946\n",
      "Epoch 28/30\n",
      "1719/1719 [==============================] - 3s 2ms/step - loss: 0.2289 - accuracy: 0.9166 - val_loss: 0.2944 - val_accuracy: 0.8974\n",
      "Epoch 29/30\n",
      "1719/1719 [==============================] - 3s 2ms/step - loss: 0.2252 - accuracy: 0.9193 - val_loss: 0.2954 - val_accuracy: 0.8942\n",
      "Epoch 30/30\n",
      "1719/1719 [==============================] - 3s 2ms/step - loss: 0.2214 - accuracy: 0.9205 - val_loss: 0.3028 - val_accuracy: 0.8944\n"
     ]
    }
   ],
   "source": [
    "history = model.fit(x_train, y_train, epochs=30, validation_data=(x_valid, y_valid), callbacks=[checkpoint_cb])"
   ]
  },
  {
   "cell_type": "markdown",
   "metadata": {},
   "source": [
    "### 学習結果の可視化"
   ]
  },
  {
   "cell_type": "code",
   "execution_count": 18,
   "metadata": {},
   "outputs": [
    {
     "data": {
      "image/png": "[encoded data removed]",
      "text/plain": [
       "<Figure size 576x360 with 1 Axes>"
      ]
     },
     "metadata": {
      "needs_background": "light"
     },
     "output_type": "display_data"
    }
   ],
   "source": [
    "import pandas as pd\n",
    "import matplotlib.pyplot as plt\n",
    "pd.DataFrame(history.history).plot(figsize=(8, 5))  # historyはエポック毎のloss, accuracy, val_loss, val_accuracyを保持する\n",
    "plt.grid(True)\n",
    "plt.gca().set_ylim(0, 1) # 縦の範囲を 0 から 1 までに\n",
    "plt.show()"
   ]
  },
  {
   "cell_type": "markdown",
   "metadata": {},
   "source": [
    "この例では、訓練の開始時には検証セットでの成績の方が訓練セットでの成績よりも高いように見えるが、実際にはそうではない。検証誤差は各エポックの最後に計算されるのに対し、訓練誤差は各エポックの途中で移動平均を使って計算されている。そのため、訓練セットの曲線は、半エポック分左にずらすべきところなのである。\n",
    "\n",
    "実際にそうすると、訓練セットと検証セットの曲線は、訓練開始時にはほぼ完全に重なり合うこと\n",
    "がわかる~~らしいがやり方は分からない~~。"
   ]
  },
  {
   "cell_type": "markdown",
   "metadata": {},
   "source": [
    "### 評価"
   ]
  },
  {
   "cell_type": "code",
   "execution_count": 19,
   "metadata": {},
   "outputs": [
    {
     "name": "stdout",
     "output_type": "stream",
     "text": [
      "313/313 [==============================] - 1s 1ms/step - loss: 62.1298 - accuracy: 0.8426\n"
     ]
    },
    {
     "data": {
      "text/plain": [
       "[62.12981414794922, 0.8425999879837036]"
      ]
     },
     "execution_count": 19,
     "metadata": {},
     "output_type": "execute_result"
    }
   ],
   "source": [
    "model.evaluate(x_test, y_test)"
   ]
  },
  {
   "cell_type": "code",
   "execution_count": 20,
   "metadata": {},
   "outputs": [],
   "source": [
    "# コールバック関数で保存した最高性能のモデルにロールバック\n",
    "model = keras.models.load_model('my_keras_sequential_classification_model.h5')"
   ]
  },
  {
   "cell_type": "code",
   "execution_count": 21,
   "metadata": {},
   "outputs": [
    {
     "name": "stdout",
     "output_type": "stream",
     "text": [
      "313/313 [==============================] - 0s 1ms/step - loss: 51.7288 - accuracy: 0.8553\n"
     ]
    },
    {
     "data": {
      "text/plain": [
       "[51.72883605957031, 0.8553000092506409]"
      ]
     },
     "execution_count": 21,
     "metadata": {},
     "output_type": "execute_result"
    }
   ],
   "source": [
    "# ロールバック後のモデルで再評価\n",
    "mse_test = model.evaluate(x_test, y_test)\n",
    "mse_test"
   ]
  },
  {
   "cell_type": "markdown",
   "metadata": {},
   "source": [
    "## 学習済みモデルを使った予測"
   ]
  },
  {
   "cell_type": "code",
   "execution_count": 22,
   "metadata": {},
   "outputs": [
    {
     "name": "stdout",
     "output_type": "stream",
     "text": [
      "========== predict : probability ==========\n",
      "[[0. 0. 0. 0. 0. 0. 0. 0. 0. 1.]\n",
      " [0. 0. 1. 0. 0. 0. 0. 0. 0. 0.]\n",
      " [0. 1. 0. 0. 0. 0. 0. 0. 0. 0.]]\n",
      "========== predict : class ==========\n",
      "[9 2 1]\n",
      "['Ankle boot' 'Pullover' 'Trouser']\n"
     ]
    }
   ],
   "source": [
    "# サンプル用にデータサイズを限定\n",
    "x_new = x_test[:3]\n",
    "\n",
    "# 各クラスに分類される確率を出力する\n",
    "print('========== predict : probability ==========')\n",
    "y_proba = model.predict(x_new)\n",
    "print(y_proba.round(2))\n",
    "\n",
    "print('========== predict : class ==========')\n",
    "# y_pred = model.predict_classes(x_new)  # 廃止メソッドのよう\n",
    "y_pred = np.argmax(model.predict(x_new), axis=1)  # 確率最大のクラスを出力する\n",
    "print(y_pred)\n",
    "print(np.array(class_names)[y_pred])\n"
   ]
  },
  {
   "cell_type": "markdown",
   "metadata": {},
   "source": [
    "画像を表示して確認"
   ]
  },
  {
   "cell_type": "code",
   "execution_count": 23,
   "metadata": {},
   "outputs": [
    {
     "name": "stdout",
     "output_type": "stream",
     "text": [
      "Saving figure fashion_mnist_images_plot\n"
     ]
    },
    {
     "data": {
      "image/png": "[encoded data removed]",
      "text/plain": [
       "<Figure size 518.4x172.8 with 3 Axes>"
      ]
     },
     "metadata": {
      "needs_background": "light"
     },
     "output_type": "display_data"
    }
   ],
   "source": [
    "import os\n",
    "# Where to save the figures\n",
    "PROJECT_ROOT_DIR = \"..\"\n",
    "CHAPTER_ID = \"ann\"\n",
    "IMAGES_PATH = os.path.join(PROJECT_ROOT_DIR, \"images\", CHAPTER_ID)\n",
    "os.makedirs(IMAGES_PATH, exist_ok=True)\n",
    "\n",
    "def save_fig(fig_id, tight_layout=True, fig_extension=\"png\", resolution=300):\n",
    "    path = os.path.join(IMAGES_PATH, fig_id + \".\" + fig_extension)\n",
    "    print(\"Saving figure\", fig_id)\n",
    "    if tight_layout:\n",
    "        plt.tight_layout()\n",
    "    plt.savefig(path, format=fig_extension, dpi=resolution)\n",
    "\n",
    "plt.figure(figsize=(7.2, 2.4))\n",
    "for index, image in enumerate(x_new):\n",
    "    plt.subplot(1, 3, index + 1)\n",
    "    plt.imshow(image, cmap=\"binary\", interpolation=\"nearest\")\n",
    "    plt.axis('off')\n",
    "    plt.title(class_names[y_test[index]], fontsize=12)\n",
    "plt.subplots_adjust(wspace=0.2, hspace=0.5)\n",
    "save_fig('fashion_mnist_images_plot', tight_layout=False)\n",
    "plt.show()"
   ]
  },
  {
   "cell_type": "markdown",
   "metadata": {},
   "source": [
    "## モデルの保存と復元"
   ]
  },
  {
   "cell_type": "markdown",
   "metadata": {},
   "source": [
    "### 保存"
   ]
  },
  {
   "cell_type": "markdown",
   "metadata": {},
   "source": [
    "Keras は HDF5 形式を使ってモデルのアーキテクチャ（すべてのハイパーパラメータを含む）とすべての層のモデルパラメータの値（たとえば接続重みやバイアス）を保存する。\n",
    "さらに、オプティマイザ（ハイパーパラメータやその他の状態情報を含む）も保存する。"
   ]
  },
  {
   "cell_type": "code",
   "execution_count": 24,
   "metadata": {},
   "outputs": [],
   "source": [
    "model.save('my_keras_sequential_classification_model.h5')"
   ]
  },
  {
   "cell_type": "markdown",
   "metadata": {},
   "source": [
    "### 復元"
   ]
  },
  {
   "cell_type": "code",
   "execution_count": 25,
   "metadata": {},
   "outputs": [],
   "source": [
    "model = keras.models.load_model('my_keras_sequential_classification_model.h5')"
   ]
  },
  {
   "cell_type": "markdown",
   "metadata": {},
   "source": [
    "# 回帰問題：sklearn.datasets.fetch_california_housing"
   ]
  },
  {
   "cell_type": "markdown",
   "metadata": {},
   "source": [
    "## パッケージインポート"
   ]
  },
  {
   "cell_type": "code",
   "execution_count": 26,
   "metadata": {},
   "outputs": [
    {
     "name": "stdout",
     "output_type": "stream",
     "text": [
      "tensorflow ver.2.8.0\n",
      "keras ver.2.8.0\n"
     ]
    }
   ],
   "source": [
    "import tensorflow as tf\n",
    "from tensorflow import keras\n",
    "from tensorflow.keras.layers import Dense  # layerクラスを直接インポートして使用出来る\n",
    "\n",
    "##### これうまくいくはずなんだけど学習できてない #####\n",
    "from tensorflow.keras.losses import MeanSquaredError  # 損失関数クラスを直接インポートして使用出来る\n",
    "from tensorflow.keras.optimizers import SGD  # オプティマイザクラスを直接インポートして使用出来る\n",
    "##################################################\n",
    "\n",
    "import numpy as np\n",
    "import pandas as pd\n",
    "\n",
    "print(f'tensorflow ver.{tf.__version__}')\n",
    "print(f'keras ver.{keras.__version__}')\n",
    "\n",
    "from sklearn.datasets import fetch_california_housing\n",
    "from sklearn.model_selection import train_test_split\n",
    "from sklearn.preprocessing import StandardScaler"
   ]
  },
  {
   "cell_type": "markdown",
   "metadata": {},
   "source": [
    "##  データロードと前処理"
   ]
  },
  {
   "cell_type": "markdown",
   "metadata": {},
   "source": [
    "### データロード"
   ]
  },
  {
   "cell_type": "code",
   "execution_count": 27,
   "metadata": {},
   "outputs": [],
   "source": [
    "housing = fetch_california_housing()\n",
    "x_train_full, x_test, y_train_full, y_test = train_test_split(housing.data, housing.target)\n"
   ]
  },
  {
   "cell_type": "markdown",
   "metadata": {},
   "source": [
    "### validation分割"
   ]
  },
  {
   "cell_type": "code",
   "execution_count": 28,
   "metadata": {},
   "outputs": [
    {
     "name": "stdout",
     "output_type": "stream",
     "text": [
      "x_train.shape : (11610, 8)\n",
      "y_train.shape : (11610,)\n",
      "x_valid.shape : (3870, 8)\n",
      "y_valid.shape : (3870,)\n"
     ]
    }
   ],
   "source": [
    "x_train, x_valid, y_train, y_valid = train_test_split(x_train_full, y_train_full)\n",
    "\n",
    "# データサイズを確認\n",
    "print(f'x_train.shape : {x_train.shape}')\n",
    "print(f'y_train.shape : {y_train.shape}')\n",
    "print(f'x_valid.shape : {x_valid.shape}')\n",
    "print(f'y_valid.shape : {y_valid.shape}')"
   ]
  },
  {
   "cell_type": "markdown",
   "metadata": {},
   "source": [
    "trainデータを確認"
   ]
  },
  {
   "cell_type": "code",
   "execution_count": 29,
   "metadata": {},
   "outputs": [
    {
     "data": {
      "text/html": [
       "<div>\n",
       "<style scoped>\n",
       "    .dataframe tbody tr th:only-of-type {\n",
       "        vertical-align: middle;\n",
       "    }\n",
       "\n",
       "    .dataframe tbody tr th {\n",
       "        vertical-align: top;\n",
       "    }\n",
       "\n",
       "    .dataframe thead th {\n",
       "        text-align: right;\n",
       "    }\n",
       "</style>\n",
       "<table border=\"1\" class=\"dataframe\">\n",
       "  <thead>\n",
       "    <tr style=\"text-align: right;\">\n",
       "      <th></th>\n",
       "      <th>MedInc</th>\n",
       "      <th>HouseAge</th>\n",
       "      <th>AveRooms</th>\n",
       "      <th>AveBedrms</th>\n",
       "      <th>Population</th>\n",
       "      <th>AveOccup</th>\n",
       "      <th>Latitude</th>\n",
       "      <th>Longitude</th>\n",
       "    </tr>\n",
       "  </thead>\n",
       "  <tbody>\n",
       "    <tr>\n",
       "      <th>0</th>\n",
       "      <td>10.7237</td>\n",
       "      <td>21.0</td>\n",
       "      <td>8.837607</td>\n",
       "      <td>1.000000</td>\n",
       "      <td>323.0</td>\n",
       "      <td>2.760684</td>\n",
       "      <td>37.41</td>\n",
       "      <td>-122.18</td>\n",
       "    </tr>\n",
       "    <tr>\n",
       "      <th>1</th>\n",
       "      <td>2.6535</td>\n",
       "      <td>26.0</td>\n",
       "      <td>3.167647</td>\n",
       "      <td>1.067647</td>\n",
       "      <td>3193.0</td>\n",
       "      <td>3.130392</td>\n",
       "      <td>33.95</td>\n",
       "      <td>-118.36</td>\n",
       "    </tr>\n",
       "    <tr>\n",
       "      <th>2</th>\n",
       "      <td>2.9479</td>\n",
       "      <td>5.0</td>\n",
       "      <td>5.564151</td>\n",
       "      <td>1.266038</td>\n",
       "      <td>1620.0</td>\n",
       "      <td>3.056604</td>\n",
       "      <td>34.55</td>\n",
       "      <td>-117.54</td>\n",
       "    </tr>\n",
       "    <tr>\n",
       "      <th>3</th>\n",
       "      <td>4.8295</td>\n",
       "      <td>10.0</td>\n",
       "      <td>5.938998</td>\n",
       "      <td>1.013072</td>\n",
       "      <td>1773.0</td>\n",
       "      <td>3.862745</td>\n",
       "      <td>34.44</td>\n",
       "      <td>-118.13</td>\n",
       "    </tr>\n",
       "    <tr>\n",
       "      <th>4</th>\n",
       "      <td>10.3893</td>\n",
       "      <td>18.0</td>\n",
       "      <td>6.750000</td>\n",
       "      <td>0.972222</td>\n",
       "      <td>316.0</td>\n",
       "      <td>2.925926</td>\n",
       "      <td>33.62</td>\n",
       "      <td>-117.85</td>\n",
       "    </tr>\n",
       "    <tr>\n",
       "      <th>...</th>\n",
       "      <td>...</td>\n",
       "      <td>...</td>\n",
       "      <td>...</td>\n",
       "      <td>...</td>\n",
       "      <td>...</td>\n",
       "      <td>...</td>\n",
       "      <td>...</td>\n",
       "      <td>...</td>\n",
       "    </tr>\n",
       "    <tr>\n",
       "      <th>11605</th>\n",
       "      <td>3.5403</td>\n",
       "      <td>36.0</td>\n",
       "      <td>6.226244</td>\n",
       "      <td>1.162896</td>\n",
       "      <td>687.0</td>\n",
       "      <td>3.108597</td>\n",
       "      <td>33.91</td>\n",
       "      <td>-117.90</td>\n",
       "    </tr>\n",
       "    <tr>\n",
       "      <th>11606</th>\n",
       "      <td>5.0524</td>\n",
       "      <td>18.0</td>\n",
       "      <td>5.187870</td>\n",
       "      <td>1.051775</td>\n",
       "      <td>1224.0</td>\n",
       "      <td>1.810651</td>\n",
       "      <td>37.91</td>\n",
       "      <td>-122.38</td>\n",
       "    </tr>\n",
       "    <tr>\n",
       "      <th>11607</th>\n",
       "      <td>3.7083</td>\n",
       "      <td>10.0</td>\n",
       "      <td>5.703604</td>\n",
       "      <td>1.063964</td>\n",
       "      <td>3419.0</td>\n",
       "      <td>3.080180</td>\n",
       "      <td>38.46</td>\n",
       "      <td>-121.82</td>\n",
       "    </tr>\n",
       "    <tr>\n",
       "      <th>11608</th>\n",
       "      <td>3.5481</td>\n",
       "      <td>35.0</td>\n",
       "      <td>4.547511</td>\n",
       "      <td>1.013575</td>\n",
       "      <td>742.0</td>\n",
       "      <td>3.357466</td>\n",
       "      <td>34.13</td>\n",
       "      <td>-118.00</td>\n",
       "    </tr>\n",
       "    <tr>\n",
       "      <th>11609</th>\n",
       "      <td>2.7583</td>\n",
       "      <td>42.0</td>\n",
       "      <td>5.080537</td>\n",
       "      <td>1.024609</td>\n",
       "      <td>1124.0</td>\n",
       "      <td>2.514541</td>\n",
       "      <td>35.42</td>\n",
       "      <td>-119.02</td>\n",
       "    </tr>\n",
       "  </tbody>\n",
       "</table>\n",
       "<p>11610 rows × 8 columns</p>\n",
       "</div>"
      ],
      "text/plain": [
       "        MedInc  HouseAge  AveRooms  AveBedrms  Population  AveOccup  Latitude  \\\n",
       "0      10.7237      21.0  8.837607   1.000000       323.0  2.760684     37.41   \n",
       "1       2.6535      26.0  3.167647   1.067647      3193.0  3.130392     33.95   \n",
       "2       2.9479       5.0  5.564151   1.266038      1620.0  3.056604     34.55   \n",
       "3       4.8295      10.0  5.938998   1.013072      1773.0  3.862745     34.44   \n",
       "4      10.3893      18.0  6.750000   0.972222       316.0  2.925926     33.62   \n",
       "...        ...       ...       ...        ...         ...       ...       ...   \n",
       "11605   3.5403      36.0  6.226244   1.162896       687.0  3.108597     33.91   \n",
       "11606   5.0524      18.0  5.187870   1.051775      1224.0  1.810651     37.91   \n",
       "11607   3.7083      10.0  5.703604   1.063964      3419.0  3.080180     38.46   \n",
       "11608   3.5481      35.0  4.547511   1.013575       742.0  3.357466     34.13   \n",
       "11609   2.7583      42.0  5.080537   1.024609      1124.0  2.514541     35.42   \n",
       "\n",
       "       Longitude  \n",
       "0        -122.18  \n",
       "1        -118.36  \n",
       "2        -117.54  \n",
       "3        -118.13  \n",
       "4        -117.85  \n",
       "...          ...  \n",
       "11605    -117.90  \n",
       "11606    -122.38  \n",
       "11607    -121.82  \n",
       "11608    -118.00  \n",
       "11609    -119.02  \n",
       "\n",
       "[11610 rows x 8 columns]"
      ]
     },
     "metadata": {},
     "output_type": "display_data"
    },
    {
     "name": "stdout",
     "output_type": "stream",
     "text": [
      "<class 'pandas.core.frame.DataFrame'>\n",
      "RangeIndex: 11610 entries, 0 to 11609\n",
      "Data columns (total 8 columns):\n",
      " #   Column      Non-Null Count  Dtype  \n",
      "---  ------      --------------  -----  \n",
      " 0   MedInc      11610 non-null  float64\n",
      " 1   HouseAge    11610 non-null  float64\n",
      " 2   AveRooms    11610 non-null  float64\n",
      " 3   AveBedrms   11610 non-null  float64\n",
      " 4   Population  11610 non-null  float64\n",
      " 5   AveOccup    11610 non-null  float64\n",
      " 6   Latitude    11610 non-null  float64\n",
      " 7   Longitude   11610 non-null  float64\n",
      "dtypes: float64(8)\n",
      "memory usage: 725.8 KB\n"
     ]
    },
    {
     "data": {
      "text/html": [
       "<div>\n",
       "<style scoped>\n",
       "    .dataframe tbody tr th:only-of-type {\n",
       "        vertical-align: middle;\n",
       "    }\n",
       "\n",
       "    .dataframe tbody tr th {\n",
       "        vertical-align: top;\n",
       "    }\n",
       "\n",
       "    .dataframe thead th {\n",
       "        text-align: right;\n",
       "    }\n",
       "</style>\n",
       "<table border=\"1\" class=\"dataframe\">\n",
       "  <thead>\n",
       "    <tr style=\"text-align: right;\">\n",
       "      <th></th>\n",
       "      <th>MedInc</th>\n",
       "      <th>HouseAge</th>\n",
       "      <th>AveRooms</th>\n",
       "      <th>AveBedrms</th>\n",
       "      <th>Population</th>\n",
       "      <th>AveOccup</th>\n",
       "      <th>Latitude</th>\n",
       "      <th>Longitude</th>\n",
       "    </tr>\n",
       "  </thead>\n",
       "  <tbody>\n",
       "    <tr>\n",
       "      <th>count</th>\n",
       "      <td>11610.000000</td>\n",
       "      <td>11610.000000</td>\n",
       "      <td>11610.000000</td>\n",
       "      <td>11610.000000</td>\n",
       "      <td>11610.000000</td>\n",
       "      <td>11610.000000</td>\n",
       "      <td>11610.000000</td>\n",
       "      <td>11610.000000</td>\n",
       "    </tr>\n",
       "    <tr>\n",
       "      <th>mean</th>\n",
       "      <td>3.894098</td>\n",
       "      <td>28.682515</td>\n",
       "      <td>5.445182</td>\n",
       "      <td>1.097018</td>\n",
       "      <td>1423.704393</td>\n",
       "      <td>3.086505</td>\n",
       "      <td>35.619636</td>\n",
       "      <td>-119.563125</td>\n",
       "    </tr>\n",
       "    <tr>\n",
       "      <th>std</th>\n",
       "      <td>1.926992</td>\n",
       "      <td>12.629721</td>\n",
       "      <td>2.675345</td>\n",
       "      <td>0.522784</td>\n",
       "      <td>1169.391033</td>\n",
       "      <td>12.452525</td>\n",
       "      <td>2.127324</td>\n",
       "      <td>2.007963</td>\n",
       "    </tr>\n",
       "    <tr>\n",
       "      <th>min</th>\n",
       "      <td>0.499900</td>\n",
       "      <td>1.000000</td>\n",
       "      <td>0.888889</td>\n",
       "      <td>0.375000</td>\n",
       "      <td>3.000000</td>\n",
       "      <td>0.692308</td>\n",
       "      <td>32.560000</td>\n",
       "      <td>-124.350000</td>\n",
       "    </tr>\n",
       "    <tr>\n",
       "      <th>25%</th>\n",
       "      <td>2.565050</td>\n",
       "      <td>18.000000</td>\n",
       "      <td>4.462816</td>\n",
       "      <td>1.006332</td>\n",
       "      <td>785.000000</td>\n",
       "      <td>2.435381</td>\n",
       "      <td>33.930000</td>\n",
       "      <td>-121.810000</td>\n",
       "    </tr>\n",
       "    <tr>\n",
       "      <th>50%</th>\n",
       "      <td>3.551400</td>\n",
       "      <td>29.000000</td>\n",
       "      <td>5.239784</td>\n",
       "      <td>1.048485</td>\n",
       "      <td>1163.000000</td>\n",
       "      <td>2.822018</td>\n",
       "      <td>34.250000</td>\n",
       "      <td>-118.490000</td>\n",
       "    </tr>\n",
       "    <tr>\n",
       "      <th>75%</th>\n",
       "      <td>4.781300</td>\n",
       "      <td>37.000000</td>\n",
       "      <td>6.058570</td>\n",
       "      <td>1.098736</td>\n",
       "      <td>1712.000000</td>\n",
       "      <td>3.274970</td>\n",
       "      <td>37.700000</td>\n",
       "      <td>-118.000000</td>\n",
       "    </tr>\n",
       "    <tr>\n",
       "      <th>max</th>\n",
       "      <td>15.000100</td>\n",
       "      <td>52.000000</td>\n",
       "      <td>141.909091</td>\n",
       "      <td>34.066667</td>\n",
       "      <td>35682.000000</td>\n",
       "      <td>1243.333333</td>\n",
       "      <td>41.950000</td>\n",
       "      <td>-114.310000</td>\n",
       "    </tr>\n",
       "  </tbody>\n",
       "</table>\n",
       "</div>"
      ],
      "text/plain": [
       "             MedInc      HouseAge      AveRooms     AveBedrms    Population  \\\n",
       "count  11610.000000  11610.000000  11610.000000  11610.000000  11610.000000   \n",
       "mean       3.894098     28.682515      5.445182      1.097018   1423.704393   \n",
       "std        1.926992     12.629721      2.675345      0.522784   1169.391033   \n",
       "min        0.499900      1.000000      0.888889      0.375000      3.000000   \n",
       "25%        2.565050     18.000000      4.462816      1.006332    785.000000   \n",
       "50%        3.551400     29.000000      5.239784      1.048485   1163.000000   \n",
       "75%        4.781300     37.000000      6.058570      1.098736   1712.000000   \n",
       "max       15.000100     52.000000    141.909091     34.066667  35682.000000   \n",
       "\n",
       "           AveOccup      Latitude     Longitude  \n",
       "count  11610.000000  11610.000000  11610.000000  \n",
       "mean       3.086505     35.619636   -119.563125  \n",
       "std       12.452525      2.127324      2.007963  \n",
       "min        0.692308     32.560000   -124.350000  \n",
       "25%        2.435381     33.930000   -121.810000  \n",
       "50%        2.822018     34.250000   -118.490000  \n",
       "75%        3.274970     37.700000   -118.000000  \n",
       "max     1243.333333     41.950000   -114.310000  "
      ]
     },
     "execution_count": 29,
     "metadata": {},
     "output_type": "execute_result"
    }
   ],
   "source": [
    "pd_x_train = pd.DataFrame(x_train, columns=housing.feature_names)\n",
    "display(pd_x_train)\n",
    "pd_x_train.info()\n",
    "pd_x_train.describe()"
   ]
  },
  {
   "cell_type": "markdown",
   "metadata": {},
   "source": [
    "### 前処理"
   ]
  },
  {
   "cell_type": "markdown",
   "metadata": {},
   "source": [
    "#### スケーリング"
   ]
  },
  {
   "cell_type": "markdown",
   "metadata": {},
   "source": [
    "### [StandardScaler](https://scikit-learn.org/stable/modules/generated/sklearn.preprocessing.StandardScaler.html)\n",
    "データの標準化を行う。\n",
    "\n",
    "代表的なメソッドは以下：\n",
    "\n",
    "|メソッド|説明|\n",
    "|---|---|\n",
    "|fit()|標準化するための平均と分散を計算する。|\n",
    "|trasform()|（事前に計算した平均と分散を使用して）標準化を行う。|\n",
    "|fit_transform()|平均と分散を計算し、標準化を行う。|"
   ]
  },
  {
   "cell_type": "code",
   "execution_count": 30,
   "metadata": {},
   "outputs": [],
   "source": [
    "scaler = StandardScaler()\n",
    "\n",
    "x_train = scaler.fit_transform(x_train)\n",
    "x_valid = scaler.transform(x_valid)  # x_trainの平均・分散を使用する（のはなぜ？）\n",
    "x_test = scaler.transform(x_test)  # x_trainの平均・分散を使用する（のはなぜ？）"
   ]
  },
  {
   "cell_type": "markdown",
   "metadata": {},
   "source": [
    "## モデル作成"
   ]
  },
  {
   "cell_type": "markdown",
   "metadata": {},
   "source": [
    "### レイヤ構成を定義"
   ]
  },
  {
   "cell_type": "code",
   "execution_count": 31,
   "metadata": {},
   "outputs": [],
   "source": [
    "# 初期化時にレイヤのリストを渡すことでレイヤ定義も同時に行う\n",
    "model = keras.models.Sequential([\n",
    "    Dense(30, activation='relu', input_shape=x_train.shape[1:])\n",
    "    , Dense(1)  # 予測値を出力するため出力層のノード数は1\n",
    "])"
   ]
  },
  {
   "cell_type": "markdown",
   "metadata": {},
   "source": [
    "## モデルのコンパイル"
   ]
  },
  {
   "cell_type": "code",
   "execution_count": 32,
   "metadata": {},
   "outputs": [
    {
     "name": "stdout",
     "output_type": "stream",
     "text": [
      "Model: \"sequential_2\"\n",
      "_________________________________________________________________\n",
      " Layer (type)                Output Shape              Param #   \n",
      "=================================================================\n",
      " dense_6 (Dense)             (None, 30)                270       \n",
      "                                                                 \n",
      " dense_7 (Dense)             (None, 1)                 31        \n",
      "                                                                 \n",
      "=================================================================\n",
      "Total params: 301\n",
      "Trainable params: 301\n",
      "Non-trainable params: 0\n",
      "_________________________________________________________________\n"
     ]
    }
   ],
   "source": [
    "# model.compile(loss=MeanSquaredError(), optimizer=SGD())  # なぜかこっちは学習結果がNaNになる\n",
    "# model.compile(loss=\"mean_squared_error\", optimizer=SGD())  # なぜか全然学習が進まない\n",
    "# model.compile(loss=MeanSquaredError(), optimizer='sgd')  # なぜか全然学習が進まない\n",
    "model.compile(loss=\"mean_squared_error\", optimizer='sgd')\n",
    "\n",
    "# モデルのレイヤ構成を表示\n",
    "model.summary()"
   ]
  },
  {
   "cell_type": "markdown",
   "metadata": {},
   "source": [
    "## 学習と評価"
   ]
  },
  {
   "cell_type": "markdown",
   "metadata": {},
   "source": [
    "### コールバックによる学習中のチェックポイント保存"
   ]
  },
  {
   "cell_type": "markdown",
   "metadata": {},
   "source": [
    "今回早期打ち切り設定を入れるためにEarlyStopping関数を使用する。<br>\n",
    "このコールバック関数は学習打ち切り時に性能が最高だった時の重みを自動で復元するかを選べる。これを使うと最良モデルの保存と復元は不要になる。"
   ]
  },
  {
   "cell_type": "code",
   "execution_count": 33,
   "metadata": {},
   "outputs": [],
   "source": [
    "# 早期打ち切りのコールバック関数\n",
    "early_stopping_cb = keras.callbacks.EarlyStopping(patience=10, restore_best_weights=True)  # patienceで指定したエポック数学習が進まなかったときに学習を打ち切る"
   ]
  },
  {
   "cell_type": "markdown",
   "metadata": {},
   "source": [
    "また、コールバック関数は自作したものを使うことが出来る。<br>\n",
    "\n",
    "\n",
    "自作コールバックの作り方については以下を参照：<br>\n",
    "[TensorFlow.Kerasガイド_コールバックを書く](https://www.tensorflow.org/guide/keras/custom_callback?hl=ja)<br>\n",
    "以下のようなことが記載されている。\n",
    "* メソッド名と呼び出しタイミング\n",
    "\n",
    "|メソッドの種類|メソッド名|呼び出しタイミング|\n",
    "|-|-|-|\n",
    "|グローバルメソッド|on_(train/test/predict)_begin(self, logs=None)|fit/evalute/predictメソッドの先頭|\n",
    "||on_(train/test/predict)_end(self, logs=None)|fit/evaluate/predictメソッドの最後|\n",
    "|バッチレベルメソッド|on_(train/test/predict)_batch_begin(self, batch, logs=None)|トレーニング/テスト/予測の各バッチの直前|\n",
    "||on_(train/test/predict)_batch_end(self, batch, logs=None)|トレーニング/テスト/予測の各バッチの終了時|\n",
    "|エポックレベルメソッド|on_epoch_begin(self, epoch, logs=None)|トレーニングの各エポックの先頭|\n",
    "||on_epoch_end(self, epoch, logs=None)|トレーニングの各エポックの最後|\n",
    "\n",
    "* logs ディクショナリ<br>\n",
    "    →バッチまたはエポックの最後の損失値と全てのメトリクスを含む。これを利用して学習過程を出力したり早期打ち切りを実装したりできる。\n",
    "\n",
    "例として学習中の訓練データのlossとvalidationデータのlossの比率を表示する関数を作成する。（過学習を検知すること想定）"
   ]
  },
  {
   "cell_type": "code",
   "execution_count": 34,
   "metadata": {},
   "outputs": [],
   "source": [
    "class PrintValTrainRatioCallback(keras.callbacks.Callback):\n",
    "    def on_epoch_end(self, epoch, logs):  # トレーニングの各エポックの最後\n",
    "        print(\"\\nval/train: {:.2f}\".format(logs[\"val_loss\"] / logs[\"loss\"]))  # logsディレクトリからval_lossとlossを取得\n",
    "\n",
    "print_valid_train_ration_cb = PrintValTrainRatioCallback()"
   ]
  },
  {
   "cell_type": "markdown",
   "metadata": {},
   "source": [
    "### TensorBoardを使った可視化"
   ]
  },
  {
   "cell_type": "markdown",
   "metadata": {},
   "source": [
    "TensorBoardを使って訓練中の学習曲線を表示したり、複数の実行の学習曲線を比較したり、計算グラフを表示したり、訓練の統計情報を解析したりすることが出来る。\n",
    "\n",
    "TensorBoardはコールバック関数として準備されている。<br>\n",
    "利用するにはイベントファイルと呼ばれるバイナリファイルを出力させる必要がある。\n",
    "\n",
    "また、TensorBoardサーバを立てる必要がある。<br>\n",
    "TensorBoardサーバはロートログディレクトリを参照し、プログラムには実行ごとに別のサブディレクトリをに出力するように設定する。こうすることで複数の実行から得た情報が混ざることなく使用することが出来る。\n",
    "\n",
    "ここでは実行ごとのログディレクトリ名を生成する関数を定義し、その関数を使って生成したログディレクトリ名をTensorBoardのコールバックに渡す。"
   ]
  },
  {
   "cell_type": "code",
   "execution_count": 35,
   "metadata": {},
   "outputs": [],
   "source": [
    "import os\n",
    "\n",
    "# ログ出力のルートディレクトリ\n",
    "root_dir = os.path.join(os.curdir, 'my_logs')\n",
    "\n",
    "# ログディレクトリ名を生成する関数\n",
    "def get_run_logdir():\n",
    "    import time\n",
    "    run_id = time.strftime('run_%Y_%m_%d-%H_%M_%S')\n",
    "    return os.path.join(root_dir, run_id)\n",
    "\n",
    "run_logdir = get_run_logdir()\n",
    "\n",
    "tensorboard_cb = keras.callbacks.TensorBoard(run_logdir)"
   ]
  },
  {
   "cell_type": "markdown",
   "metadata": {},
   "source": [
    "### 学習"
   ]
  },
  {
   "cell_type": "code",
   "execution_count": 36,
   "metadata": {},
   "outputs": [
    {
     "name": "stdout",
     "output_type": "stream",
     "text": [
      "Epoch 1/100\n",
      "  1/363 [..............................] - ETA: 1:19 - loss: 8.1022WARNING:tensorflow:Callback method `on_train_batch_end` is slow compared to the batch time (batch time: 0.0006s vs `on_train_batch_end` time: 0.0013s). Check your callbacks.\n",
      "349/363 [===========================>..] - ETA: 0s - loss: 0.9747\n",
      "val/train: 0.58\n",
      "363/363 [==============================] - 1s 2ms/step - loss: 0.9597 - val_loss: 0.5542\n",
      "Epoch 2/100\n",
      "356/363 [============================>.] - ETA: 0s - loss: 0.6194\n",
      "val/train: 0.78\n",
      "363/363 [==============================] - 0s 1ms/step - loss: 0.6185 - val_loss: 0.4850\n",
      "Epoch 3/100\n",
      "361/363 [============================>.] - ETA: 0s - loss: 0.4912\n",
      "val/train: 0.99\n",
      "363/363 [==============================] - 0s 1ms/step - loss: 0.4931 - val_loss: 0.4873\n",
      "Epoch 4/100\n",
      "357/363 [============================>.] - ETA: 0s - loss: 0.4948\n",
      "val/train: 0.93\n",
      "363/363 [==============================] - 0s 1ms/step - loss: 0.4937 - val_loss: 0.4573\n",
      "Epoch 5/100\n",
      "321/363 [=========================>....] - ETA: 0s - loss: 0.4873\n",
      "val/train: 0.90\n",
      "363/363 [==============================] - 1s 1ms/step - loss: 0.4794 - val_loss: 0.4329\n",
      "Epoch 6/100\n",
      "315/363 [=========================>....] - ETA: 0s - loss: 0.4509\n",
      "val/train: 0.93\n",
      "363/363 [==============================] - 0s 1ms/step - loss: 0.4513 - val_loss: 0.4177\n",
      "Epoch 7/100\n",
      "332/363 [==========================>...] - ETA: 0s - loss: 0.4564\n",
      "val/train: 0.94\n",
      "363/363 [==============================] - 0s 985us/step - loss: 0.4487 - val_loss: 0.4219\n",
      "Epoch 8/100\n",
      "308/363 [========================>.....] - ETA: 0s - loss: 0.4325\n",
      "val/train: 0.93\n",
      "363/363 [==============================] - 0s 1ms/step - loss: 0.4358 - val_loss: 0.4057\n",
      "Epoch 9/100\n",
      "326/363 [=========================>....] - ETA: 0s - loss: 0.4331\n",
      "val/train: 0.94\n",
      "363/363 [==============================] - 0s 1ms/step - loss: 0.4284 - val_loss: 0.4011\n",
      "Epoch 10/100\n",
      "316/363 [=========================>....] - ETA: 0s - loss: 0.4244\n",
      "val/train: 0.98\n",
      "363/363 [==============================] - 0s 1ms/step - loss: 0.4279 - val_loss: 0.4175\n",
      "Epoch 11/100\n",
      "332/363 [==========================>...] - ETA: 0s - loss: 0.4292\n",
      "val/train: 0.92\n",
      "363/363 [==============================] - 0s 983us/step - loss: 0.4280 - val_loss: 0.3956\n",
      "Epoch 12/100\n",
      "337/363 [==========================>...] - ETA: 0s - loss: 0.4211\n",
      "val/train: 0.92\n",
      "363/363 [==============================] - 0s 981us/step - loss: 0.4156 - val_loss: 0.3813\n",
      "Epoch 13/100\n",
      "361/363 [============================>.] - ETA: 0s - loss: 0.4163\n",
      "val/train: 0.92\n",
      "363/363 [==============================] - 0s 1ms/step - loss: 0.4161 - val_loss: 0.3827\n",
      "Epoch 14/100\n",
      "348/363 [===========================>..] - ETA: 0s - loss: 0.4072\n",
      "val/train: 0.94\n",
      "363/363 [==============================] - 0s 955us/step - loss: 0.4071 - val_loss: 0.3817\n",
      "Epoch 15/100\n",
      "348/363 [===========================>..] - ETA: 0s - loss: 0.4052\n",
      "val/train: 0.96\n",
      "363/363 [==============================] - 0s 957us/step - loss: 0.4048 - val_loss: 0.3886\n",
      "Epoch 16/100\n",
      "343/363 [===========================>..] - ETA: 0s - loss: 0.4042\n",
      "val/train: 0.94\n",
      "363/363 [==============================] - 0s 956us/step - loss: 0.4027 - val_loss: 0.3767\n",
      "Epoch 17/100\n",
      "352/363 [============================>.] - ETA: 0s - loss: 0.3948\n",
      "val/train: 0.93\n",
      "363/363 [==============================] - 0s 947us/step - loss: 0.3954 - val_loss: 0.3663\n",
      "Epoch 18/100\n",
      "289/363 [======================>.......] - ETA: 0s - loss: 0.4003\n",
      "val/train: 0.92\n",
      "363/363 [==============================] - 0s 895us/step - loss: 0.3950 - val_loss: 0.3647\n",
      "Epoch 19/100\n",
      "297/363 [=======================>......] - ETA: 0s - loss: 0.4103\n",
      "val/train: 0.90\n",
      "363/363 [==============================] - 0s 887us/step - loss: 0.4080 - val_loss: 0.3672\n",
      "Epoch 20/100\n",
      "292/363 [=======================>......] - ETA: 0s - loss: 0.3964\n",
      "val/train: 1.06\n",
      "363/363 [==============================] - 0s 892us/step - loss: 0.4051 - val_loss: 0.4313\n",
      "Epoch 21/100\n",
      "348/363 [===========================>..] - ETA: 0s - loss: 0.4245\n",
      "val/train: 0.86\n",
      "363/363 [==============================] - 0s 935us/step - loss: 0.4218 - val_loss: 0.3644\n",
      "Epoch 22/100\n",
      "332/363 [==========================>...] - ETA: 0s - loss: 0.3930\n",
      "val/train: 0.91\n",
      "363/363 [==============================] - 0s 1ms/step - loss: 0.3900 - val_loss: 0.3567\n",
      "Epoch 23/100\n",
      "346/363 [===========================>..] - ETA: 0s - loss: 0.3964\n",
      "val/train: 0.95\n",
      "363/363 [==============================] - 0s 1ms/step - loss: 0.3955 - val_loss: 0.3745\n",
      "Epoch 24/100\n",
      "334/363 [==========================>...] - ETA: 0s - loss: 0.4003\n",
      "val/train: 0.90\n",
      "363/363 [==============================] - 1s 1ms/step - loss: 0.4006 - val_loss: 0.3617\n",
      "Epoch 25/100\n",
      "321/363 [=========================>....] - ETA: 0s - loss: 0.3847\n",
      "val/train: 0.94\n",
      "363/363 [==============================] - 1s 1ms/step - loss: 0.3830 - val_loss: 0.3607\n",
      "Epoch 26/100\n",
      "300/363 [=======================>......] - ETA: 0s - loss: 0.3866\n",
      "val/train: 0.93\n",
      "363/363 [==============================] - 0s 1ms/step - loss: 0.3834 - val_loss: 0.3549\n",
      "Epoch 27/100\n",
      "326/363 [=========================>....] - ETA: 0s - loss: 0.3859\n",
      "val/train: 0.91\n",
      "363/363 [==============================] - 0s 990us/step - loss: 0.3838 - val_loss: 0.3496\n",
      "Epoch 28/100\n",
      "346/363 [===========================>..] - ETA: 0s - loss: 0.3803\n",
      "val/train: 0.92\n",
      "363/363 [==============================] - 0s 1ms/step - loss: 0.3781 - val_loss: 0.3463\n",
      "Epoch 29/100\n",
      "338/363 [==========================>...] - ETA: 0s - loss: 0.3791\n",
      "val/train: 0.94\n",
      "363/363 [==============================] - 0s 962us/step - loss: 0.3746 - val_loss: 0.3503\n",
      "Epoch 30/100\n",
      "333/363 [==========================>...] - ETA: 0s - loss: 0.3757\n",
      "val/train: 0.92\n",
      "363/363 [==============================] - 0s 987us/step - loss: 0.3731 - val_loss: 0.3449\n",
      "Epoch 31/100\n",
      "331/363 [==========================>...] - ETA: 0s - loss: 0.3701\n",
      "val/train: 0.92\n",
      "363/363 [==============================] - 0s 981us/step - loss: 0.3711 - val_loss: 0.3402\n",
      "Epoch 32/100\n",
      "335/363 [==========================>...] - ETA: 0s - loss: 0.3788\n",
      "val/train: 0.91\n",
      "363/363 [==============================] - 0s 961us/step - loss: 0.3799 - val_loss: 0.3456\n",
      "Epoch 33/100\n",
      "320/363 [=========================>....] - ETA: 0s - loss: 0.3701\n",
      "val/train: 0.92\n",
      "363/363 [==============================] - 0s 1ms/step - loss: 0.3687 - val_loss: 0.3390\n",
      "Epoch 34/100\n",
      "324/363 [=========================>....] - ETA: 0s - loss: 0.3758\n",
      "val/train: 0.90\n",
      "363/363 [==============================] - 0s 987us/step - loss: 0.3722 - val_loss: 0.3367\n",
      "Epoch 35/100\n",
      "319/363 [=========================>....] - ETA: 0s - loss: 0.3650\n",
      "val/train: 0.92\n",
      "363/363 [==============================] - 0s 1ms/step - loss: 0.3691 - val_loss: 0.3378\n",
      "Epoch 36/100\n",
      "324/363 [=========================>....] - ETA: 0s - loss: 0.3681\n",
      "val/train: 0.92\n",
      "363/363 [==============================] - 0s 993us/step - loss: 0.3704 - val_loss: 0.3414\n",
      "Epoch 37/100\n",
      "314/363 [========================>.....] - ETA: 0s - loss: 0.3678\n",
      "val/train: 0.90\n",
      "363/363 [==============================] - 0s 1ms/step - loss: 0.3717 - val_loss: 0.3336\n",
      "Epoch 38/100\n",
      "344/363 [===========================>..] - ETA: 0s - loss: 0.3625\n",
      "val/train: 0.93\n",
      "363/363 [==============================] - 0s 941us/step - loss: 0.3616 - val_loss: 0.3364\n",
      "Epoch 39/100\n",
      "328/363 [==========================>...] - ETA: 0s - loss: 0.3581\n",
      "val/train: 0.92\n",
      "363/363 [==============================] - 0s 975us/step - loss: 0.3647 - val_loss: 0.3365\n",
      "Epoch 40/100\n",
      "323/363 [=========================>....] - ETA: 0s - loss: 0.3640\n",
      "val/train: 0.92\n",
      "363/363 [==============================] - 0s 1ms/step - loss: 0.3609 - val_loss: 0.3332\n",
      "Epoch 41/100\n",
      "332/363 [==========================>...] - ETA: 0s - loss: 0.3595\n",
      "val/train: 0.98\n",
      "363/363 [==============================] - 0s 989us/step - loss: 0.3632 - val_loss: 0.3575\n",
      "Epoch 42/100\n",
      "330/363 [==========================>...] - ETA: 0s - loss: 0.3720\n",
      "val/train: 0.90\n",
      "363/363 [==============================] - 0s 969us/step - loss: 0.3733 - val_loss: 0.3351\n",
      "Epoch 43/100\n",
      "335/363 [==========================>...] - ETA: 0s - loss: 0.3637\n",
      "val/train: 0.93\n",
      "363/363 [==============================] - 0s 981us/step - loss: 0.3632 - val_loss: 0.3363\n",
      "Epoch 44/100\n",
      "336/363 [==========================>...] - ETA: 0s - loss: 0.3548\n",
      "val/train: 0.92\n",
      "363/363 [==============================] - 0s 985us/step - loss: 0.3557 - val_loss: 0.3263\n",
      "Epoch 45/100\n",
      "313/363 [========================>.....] - ETA: 0s - loss: 0.3535\n",
      "val/train: 0.92\n",
      "363/363 [==============================] - 0s 1ms/step - loss: 0.3542 - val_loss: 0.3257\n",
      "Epoch 46/100\n",
      "341/363 [===========================>..] - ETA: 0s - loss: 0.3514\n",
      "val/train: 0.92\n",
      "363/363 [==============================] - 0s 953us/step - loss: 0.3544 - val_loss: 0.3263\n",
      "Epoch 47/100\n",
      "331/363 [==========================>...] - ETA: 0s - loss: 0.3480\n",
      "val/train: 0.92\n",
      "363/363 [==============================] - 0s 1ms/step - loss: 0.3510 - val_loss: 0.3228\n",
      "Epoch 48/100\n",
      "306/363 [========================>.....] - ETA: 0s - loss: 0.3474\n",
      "val/train: 0.93\n",
      "363/363 [==============================] - 0s 1ms/step - loss: 0.3486 - val_loss: 0.3236\n",
      "Epoch 49/100\n",
      "333/363 [==========================>...] - ETA: 0s - loss: 0.3496\n",
      "val/train: 0.93\n",
      "363/363 [==============================] - 0s 973us/step - loss: 0.3480 - val_loss: 0.3236\n",
      "Epoch 50/100\n",
      "345/363 [===========================>..] - ETA: 0s - loss: 0.3501\n",
      "val/train: 0.92\n",
      "363/363 [==============================] - 0s 938us/step - loss: 0.3502 - val_loss: 0.3216\n",
      "Epoch 51/100\n",
      "344/363 [===========================>..] - ETA: 0s - loss: 0.3422\n",
      "val/train: 0.92\n",
      "363/363 [==============================] - 0s 962us/step - loss: 0.3460 - val_loss: 0.3190\n",
      "Epoch 52/100\n",
      "326/363 [=========================>....] - ETA: 0s - loss: 0.3437\n",
      "val/train: 0.94\n",
      "363/363 [==============================] - 0s 985us/step - loss: 0.3446 - val_loss: 0.3227\n",
      "Epoch 53/100\n",
      "330/363 [==========================>...] - ETA: 0s - loss: 0.3435\n",
      "val/train: 0.92\n",
      "363/363 [==============================] - 0s 975us/step - loss: 0.3432 - val_loss: 0.3147\n",
      "Epoch 54/100\n",
      "328/363 [==========================>...] - ETA: 0s - loss: 0.3439\n",
      "val/train: 0.94\n",
      "363/363 [==============================] - 0s 977us/step - loss: 0.3426 - val_loss: 0.3209\n",
      "Epoch 55/100\n",
      "342/363 [===========================>..] - ETA: 0s - loss: 0.3403\n",
      "val/train: 0.91\n",
      "363/363 [==============================] - 0s 958us/step - loss: 0.3418 - val_loss: 0.3126\n",
      "Epoch 56/100\n",
      "297/363 [=======================>......] - ETA: 0s - loss: 0.3379\n",
      "val/train: 0.94\n",
      "363/363 [==============================] - 0s 1ms/step - loss: 0.3394 - val_loss: 0.3204\n",
      "Epoch 57/100\n",
      "328/363 [==========================>...] - ETA: 0s - loss: 0.3378\n",
      "val/train: 0.93\n",
      "363/363 [==============================] - 0s 977us/step - loss: 0.3389 - val_loss: 0.3138\n",
      "Epoch 58/100\n",
      "335/363 [==========================>...] - ETA: 0s - loss: 0.3426\n",
      "val/train: 0.94\n",
      "363/363 [==============================] - 0s 963us/step - loss: 0.3395 - val_loss: 0.3187\n",
      "Epoch 59/100\n",
      "339/363 [===========================>..] - ETA: 0s - loss: 0.3364\n",
      "val/train: 0.92\n",
      "363/363 [==============================] - 0s 951us/step - loss: 0.3383 - val_loss: 0.3113\n",
      "Epoch 60/100\n",
      "354/363 [============================>.] - ETA: 0s - loss: 0.3407\n",
      "val/train: 0.95\n",
      "363/363 [==============================] - 0s 951us/step - loss: 0.3394 - val_loss: 0.3210\n",
      "Epoch 61/100\n",
      "326/363 [=========================>....] - ETA: 0s - loss: 0.3409\n",
      "val/train: 0.91\n",
      "363/363 [==============================] - 0s 990us/step - loss: 0.3398 - val_loss: 0.3107\n",
      "Epoch 62/100\n",
      "337/363 [==========================>...] - ETA: 0s - loss: 0.3397\n",
      "val/train: 0.93\n",
      "363/363 [==============================] - 0s 967us/step - loss: 0.3369 - val_loss: 0.3134\n",
      "Epoch 63/100\n",
      "341/363 [===========================>..] - ETA: 0s - loss: 0.3352\n",
      "val/train: 0.93\n",
      "363/363 [==============================] - 0s 944us/step - loss: 0.3339 - val_loss: 0.3090\n",
      "Epoch 64/100\n",
      "348/363 [===========================>..] - ETA: 0s - loss: 0.3326\n",
      "val/train: 0.93\n",
      "363/363 [==============================] - 0s 940us/step - loss: 0.3328 - val_loss: 0.3082\n",
      "Epoch 65/100\n",
      "336/363 [==========================>...] - ETA: 0s - loss: 0.3313\n",
      "val/train: 0.93\n",
      "363/363 [==============================] - 0s 956us/step - loss: 0.3317 - val_loss: 0.3094\n",
      "Epoch 66/100\n",
      "361/363 [============================>.] - ETA: 0s - loss: 0.3497\n",
      "val/train: 0.90\n",
      "363/363 [==============================] - 0s 926us/step - loss: 0.3497 - val_loss: 0.3141\n",
      "Epoch 67/100\n",
      "354/363 [============================>.] - ETA: 0s - loss: 0.3361\n",
      "val/train: 0.93\n",
      "363/363 [==============================] - 0s 922us/step - loss: 0.3364 - val_loss: 0.3112\n",
      "Epoch 68/100\n",
      "363/363 [==============================] - ETA: 0s - loss: 0.3322\n",
      "val/train: 0.94\n",
      "363/363 [==============================] - 0s 912us/step - loss: 0.3322 - val_loss: 0.3114\n",
      "Epoch 69/100\n",
      "360/363 [============================>.] - ETA: 0s - loss: 0.3319\n",
      "val/train: 0.95\n",
      "363/363 [==============================] - 0s 924us/step - loss: 0.3318 - val_loss: 0.3139\n",
      "Epoch 70/100\n",
      "360/363 [============================>.] - ETA: 0s - loss: 0.3306\n",
      "val/train: 0.93\n",
      "363/363 [==============================] - 0s 918us/step - loss: 0.3300 - val_loss: 0.3059\n",
      "Epoch 71/100\n",
      "334/363 [==========================>...] - ETA: 0s - loss: 0.3296\n",
      "val/train: 0.93\n",
      "363/363 [==============================] - 0s 957us/step - loss: 0.3350 - val_loss: 0.3102\n",
      "Epoch 72/100\n",
      "351/363 [============================>.] - ETA: 0s - loss: 0.3355\n",
      "val/train: 0.93\n",
      "363/363 [==============================] - 0s 930us/step - loss: 0.3320 - val_loss: 0.3080\n",
      "Epoch 73/100\n",
      "356/363 [============================>.] - ETA: 0s - loss: 0.3286\n",
      "val/train: 0.92\n",
      "363/363 [==============================] - 0s 924us/step - loss: 0.3294 - val_loss: 0.3042\n",
      "Epoch 74/100\n",
      "321/363 [=========================>....] - ETA: 0s - loss: 0.3307\n",
      "val/train: 0.93\n",
      "363/363 [==============================] - 0s 977us/step - loss: 0.3287 - val_loss: 0.3069\n",
      "Epoch 75/100\n",
      "357/363 [============================>.] - ETA: 0s - loss: 0.3262\n",
      "val/train: 0.93\n",
      "363/363 [==============================] - 0s 923us/step - loss: 0.3267 - val_loss: 0.3042\n",
      "Epoch 76/100\n",
      "353/363 [============================>.] - ETA: 0s - loss: 0.3267\n",
      "val/train: 0.94\n",
      "363/363 [==============================] - 0s 935us/step - loss: 0.3256 - val_loss: 0.3063\n",
      "Epoch 77/100\n",
      "325/363 [=========================>....] - ETA: 0s - loss: 0.3315\n",
      "val/train: 0.93\n",
      "363/363 [==============================] - 0s 986us/step - loss: 0.3258 - val_loss: 0.3040\n",
      "Epoch 78/100\n",
      "361/363 [============================>.] - ETA: 0s - loss: 0.3265\n",
      "val/train: 0.92\n",
      "363/363 [==============================] - 0s 927us/step - loss: 0.3257 - val_loss: 0.3000\n",
      "Epoch 79/100\n",
      "363/363 [==============================] - ETA: 0s - loss: 0.3250\n",
      "val/train: 0.93\n",
      "363/363 [==============================] - 0s 910us/step - loss: 0.3250 - val_loss: 0.3034\n",
      "Epoch 80/100\n",
      "339/363 [===========================>..] - ETA: 0s - loss: 0.3261\n",
      "val/train: 0.92\n",
      "363/363 [==============================] - 0s 948us/step - loss: 0.3253 - val_loss: 0.2991\n",
      "Epoch 81/100\n",
      "361/363 [============================>.] - ETA: 0s - loss: 0.3243\n",
      "val/train: 0.96\n",
      "363/363 [==============================] - 0s 932us/step - loss: 0.3243 - val_loss: 0.3116\n",
      "Epoch 82/100\n",
      "362/363 [============================>.] - ETA: 0s - loss: 0.3255\n",
      "val/train: 0.92\n",
      "363/363 [==============================] - 0s 920us/step - loss: 0.3254 - val_loss: 0.2998\n",
      "Epoch 83/100\n",
      "357/363 [============================>.] - ETA: 0s - loss: 0.3225\n",
      "val/train: 0.93\n",
      "363/363 [==============================] - 0s 946us/step - loss: 0.3230 - val_loss: 0.2991\n",
      "Epoch 84/100\n",
      "356/363 [============================>.] - ETA: 0s - loss: 0.3224\n",
      "val/train: 0.93\n",
      "363/363 [==============================] - 0s 928us/step - loss: 0.3226 - val_loss: 0.2992\n",
      "Epoch 85/100\n",
      "356/363 [============================>.] - ETA: 0s - loss: 0.3232\n",
      "val/train: 0.95\n",
      "363/363 [==============================] - 0s 923us/step - loss: 0.3225 - val_loss: 0.3060\n",
      "Epoch 86/100\n",
      "345/363 [===========================>..] - ETA: 0s - loss: 0.3230\n",
      "val/train: 0.94\n",
      "363/363 [==============================] - 0s 937us/step - loss: 0.3229 - val_loss: 0.3050\n",
      "Epoch 87/100\n",
      "303/363 [========================>.....] - ETA: 0s - loss: 0.3375\n",
      "val/train: 0.90\n",
      "363/363 [==============================] - 0s 1ms/step - loss: 0.3341 - val_loss: 0.3023\n",
      "Epoch 88/100\n",
      "362/363 [============================>.] - ETA: 0s - loss: 0.3318\n",
      "val/train: 0.92\n",
      "363/363 [==============================] - 0s 1ms/step - loss: 0.3319 - val_loss: 0.3047\n",
      "Epoch 89/100\n",
      "330/363 [==========================>...] - ETA: 0s - loss: 0.3193\n",
      "val/train: 0.94\n",
      "363/363 [==============================] - 0s 961us/step - loss: 0.3226 - val_loss: 0.3046\n",
      "Epoch 90/100\n",
      "323/363 [=========================>....] - ETA: 0s - loss: 0.3190\n",
      "val/train: 0.94\n",
      "363/363 [==============================] - 0s 986us/step - loss: 0.3217 - val_loss: 0.3011\n"
     ]
    }
   ],
   "source": [
    "history = model.fit(x_train, y_train, epochs=100, validation_data=(x_valid, y_valid), callbacks=[early_stopping_cb, print_valid_train_ration_cb, tensorboard_cb])"
   ]
  },
  {
   "cell_type": "code",
   "execution_count": 42,
   "metadata": {},
   "outputs": [
    {
     "name": "stdout",
     "output_type": "stream",
     "text": [
      "The tensorboard extension is already loaded. To reload it, use:\n",
      "  %reload_ext tensorboard\n"
     ]
    },
    {
     "data": {
      "text/plain": [
       "Reusing TensorBoard on port 6006 (pid 59349), started 0:16:01 ago. (Use '!kill 59349' to kill it.)"
      ]
     },
     "metadata": {},
     "output_type": "display_data"
    },
    {
     "data": {
      "text/html": [
       "\n",
       "      <iframe id=\"tensorboard-frame-65bcef098b83513c\" width=\"100%\" height=\"800\" frameborder=\"0\">\n",
       "      </iframe>\n",
       "      <script>\n",
       "        (function() {\n",
       "          const frame = document.getElementById(\"tensorboard-frame-65bcef098b83513c\");\n",
       "          const url = new URL(\"http://localhost\");\n",
       "          const port = 6006;\n",
       "          if (port) {\n",
       "            url.port = port;\n",
       "          }\n",
       "          frame.src = url;\n",
       "        })();\n",
       "      </script>\n",
       "    "
      ],
      "text/plain": [
       "<IPython.core.display.HTML object>"
      ]
     },
     "metadata": {},
     "output_type": "display_data"
    }
   ],
   "source": [
    "%load_ext tensorboard\n",
    "\n",
    "%tensorboard --logdir ./my_logs"
   ]
  },
  {
   "cell_type": "markdown",
   "metadata": {},
   "source": [
    "### 評価"
   ]
  },
  {
   "cell_type": "code",
   "execution_count": 38,
   "metadata": {},
   "outputs": [
    {
     "name": "stdout",
     "output_type": "stream",
     "text": [
      "162/162 [==============================] - 0s 713us/step - loss: 0.3482\n"
     ]
    },
    {
     "data": {
      "text/plain": [
       "0.34820038080215454"
      ]
     },
     "execution_count": 38,
     "metadata": {},
     "output_type": "execute_result"
    }
   ],
   "source": [
    "mse_test = model.evaluate(x_test, y_test)\n",
    "mse_test"
   ]
  },
  {
   "cell_type": "markdown",
   "metadata": {},
   "source": [
    "## 学習済みモデルを使った予測"
   ]
  },
  {
   "cell_type": "code",
   "execution_count": 39,
   "metadata": {},
   "outputs": [
    {
     "name": "stdout",
     "output_type": "stream",
     "text": [
      "predict : [2.0469236 0.7469141 2.8435235]\n",
      "correct : [2.299 0.867 2.827]\n"
     ]
    }
   ],
   "source": [
    "# サンプル用にデータサイズを限定\n",
    "x_new = x_test[:3]\n",
    "\n",
    "y_pred = model.predict(x_new)\n",
    "print(f'predict : {y_pred.reshape(-1)}')\n",
    "print(f'correct : {y_test[:3]}')"
   ]
  },
  {
   "cell_type": "markdown",
   "metadata": {},
   "source": [
    "## モデルの保存と復元"
   ]
  },
  {
   "cell_type": "markdown",
   "metadata": {},
   "source": [
    "Keras は HDF5 形式を使ってモデルのアーキテクチャ（すべてのハイパーパラメータを含む）とすべての層のモデルパラメータの値（たとえば接続重みやバイアス）を保存する。\n",
    "さらに、オプティマイザ（ハイパーパラメータやその他の状態情報を含む）も保存する。"
   ]
  },
  {
   "cell_type": "code",
   "execution_count": 40,
   "metadata": {},
   "outputs": [],
   "source": [
    "model.save('my_keras_sequential_regression_model.h5')"
   ]
  },
  {
   "cell_type": "markdown",
   "metadata": {},
   "source": [
    "### 復元"
   ]
  },
  {
   "cell_type": "code",
   "execution_count": 41,
   "metadata": {},
   "outputs": [],
   "source": [
    "model = keras.models.load_model('my_keras_sequential_regression_model.h5')"
   ]
  },
  {
   "cell_type": "markdown",
   "metadata": {},
   "source": []
  },
  {
   "cell_type": "markdown",
   "metadata": {},
   "source": []
  }
 ],
 "metadata": {
  "kernelspec": {
   "display_name": "Python 3.9.7 ('.kaggle_')",
   "language": "python",
   "name": "python3"
  },
  "language_info": {
   "codemirror_mode": {
    "name": "ipython",
    "version": 3
   },
   "file_extension": ".py",
   "mimetype": "text/x-python",
   "name": "python",
   "nbconvert_exporter": "python",
   "pygments_lexer": "ipython3",
   "version": "3.9.7"
  },
  "orig_nbformat": 4,
  "vscode": {
   "interpreter": {
    "hash": "2267c7f86544334f90fd828bd0d523f9563b963bbe28c7d2d8efd515b9a10ad6"
   }
  }
 },
 "nbformat": 4,
 "nbformat_minor": 2
}

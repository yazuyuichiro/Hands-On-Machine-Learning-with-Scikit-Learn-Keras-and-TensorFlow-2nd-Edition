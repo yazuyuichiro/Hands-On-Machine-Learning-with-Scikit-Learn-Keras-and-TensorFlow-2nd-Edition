{
 "cells": [
  {
   "cell_type": "markdown",
   "metadata": {},
   "source": [
    "# 概要"
   ]
  },
  {
   "cell_type": "markdown",
   "metadata": {},
   "source": [
    "動的なニューラルネットワークモデルを作成する。<br>\n",
    "これまで扱ったSequential APIや関数型APIは宣言的であり、静的な作成方法する方法だった。これら静的なモデル作成には多くのメリットがある。\n",
    "例えばモデルの保存、クローン作成、共有、構造の表示、分析が簡単にできる。<br>\n",
    "フレームワーク側で形の推測や型チェックを行え、訓練前にエラーを見つけることが出来る。\n",
    "また、グラフ全体が静的なグラフなのでデバッグもしやすい。\n",
    "\n",
    "一方、静的なモデル作成ではループ、形の変更、条件分岐などの動的な動作が必要な場合は対応できない。<br>\n",
    "いま挙げたような命令型プログラミングのスタイルを扱うにはサブクラスAPIを使用する。"
   ]
  },
  {
   "cell_type": "markdown",
   "metadata": {},
   "source": [
    "# サブクラスAPI"
   ]
  },
  {
   "cell_type": "markdown",
   "metadata": {},
   "source": [
    "Modelクラスのサブクラスを定義する。<br>\n",
    "コンストラクタの中に必要な層を定義し、callメソッドに各層での計算を実装する。\n",
    "\n",
    "今回は関数型APIで実装した出力を複数持つワイド・アンド・ディープニューラルネットワークを実装する。"
   ]
  },
  {
   "cell_type": "markdown",
   "metadata": {},
   "source": [
    "## パッケージインポート"
   ]
  },
  {
   "cell_type": "code",
   "execution_count": 17,
   "metadata": {},
   "outputs": [
    {
     "name": "stdout",
     "output_type": "stream",
     "text": [
      "tensorflow ver.2.8.0\n",
      "keras ver.2.8.0\n"
     ]
    }
   ],
   "source": [
    "import tensorflow as tf\n",
    "from tensorflow import keras\n",
    "import numpy as np\n",
    "import pandas as pd\n",
    "\n",
    "print(f'tensorflow ver.{tf.__version__}')\n",
    "print(f'keras ver.{keras.__version__}')\n",
    "\n",
    "from sklearn.datasets import fetch_california_housing\n",
    "from sklearn.model_selection import train_test_split\n",
    "from sklearn.preprocessing import StandardScaler"
   ]
  },
  {
   "cell_type": "markdown",
   "metadata": {},
   "source": [
    "## データロードと前処理"
   ]
  },
  {
   "cell_type": "markdown",
   "metadata": {},
   "source": [
    "###  データロード（sklearn.datasets.fetch_california_housing）"
   ]
  },
  {
   "cell_type": "code",
   "execution_count": 18,
   "metadata": {},
   "outputs": [],
   "source": [
    "housing = fetch_california_housing()\n",
    "\n",
    "x_train_full, x_test, y_train_full, y_test = train_test_split(housing.data, housing.target)"
   ]
  },
  {
   "cell_type": "markdown",
   "metadata": {},
   "source": [
    "### validation分割"
   ]
  },
  {
   "cell_type": "code",
   "execution_count": 19,
   "metadata": {},
   "outputs": [
    {
     "name": "stdout",
     "output_type": "stream",
     "text": [
      "x_train.shape : (11610, 8)\n",
      "y_train.shape : (11610,)\n",
      "x_valid.shape : (3870, 8)\n",
      "y_valid.shape : (3870,)\n"
     ]
    }
   ],
   "source": [
    "x_train, x_valid, y_train, y_valid = train_test_split(x_train_full, y_train_full)\n",
    "\n",
    "# データサイズを確認\n",
    "print(f'x_train.shape : {x_train.shape}')\n",
    "print(f'y_train.shape : {y_train.shape}')\n",
    "print(f'x_valid.shape : {x_valid.shape}')\n",
    "print(f'y_valid.shape : {y_valid.shape}')"
   ]
  },
  {
   "cell_type": "markdown",
   "metadata": {},
   "source": [
    "trainデータを確認"
   ]
  },
  {
   "cell_type": "code",
   "execution_count": 20,
   "metadata": {},
   "outputs": [
    {
     "data": {
      "text/html": [
       "<div>\n",
       "<style scoped>\n",
       "    .dataframe tbody tr th:only-of-type {\n",
       "        vertical-align: middle;\n",
       "    }\n",
       "\n",
       "    .dataframe tbody tr th {\n",
       "        vertical-align: top;\n",
       "    }\n",
       "\n",
       "    .dataframe thead th {\n",
       "        text-align: right;\n",
       "    }\n",
       "</style>\n",
       "<table border=\"1\" class=\"dataframe\">\n",
       "  <thead>\n",
       "    <tr style=\"text-align: right;\">\n",
       "      <th></th>\n",
       "      <th>MedInc</th>\n",
       "      <th>HouseAge</th>\n",
       "      <th>AveRooms</th>\n",
       "      <th>AveBedrms</th>\n",
       "      <th>Population</th>\n",
       "      <th>AveOccup</th>\n",
       "      <th>Latitude</th>\n",
       "      <th>Longitude</th>\n",
       "    </tr>\n",
       "  </thead>\n",
       "  <tbody>\n",
       "    <tr>\n",
       "      <th>0</th>\n",
       "      <td>2.7639</td>\n",
       "      <td>9.0</td>\n",
       "      <td>8.758621</td>\n",
       "      <td>1.724138</td>\n",
       "      <td>66.0</td>\n",
       "      <td>2.275862</td>\n",
       "      <td>39.04</td>\n",
       "      <td>-122.69</td>\n",
       "    </tr>\n",
       "    <tr>\n",
       "      <th>1</th>\n",
       "      <td>2.8812</td>\n",
       "      <td>23.0</td>\n",
       "      <td>5.064272</td>\n",
       "      <td>1.032136</td>\n",
       "      <td>1424.0</td>\n",
       "      <td>2.691871</td>\n",
       "      <td>39.93</td>\n",
       "      <td>-120.90</td>\n",
       "    </tr>\n",
       "    <tr>\n",
       "      <th>2</th>\n",
       "      <td>7.7360</td>\n",
       "      <td>21.0</td>\n",
       "      <td>7.000000</td>\n",
       "      <td>1.046921</td>\n",
       "      <td>913.0</td>\n",
       "      <td>2.677419</td>\n",
       "      <td>37.11</td>\n",
       "      <td>-121.95</td>\n",
       "    </tr>\n",
       "    <tr>\n",
       "      <th>3</th>\n",
       "      <td>4.9880</td>\n",
       "      <td>4.0</td>\n",
       "      <td>6.020027</td>\n",
       "      <td>1.049399</td>\n",
       "      <td>4438.0</td>\n",
       "      <td>2.962617</td>\n",
       "      <td>32.95</td>\n",
       "      <td>-117.12</td>\n",
       "    </tr>\n",
       "    <tr>\n",
       "      <th>4</th>\n",
       "      <td>2.7159</td>\n",
       "      <td>45.0</td>\n",
       "      <td>5.306590</td>\n",
       "      <td>1.126074</td>\n",
       "      <td>1132.0</td>\n",
       "      <td>3.243553</td>\n",
       "      <td>37.77</td>\n",
       "      <td>-122.19</td>\n",
       "    </tr>\n",
       "    <tr>\n",
       "      <th>...</th>\n",
       "      <td>...</td>\n",
       "      <td>...</td>\n",
       "      <td>...</td>\n",
       "      <td>...</td>\n",
       "      <td>...</td>\n",
       "      <td>...</td>\n",
       "      <td>...</td>\n",
       "      <td>...</td>\n",
       "    </tr>\n",
       "    <tr>\n",
       "      <th>11605</th>\n",
       "      <td>4.9028</td>\n",
       "      <td>14.0</td>\n",
       "      <td>6.372152</td>\n",
       "      <td>1.008861</td>\n",
       "      <td>2124.0</td>\n",
       "      <td>2.688608</td>\n",
       "      <td>37.10</td>\n",
       "      <td>-121.63</td>\n",
       "    </tr>\n",
       "    <tr>\n",
       "      <th>11606</th>\n",
       "      <td>4.5300</td>\n",
       "      <td>22.0</td>\n",
       "      <td>5.181195</td>\n",
       "      <td>1.032321</td>\n",
       "      <td>2812.0</td>\n",
       "      <td>2.754163</td>\n",
       "      <td>33.83</td>\n",
       "      <td>-118.06</td>\n",
       "    </tr>\n",
       "    <tr>\n",
       "      <th>11607</th>\n",
       "      <td>3.6125</td>\n",
       "      <td>15.0</td>\n",
       "      <td>5.917808</td>\n",
       "      <td>1.191781</td>\n",
       "      <td>208.0</td>\n",
       "      <td>2.849315</td>\n",
       "      <td>38.53</td>\n",
       "      <td>-120.59</td>\n",
       "    </tr>\n",
       "    <tr>\n",
       "      <th>11608</th>\n",
       "      <td>2.4659</td>\n",
       "      <td>45.0</td>\n",
       "      <td>5.573668</td>\n",
       "      <td>1.062696</td>\n",
       "      <td>839.0</td>\n",
       "      <td>2.630094</td>\n",
       "      <td>38.35</td>\n",
       "      <td>-121.99</td>\n",
       "    </tr>\n",
       "    <tr>\n",
       "      <th>11609</th>\n",
       "      <td>4.6167</td>\n",
       "      <td>11.0</td>\n",
       "      <td>4.694836</td>\n",
       "      <td>0.917840</td>\n",
       "      <td>1503.0</td>\n",
       "      <td>3.528169</td>\n",
       "      <td>34.09</td>\n",
       "      <td>-117.61</td>\n",
       "    </tr>\n",
       "  </tbody>\n",
       "</table>\n",
       "<p>11610 rows × 8 columns</p>\n",
       "</div>"
      ],
      "text/plain": [
       "       MedInc  HouseAge  AveRooms  AveBedrms  Population  AveOccup  Latitude  \\\n",
       "0      2.7639       9.0  8.758621   1.724138        66.0  2.275862     39.04   \n",
       "1      2.8812      23.0  5.064272   1.032136      1424.0  2.691871     39.93   \n",
       "2      7.7360      21.0  7.000000   1.046921       913.0  2.677419     37.11   \n",
       "3      4.9880       4.0  6.020027   1.049399      4438.0  2.962617     32.95   \n",
       "4      2.7159      45.0  5.306590   1.126074      1132.0  3.243553     37.77   \n",
       "...       ...       ...       ...        ...         ...       ...       ...   \n",
       "11605  4.9028      14.0  6.372152   1.008861      2124.0  2.688608     37.10   \n",
       "11606  4.5300      22.0  5.181195   1.032321      2812.0  2.754163     33.83   \n",
       "11607  3.6125      15.0  5.917808   1.191781       208.0  2.849315     38.53   \n",
       "11608  2.4659      45.0  5.573668   1.062696       839.0  2.630094     38.35   \n",
       "11609  4.6167      11.0  4.694836   0.917840      1503.0  3.528169     34.09   \n",
       "\n",
       "       Longitude  \n",
       "0        -122.69  \n",
       "1        -120.90  \n",
       "2        -121.95  \n",
       "3        -117.12  \n",
       "4        -122.19  \n",
       "...          ...  \n",
       "11605    -121.63  \n",
       "11606    -118.06  \n",
       "11607    -120.59  \n",
       "11608    -121.99  \n",
       "11609    -117.61  \n",
       "\n",
       "[11610 rows x 8 columns]"
      ]
     },
     "metadata": {},
     "output_type": "display_data"
    },
    {
     "name": "stdout",
     "output_type": "stream",
     "text": [
      "<class 'pandas.core.frame.DataFrame'>\n",
      "RangeIndex: 11610 entries, 0 to 11609\n",
      "Data columns (total 8 columns):\n",
      " #   Column      Non-Null Count  Dtype  \n",
      "---  ------      --------------  -----  \n",
      " 0   MedInc      11610 non-null  float64\n",
      " 1   HouseAge    11610 non-null  float64\n",
      " 2   AveRooms    11610 non-null  float64\n",
      " 3   AveBedrms   11610 non-null  float64\n",
      " 4   Population  11610 non-null  float64\n",
      " 5   AveOccup    11610 non-null  float64\n",
      " 6   Latitude    11610 non-null  float64\n",
      " 7   Longitude   11610 non-null  float64\n",
      "dtypes: float64(8)\n",
      "memory usage: 725.8 KB\n"
     ]
    },
    {
     "data": {
      "text/html": [
       "<div>\n",
       "<style scoped>\n",
       "    .dataframe tbody tr th:only-of-type {\n",
       "        vertical-align: middle;\n",
       "    }\n",
       "\n",
       "    .dataframe tbody tr th {\n",
       "        vertical-align: top;\n",
       "    }\n",
       "\n",
       "    .dataframe thead th {\n",
       "        text-align: right;\n",
       "    }\n",
       "</style>\n",
       "<table border=\"1\" class=\"dataframe\">\n",
       "  <thead>\n",
       "    <tr style=\"text-align: right;\">\n",
       "      <th></th>\n",
       "      <th>MedInc</th>\n",
       "      <th>HouseAge</th>\n",
       "      <th>AveRooms</th>\n",
       "      <th>AveBedrms</th>\n",
       "      <th>Population</th>\n",
       "      <th>AveOccup</th>\n",
       "      <th>Latitude</th>\n",
       "      <th>Longitude</th>\n",
       "    </tr>\n",
       "  </thead>\n",
       "  <tbody>\n",
       "    <tr>\n",
       "      <th>count</th>\n",
       "      <td>11610.000000</td>\n",
       "      <td>11610.000000</td>\n",
       "      <td>11610.000000</td>\n",
       "      <td>11610.000000</td>\n",
       "      <td>11610.000000</td>\n",
       "      <td>11610.000000</td>\n",
       "      <td>11610.000000</td>\n",
       "      <td>11610.000000</td>\n",
       "    </tr>\n",
       "    <tr>\n",
       "      <th>mean</th>\n",
       "      <td>3.871197</td>\n",
       "      <td>28.535573</td>\n",
       "      <td>5.418077</td>\n",
       "      <td>1.094453</td>\n",
       "      <td>1426.556503</td>\n",
       "      <td>3.047560</td>\n",
       "      <td>35.626552</td>\n",
       "      <td>-119.567388</td>\n",
       "    </tr>\n",
       "    <tr>\n",
       "      <th>std</th>\n",
       "      <td>1.895562</td>\n",
       "      <td>12.583297</td>\n",
       "      <td>2.408378</td>\n",
       "      <td>0.483486</td>\n",
       "      <td>1104.296288</td>\n",
       "      <td>11.555917</td>\n",
       "      <td>2.123165</td>\n",
       "      <td>1.997852</td>\n",
       "    </tr>\n",
       "    <tr>\n",
       "      <th>min</th>\n",
       "      <td>0.499900</td>\n",
       "      <td>1.000000</td>\n",
       "      <td>0.846154</td>\n",
       "      <td>0.333333</td>\n",
       "      <td>3.000000</td>\n",
       "      <td>0.692308</td>\n",
       "      <td>32.560000</td>\n",
       "      <td>-124.350000</td>\n",
       "    </tr>\n",
       "    <tr>\n",
       "      <th>25%</th>\n",
       "      <td>2.573050</td>\n",
       "      <td>18.000000</td>\n",
       "      <td>4.440930</td>\n",
       "      <td>1.005722</td>\n",
       "      <td>788.000000</td>\n",
       "      <td>2.422020</td>\n",
       "      <td>33.930000</td>\n",
       "      <td>-121.780000</td>\n",
       "    </tr>\n",
       "    <tr>\n",
       "      <th>50%</th>\n",
       "      <td>3.539100</td>\n",
       "      <td>29.000000</td>\n",
       "      <td>5.219590</td>\n",
       "      <td>1.048309</td>\n",
       "      <td>1175.000000</td>\n",
       "      <td>2.816946</td>\n",
       "      <td>34.260000</td>\n",
       "      <td>-118.500000</td>\n",
       "    </tr>\n",
       "    <tr>\n",
       "      <th>75%</th>\n",
       "      <td>4.729300</td>\n",
       "      <td>37.000000</td>\n",
       "      <td>6.036542</td>\n",
       "      <td>1.098186</td>\n",
       "      <td>1726.000000</td>\n",
       "      <td>3.280752</td>\n",
       "      <td>37.710000</td>\n",
       "      <td>-118.010000</td>\n",
       "    </tr>\n",
       "    <tr>\n",
       "      <th>max</th>\n",
       "      <td>15.000100</td>\n",
       "      <td>52.000000</td>\n",
       "      <td>132.533333</td>\n",
       "      <td>34.066667</td>\n",
       "      <td>28566.000000</td>\n",
       "      <td>1243.333333</td>\n",
       "      <td>41.920000</td>\n",
       "      <td>-114.310000</td>\n",
       "    </tr>\n",
       "  </tbody>\n",
       "</table>\n",
       "</div>"
      ],
      "text/plain": [
       "             MedInc      HouseAge      AveRooms     AveBedrms    Population  \\\n",
       "count  11610.000000  11610.000000  11610.000000  11610.000000  11610.000000   \n",
       "mean       3.871197     28.535573      5.418077      1.094453   1426.556503   \n",
       "std        1.895562     12.583297      2.408378      0.483486   1104.296288   \n",
       "min        0.499900      1.000000      0.846154      0.333333      3.000000   \n",
       "25%        2.573050     18.000000      4.440930      1.005722    788.000000   \n",
       "50%        3.539100     29.000000      5.219590      1.048309   1175.000000   \n",
       "75%        4.729300     37.000000      6.036542      1.098186   1726.000000   \n",
       "max       15.000100     52.000000    132.533333     34.066667  28566.000000   \n",
       "\n",
       "           AveOccup      Latitude     Longitude  \n",
       "count  11610.000000  11610.000000  11610.000000  \n",
       "mean       3.047560     35.626552   -119.567388  \n",
       "std       11.555917      2.123165      1.997852  \n",
       "min        0.692308     32.560000   -124.350000  \n",
       "25%        2.422020     33.930000   -121.780000  \n",
       "50%        2.816946     34.260000   -118.500000  \n",
       "75%        3.280752     37.710000   -118.010000  \n",
       "max     1243.333333     41.920000   -114.310000  "
      ]
     },
     "execution_count": 20,
     "metadata": {},
     "output_type": "execute_result"
    }
   ],
   "source": [
    "pd_x_train = pd.DataFrame(x_train, columns=housing.feature_names)\n",
    "display(pd_x_train)\n",
    "pd_x_train.info()\n",
    "pd_x_train.describe()"
   ]
  },
  {
   "cell_type": "markdown",
   "metadata": {},
   "source": [
    "### 前処理"
   ]
  },
  {
   "cell_type": "markdown",
   "metadata": {},
   "source": [
    "#### スケーリング"
   ]
  },
  {
   "cell_type": "markdown",
   "metadata": {},
   "source": [
    "### [StandardScaler](https://scikit-learn.org/stable/modules/generated/sklearn.preprocessing.StandardScaler.html)\n",
    "データの標準化を行う。\n",
    "\n",
    "代表的なメソッドは以下：\n",
    "\n",
    "|メソッド|説明|\n",
    "|---|---|\n",
    "|fit()|標準化するための平均と分散を計算する。|\n",
    "|trasform()|（事前に計算した平均と分散を使用して）標準化を行う。|\n",
    "|fit_transform()|平均と分散を計算し、標準化を行う。|"
   ]
  },
  {
   "cell_type": "code",
   "execution_count": 21,
   "metadata": {},
   "outputs": [],
   "source": [
    "scaler = StandardScaler()\n",
    "\n",
    "x_train = scaler.fit_transform(x_train)\n",
    "x_valid = scaler.transform(x_valid)  # x_trainの平均・分散を使用する（のはなぜ？）\n",
    "x_test = scaler.transform(x_test)  # x_trainの平均・分散を使用する（のはなぜ？）"
   ]
  },
  {
   "cell_type": "markdown",
   "metadata": {},
   "source": [
    "#### inputデータ分割"
   ]
  },
  {
   "cell_type": "code",
   "execution_count": 22,
   "metadata": {},
   "outputs": [],
   "source": [
    "# ワイドパス、ディープパス用で分割\n",
    "x_train_A, x_train_B = x_train[:, :5], x_train[:, 2:]\n",
    "x_valid_A, x_valid_B = x_valid[:, :5], x_valid[:, 2:]\n",
    "x_test_A, x_test_B = x_test[:, :5], x_test[:, 2:]"
   ]
  },
  {
   "cell_type": "markdown",
   "metadata": {},
   "source": [
    "## モデル作成"
   ]
  },
  {
   "cell_type": "markdown",
   "metadata": {},
   "source": [
    "### レイヤ構成を定義"
   ]
  },
  {
   "cell_type": "code",
   "execution_count": 23,
   "metadata": {},
   "outputs": [],
   "source": [
    "class WideAndDeepModel(keras.models.Model):\n",
    "    def __init__(self, units=30, activation='relu', **kwargs):\n",
    "        # super().__init__(**kwargs)  # handles standard args (ex : name)\n",
    "        super().__init__(**kwargs)  # 標準引数(ex : name)を処理する←これ2回いる？\n",
    "        self.hidden1 = keras.layers.Dense(units, activation=activation)\n",
    "        self.hidden2 = keras.layers.Dense(units, activation=activation)\n",
    "        self.main_output = keras.layers.Dense(1)  # keras.Model.output属性があるので競合しないように\n",
    "        self.aux_output = keras.layers.Dense(1)\n",
    "\n",
    "    def call(self, inputs):\n",
    "        input_A, input_B = inputs\n",
    "        hidden_1 = self.hidden1(input_B)\n",
    "        hidden_2 = self.hidden2(hidden_1)\n",
    "        concat = keras.layers.concatenate([input_A, hidden_2])\n",
    "        main_output = self.main_output(concat)\n",
    "        aux_output = self.aux_output(hidden_2)\n",
    "        return main_output, aux_output\n",
    "\n",
    "model = WideAndDeepModel(units=30, activation='relu')\n"
   ]
  },
  {
   "cell_type": "markdown",
   "metadata": {},
   "source": [
    "この例では関数型APIとよく似ているが、input層を作る必要がないところが異なる。<br>\n",
    "またコンストラクタ内で層を作成しcallメソッドの中で層の利用の仕方を実装するため、層の作成と利用を分離出来る。<br>\n",
    "これにより関数型APIよりも柔軟にモデル作成が出来る。"
   ]
  },
  {
   "cell_type": "markdown",
   "metadata": {},
   "source": [
    "## モデルのコンパイル"
   ]
  },
  {
   "cell_type": "markdown",
   "metadata": {},
   "source": [
    "柔軟さの代償もある。<br>\n",
    "モデルのアーキテクチャがcallメソッドに隠されてしまうため、Kerasが簡単にモデルを精査できなくなる。<br>\n",
    "また、保存やクローン作成もできなくなる。<br>\n",
    "summaryメソッドを呼び出しても層のリストは得られるが接続情報は得られない。"
   ]
  },
  {
   "cell_type": "code",
   "execution_count": 33,
   "metadata": {},
   "outputs": [
    {
     "name": "stdout",
     "output_type": "stream",
     "text": [
      "Model: \"wide_and_deep_model_1\"\n",
      "_________________________________________________________________\n",
      " Layer (type)                Output Shape              Param #   \n",
      "=================================================================\n",
      " dense_4 (Dense)             multiple                  210       \n",
      "                                                                 \n",
      " dense_5 (Dense)             multiple                  930       \n",
      "                                                                 \n",
      " dense_6 (Dense)             multiple                  36        \n",
      "                                                                 \n",
      " dense_7 (Dense)             multiple                  31        \n",
      "                                                                 \n",
      "=================================================================\n",
      "Total params: 1,207\n",
      "Trainable params: 1,207\n",
      "Non-trainable params: 0\n",
      "_________________________________________________________________\n"
     ]
    }
   ],
   "source": [
    "model.compile(loss=\"mse\", loss_weights=[0.9, 0.1], optimizer=keras.optimizers.SGD())\n",
    "\n",
    "model.summary()  # errorになる"
   ]
  },
  {
   "cell_type": "markdown",
   "metadata": {},
   "source": [
    "# 学習と評価"
   ]
  },
  {
   "cell_type": "markdown",
   "metadata": {},
   "source": [
    "### コールバック設定"
   ]
  },
  {
   "cell_type": "code",
   "execution_count": 25,
   "metadata": {},
   "outputs": [],
   "source": [
    "# 早期打ち切りのコールバック関数\n",
    "# 学習打ち切り時に性能が最高だった時の重みを復元するので最良モデルの保存と復元は不要\n",
    "early_stopping_cb = keras.callbacks.EarlyStopping(patience=10, restore_best_weights=True)  # patienceで指定したエポック数学習が進まなかったときに学習を打ち切る"
   ]
  },
  {
   "cell_type": "code",
   "execution_count": 26,
   "metadata": {},
   "outputs": [],
   "source": [
    "class PrintValTrainRatioCallback(keras.callbacks.Callback):\n",
    "    def on_epoch_end(self, epoch, logs):\n",
    "        print(\"\\nval/train: {:.2f}\".format(logs[\"val_loss\"] / logs[\"loss\"]))\n",
    "\n",
    "print_valid_train_ration_cb = PrintValTrainRatioCallback()"
   ]
  },
  {
   "cell_type": "code",
   "execution_count": 27,
   "metadata": {},
   "outputs": [],
   "source": [
    "import os\n",
    "\n",
    "# ログ出力のルートディレクトリ\n",
    "root_dir = os.path.join(os.curdir, 'my_logs')\n",
    "\n",
    "# ログディレクトリ名を生成する関数\n",
    "def get_run_logdir():\n",
    "    import time\n",
    "    run_id = time.strftime('run_%Y_%m_%d-%H_%M_%S')\n",
    "    return os.path.join(root_dir, run_id)\n",
    "\n",
    "run_logdir = get_run_logdir()\n",
    "\n",
    "tensorboard_cb = keras.callbacks.TensorBoard(run_logdir)"
   ]
  },
  {
   "cell_type": "markdown",
   "metadata": {},
   "source": [
    "## 学習"
   ]
  },
  {
   "cell_type": "markdown",
   "metadata": {},
   "source": [
    "学習時もそれぞれの出力に対してラベルを指定する必要がある。<br>\n",
    "今回の例では両方同じものを予測しているので同じラベルを渡す。"
   ]
  },
  {
   "cell_type": "code",
   "execution_count": 28,
   "metadata": {},
   "outputs": [
    {
     "name": "stdout",
     "output_type": "stream",
     "text": [
      "Epoch 1/10\n",
      "  1/363 [..............................] - ETA: 3:14 - loss: 7.7339 - output_1_loss: 7.8230 - output_2_loss: 6.9323WARNING:tensorflow:Callback method `on_train_batch_end` is slow compared to the batch time (batch time: 0.0012s vs `on_train_batch_end` time: 0.0022s). Check your callbacks.\n",
      "359/363 [============================>.] - ETA: 0s - loss: 1.5777 - output_1_loss: 1.5249 - output_2_loss: 2.0524\n",
      "val/train: 1.09\n",
      "363/363 [==============================] - 1s 3ms/step - loss: 1.5793 - output_1_loss: 1.5275 - output_2_loss: 2.0458 - val_loss: 1.7264 - val_output_1_loss: 1.7692 - val_output_2_loss: 1.3417\n",
      "Epoch 2/10\n",
      "357/363 [============================>.] - ETA: 0s - loss: 0.8197 - output_1_loss: 0.7922 - output_2_loss: 1.0670\n",
      "val/train: 0.72\n",
      "363/363 [==============================] - 1s 2ms/step - loss: 0.8151 - output_1_loss: 0.7873 - output_2_loss: 1.0656 - val_loss: 0.5877 - val_output_1_loss: 0.5385 - val_output_2_loss: 1.0311\n",
      "Epoch 3/10\n",
      "343/363 [===========================>..] - ETA: 0s - loss: 0.5381 - output_1_loss: 0.4968 - output_2_loss: 0.9101\n",
      "val/train: 1.08\n",
      "363/363 [==============================] - 0s 1ms/step - loss: 0.5378 - output_1_loss: 0.4963 - output_2_loss: 0.9113 - val_loss: 0.5823 - val_output_1_loss: 0.5486 - val_output_2_loss: 0.8852\n",
      "Epoch 4/10\n",
      "318/363 [=========================>....] - ETA: 0s - loss: 0.5647 - output_1_loss: 0.5351 - output_2_loss: 0.8305\n",
      "val/train: 1.49\n",
      "363/363 [==============================] - 0s 1ms/step - loss: 0.5536 - output_1_loss: 0.5238 - output_2_loss: 0.8215 - val_loss: 0.8223 - val_output_1_loss: 0.8224 - val_output_2_loss: 0.8215\n",
      "Epoch 5/10\n",
      "321/363 [=========================>....] - ETA: 0s - loss: 0.9378 - output_1_loss: 0.9528 - output_2_loss: 0.8030\n",
      "val/train: 0.59\n",
      "363/363 [==============================] - 0s 1ms/step - loss: 0.8916 - output_1_loss: 0.9022 - output_2_loss: 0.7960 - val_loss: 0.5262 - val_output_1_loss: 0.4956 - val_output_2_loss: 0.8021\n",
      "Epoch 6/10\n",
      "322/363 [=========================>....] - ETA: 0s - loss: 0.4867 - output_1_loss: 0.4610 - output_2_loss: 0.7186\n",
      "val/train: 1.02\n",
      "363/363 [==============================] - 1s 1ms/step - loss: 0.4870 - output_1_loss: 0.4613 - output_2_loss: 0.7181 - val_loss: 0.4962 - val_output_1_loss: 0.4706 - val_output_2_loss: 0.7267\n",
      "Epoch 7/10\n",
      "351/363 [============================>.] - ETA: 0s - loss: 0.4659 - output_1_loss: 0.4427 - output_2_loss: 0.6750\n",
      "val/train: 1.03\n",
      "363/363 [==============================] - 1s 1ms/step - loss: 0.4661 - output_1_loss: 0.4429 - output_2_loss: 0.6752 - val_loss: 0.4793 - val_output_1_loss: 0.4550 - val_output_2_loss: 0.6980\n",
      "Epoch 8/10\n",
      "354/363 [============================>.] - ETA: 0s - loss: 0.4517 - output_1_loss: 0.4298 - output_2_loss: 0.6494\n",
      "val/train: 1.04\n",
      "363/363 [==============================] - 0s 1ms/step - loss: 0.4506 - output_1_loss: 0.4287 - output_2_loss: 0.6483 - val_loss: 0.4707 - val_output_1_loss: 0.4468 - val_output_2_loss: 0.6853\n",
      "Epoch 9/10\n",
      "352/363 [============================>.] - ETA: 0s - loss: 0.4387 - output_1_loss: 0.4178 - output_2_loss: 0.6264\n",
      "val/train: 1.04\n",
      "363/363 [==============================] - 0s 1ms/step - loss: 0.4378 - output_1_loss: 0.4170 - output_2_loss: 0.6258 - val_loss: 0.4537 - val_output_1_loss: 0.4318 - val_output_2_loss: 0.6511\n",
      "Epoch 10/10\n",
      "336/363 [==========================>...] - ETA: 0s - loss: 0.4230 - output_1_loss: 0.4028 - output_2_loss: 0.6053\n",
      "val/train: 1.04\n",
      "363/363 [==============================] - 1s 2ms/step - loss: 0.4273 - output_1_loss: 0.4073 - output_2_loss: 0.6074 - val_loss: 0.4452 - val_output_1_loss: 0.4232 - val_output_2_loss: 0.6431\n"
     ]
    }
   ],
   "source": [
    "history = model.fit([x_train_A, x_train_B], [y_train, y_train], epochs=10, validation_data=([x_valid_A, x_valid_B], [y_valid, y_valid]), callbacks=[tensorboard_cb, early_stopping_cb, print_valid_train_ration_cb])"
   ]
  },
  {
   "cell_type": "markdown",
   "metadata": {},
   "source": [
    "## 学習結果の可視化"
   ]
  },
  {
   "cell_type": "code",
   "execution_count": 29,
   "metadata": {},
   "outputs": [
    {
     "name": "stdout",
     "output_type": "stream",
     "text": [
      "The tensorboard extension is already loaded. To reload it, use:\n",
      "  %reload_ext tensorboard\n"
     ]
    },
    {
     "data": {
      "text/plain": [
       "Reusing TensorBoard on port 6006 (pid 59349), started 0:33:31 ago. (Use '!kill 59349' to kill it.)"
      ]
     },
     "metadata": {},
     "output_type": "display_data"
    },
    {
     "data": {
      "text/html": [
       "\n",
       "      <iframe id=\"tensorboard-frame-c6304286fc49f946\" width=\"100%\" height=\"800\" frameborder=\"0\">\n",
       "      </iframe>\n",
       "      <script>\n",
       "        (function() {\n",
       "          const frame = document.getElementById(\"tensorboard-frame-c6304286fc49f946\");\n",
       "          const url = new URL(\"http://localhost\");\n",
       "          const port = 6006;\n",
       "          if (port) {\n",
       "            url.port = port;\n",
       "          }\n",
       "          frame.src = url;\n",
       "        })();\n",
       "      </script>\n",
       "    "
      ],
      "text/plain": [
       "<IPython.core.display.HTML object>"
      ]
     },
     "metadata": {},
     "output_type": "display_data"
    }
   ],
   "source": [
    "%load_ext tensorboard\n",
    "%tensorboard --logdir ./my_logs"
   ]
  },
  {
   "cell_type": "code",
   "execution_count": 30,
   "metadata": {},
   "outputs": [],
   "source": [
    "# import pandas as pd\n",
    "# import matplotlib.pyplot as plt\n",
    "# pd.DataFrame(history.history).plot(figsize=(8, 5))  # historyはエポック毎のloss, val_lossを保持する\n",
    "# plt.grid(True)\n",
    "# plt.gca().set_ylim(0, 1) # 縦の範囲を 0 から 1 までに\n",
    "# plt.show()"
   ]
  },
  {
   "cell_type": "markdown",
   "metadata": {},
   "source": [
    "## 学習結果の評価"
   ]
  },
  {
   "cell_type": "code",
   "execution_count": 31,
   "metadata": {},
   "outputs": [
    {
     "name": "stdout",
     "output_type": "stream",
     "text": [
      "162/162 [==============================] - 0s 914us/step - loss: 0.4322 - output_1_loss: 0.4120 - output_2_loss: 0.6140\n"
     ]
    },
    {
     "data": {
      "text/plain": [
       "(0.4322028160095215, 0.4120028614997864, 0.6140033602714539)"
      ]
     },
     "execution_count": 31,
     "metadata": {},
     "output_type": "execute_result"
    }
   ],
   "source": [
    "total_loss, main_loss, aux_loss = model.evaluate((x_test_A, x_test_B), (y_test, y_test))\n",
    "total_loss, main_loss, aux_loss"
   ]
  },
  {
   "cell_type": "markdown",
   "metadata": {},
   "source": [
    "# 学習済みモデルを使った予測"
   ]
  },
  {
   "cell_type": "code",
   "execution_count": 32,
   "metadata": {},
   "outputs": [
    {
     "name": "stdout",
     "output_type": "stream",
     "text": [
      "predict_main : [1.7976997 1.4637512 2.6465533]\n",
      "predict_aux : [1.8732376 1.2310947 2.2673492]\n",
      "correct : [1.663 1.144 3.5  ]\n"
     ]
    }
   ],
   "source": [
    "# サンプル用にデータサイズを限定\n",
    "x_new_A, x_new_B = x_test_A[:3], x_test_B[:3]\n",
    "\n",
    "y_pred_main, y_pred_aux = model.predict((x_new_A, x_new_B))\n",
    "print(f'predict_main : {y_pred_main.reshape(-1)}')\n",
    "print(f'predict_aux : {y_pred_aux.reshape(-1)}')\n",
    "print(f'correct : {y_test[:3]}')"
   ]
  }
 ],
 "metadata": {
  "kernelspec": {
   "display_name": "Python 3.9.7 ('.kaggle_')",
   "language": "python",
   "name": "python3"
  },
  "language_info": {
   "codemirror_mode": {
    "name": "ipython",
    "version": 3
   },
   "file_extension": ".py",
   "mimetype": "text/x-python",
   "name": "python",
   "nbconvert_exporter": "python",
   "pygments_lexer": "ipython3",
   "version": "3.9.7"
  },
  "orig_nbformat": 4,
  "vscode": {
   "interpreter": {
    "hash": "2267c7f86544334f90fd828bd0d523f9563b963bbe28c7d2d8efd515b9a10ad6"
   }
  }
 },
 "nbformat": 4,
 "nbformat_minor": 2
}

{
 "cells": [
  {
   "cell_type": "markdown",
   "metadata": {},
   "source": [
    "# 概要"
   ]
  },
  {
   "cell_type": "markdown",
   "metadata": {},
   "source": [
    "動的なニューラルネットワークモデルを作成する。<br>\n",
    "これまで扱ったSequential APIや関数型APIは宣言的であり、静的な作成方法する方法だった。これら静的なモデル作成には多くのメリットがある。\n",
    "例えばモデルの保存、クローン作成、共有、構造の表示、分析が簡単にできる。<br>\n",
    "フレームワーク側で形の推測や型チェックを行え、訓練前にエラーを見つけることが出来る。\n",
    "また、グラフ全体が静的なグラフなのでデバッグもしやすい。\n",
    "\n",
    "一方、静的なモデル作成ではループ、形の変更、条件分岐などの動的な動作が必要な場合は対応できない。<br>\n",
    "いま挙げたような命令型プログラミングのスタイルを扱うにはサブクラスAPIを使用する。"
   ]
  },
  {
   "cell_type": "markdown",
   "metadata": {},
   "source": [
    "# サブクラスAPI"
   ]
  },
  {
   "cell_type": "markdown",
   "metadata": {},
   "source": [
    "Modelクラスのサブクラスを定義する。<br>\n",
    "コンストラクタの中に必要な層を定義し、callメソッドに各層での計算を実装する。\n",
    "\n",
    "今回は関数型APIで実装した出力を複数持つワイド・アンド・ディープニューラルネットワークを実装する。"
   ]
  },
  {
   "cell_type": "markdown",
   "metadata": {},
   "source": [
    "## パッケージインポート"
   ]
  },
  {
   "cell_type": "code",
   "execution_count": 40,
   "metadata": {},
   "outputs": [
    {
     "name": "stdout",
     "output_type": "stream",
     "text": [
      "tensorflow ver.2.5.0\n",
      "keras ver.2.5.0\n"
     ]
    }
   ],
   "source": [
    "import tensorflow as tf\n",
    "from tensorflow import keras\n",
    "import numpy as np\n",
    "import pandas as pd\n",
    "\n",
    "print(f'tensorflow ver.{tf.__version__}')\n",
    "print(f'keras ver.{keras.__version__}')\n",
    "\n",
    "from sklearn.datasets import fetch_california_housing\n",
    "from sklearn.model_selection import train_test_split\n",
    "from sklearn.preprocessing import StandardScaler"
   ]
  },
  {
   "cell_type": "markdown",
   "metadata": {},
   "source": [
    "## データロードと前処理"
   ]
  },
  {
   "cell_type": "markdown",
   "metadata": {},
   "source": [
    "###  データロード（sklearn.datasets.fetch_california_housing）"
   ]
  },
  {
   "cell_type": "code",
   "execution_count": 41,
   "metadata": {},
   "outputs": [],
   "source": [
    "housing = fetch_california_housing()\n",
    "\n",
    "x_train_full, x_test, y_train_full, y_test = train_test_split(housing.data, housing.target)"
   ]
  },
  {
   "cell_type": "markdown",
   "metadata": {},
   "source": [
    "### validation分割"
   ]
  },
  {
   "cell_type": "code",
   "execution_count": 42,
   "metadata": {},
   "outputs": [
    {
     "name": "stdout",
     "output_type": "stream",
     "text": [
      "x_train.shape : (11610, 8)\n",
      "y_train.shape : (11610,)\n",
      "x_valid.shape : (3870, 8)\n",
      "y_valid.shape : (3870,)\n"
     ]
    }
   ],
   "source": [
    "x_train, x_valid, y_train, y_valid = train_test_split(x_train_full, y_train_full)\n",
    "\n",
    "# データサイズを確認\n",
    "print(f'x_train.shape : {x_train.shape}')\n",
    "print(f'y_train.shape : {y_train.shape}')\n",
    "print(f'x_valid.shape : {x_valid.shape}')\n",
    "print(f'y_valid.shape : {y_valid.shape}')"
   ]
  },
  {
   "cell_type": "markdown",
   "metadata": {},
   "source": [
    "trainデータを確認"
   ]
  },
  {
   "cell_type": "code",
   "execution_count": 43,
   "metadata": {},
   "outputs": [
    {
     "data": {
      "text/html": [
       "<div>\n",
       "<style scoped>\n",
       "    .dataframe tbody tr th:only-of-type {\n",
       "        vertical-align: middle;\n",
       "    }\n",
       "\n",
       "    .dataframe tbody tr th {\n",
       "        vertical-align: top;\n",
       "    }\n",
       "\n",
       "    .dataframe thead th {\n",
       "        text-align: right;\n",
       "    }\n",
       "</style>\n",
       "<table border=\"1\" class=\"dataframe\">\n",
       "  <thead>\n",
       "    <tr style=\"text-align: right;\">\n",
       "      <th></th>\n",
       "      <th>MedInc</th>\n",
       "      <th>HouseAge</th>\n",
       "      <th>AveRooms</th>\n",
       "      <th>AveBedrms</th>\n",
       "      <th>Population</th>\n",
       "      <th>AveOccup</th>\n",
       "      <th>Latitude</th>\n",
       "      <th>Longitude</th>\n",
       "    </tr>\n",
       "  </thead>\n",
       "  <tbody>\n",
       "    <tr>\n",
       "      <th>0</th>\n",
       "      <td>7.1035</td>\n",
       "      <td>52.0</td>\n",
       "      <td>7.269565</td>\n",
       "      <td>1.043478</td>\n",
       "      <td>832.0</td>\n",
       "      <td>2.411594</td>\n",
       "      <td>38.55</td>\n",
       "      <td>-121.48</td>\n",
       "    </tr>\n",
       "    <tr>\n",
       "      <th>1</th>\n",
       "      <td>3.1125</td>\n",
       "      <td>11.0</td>\n",
       "      <td>5.705696</td>\n",
       "      <td>1.071994</td>\n",
       "      <td>3264.0</td>\n",
       "      <td>2.582278</td>\n",
       "      <td>39.75</td>\n",
       "      <td>-121.80</td>\n",
       "    </tr>\n",
       "    <tr>\n",
       "      <th>2</th>\n",
       "      <td>5.6876</td>\n",
       "      <td>17.0</td>\n",
       "      <td>6.348266</td>\n",
       "      <td>1.024566</td>\n",
       "      <td>2292.0</td>\n",
       "      <td>3.312139</td>\n",
       "      <td>37.27</td>\n",
       "      <td>-121.86</td>\n",
       "    </tr>\n",
       "    <tr>\n",
       "      <th>3</th>\n",
       "      <td>8.2673</td>\n",
       "      <td>21.0</td>\n",
       "      <td>7.539615</td>\n",
       "      <td>0.957173</td>\n",
       "      <td>1396.0</td>\n",
       "      <td>2.989293</td>\n",
       "      <td>37.87</td>\n",
       "      <td>-122.03</td>\n",
       "    </tr>\n",
       "    <tr>\n",
       "      <th>4</th>\n",
       "      <td>3.2589</td>\n",
       "      <td>42.0</td>\n",
       "      <td>4.215116</td>\n",
       "      <td>1.063953</td>\n",
       "      <td>493.0</td>\n",
       "      <td>2.866279</td>\n",
       "      <td>33.88</td>\n",
       "      <td>-118.34</td>\n",
       "    </tr>\n",
       "    <tr>\n",
       "      <th>...</th>\n",
       "      <td>...</td>\n",
       "      <td>...</td>\n",
       "      <td>...</td>\n",
       "      <td>...</td>\n",
       "      <td>...</td>\n",
       "      <td>...</td>\n",
       "      <td>...</td>\n",
       "      <td>...</td>\n",
       "    </tr>\n",
       "    <tr>\n",
       "      <th>11605</th>\n",
       "      <td>4.1411</td>\n",
       "      <td>30.0</td>\n",
       "      <td>4.978998</td>\n",
       "      <td>0.972536</td>\n",
       "      <td>2008.0</td>\n",
       "      <td>3.243942</td>\n",
       "      <td>34.11</td>\n",
       "      <td>-117.88</td>\n",
       "    </tr>\n",
       "    <tr>\n",
       "      <th>11606</th>\n",
       "      <td>4.3958</td>\n",
       "      <td>10.0</td>\n",
       "      <td>6.154506</td>\n",
       "      <td>1.013948</td>\n",
       "      <td>3528.0</td>\n",
       "      <td>3.785408</td>\n",
       "      <td>34.09</td>\n",
       "      <td>-117.39</td>\n",
       "    </tr>\n",
       "    <tr>\n",
       "      <th>11607</th>\n",
       "      <td>3.5192</td>\n",
       "      <td>24.0</td>\n",
       "      <td>5.909707</td>\n",
       "      <td>1.094808</td>\n",
       "      <td>726.0</td>\n",
       "      <td>1.638826</td>\n",
       "      <td>33.01</td>\n",
       "      <td>-117.06</td>\n",
       "    </tr>\n",
       "    <tr>\n",
       "      <th>11608</th>\n",
       "      <td>5.3226</td>\n",
       "      <td>18.0</td>\n",
       "      <td>5.567742</td>\n",
       "      <td>0.890323</td>\n",
       "      <td>1186.0</td>\n",
       "      <td>3.825806</td>\n",
       "      <td>37.60</td>\n",
       "      <td>-122.06</td>\n",
       "    </tr>\n",
       "    <tr>\n",
       "      <th>11609</th>\n",
       "      <td>4.0556</td>\n",
       "      <td>37.0</td>\n",
       "      <td>8.833333</td>\n",
       "      <td>1.500000</td>\n",
       "      <td>27.0</td>\n",
       "      <td>2.250000</td>\n",
       "      <td>34.01</td>\n",
       "      <td>-117.09</td>\n",
       "    </tr>\n",
       "  </tbody>\n",
       "</table>\n",
       "<p>11610 rows × 8 columns</p>\n",
       "</div>"
      ],
      "text/plain": [
       "       MedInc  HouseAge  AveRooms  AveBedrms  Population  AveOccup  Latitude  \\\n",
       "0      7.1035      52.0  7.269565   1.043478       832.0  2.411594     38.55   \n",
       "1      3.1125      11.0  5.705696   1.071994      3264.0  2.582278     39.75   \n",
       "2      5.6876      17.0  6.348266   1.024566      2292.0  3.312139     37.27   \n",
       "3      8.2673      21.0  7.539615   0.957173      1396.0  2.989293     37.87   \n",
       "4      3.2589      42.0  4.215116   1.063953       493.0  2.866279     33.88   \n",
       "...       ...       ...       ...        ...         ...       ...       ...   \n",
       "11605  4.1411      30.0  4.978998   0.972536      2008.0  3.243942     34.11   \n",
       "11606  4.3958      10.0  6.154506   1.013948      3528.0  3.785408     34.09   \n",
       "11607  3.5192      24.0  5.909707   1.094808       726.0  1.638826     33.01   \n",
       "11608  5.3226      18.0  5.567742   0.890323      1186.0  3.825806     37.60   \n",
       "11609  4.0556      37.0  8.833333   1.500000        27.0  2.250000     34.01   \n",
       "\n",
       "       Longitude  \n",
       "0        -121.48  \n",
       "1        -121.80  \n",
       "2        -121.86  \n",
       "3        -122.03  \n",
       "4        -118.34  \n",
       "...          ...  \n",
       "11605    -117.88  \n",
       "11606    -117.39  \n",
       "11607    -117.06  \n",
       "11608    -122.06  \n",
       "11609    -117.09  \n",
       "\n",
       "[11610 rows x 8 columns]"
      ]
     },
     "metadata": {},
     "output_type": "display_data"
    },
    {
     "name": "stdout",
     "output_type": "stream",
     "text": [
      "<class 'pandas.core.frame.DataFrame'>\n",
      "RangeIndex: 11610 entries, 0 to 11609\n",
      "Data columns (total 8 columns):\n",
      " #   Column      Non-Null Count  Dtype  \n",
      "---  ------      --------------  -----  \n",
      " 0   MedInc      11610 non-null  float64\n",
      " 1   HouseAge    11610 non-null  float64\n",
      " 2   AveRooms    11610 non-null  float64\n",
      " 3   AveBedrms   11610 non-null  float64\n",
      " 4   Population  11610 non-null  float64\n",
      " 5   AveOccup    11610 non-null  float64\n",
      " 6   Latitude    11610 non-null  float64\n",
      " 7   Longitude   11610 non-null  float64\n",
      "dtypes: float64(8)\n",
      "memory usage: 725.8 KB\n"
     ]
    },
    {
     "data": {
      "text/html": [
       "<div>\n",
       "<style scoped>\n",
       "    .dataframe tbody tr th:only-of-type {\n",
       "        vertical-align: middle;\n",
       "    }\n",
       "\n",
       "    .dataframe tbody tr th {\n",
       "        vertical-align: top;\n",
       "    }\n",
       "\n",
       "    .dataframe thead th {\n",
       "        text-align: right;\n",
       "    }\n",
       "</style>\n",
       "<table border=\"1\" class=\"dataframe\">\n",
       "  <thead>\n",
       "    <tr style=\"text-align: right;\">\n",
       "      <th></th>\n",
       "      <th>MedInc</th>\n",
       "      <th>HouseAge</th>\n",
       "      <th>AveRooms</th>\n",
       "      <th>AveBedrms</th>\n",
       "      <th>Population</th>\n",
       "      <th>AveOccup</th>\n",
       "      <th>Latitude</th>\n",
       "      <th>Longitude</th>\n",
       "    </tr>\n",
       "  </thead>\n",
       "  <tbody>\n",
       "    <tr>\n",
       "      <th>count</th>\n",
       "      <td>11610.000000</td>\n",
       "      <td>11610.000000</td>\n",
       "      <td>11610.000000</td>\n",
       "      <td>11610.000000</td>\n",
       "      <td>11610.000000</td>\n",
       "      <td>11610.000000</td>\n",
       "      <td>11610.000000</td>\n",
       "      <td>11610.000000</td>\n",
       "    </tr>\n",
       "    <tr>\n",
       "      <th>mean</th>\n",
       "      <td>3.863226</td>\n",
       "      <td>28.641947</td>\n",
       "      <td>5.425370</td>\n",
       "      <td>1.094283</td>\n",
       "      <td>1421.994057</td>\n",
       "      <td>3.097217</td>\n",
       "      <td>35.641338</td>\n",
       "      <td>-119.578549</td>\n",
       "    </tr>\n",
       "    <tr>\n",
       "      <th>std</th>\n",
       "      <td>1.892678</td>\n",
       "      <td>12.588064</td>\n",
       "      <td>2.146476</td>\n",
       "      <td>0.388205</td>\n",
       "      <td>1105.357225</td>\n",
       "      <td>12.469923</td>\n",
       "      <td>2.137063</td>\n",
       "      <td>1.997922</td>\n",
       "    </tr>\n",
       "    <tr>\n",
       "      <th>min</th>\n",
       "      <td>0.499900</td>\n",
       "      <td>1.000000</td>\n",
       "      <td>0.888889</td>\n",
       "      <td>0.375000</td>\n",
       "      <td>5.000000</td>\n",
       "      <td>0.692308</td>\n",
       "      <td>32.540000</td>\n",
       "      <td>-124.270000</td>\n",
       "    </tr>\n",
       "    <tr>\n",
       "      <th>25%</th>\n",
       "      <td>2.562500</td>\n",
       "      <td>18.000000</td>\n",
       "      <td>4.447368</td>\n",
       "      <td>1.005885</td>\n",
       "      <td>782.000000</td>\n",
       "      <td>2.429296</td>\n",
       "      <td>33.940000</td>\n",
       "      <td>-121.790000</td>\n",
       "    </tr>\n",
       "    <tr>\n",
       "      <th>50%</th>\n",
       "      <td>3.531300</td>\n",
       "      <td>29.000000</td>\n",
       "      <td>5.232284</td>\n",
       "      <td>1.048327</td>\n",
       "      <td>1162.500000</td>\n",
       "      <td>2.819278</td>\n",
       "      <td>34.270000</td>\n",
       "      <td>-118.520000</td>\n",
       "    </tr>\n",
       "    <tr>\n",
       "      <th>75%</th>\n",
       "      <td>4.738100</td>\n",
       "      <td>37.000000</td>\n",
       "      <td>6.050518</td>\n",
       "      <td>1.098121</td>\n",
       "      <td>1727.000000</td>\n",
       "      <td>3.281785</td>\n",
       "      <td>37.720000</td>\n",
       "      <td>-118.020000</td>\n",
       "    </tr>\n",
       "    <tr>\n",
       "      <th>max</th>\n",
       "      <td>15.000100</td>\n",
       "      <td>52.000000</td>\n",
       "      <td>59.875000</td>\n",
       "      <td>15.312500</td>\n",
       "      <td>15507.000000</td>\n",
       "      <td>1243.333333</td>\n",
       "      <td>41.920000</td>\n",
       "      <td>-114.310000</td>\n",
       "    </tr>\n",
       "  </tbody>\n",
       "</table>\n",
       "</div>"
      ],
      "text/plain": [
       "             MedInc      HouseAge      AveRooms     AveBedrms    Population  \\\n",
       "count  11610.000000  11610.000000  11610.000000  11610.000000  11610.000000   \n",
       "mean       3.863226     28.641947      5.425370      1.094283   1421.994057   \n",
       "std        1.892678     12.588064      2.146476      0.388205   1105.357225   \n",
       "min        0.499900      1.000000      0.888889      0.375000      5.000000   \n",
       "25%        2.562500     18.000000      4.447368      1.005885    782.000000   \n",
       "50%        3.531300     29.000000      5.232284      1.048327   1162.500000   \n",
       "75%        4.738100     37.000000      6.050518      1.098121   1727.000000   \n",
       "max       15.000100     52.000000     59.875000     15.312500  15507.000000   \n",
       "\n",
       "           AveOccup      Latitude     Longitude  \n",
       "count  11610.000000  11610.000000  11610.000000  \n",
       "mean       3.097217     35.641338   -119.578549  \n",
       "std       12.469923      2.137063      1.997922  \n",
       "min        0.692308     32.540000   -124.270000  \n",
       "25%        2.429296     33.940000   -121.790000  \n",
       "50%        2.819278     34.270000   -118.520000  \n",
       "75%        3.281785     37.720000   -118.020000  \n",
       "max     1243.333333     41.920000   -114.310000  "
      ]
     },
     "execution_count": 43,
     "metadata": {},
     "output_type": "execute_result"
    }
   ],
   "source": [
    "pd_x_train = pd.DataFrame(x_train, columns=housing.feature_names)\n",
    "display(pd_x_train)\n",
    "pd_x_train.info()\n",
    "pd_x_train.describe()"
   ]
  },
  {
   "cell_type": "markdown",
   "metadata": {},
   "source": [
    "### 前処理"
   ]
  },
  {
   "cell_type": "markdown",
   "metadata": {},
   "source": [
    "#### スケーリング"
   ]
  },
  {
   "cell_type": "markdown",
   "metadata": {},
   "source": [
    "### [StandardScaler](https://scikit-learn.org/stable/modules/generated/sklearn.preprocessing.StandardScaler.html)\n",
    "データの標準化を行う。\n",
    "\n",
    "代表的なメソッドは以下：\n",
    "\n",
    "|メソッド|説明|\n",
    "|---|---|\n",
    "|fit()|標準化するための平均と分散を計算する。|\n",
    "|trasform()|（事前に計算した平均と分散を使用して）標準化を行う。|\n",
    "|fit_transform()|平均と分散を計算し、標準化を行う。|"
   ]
  },
  {
   "cell_type": "code",
   "execution_count": 44,
   "metadata": {},
   "outputs": [],
   "source": [
    "scaler = StandardScaler()\n",
    "\n",
    "x_train = scaler.fit_transform(x_train)\n",
    "x_valid = scaler.transform(x_valid)  # x_trainの平均・分散を使用する（のはなぜ？）\n",
    "x_test = scaler.transform(x_test)  # x_trainの平均・分散を使用する（のはなぜ？）"
   ]
  },
  {
   "cell_type": "markdown",
   "metadata": {},
   "source": [
    "#### inputデータ分割"
   ]
  },
  {
   "cell_type": "code",
   "execution_count": 45,
   "metadata": {},
   "outputs": [],
   "source": [
    "# ワイドパス、ディープパス用で分割\n",
    "x_train_A, x_train_B = x_train[:, :5], x_train[:, 2:]\n",
    "x_valid_A, x_valid_B = x_valid[:, :5], x_valid[:, 2:]\n",
    "x_test_A, x_test_B = x_test[:, :5], x_test[:, 2:]"
   ]
  },
  {
   "cell_type": "markdown",
   "metadata": {},
   "source": [
    "## モデル作成"
   ]
  },
  {
   "cell_type": "markdown",
   "metadata": {},
   "source": [
    "### レイヤ構成を定義"
   ]
  },
  {
   "cell_type": "code",
   "execution_count": 46,
   "metadata": {},
   "outputs": [],
   "source": [
    "class WideAndDeepModel(keras.models.Model):\n",
    "    def __init__(self, units=30, activation='relu', **kwargs):\n",
    "        # super().__init__(**kwargs)  # handles standard args (ex : name)\n",
    "        super().__init__(**kwargs)  # 標準引数(ex : name)を処理する←これ2回いる？\n",
    "        self.hidden1 = keras.layers.Dense(units, activation=activation)\n",
    "        self.hidden2 = keras.layers.Dense(units, activation=activation)\n",
    "        self.main_output = keras.layers.Dense(1)  # keras.Model.output属性があるので競合しないように\n",
    "        self.aux_output = keras.layers.Dense(1)\n",
    "\n",
    "    def call(self, inputs):\n",
    "        input_A, input_B = inputs\n",
    "        hidden_1 = self.hidden1(input_B)\n",
    "        hidden_2 = self.hidden2(hidden_1)\n",
    "        concat = keras.layers.concatenate([input_A, hidden_2])\n",
    "        main_output = self.main_output(concat)\n",
    "        aux_output = self.aux_output(hidden_2)\n",
    "        return main_output, aux_output\n",
    "\n",
    "model = WideAndDeepModel(units=30, activation='relu')\n"
   ]
  },
  {
   "cell_type": "markdown",
   "metadata": {},
   "source": [
    "この例では関数型APIとよく似ているが、input層を作る必要がないところが異なる。<br>\n",
    "またコンストラクタ内で層を作成しcallメソッドの中で層の利用の仕方を実装するため、層の作成と利用を分離出来る。<br>\n",
    "これにより関数型APIよりも柔軟にモデル作成が出来る。"
   ]
  },
  {
   "cell_type": "markdown",
   "metadata": {},
   "source": [
    "## モデルのコンパイル"
   ]
  },
  {
   "cell_type": "markdown",
   "metadata": {},
   "source": [
    "柔軟さの代償もある。<br>\n",
    "モデルのアーキテクチャがcallメソッドに隠されてしまうため、Kerasが簡単にモデルを精査できなくなる。<br>\n",
    "また、保存やクローン作成もできなくなる。<br>\n",
    "summaryメソッドを呼び出しても層のリストは得られるが接続情報は得られない。"
   ]
  },
  {
   "cell_type": "code",
   "execution_count": 47,
   "metadata": {},
   "outputs": [],
   "source": [
    "model.compile(loss=\"mse\", loss_weights=[0.9, 0.1], optimizer=keras.optimizers.SGD())\n",
    "\n",
    "# model.summary()  # errorになる"
   ]
  },
  {
   "cell_type": "markdown",
   "metadata": {},
   "source": [
    "# 学習と評価"
   ]
  },
  {
   "cell_type": "markdown",
   "metadata": {},
   "source": [
    "### コールバック設定"
   ]
  },
  {
   "cell_type": "code",
   "execution_count": 48,
   "metadata": {},
   "outputs": [],
   "source": [
    "# 早期打ち切りのコールバック関数\n",
    "# 学習打ち切り時に性能が最高だった時の重みを復元するので最良モデルの保存と復元は不要\n",
    "early_stopping_cb = keras.callbacks.EarlyStopping(patience=10, restore_best_weights=True)  # patienceで指定したエポック数学習が進まなかったときに学習を打ち切る"
   ]
  },
  {
   "cell_type": "code",
   "execution_count": 49,
   "metadata": {},
   "outputs": [],
   "source": [
    "class PrintValTrainRatioCallback(keras.callbacks.Callback):\n",
    "    def on_epoch_end(self, epoch, logs):\n",
    "        print(\"\\nval/train: {:.2f}\".format(logs[\"val_loss\"] / logs[\"loss\"]))\n",
    "\n",
    "print_valid_train_ration_cb = PrintValTrainRatioCallback()"
   ]
  },
  {
   "cell_type": "code",
   "execution_count": 50,
   "metadata": {},
   "outputs": [],
   "source": [
    "import os\n",
    "\n",
    "# ログ出力のルートディレクトリ\n",
    "root_dir = os.path.join(os.curdir, 'my_logs')\n",
    "\n",
    "# ログディレクトリ名を生成する関数\n",
    "def get_run_logdir():\n",
    "    import time\n",
    "    run_id = time.strftime('run_%Y_%m_%d-%H_%M_%S')\n",
    "    return os.path.join(root_dir, run_id)\n",
    "\n",
    "run_logdir = get_run_logdir()\n",
    "\n",
    "tensorboard_cb = keras.callbacks.TensorBoard(run_logdir)"
   ]
  },
  {
   "cell_type": "markdown",
   "metadata": {},
   "source": [
    "## 学習"
   ]
  },
  {
   "cell_type": "markdown",
   "metadata": {},
   "source": [
    "学習時もそれぞれの出力に対してラベルを指定する必要がある。<br>\n",
    "今回の例では両方同じものを予測しているので同じラベルを渡す。"
   ]
  },
  {
   "cell_type": "code",
   "execution_count": 51,
   "metadata": {},
   "outputs": [
    {
     "name": "stdout",
     "output_type": "stream",
     "text": [
      "Epoch 1/10\n",
      "  3/363 [..............................] - ETA: 41s - loss: 5.8463 - output_1_loss: 5.7081 - output_2_loss: 7.0900WARNING:tensorflow:Callback method `on_train_batch_end` is slow compared to the batch time (batch time: 0.0061s vs `on_train_batch_end` time: 0.0358s). Check your callbacks.\n",
      "363/363 [==============================] - 4s 5ms/step - loss: 0.9263 - output_1_loss: 0.8003 - output_2_loss: 2.0607 - val_loss: 0.6241 - val_output_1_loss: 0.5434 - val_output_2_loss: 1.3507\n",
      "\n",
      "val/train: 0.67\n",
      "Epoch 2/10\n",
      "363/363 [==============================] - 1s 3ms/step - loss: 0.5869 - output_1_loss: 0.5167 - output_2_loss: 1.2183 - val_loss: 0.5623 - val_output_1_loss: 0.4975 - val_output_2_loss: 1.1461\n",
      "\n",
      "val/train: 0.96\n",
      "Epoch 3/10\n",
      "363/363 [==============================] - 1s 2ms/step - loss: 0.5912 - output_1_loss: 0.5401 - output_2_loss: 1.0504 - val_loss: 0.5487 - val_output_1_loss: 0.4961 - val_output_2_loss: 1.0217\n",
      "\n",
      "val/train: 0.93\n",
      "Epoch 4/10\n",
      "363/363 [==============================] - 1s 2ms/step - loss: 0.5123 - output_1_loss: 0.4688 - output_2_loss: 0.9041 - val_loss: 0.5100 - val_output_1_loss: 0.4689 - val_output_2_loss: 0.8793\n",
      "\n",
      "val/train: 1.00\n",
      "Epoch 5/10\n",
      "363/363 [==============================] - 1s 2ms/step - loss: 0.4813 - output_1_loss: 0.4466 - output_2_loss: 0.7942 - val_loss: 0.4935 - val_output_1_loss: 0.4597 - val_output_2_loss: 0.7981\n",
      "\n",
      "val/train: 1.03\n",
      "Epoch 6/10\n",
      "363/363 [==============================] - 1s 2ms/step - loss: 0.4672 - output_1_loss: 0.4383 - output_2_loss: 0.7278 - val_loss: 0.4816 - val_output_1_loss: 0.4528 - val_output_2_loss: 0.7410\n",
      "\n",
      "val/train: 1.03\n",
      "Epoch 7/10\n",
      "363/363 [==============================] - 1s 2ms/step - loss: 0.4556 - output_1_loss: 0.4300 - output_2_loss: 0.6856 - val_loss: 0.4737 - val_output_1_loss: 0.4478 - val_output_2_loss: 0.7075\n",
      "\n",
      "val/train: 1.04\n",
      "Epoch 8/10\n",
      "363/363 [==============================] - 1s 3ms/step - loss: 0.4476 - output_1_loss: 0.4243 - output_2_loss: 0.6572 - val_loss: 0.4669 - val_output_1_loss: 0.4437 - val_output_2_loss: 0.6765\n",
      "\n",
      "val/train: 1.04\n",
      "Epoch 9/10\n",
      "363/363 [==============================] - 1s 3ms/step - loss: 0.4387 - output_1_loss: 0.4170 - output_2_loss: 0.6342 - val_loss: 0.4518 - val_output_1_loss: 0.4290 - val_output_2_loss: 0.6574\n",
      "\n",
      "val/train: 1.03\n",
      "Epoch 10/10\n",
      "363/363 [==============================] - 1s 2ms/step - loss: 0.4310 - output_1_loss: 0.4102 - output_2_loss: 0.6181 - val_loss: 0.4421 - val_output_1_loss: 0.4204 - val_output_2_loss: 0.6372\n",
      "\n",
      "val/train: 1.03\n"
     ]
    }
   ],
   "source": [
    "history = model.fit([x_train_A, x_train_B], [y_train, y_train], epochs=10, validation_data=([x_valid_A, x_valid_B], [y_valid, y_valid]), callbacks=[tensorboard_cb, early_stopping_cb, print_valid_train_ration_cb])"
   ]
  },
  {
   "cell_type": "markdown",
   "metadata": {},
   "source": [
    "## 学習結果の可視化"
   ]
  },
  {
   "cell_type": "code",
   "execution_count": 52,
   "metadata": {},
   "outputs": [
    {
     "data": {
      "text/plain": [
       "Reusing TensorBoard on port 6006 (pid 29808), started 1:29:14 ago. (Use '!kill 29808' to kill it.)"
      ]
     },
     "metadata": {},
     "output_type": "display_data"
    },
    {
     "data": {
      "text/html": [
       "\n",
       "      <iframe id=\"tensorboard-frame-75424ddd1dc1f821\" width=\"100%\" height=\"800\" frameborder=\"0\">\n",
       "      </iframe>\n",
       "      <script>\n",
       "        (function() {\n",
       "          const frame = document.getElementById(\"tensorboard-frame-75424ddd1dc1f821\");\n",
       "          const url = new URL(\"http://localhost\");\n",
       "          const port = 6006;\n",
       "          if (port) {\n",
       "            url.port = port;\n",
       "          }\n",
       "          frame.src = url;\n",
       "        })();\n",
       "      </script>\n",
       "    "
      ],
      "text/plain": [
       "<IPython.core.display.HTML object>"
      ]
     },
     "metadata": {},
     "output_type": "display_data"
    }
   ],
   "source": [
    "%load_ext tensorboard\n",
    "%tensorboard --logdir ./my_logs"
   ]
  },
  {
   "cell_type": "code",
   "execution_count": 53,
   "metadata": {},
   "outputs": [],
   "source": [
    "# import pandas as pd\n",
    "# import matplotlib.pyplot as plt\n",
    "# pd.DataFrame(history.history).plot(figsize=(8, 5))  # historyはエポック毎のloss, val_lossを保持する\n",
    "# plt.grid(True)\n",
    "# plt.gca().set_ylim(0, 1) # 縦の範囲を 0 から 1 までに\n",
    "# plt.show()"
   ]
  },
  {
   "cell_type": "markdown",
   "metadata": {},
   "source": [
    "## 学習結果の評価"
   ]
  },
  {
   "cell_type": "code",
   "execution_count": 54,
   "metadata": {},
   "outputs": [
    {
     "name": "stdout",
     "output_type": "stream",
     "text": [
      "162/162 [==============================] - 0s 1ms/step - loss: 0.4531 - output_1_loss: 0.4338 - output_2_loss: 0.6266\n"
     ]
    },
    {
     "data": {
      "text/plain": [
       "(0.45308640599250793, 0.4338088035583496, 0.6265859007835388)"
      ]
     },
     "execution_count": 54,
     "metadata": {},
     "output_type": "execute_result"
    }
   ],
   "source": [
    "total_loss, main_loss, aux_loss = model.evaluate((x_test_A, x_test_B), (y_test, y_test))\n",
    "total_loss, main_loss, aux_loss"
   ]
  },
  {
   "cell_type": "markdown",
   "metadata": {},
   "source": [
    "# 学習済みモデルを使った予測"
   ]
  },
  {
   "cell_type": "code",
   "execution_count": 55,
   "metadata": {},
   "outputs": [
    {
     "name": "stdout",
     "output_type": "stream",
     "text": [
      "predict_main : [2.523777  2.3229446 1.4488592]\n",
      "predict_aux : [2.4256957 2.6327195 1.4161401]\n",
      "correct : [2.674 1.711 1.252]\n"
     ]
    }
   ],
   "source": [
    "# サンプル用にデータサイズを限定\n",
    "x_new_A, x_new_B = x_test_A[:3], x_test_B[:3]\n",
    "\n",
    "y_pred_main, y_pred_aux = model.predict((x_new_A, x_new_B))\n",
    "print(f'predict_main : {y_pred_main.reshape(-1)}')\n",
    "print(f'predict_aux : {y_pred_aux.reshape(-1)}')\n",
    "print(f'correct : {y_test[:3]}')"
   ]
  }
 ],
 "metadata": {
  "interpreter": {
   "hash": "86c3969cb8e4d6528009ba441e3b227910147fcb8261d5b261fbcbb462fd60ef"
  },
  "kernelspec": {
   "display_name": "Python 3.7.6 ('base')",
   "language": "python",
   "name": "python3"
  },
  "language_info": {
   "codemirror_mode": {
    "name": "ipython",
    "version": 3
   },
   "file_extension": ".py",
   "mimetype": "text/x-python",
   "name": "python",
   "nbconvert_exporter": "python",
   "pygments_lexer": "ipython3",
   "version": "3.7.6"
  },
  "orig_nbformat": 4
 },
 "nbformat": 4,
 "nbformat_minor": 2
}

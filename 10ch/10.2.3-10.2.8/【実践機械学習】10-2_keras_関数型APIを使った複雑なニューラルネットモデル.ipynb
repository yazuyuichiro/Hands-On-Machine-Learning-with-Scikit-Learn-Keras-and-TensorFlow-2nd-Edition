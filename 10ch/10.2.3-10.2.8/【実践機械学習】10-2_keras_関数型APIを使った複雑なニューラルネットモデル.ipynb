{
 "cells": [
  {
   "cell_type": "markdown",
   "metadata": {},
   "source": [
    "# 概要"
   ]
  },
  {
   "cell_type": "markdown",
   "metadata": {},
   "source": [
    "すべてのレイヤを直列に（シーケンシャルに）接続するモデルはSequential APIで簡単に実現できる。<br>\n",
    "一方それ以上に複雑なモデルは対応できないため関数型APIを使ってニューラルネットワークを構築する。"
   ]
  },
  {
   "cell_type": "markdown",
   "metadata": {},
   "source": [
    "# ワイド・アンド・ディープニューラルネットワーク"
   ]
  },
  {
   "cell_type": "markdown",
   "metadata": {},
   "source": [
    "シーケンシャルなニューラルネットワークではすべてのデータに全層の強制する。<br>\n",
    "そのためデータに含まれる単純なパターンが層を通過する中で歪められてしまうことがある。<br>\n",
    "そこで層の通過をスキップする\"ワイド\"パスを含むモデルを作成する。\n",
    "\n",
    "今回作成するモデルは以下：\n",
    "\n",
    "![ワイドアンドディープニューラルネット](./fig/wide_and_deep_nural_net.png)"
   ]
  },
  {
   "cell_type": "markdown",
   "metadata": {},
   "source": [
    "## パッケージインポート"
   ]
  },
  {
   "cell_type": "code",
   "execution_count": 2,
   "metadata": {},
   "outputs": [
    {
     "name": "stdout",
     "output_type": "stream",
     "text": [
      "tensorflow ver.2.5.0\n",
      "keras ver.2.5.0\n"
     ]
    }
   ],
   "source": [
    "import tensorflow as tf\n",
    "from tensorflow import keras\n",
    "import numpy as np\n",
    "import pandas as pd\n",
    "\n",
    "print(f'tensorflow ver.{tf.__version__}')\n",
    "print(f'keras ver.{keras.__version__}')\n",
    "\n",
    "from sklearn.datasets import fetch_california_housing\n",
    "from sklearn.model_selection import train_test_split\n",
    "from sklearn.preprocessing import StandardScaler"
   ]
  },
  {
   "cell_type": "markdown",
   "metadata": {},
   "source": [
    "## データロードと前処理"
   ]
  },
  {
   "cell_type": "markdown",
   "metadata": {},
   "source": [
    "###  データロード（sklearn.datasets.fetch_california_housing）"
   ]
  },
  {
   "cell_type": "code",
   "execution_count": 3,
   "metadata": {},
   "outputs": [],
   "source": [
    "housing = fetch_california_housing()\n",
    "\n",
    "x_train_full, x_test, y_train_full, y_test = train_test_split(housing.data, housing.target)"
   ]
  },
  {
   "cell_type": "markdown",
   "metadata": {},
   "source": [
    "### validation分割"
   ]
  },
  {
   "cell_type": "code",
   "execution_count": 4,
   "metadata": {},
   "outputs": [
    {
     "name": "stdout",
     "output_type": "stream",
     "text": [
      "x_train.shape : (11610, 8)\n",
      "y_train.shape : (11610,)\n",
      "x_valid.shape : (3870, 8)\n",
      "y_valid.shape : (3870,)\n"
     ]
    }
   ],
   "source": [
    "x_train, x_valid, y_train, y_valid = train_test_split(x_train_full, y_train_full)\n",
    "\n",
    "# データサイズを確認\n",
    "print(f'x_train.shape : {x_train.shape}')\n",
    "print(f'y_train.shape : {y_train.shape}')\n",
    "print(f'x_valid.shape : {x_valid.shape}')\n",
    "print(f'y_valid.shape : {y_valid.shape}')"
   ]
  },
  {
   "cell_type": "markdown",
   "metadata": {},
   "source": [
    "trainデータを確認"
   ]
  },
  {
   "cell_type": "code",
   "execution_count": 5,
   "metadata": {},
   "outputs": [
    {
     "data": {
      "text/html": [
       "<div>\n",
       "<style scoped>\n",
       "    .dataframe tbody tr th:only-of-type {\n",
       "        vertical-align: middle;\n",
       "    }\n",
       "\n",
       "    .dataframe tbody tr th {\n",
       "        vertical-align: top;\n",
       "    }\n",
       "\n",
       "    .dataframe thead th {\n",
       "        text-align: right;\n",
       "    }\n",
       "</style>\n",
       "<table border=\"1\" class=\"dataframe\">\n",
       "  <thead>\n",
       "    <tr style=\"text-align: right;\">\n",
       "      <th></th>\n",
       "      <th>MedInc</th>\n",
       "      <th>HouseAge</th>\n",
       "      <th>AveRooms</th>\n",
       "      <th>AveBedrms</th>\n",
       "      <th>Population</th>\n",
       "      <th>AveOccup</th>\n",
       "      <th>Latitude</th>\n",
       "      <th>Longitude</th>\n",
       "    </tr>\n",
       "  </thead>\n",
       "  <tbody>\n",
       "    <tr>\n",
       "      <th>0</th>\n",
       "      <td>3.2984</td>\n",
       "      <td>50.0</td>\n",
       "      <td>5.781690</td>\n",
       "      <td>1.133803</td>\n",
       "      <td>713.0</td>\n",
       "      <td>2.510563</td>\n",
       "      <td>37.78</td>\n",
       "      <td>-122.18</td>\n",
       "    </tr>\n",
       "    <tr>\n",
       "      <th>1</th>\n",
       "      <td>4.0417</td>\n",
       "      <td>32.0</td>\n",
       "      <td>5.351515</td>\n",
       "      <td>0.975758</td>\n",
       "      <td>876.0</td>\n",
       "      <td>2.654545</td>\n",
       "      <td>33.81</td>\n",
       "      <td>-117.85</td>\n",
       "    </tr>\n",
       "    <tr>\n",
       "      <th>2</th>\n",
       "      <td>4.6452</td>\n",
       "      <td>45.0</td>\n",
       "      <td>5.689139</td>\n",
       "      <td>0.985019</td>\n",
       "      <td>681.0</td>\n",
       "      <td>2.550562</td>\n",
       "      <td>33.79</td>\n",
       "      <td>-118.14</td>\n",
       "    </tr>\n",
       "    <tr>\n",
       "      <th>3</th>\n",
       "      <td>4.0174</td>\n",
       "      <td>28.0</td>\n",
       "      <td>5.028056</td>\n",
       "      <td>1.068136</td>\n",
       "      <td>2846.0</td>\n",
       "      <td>2.851703</td>\n",
       "      <td>37.28</td>\n",
       "      <td>-121.96</td>\n",
       "    </tr>\n",
       "    <tr>\n",
       "      <th>4</th>\n",
       "      <td>6.8939</td>\n",
       "      <td>38.0</td>\n",
       "      <td>5.062069</td>\n",
       "      <td>1.039080</td>\n",
       "      <td>833.0</td>\n",
       "      <td>1.914943</td>\n",
       "      <td>37.76</td>\n",
       "      <td>-122.44</td>\n",
       "    </tr>\n",
       "    <tr>\n",
       "      <th>...</th>\n",
       "      <td>...</td>\n",
       "      <td>...</td>\n",
       "      <td>...</td>\n",
       "      <td>...</td>\n",
       "      <td>...</td>\n",
       "      <td>...</td>\n",
       "      <td>...</td>\n",
       "      <td>...</td>\n",
       "    </tr>\n",
       "    <tr>\n",
       "      <th>11605</th>\n",
       "      <td>4.1724</td>\n",
       "      <td>14.0</td>\n",
       "      <td>5.239496</td>\n",
       "      <td>1.080672</td>\n",
       "      <td>3568.0</td>\n",
       "      <td>2.998319</td>\n",
       "      <td>34.32</td>\n",
       "      <td>-118.44</td>\n",
       "    </tr>\n",
       "    <tr>\n",
       "      <th>11606</th>\n",
       "      <td>4.2222</td>\n",
       "      <td>28.0</td>\n",
       "      <td>6.304478</td>\n",
       "      <td>1.083582</td>\n",
       "      <td>1011.0</td>\n",
       "      <td>3.017910</td>\n",
       "      <td>36.54</td>\n",
       "      <td>-119.48</td>\n",
       "    </tr>\n",
       "    <tr>\n",
       "      <th>11607</th>\n",
       "      <td>2.5474</td>\n",
       "      <td>13.0</td>\n",
       "      <td>8.213768</td>\n",
       "      <td>2.177536</td>\n",
       "      <td>756.0</td>\n",
       "      <td>2.739130</td>\n",
       "      <td>35.47</td>\n",
       "      <td>-118.61</td>\n",
       "    </tr>\n",
       "    <tr>\n",
       "      <th>11608</th>\n",
       "      <td>3.8365</td>\n",
       "      <td>29.0</td>\n",
       "      <td>5.503686</td>\n",
       "      <td>1.122850</td>\n",
       "      <td>1187.0</td>\n",
       "      <td>2.916462</td>\n",
       "      <td>34.14</td>\n",
       "      <td>-117.90</td>\n",
       "    </tr>\n",
       "    <tr>\n",
       "      <th>11609</th>\n",
       "      <td>4.3583</td>\n",
       "      <td>36.0</td>\n",
       "      <td>6.113990</td>\n",
       "      <td>1.049223</td>\n",
       "      <td>1479.0</td>\n",
       "      <td>3.831606</td>\n",
       "      <td>33.82</td>\n",
       "      <td>-117.92</td>\n",
       "    </tr>\n",
       "  </tbody>\n",
       "</table>\n",
       "<p>11610 rows × 8 columns</p>\n",
       "</div>"
      ],
      "text/plain": [
       "       MedInc  HouseAge  AveRooms  AveBedrms  Population  AveOccup  Latitude  \\\n",
       "0      3.2984      50.0  5.781690   1.133803       713.0  2.510563     37.78   \n",
       "1      4.0417      32.0  5.351515   0.975758       876.0  2.654545     33.81   \n",
       "2      4.6452      45.0  5.689139   0.985019       681.0  2.550562     33.79   \n",
       "3      4.0174      28.0  5.028056   1.068136      2846.0  2.851703     37.28   \n",
       "4      6.8939      38.0  5.062069   1.039080       833.0  1.914943     37.76   \n",
       "...       ...       ...       ...        ...         ...       ...       ...   \n",
       "11605  4.1724      14.0  5.239496   1.080672      3568.0  2.998319     34.32   \n",
       "11606  4.2222      28.0  6.304478   1.083582      1011.0  3.017910     36.54   \n",
       "11607  2.5474      13.0  8.213768   2.177536       756.0  2.739130     35.47   \n",
       "11608  3.8365      29.0  5.503686   1.122850      1187.0  2.916462     34.14   \n",
       "11609  4.3583      36.0  6.113990   1.049223      1479.0  3.831606     33.82   \n",
       "\n",
       "       Longitude  \n",
       "0        -122.18  \n",
       "1        -117.85  \n",
       "2        -118.14  \n",
       "3        -121.96  \n",
       "4        -122.44  \n",
       "...          ...  \n",
       "11605    -118.44  \n",
       "11606    -119.48  \n",
       "11607    -118.61  \n",
       "11608    -117.90  \n",
       "11609    -117.92  \n",
       "\n",
       "[11610 rows x 8 columns]"
      ]
     },
     "metadata": {},
     "output_type": "display_data"
    },
    {
     "name": "stdout",
     "output_type": "stream",
     "text": [
      "<class 'pandas.core.frame.DataFrame'>\n",
      "RangeIndex: 11610 entries, 0 to 11609\n",
      "Data columns (total 8 columns):\n",
      " #   Column      Non-Null Count  Dtype  \n",
      "---  ------      --------------  -----  \n",
      " 0   MedInc      11610 non-null  float64\n",
      " 1   HouseAge    11610 non-null  float64\n",
      " 2   AveRooms    11610 non-null  float64\n",
      " 3   AveBedrms   11610 non-null  float64\n",
      " 4   Population  11610 non-null  float64\n",
      " 5   AveOccup    11610 non-null  float64\n",
      " 6   Latitude    11610 non-null  float64\n",
      " 7   Longitude   11610 non-null  float64\n",
      "dtypes: float64(8)\n",
      "memory usage: 725.8 KB\n"
     ]
    },
    {
     "data": {
      "text/html": [
       "<div>\n",
       "<style scoped>\n",
       "    .dataframe tbody tr th:only-of-type {\n",
       "        vertical-align: middle;\n",
       "    }\n",
       "\n",
       "    .dataframe tbody tr th {\n",
       "        vertical-align: top;\n",
       "    }\n",
       "\n",
       "    .dataframe thead th {\n",
       "        text-align: right;\n",
       "    }\n",
       "</style>\n",
       "<table border=\"1\" class=\"dataframe\">\n",
       "  <thead>\n",
       "    <tr style=\"text-align: right;\">\n",
       "      <th></th>\n",
       "      <th>MedInc</th>\n",
       "      <th>HouseAge</th>\n",
       "      <th>AveRooms</th>\n",
       "      <th>AveBedrms</th>\n",
       "      <th>Population</th>\n",
       "      <th>AveOccup</th>\n",
       "      <th>Latitude</th>\n",
       "      <th>Longitude</th>\n",
       "    </tr>\n",
       "  </thead>\n",
       "  <tbody>\n",
       "    <tr>\n",
       "      <th>count</th>\n",
       "      <td>11610.000000</td>\n",
       "      <td>11610.000000</td>\n",
       "      <td>11610.000000</td>\n",
       "      <td>11610.000000</td>\n",
       "      <td>11610.000000</td>\n",
       "      <td>11610.000000</td>\n",
       "      <td>11610.000000</td>\n",
       "      <td>11610.000000</td>\n",
       "    </tr>\n",
       "    <tr>\n",
       "      <th>mean</th>\n",
       "      <td>3.864953</td>\n",
       "      <td>28.705771</td>\n",
       "      <td>5.426279</td>\n",
       "      <td>1.096556</td>\n",
       "      <td>1416.647373</td>\n",
       "      <td>3.117047</td>\n",
       "      <td>35.624672</td>\n",
       "      <td>-119.559562</td>\n",
       "    </tr>\n",
       "    <tr>\n",
       "      <th>std</th>\n",
       "      <td>1.873837</td>\n",
       "      <td>12.610790</td>\n",
       "      <td>2.476206</td>\n",
       "      <td>0.446533</td>\n",
       "      <td>1148.337199</td>\n",
       "      <td>12.664496</td>\n",
       "      <td>2.142690</td>\n",
       "      <td>2.005369</td>\n",
       "    </tr>\n",
       "    <tr>\n",
       "      <th>min</th>\n",
       "      <td>0.499900</td>\n",
       "      <td>1.000000</td>\n",
       "      <td>0.846154</td>\n",
       "      <td>0.333333</td>\n",
       "      <td>3.000000</td>\n",
       "      <td>0.692308</td>\n",
       "      <td>32.550000</td>\n",
       "      <td>-124.350000</td>\n",
       "    </tr>\n",
       "    <tr>\n",
       "      <th>25%</th>\n",
       "      <td>2.568200</td>\n",
       "      <td>18.000000</td>\n",
       "      <td>4.442249</td>\n",
       "      <td>1.005900</td>\n",
       "      <td>783.000000</td>\n",
       "      <td>2.422020</td>\n",
       "      <td>33.930000</td>\n",
       "      <td>-121.790000</td>\n",
       "    </tr>\n",
       "    <tr>\n",
       "      <th>50%</th>\n",
       "      <td>3.540350</td>\n",
       "      <td>29.000000</td>\n",
       "      <td>5.228400</td>\n",
       "      <td>1.049202</td>\n",
       "      <td>1159.000000</td>\n",
       "      <td>2.815672</td>\n",
       "      <td>34.250000</td>\n",
       "      <td>-118.480000</td>\n",
       "    </tr>\n",
       "    <tr>\n",
       "      <th>75%</th>\n",
       "      <td>4.723700</td>\n",
       "      <td>37.000000</td>\n",
       "      <td>6.047265</td>\n",
       "      <td>1.099194</td>\n",
       "      <td>1707.750000</td>\n",
       "      <td>3.279769</td>\n",
       "      <td>37.710000</td>\n",
       "      <td>-117.990000</td>\n",
       "    </tr>\n",
       "    <tr>\n",
       "      <th>max</th>\n",
       "      <td>15.000100</td>\n",
       "      <td>52.000000</td>\n",
       "      <td>141.909091</td>\n",
       "      <td>25.636364</td>\n",
       "      <td>35682.000000</td>\n",
       "      <td>1243.333333</td>\n",
       "      <td>41.950000</td>\n",
       "      <td>-114.310000</td>\n",
       "    </tr>\n",
       "  </tbody>\n",
       "</table>\n",
       "</div>"
      ],
      "text/plain": [
       "             MedInc      HouseAge      AveRooms     AveBedrms    Population  \\\n",
       "count  11610.000000  11610.000000  11610.000000  11610.000000  11610.000000   \n",
       "mean       3.864953     28.705771      5.426279      1.096556   1416.647373   \n",
       "std        1.873837     12.610790      2.476206      0.446533   1148.337199   \n",
       "min        0.499900      1.000000      0.846154      0.333333      3.000000   \n",
       "25%        2.568200     18.000000      4.442249      1.005900    783.000000   \n",
       "50%        3.540350     29.000000      5.228400      1.049202   1159.000000   \n",
       "75%        4.723700     37.000000      6.047265      1.099194   1707.750000   \n",
       "max       15.000100     52.000000    141.909091     25.636364  35682.000000   \n",
       "\n",
       "           AveOccup      Latitude     Longitude  \n",
       "count  11610.000000  11610.000000  11610.000000  \n",
       "mean       3.117047     35.624672   -119.559562  \n",
       "std       12.664496      2.142690      2.005369  \n",
       "min        0.692308     32.550000   -124.350000  \n",
       "25%        2.422020     33.930000   -121.790000  \n",
       "50%        2.815672     34.250000   -118.480000  \n",
       "75%        3.279769     37.710000   -117.990000  \n",
       "max     1243.333333     41.950000   -114.310000  "
      ]
     },
     "execution_count": 5,
     "metadata": {},
     "output_type": "execute_result"
    }
   ],
   "source": [
    "pd_x_train = pd.DataFrame(x_train, columns=housing.feature_names)\n",
    "display(pd_x_train)\n",
    "pd_x_train.info()\n",
    "pd_x_train.describe()"
   ]
  },
  {
   "cell_type": "markdown",
   "metadata": {},
   "source": [
    "### 前処理"
   ]
  },
  {
   "cell_type": "markdown",
   "metadata": {},
   "source": [
    "#### スケーリング"
   ]
  },
  {
   "cell_type": "markdown",
   "metadata": {},
   "source": [
    "### [StandardScaler](https://scikit-learn.org/stable/modules/generated/sklearn.preprocessing.StandardScaler.html)\n",
    "データの標準化を行う。\n",
    "\n",
    "代表的なメソッドは以下：\n",
    "\n",
    "|メソッド|説明|\n",
    "|---|---|\n",
    "|fit()|標準化するための平均と分散を計算する。|\n",
    "|trasform()|（事前に計算した平均と分散を使用して）標準化を行う。|\n",
    "|fit_transform()|平均と分散を計算し、標準化を行う。|"
   ]
  },
  {
   "cell_type": "code",
   "execution_count": 6,
   "metadata": {},
   "outputs": [],
   "source": [
    "scaler = StandardScaler()\n",
    "\n",
    "x_train = scaler.fit_transform(x_train)\n",
    "x_valid = scaler.transform(x_valid)  # x_trainの平均・分散を使用する（のはなぜ？）\n",
    "x_test = scaler.transform(x_test)  # x_trainの平均・分散を使用する（のはなぜ？）"
   ]
  },
  {
   "cell_type": "markdown",
   "metadata": {},
   "source": [
    "#### inputデータ分割"
   ]
  },
  {
   "cell_type": "code",
   "execution_count": 7,
   "metadata": {},
   "outputs": [],
   "source": [
    "# ワイドパス、ディープパス用で分割\n",
    "x_train_A, x_train_B = x_train[:, :5], x_train[:, 2:]\n",
    "x_valid_A, x_valid_B = x_valid[:, :5], x_valid[:, 2:]\n",
    "x_test_A, x_test_B = x_test[:, :5], x_test[:, 2:]"
   ]
  },
  {
   "cell_type": "markdown",
   "metadata": {},
   "source": [
    "# モデル作成"
   ]
  },
  {
   "cell_type": "markdown",
   "metadata": {},
   "source": [
    "## レイヤ構成を定義"
   ]
  },
  {
   "cell_type": "markdown",
   "metadata": {},
   "source": [
    "Sequential APIでは層の順番を定義したが、\n",
    "関数型APIではより複雑に層同士の接続方法を定義することが出来る。<br>\n",
    "\n",
    "具体的には層の出力を別の層の入力に渡すことで接続方法をモデルに指示する。<br>\n",
    "これがレイヤクラスのインスタンスを生成する際に入力を渡す姿が関数のように見えるため関数型APIと言われる所以である。\n",
    "\n",
    "ちなみにインスタンス生成時は層の接続方法を指示しているだけで、データはまだ処理されていない。"
   ]
  },
  {
   "cell_type": "code",
   "execution_count": 8,
   "metadata": {},
   "outputs": [],
   "source": [
    "# 初期化時にレイヤのリストを渡すことでレイヤ定義も同時に行う\n",
    "input_A = keras.layers.Input(shape=[5], name='wide_input')  # ワイドパスのインプット層\n",
    "input_B = keras.layers.Input(shape=[6], name='deep_input')  # ディープパスのインプット層\n",
    "hidden1 = keras.layers.Dense(units=30, activation='relu')(input_B)  # input_B → hidden_1 へ\n",
    "hidden2 = keras.layers.Dense(units=30, activation='relu')(hidden1)  # hidden_1 → hidden_2 へ\n",
    "concat = keras.layers.concatenate([input_A, hidden2])  # input_Aとhidden_2を結合\n",
    "output = keras.layers.Dense(1, name='output')(concat)  # concat →　output\n",
    "\n",
    "model = keras.Model(inputs=[input_A, input_B], outputs=[output])"
   ]
  },
  {
   "cell_type": "markdown",
   "metadata": {},
   "source": [
    "## モデルのコンパイル"
   ]
  },
  {
   "cell_type": "code",
   "execution_count": 9,
   "metadata": {},
   "outputs": [
    {
     "name": "stdout",
     "output_type": "stream",
     "text": [
      "Model: \"model\"\n",
      "__________________________________________________________________________________________________\n",
      "Layer (type)                    Output Shape         Param #     Connected to                     \n",
      "==================================================================================================\n",
      "deep_input (InputLayer)         [(None, 6)]          0                                            \n",
      "__________________________________________________________________________________________________\n",
      "dense (Dense)                   (None, 30)           210         deep_input[0][0]                 \n",
      "__________________________________________________________________________________________________\n",
      "wide_input (InputLayer)         [(None, 5)]          0                                            \n",
      "__________________________________________________________________________________________________\n",
      "dense_1 (Dense)                 (None, 30)           930         dense[0][0]                      \n",
      "__________________________________________________________________________________________________\n",
      "concatenate (Concatenate)       (None, 35)           0           wide_input[0][0]                 \n",
      "                                                                 dense_1[0][0]                    \n",
      "__________________________________________________________________________________________________\n",
      "output (Dense)                  (None, 1)            36          concatenate[0][0]                \n",
      "==================================================================================================\n",
      "Total params: 1,176\n",
      "Trainable params: 1,176\n",
      "Non-trainable params: 0\n",
      "__________________________________________________________________________________________________\n"
     ]
    }
   ],
   "source": [
    "model.compile(loss=\"mse\", optimizer=keras.optimizers.SGD(learning_rate=1e-3))\n",
    "\n",
    "model.summary()"
   ]
  },
  {
   "cell_type": "markdown",
   "metadata": {},
   "source": [
    "# 学習と評価"
   ]
  },
  {
   "cell_type": "markdown",
   "metadata": {},
   "source": [
    "### コールバック設定"
   ]
  },
  {
   "cell_type": "code",
   "execution_count": 10,
   "metadata": {},
   "outputs": [],
   "source": [
    "import os\n",
    "\n",
    "# ログ出力のルートディレクトリ\n",
    "root_dir = os.path.join(os.curdir, 'my_logs')\n",
    "\n",
    "# ログディレクトリ名を生成する関数\n",
    "def get_run_logdir():\n",
    "    import time\n",
    "    run_id = time.strftime('run_%Y_%m_%d-%H_%M_%S')\n",
    "    return os.path.join(root_dir, run_id)\n",
    "\n",
    "run_logdir = get_run_logdir()\n",
    "\n",
    "tensorboard_cb = keras.callbacks.TensorBoard(run_logdir)"
   ]
  },
  {
   "cell_type": "code",
   "execution_count": 11,
   "metadata": {},
   "outputs": [],
   "source": [
    "# 早期打ち切りのコールバック関数\n",
    "# 学習打ち切り時に性能が最高だった時の重みを復元するので最良モデルの保存と復元は不要\n",
    "early_stopping_cb = keras.callbacks.EarlyStopping(patience=10, restore_best_weights=True)  # patienceで指定したエポック数学習が進まなかったときに学習を打ち切る"
   ]
  },
  {
   "cell_type": "code",
   "execution_count": 12,
   "metadata": {},
   "outputs": [],
   "source": [
    "class PrintValTrainRatioCallback(keras.callbacks.Callback):\n",
    "    def on_epoch_end(self, epoch, logs):\n",
    "        print(\"\\nval/train: {:.2f}\".format(logs[\"val_loss\"] / logs[\"loss\"]))\n",
    "\n",
    "print_valid_train_ration_cb = PrintValTrainRatioCallback()"
   ]
  },
  {
   "cell_type": "markdown",
   "metadata": {},
   "source": [
    "## 学習"
   ]
  },
  {
   "cell_type": "code",
   "execution_count": 13,
   "metadata": {},
   "outputs": [
    {
     "name": "stdout",
     "output_type": "stream",
     "text": [
      "Epoch 1/20\n",
      "  3/363 [..............................] - ETA: 25s - loss: 4.6077 WARNING:tensorflow:Callback method `on_train_batch_end` is slow compared to the batch time (batch time: 0.0030s vs `on_train_batch_end` time: 0.0226s). Check your callbacks.\n",
      "363/363 [==============================] - 2s 4ms/step - loss: 1.8493 - val_loss: 0.8307\n",
      "\n",
      "val/train: 0.45\n",
      "Epoch 2/20\n",
      "363/363 [==============================] - 1s 1ms/step - loss: 0.7744 - val_loss: 0.7046\n",
      "\n",
      "val/train: 0.91\n",
      "Epoch 3/20\n",
      "363/363 [==============================] - 1s 2ms/step - loss: 0.6810 - val_loss: 0.6628\n",
      "\n",
      "val/train: 0.97\n",
      "Epoch 4/20\n",
      "363/363 [==============================] - 1s 4ms/step - loss: 0.6448 - val_loss: 0.6359\n",
      "\n",
      "val/train: 0.99\n",
      "Epoch 5/20\n",
      "363/363 [==============================] - 1s 3ms/step - loss: 0.6185 - val_loss: 0.6113\n",
      "\n",
      "val/train: 0.99\n",
      "Epoch 6/20\n",
      "363/363 [==============================] - 1s 3ms/step - loss: 0.5963 - val_loss: 0.5919\n",
      "\n",
      "val/train: 0.99\n",
      "Epoch 7/20\n",
      "363/363 [==============================] - 1s 3ms/step - loss: 0.5769 - val_loss: 0.5737\n",
      "\n",
      "val/train: 0.99\n",
      "Epoch 8/20\n",
      "363/363 [==============================] - 1s 4ms/step - loss: 0.5593 - val_loss: 0.5574\n",
      "\n",
      "val/train: 1.00\n",
      "Epoch 9/20\n",
      "363/363 [==============================] - 1s 3ms/step - loss: 0.5409 - val_loss: 0.5415\n",
      "\n",
      "val/train: 1.00\n",
      "Epoch 10/20\n",
      "363/363 [==============================] - 1s 3ms/step - loss: 0.5254 - val_loss: 0.5290\n",
      "\n",
      "val/train: 1.01\n",
      "Epoch 11/20\n",
      "363/363 [==============================] - 1s 3ms/step - loss: 0.5139 - val_loss: 0.5197\n",
      "\n",
      "val/train: 1.01\n",
      "Epoch 12/20\n",
      "363/363 [==============================] - 2s 4ms/step - loss: 0.5053 - val_loss: 0.5114\n",
      "\n",
      "val/train: 1.01\n",
      "Epoch 13/20\n",
      "363/363 [==============================] - 1s 2ms/step - loss: 0.4982 - val_loss: 0.5108\n",
      "\n",
      "val/train: 1.03\n",
      "Epoch 14/20\n",
      "363/363 [==============================] - 1s 2ms/step - loss: 0.4929 - val_loss: 0.5021\n",
      "\n",
      "val/train: 1.02\n",
      "Epoch 15/20\n",
      "363/363 [==============================] - 1s 2ms/step - loss: 0.4879 - val_loss: 0.5054\n",
      "\n",
      "val/train: 1.04\n",
      "Epoch 16/20\n",
      "363/363 [==============================] - 1s 4ms/step - loss: 0.4830 - val_loss: 0.4919\n",
      "\n",
      "val/train: 1.02\n",
      "Epoch 17/20\n",
      "363/363 [==============================] - 1s 3ms/step - loss: 0.4795 - val_loss: 0.4918\n",
      "\n",
      "val/train: 1.03\n",
      "Epoch 18/20\n",
      "363/363 [==============================] - 1s 4ms/step - loss: 0.4763 - val_loss: 0.4872\n",
      "\n",
      "val/train: 1.02\n",
      "Epoch 19/20\n",
      "363/363 [==============================] - 1s 2ms/step - loss: 0.4730 - val_loss: 0.4889\n",
      "\n",
      "val/train: 1.03\n",
      "Epoch 20/20\n",
      "363/363 [==============================] - 1s 3ms/step - loss: 0.4704 - val_loss: 0.4787\n",
      "\n",
      "val/train: 1.02\n"
     ]
    }
   ],
   "source": [
    "history = model.fit((x_train_A, x_train_B), y_train, epochs=20, validation_data=((x_valid_A, x_valid_B), y_valid), callbacks=[tensorboard_cb, early_stopping_cb, print_valid_train_ration_cb])"
   ]
  },
  {
   "cell_type": "markdown",
   "metadata": {},
   "source": [
    "## 学習結果の可視化"
   ]
  },
  {
   "cell_type": "code",
   "execution_count": 14,
   "metadata": {},
   "outputs": [
    {
     "data": {
      "text/plain": [
       "Reusing TensorBoard on port 6006 (pid 29808), started 1:22:21 ago. (Use '!kill 29808' to kill it.)"
      ]
     },
     "metadata": {},
     "output_type": "display_data"
    },
    {
     "data": {
      "text/html": [
       "\n",
       "      <iframe id=\"tensorboard-frame-407938b00908c670\" width=\"100%\" height=\"800\" frameborder=\"0\">\n",
       "      </iframe>\n",
       "      <script>\n",
       "        (function() {\n",
       "          const frame = document.getElementById(\"tensorboard-frame-407938b00908c670\");\n",
       "          const url = new URL(\"http://localhost\");\n",
       "          const port = 6006;\n",
       "          if (port) {\n",
       "            url.port = port;\n",
       "          }\n",
       "          frame.src = url;\n",
       "        })();\n",
       "      </script>\n",
       "    "
      ],
      "text/plain": [
       "<IPython.core.display.HTML object>"
      ]
     },
     "metadata": {},
     "output_type": "display_data"
    }
   ],
   "source": [
    "%load_ext tensorboard\n",
    "%tensorboard --logdir ./my_logs"
   ]
  },
  {
   "cell_type": "markdown",
   "metadata": {},
   "source": [
    "## 学習結果の評価"
   ]
  },
  {
   "cell_type": "code",
   "execution_count": 16,
   "metadata": {},
   "outputs": [
    {
     "name": "stdout",
     "output_type": "stream",
     "text": [
      "162/162 [==============================] - 0s 2ms/step - loss: 0.4713\n"
     ]
    },
    {
     "data": {
      "text/plain": [
       "0.47130921483039856"
      ]
     },
     "execution_count": 16,
     "metadata": {},
     "output_type": "execute_result"
    }
   ],
   "source": [
    "mse_test = model.evaluate((x_test_A, x_test_B), y_test)\n",
    "mse_test"
   ]
  },
  {
   "cell_type": "markdown",
   "metadata": {},
   "source": [
    "# 学習済みモデルを使った予測"
   ]
  },
  {
   "cell_type": "code",
   "execution_count": 17,
   "metadata": {},
   "outputs": [
    {
     "name": "stdout",
     "output_type": "stream",
     "text": [
      "predict : [1.7249901 3.5990105 2.1218798]\n",
      "correct : [0.945 4.772 1.523]\n"
     ]
    }
   ],
   "source": [
    "# サンプル用にデータサイズを限定\n",
    "x_new_A, x_new_B = x_test_A[:3], x_test_B[:3]\n",
    "\n",
    "y_pred = model.predict((x_new_A, x_new_B))\n",
    "print(f'predict : {y_pred.reshape(-1)}')\n",
    "print(f'correct : {y_test[:3]}')"
   ]
  },
  {
   "cell_type": "markdown",
   "metadata": {},
   "source": [
    "# 複数の出力をもつニューラルネットワーク"
   ]
  },
  {
   "cell_type": "markdown",
   "metadata": {},
   "source": [
    "マルチタスク分類に対応したモデルを作成する場合、出力を複数用意する必要がある。<br>\n",
    "例えば同じ顔写真から表情と眼鏡を掛けているかどうかを分類するような問題がこれに当たる。\n",
    "\n",
    "また、ユースケースとしては正則化テクニックとして使用する場合がある。<br>\n",
    "例えばネットワークの下位層だけで独自に役立つ情報が学習ができるように補助出力を追加するような場合である。\n",
    "\n",
    "今回は正則化テクニックを想定して、下位の隠れ層2層だけで独自に学習が出来るニューラルネットを作成する。\n",
    "\n",
    "![複数出力をもつニューラルネット](./fig/multiple_outputs_nural_net.png)\n"
   ]
  },
  {
   "cell_type": "markdown",
   "metadata": {},
   "source": [
    "モジュールインポートからデータ前処理まではワイド・アンド・ディープニューラルネットを流用する"
   ]
  },
  {
   "cell_type": "markdown",
   "metadata": {},
   "source": [
    "# モデル作成"
   ]
  },
  {
   "cell_type": "markdown",
   "metadata": {},
   "source": [
    "## レイヤ構成を定義"
   ]
  },
  {
   "cell_type": "code",
   "execution_count": 18,
   "metadata": {},
   "outputs": [],
   "source": [
    "# 初期化時にレイヤのリストを渡すことでレイヤ定義も同時に行う\n",
    "input_A = keras.layers.Input(shape=[5], name='wide_input')  # ワイドパスのインプット層\n",
    "input_B = keras.layers.Input(shape=[6], name='deep_input')  # ディープパスのインプット層\n",
    "hidden1 = keras.layers.Dense(units=30, activation='relu')(input_B)  # input_B → hidden_1 へ\n",
    "hidden2 = keras.layers.Dense(units=30, activation='relu')(hidden1)  # hidden_1 → hidden_2 へ\n",
    "concat = keras.layers.concatenate([input_A, hidden2])  # input_Aとhidden_2を結合\n",
    "output = keras.layers.Dense(1, name='output')(concat)  # concat →　output\n",
    "aux_output = keras.layers.Dense(1, name='aux_output')(hidden2)  # hidden_2 →　aux_output\n",
    "\n",
    "multi_outputs_model = keras.Model(inputs=[input_A, input_B], outputs=[output, aux_output])"
   ]
  },
  {
   "cell_type": "markdown",
   "metadata": {},
   "source": [
    "## モデルのコンパイル"
   ]
  },
  {
   "cell_type": "markdown",
   "metadata": {},
   "source": [
    "個々の出力に対して専用の損失関数を準備する必要があるため損失関数のリストを引数に渡す。<br>\n",
    "またデフォルトでは単純に個々の損失を合計してモデル全体の損失とする。重みづけする場合はloss_weightsで重みを指定する。<br>\n",
    "今回の例では正則化のための補助出力よりもメイン出力の方が重要なのでメイン出力の重みを大きくする。"
   ]
  },
  {
   "cell_type": "code",
   "execution_count": 19,
   "metadata": {},
   "outputs": [
    {
     "name": "stdout",
     "output_type": "stream",
     "text": [
      "Model: \"model_1\"\n",
      "__________________________________________________________________________________________________\n",
      "Layer (type)                    Output Shape         Param #     Connected to                     \n",
      "==================================================================================================\n",
      "deep_input (InputLayer)         [(None, 6)]          0                                            \n",
      "__________________________________________________________________________________________________\n",
      "dense_2 (Dense)                 (None, 30)           210         deep_input[0][0]                 \n",
      "__________________________________________________________________________________________________\n",
      "wide_input (InputLayer)         [(None, 5)]          0                                            \n",
      "__________________________________________________________________________________________________\n",
      "dense_3 (Dense)                 (None, 30)           930         dense_2[0][0]                    \n",
      "__________________________________________________________________________________________________\n",
      "concatenate_1 (Concatenate)     (None, 35)           0           wide_input[0][0]                 \n",
      "                                                                 dense_3[0][0]                    \n",
      "__________________________________________________________________________________________________\n",
      "output (Dense)                  (None, 1)            36          concatenate_1[0][0]              \n",
      "__________________________________________________________________________________________________\n",
      "aux_output (Dense)              (None, 1)            31          dense_3[0][0]                    \n",
      "==================================================================================================\n",
      "Total params: 1,207\n",
      "Trainable params: 1,207\n",
      "Non-trainable params: 0\n",
      "__________________________________________________________________________________________________\n"
     ]
    }
   ],
   "source": [
    "multi_outputs_model.compile(loss=[\"mse\", \"mse\"], loss_weights=[0.9, 0.1], optimizer=keras.optimizers.SGD())\n",
    "\n",
    "multi_outputs_model.summary()"
   ]
  },
  {
   "cell_type": "markdown",
   "metadata": {},
   "source": [
    "# 学習と評価"
   ]
  },
  {
   "cell_type": "markdown",
   "metadata": {},
   "source": [
    "## 学習"
   ]
  },
  {
   "cell_type": "markdown",
   "metadata": {},
   "source": [
    "学習時もそれぞれの出力に対してラベルを指定する必要がある。<br>\n",
    "今回の例では両方同じものを予測しているので同じラベルを渡す。"
   ]
  },
  {
   "cell_type": "markdown",
   "metadata": {},
   "source": [
    "### コールバック設定"
   ]
  },
  {
   "cell_type": "code",
   "execution_count": 20,
   "metadata": {},
   "outputs": [],
   "source": [
    "import os\n",
    "\n",
    "# ログ出力のルートディレクトリ\n",
    "root_dir = os.path.join(os.curdir, 'my_logs')\n",
    "\n",
    "# ログディレクトリ名を生成する関数\n",
    "def get_run_logdir():\n",
    "    import time\n",
    "    run_id = time.strftime('run_%Y_%m_%d-%H_%M_%S')\n",
    "    return os.path.join(root_dir, run_id)\n",
    "\n",
    "run_logdir = get_run_logdir()\n",
    "\n",
    "tensorboard_cb = keras.callbacks.TensorBoard(run_logdir)"
   ]
  },
  {
   "cell_type": "code",
   "execution_count": 21,
   "metadata": {},
   "outputs": [],
   "source": [
    "# 早期打ち切りのコールバック関数\n",
    "# 学習打ち切り時に性能が最高だった時の重みを復元するので最良モデルの保存と復元は不要\n",
    "early_stopping_cb = keras.callbacks.EarlyStopping(patience=10, restore_best_weights=True)  # patienceで指定したエポック数学習が進まなかったときに学習を打ち切る"
   ]
  },
  {
   "cell_type": "code",
   "execution_count": 22,
   "metadata": {},
   "outputs": [],
   "source": [
    "class PrintValTrainRatioCallback(keras.callbacks.Callback):\n",
    "    def on_epoch_end(self, epoch, logs):\n",
    "        print(\"\\nval/train: {:.2f}\".format(logs[\"val_loss\"] / logs[\"loss\"]))\n",
    "\n",
    "print_valid_train_ration_cb = PrintValTrainRatioCallback()"
   ]
  },
  {
   "cell_type": "code",
   "execution_count": 23,
   "metadata": {},
   "outputs": [
    {
     "name": "stdout",
     "output_type": "stream",
     "text": [
      "Epoch 1/20\n",
      "  3/363 [..............................] - ETA: 36s - loss: 5.2568 - output_loss: 5.1286 - aux_output_loss: 6.4105 WARNING:tensorflow:Callback method `on_train_batch_end` is slow compared to the batch time (batch time: 0.0022s vs `on_train_batch_end` time: 0.0332s). Check your callbacks.\n",
      "363/363 [==============================] - 2s 3ms/step - loss: 0.8968 - output_loss: 0.7854 - aux_output_loss: 1.8993 - val_loss: 0.6066 - val_output_loss: 0.5483 - val_aux_output_loss: 1.1310\n",
      "\n",
      "val/train: 0.68\n",
      "Epoch 2/20\n",
      "363/363 [==============================] - 1s 3ms/step - loss: 0.5538 - output_loss: 0.4991 - aux_output_loss: 1.0461 - val_loss: 0.5622 - val_output_loss: 0.5120 - val_aux_output_loss: 1.0141\n",
      "\n",
      "val/train: 1.02\n",
      "Epoch 3/20\n",
      "363/363 [==============================] - 2s 5ms/step - loss: 0.5218 - output_loss: 0.4800 - aux_output_loss: 0.8984 - val_loss: 0.5126 - val_output_loss: 0.4719 - val_aux_output_loss: 0.8793\n",
      "\n",
      "val/train: 0.98\n",
      "Epoch 4/20\n",
      "363/363 [==============================] - 1s 2ms/step - loss: 0.4999 - output_loss: 0.4649 - aux_output_loss: 0.8149 - val_loss: 0.4910 - val_output_loss: 0.4563 - val_aux_output_loss: 0.8032\n",
      "\n",
      "val/train: 0.98\n",
      "Epoch 5/20\n",
      "363/363 [==============================] - 1s 3ms/step - loss: 0.4824 - output_loss: 0.4519 - aux_output_loss: 0.7571 - val_loss: 0.4833 - val_output_loss: 0.4487 - val_aux_output_loss: 0.7940\n",
      "\n",
      "val/train: 1.00\n",
      "Epoch 6/20\n",
      "363/363 [==============================] - 1s 3ms/step - loss: 0.4745 - output_loss: 0.4475 - aux_output_loss: 0.7169 - val_loss: 0.4752 - val_output_loss: 0.4460 - val_aux_output_loss: 0.7380\n",
      "\n",
      "val/train: 1.00\n",
      "Epoch 7/20\n",
      "363/363 [==============================] - 2s 4ms/step - loss: 0.4742 - output_loss: 0.4499 - aux_output_loss: 0.6924 - val_loss: 0.4604 - val_output_loss: 0.4324 - val_aux_output_loss: 0.7128\n",
      "\n",
      "val/train: 0.97\n",
      "Epoch 8/20\n",
      "363/363 [==============================] - 1s 3ms/step - loss: 0.4530 - output_loss: 0.4282 - aux_output_loss: 0.6762 - val_loss: 0.4571 - val_output_loss: 0.4311 - val_aux_output_loss: 0.6913\n",
      "\n",
      "val/train: 1.01\n",
      "Epoch 9/20\n",
      "363/363 [==============================] - 1s 3ms/step - loss: 0.4439 - output_loss: 0.4201 - aux_output_loss: 0.6582 - val_loss: 0.4715 - val_output_loss: 0.4220 - val_aux_output_loss: 0.9167\n",
      "\n",
      "val/train: 1.06\n",
      "Epoch 10/20\n",
      "363/363 [==============================] - 1s 2ms/step - loss: 0.4380 - output_loss: 0.4135 - aux_output_loss: 0.6583 - val_loss: 0.4434 - val_output_loss: 0.4086 - val_aux_output_loss: 0.7566\n",
      "\n",
      "val/train: 1.01\n",
      "Epoch 11/20\n",
      "363/363 [==============================] - 1s 3ms/step - loss: 0.4294 - output_loss: 0.4072 - aux_output_loss: 0.6291 - val_loss: 0.4300 - val_output_loss: 0.4033 - val_aux_output_loss: 0.6697\n",
      "\n",
      "val/train: 1.00\n",
      "Epoch 12/20\n",
      "363/363 [==============================] - 1s 2ms/step - loss: 0.4253 - output_loss: 0.4034 - aux_output_loss: 0.6218 - val_loss: 0.4274 - val_output_loss: 0.4048 - val_aux_output_loss: 0.6307\n",
      "\n",
      "val/train: 1.01\n",
      "Epoch 13/20\n",
      "363/363 [==============================] - 1s 3ms/step - loss: 0.4174 - output_loss: 0.3964 - aux_output_loss: 0.6066 - val_loss: 0.4262 - val_output_loss: 0.3976 - val_aux_output_loss: 0.6834\n",
      "\n",
      "val/train: 1.02\n",
      "Epoch 14/20\n",
      "363/363 [==============================] - 1s 3ms/step - loss: 0.4109 - output_loss: 0.3907 - aux_output_loss: 0.5925 - val_loss: 0.4155 - val_output_loss: 0.3921 - val_aux_output_loss: 0.6259\n",
      "\n",
      "val/train: 1.01\n",
      "Epoch 15/20\n",
      "363/363 [==============================] - 1s 3ms/step - loss: 0.4116 - output_loss: 0.3918 - aux_output_loss: 0.5902 - val_loss: 0.4335 - val_output_loss: 0.4157 - val_aux_output_loss: 0.5932\n",
      "\n",
      "val/train: 1.05\n",
      "Epoch 16/20\n",
      "363/363 [==============================] - 1s 2ms/step - loss: 0.4035 - output_loss: 0.3828 - aux_output_loss: 0.5899 - val_loss: 0.4433 - val_output_loss: 0.4254 - val_aux_output_loss: 0.6041\n",
      "\n",
      "val/train: 1.10\n",
      "Epoch 17/20\n",
      "363/363 [==============================] - 1s 2ms/step - loss: 0.3931 - output_loss: 0.3744 - aux_output_loss: 0.5616 - val_loss: 0.4127 - val_output_loss: 0.3950 - val_aux_output_loss: 0.5719\n",
      "\n",
      "val/train: 1.05\n",
      "Epoch 18/20\n",
      "363/363 [==============================] - 1s 2ms/step - loss: 0.4002 - output_loss: 0.3831 - aux_output_loss: 0.5537 - val_loss: 0.4066 - val_output_loss: 0.3893 - val_aux_output_loss: 0.5624\n",
      "\n",
      "val/train: 1.02\n",
      "Epoch 19/20\n",
      "363/363 [==============================] - 1s 3ms/step - loss: 0.3871 - output_loss: 0.3697 - aux_output_loss: 0.5439 - val_loss: 0.4060 - val_output_loss: 0.3887 - val_aux_output_loss: 0.5619\n",
      "\n",
      "val/train: 1.05\n",
      "Epoch 20/20\n",
      "363/363 [==============================] - 1s 2ms/step - loss: 0.3835 - output_loss: 0.3666 - aux_output_loss: 0.5350 - val_loss: 0.3973 - val_output_loss: 0.3804 - val_aux_output_loss: 0.5499\n",
      "\n",
      "val/train: 1.04\n"
     ]
    }
   ],
   "source": [
    "history = multi_outputs_model.fit([x_train_A, x_train_B], [y_train, y_train], epochs=20, validation_data=([x_valid_A, x_valid_B], [y_valid, y_valid]), callbacks=[tensorboard_cb, early_stopping_cb, print_valid_train_ration_cb])"
   ]
  },
  {
   "cell_type": "markdown",
   "metadata": {},
   "source": [
    "## 学習結果の可視化"
   ]
  },
  {
   "cell_type": "code",
   "execution_count": 24,
   "metadata": {},
   "outputs": [
    {
     "name": "stdout",
     "output_type": "stream",
     "text": [
      "The tensorboard extension is already loaded. To reload it, use:\n",
      "  %reload_ext tensorboard\n"
     ]
    },
    {
     "data": {
      "text/plain": [
       "Reusing TensorBoard on port 6006 (pid 29808), started 1:22:47 ago. (Use '!kill 29808' to kill it.)"
      ]
     },
     "metadata": {},
     "output_type": "display_data"
    },
    {
     "data": {
      "text/html": [
       "\n",
       "      <iframe id=\"tensorboard-frame-aaed5f0e881fada8\" width=\"100%\" height=\"800\" frameborder=\"0\">\n",
       "      </iframe>\n",
       "      <script>\n",
       "        (function() {\n",
       "          const frame = document.getElementById(\"tensorboard-frame-aaed5f0e881fada8\");\n",
       "          const url = new URL(\"http://localhost\");\n",
       "          const port = 6006;\n",
       "          if (port) {\n",
       "            url.port = port;\n",
       "          }\n",
       "          frame.src = url;\n",
       "        })();\n",
       "      </script>\n",
       "    "
      ],
      "text/plain": [
       "<IPython.core.display.HTML object>"
      ]
     },
     "metadata": {},
     "output_type": "display_data"
    }
   ],
   "source": [
    "%load_ext tensorboard\n",
    "%tensorboard --logdir ./my_logs"
   ]
  },
  {
   "cell_type": "markdown",
   "metadata": {},
   "source": [
    "## 学習結果の評価"
   ]
  },
  {
   "cell_type": "code",
   "execution_count": 26,
   "metadata": {},
   "outputs": [
    {
     "name": "stdout",
     "output_type": "stream",
     "text": [
      "162/162 [==============================] - 0s 2ms/step - loss: 0.3672 - output_loss: 0.3512 - aux_output_loss: 0.5114\n"
     ]
    },
    {
     "data": {
      "text/plain": [
       "(0.36717718839645386, 0.3511541485786438, 0.5113843679428101)"
      ]
     },
     "execution_count": 26,
     "metadata": {},
     "output_type": "execute_result"
    }
   ],
   "source": [
    "total_loss, main_loss, aux_loss = multi_outputs_model.evaluate((x_test_A, x_test_B), (y_test, y_test))\n",
    "total_loss, main_loss, aux_loss"
   ]
  },
  {
   "cell_type": "markdown",
   "metadata": {},
   "source": [
    "# 学習済みモデルを使った予測"
   ]
  },
  {
   "cell_type": "code",
   "execution_count": 27,
   "metadata": {},
   "outputs": [
    {
     "name": "stdout",
     "output_type": "stream",
     "text": [
      "predict_main : [1.3989782 3.9601068 1.690203 ]\n",
      "predict_aux : [2.0541828 3.8567936 1.4224538]\n",
      "correct : [0.945 4.772 1.523]\n"
     ]
    }
   ],
   "source": [
    "# サンプル用にデータサイズを限定\n",
    "x_new_A, x_new_B = x_test_A[:3], x_test_B[:3]\n",
    "\n",
    "y_pred_main, y_pred_aux = multi_outputs_model.predict((x_new_A, x_new_B))\n",
    "print(f'predict_main : {y_pred_main.reshape(-1)}')\n",
    "print(f'predict_aux : {y_pred_aux.reshape(-1)}')\n",
    "print(f'correct : {y_test[:3]}')"
   ]
  }
 ],
 "metadata": {
  "interpreter": {
   "hash": "86c3969cb8e4d6528009ba441e3b227910147fcb8261d5b261fbcbb462fd60ef"
  },
  "kernelspec": {
   "display_name": "Python 3.7.6 ('base')",
   "language": "python",
   "name": "python3"
  },
  "language_info": {
   "codemirror_mode": {
    "name": "ipython",
    "version": 3
   },
   "file_extension": ".py",
   "mimetype": "text/x-python",
   "name": "python",
   "nbconvert_exporter": "python",
   "pygments_lexer": "ipython3",
   "version": "3.7.6"
  },
  "orig_nbformat": 4
 },
 "nbformat": 4,
 "nbformat_minor": 2
}

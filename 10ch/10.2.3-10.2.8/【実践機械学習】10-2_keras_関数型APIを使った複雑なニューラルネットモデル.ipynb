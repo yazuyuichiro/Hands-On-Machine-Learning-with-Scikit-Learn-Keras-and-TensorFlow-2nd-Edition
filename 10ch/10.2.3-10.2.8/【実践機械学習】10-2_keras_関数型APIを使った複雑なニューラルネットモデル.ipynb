{
 "cells": [
  {
   "cell_type": "markdown",
   "metadata": {},
   "source": [
    "# 概要"
   ]
  },
  {
   "cell_type": "markdown",
   "metadata": {},
   "source": [
    "すべてのレイヤを直列に（シーケンシャルに）接続するモデルはSequential APIで簡単に実現できる。<br>\n",
    "一方それ以上に複雑なモデルは対応できないため関数型APIを使ってニューラルネットワークを構築する。"
   ]
  },
  {
   "cell_type": "markdown",
   "metadata": {},
   "source": [
    "# ワイド・アンド・ディープニューラルネットワーク"
   ]
  },
  {
   "cell_type": "markdown",
   "metadata": {},
   "source": [
    "シーケンシャルなニューラルネットワークではすべてのデータに全層の強制する。<br>\n",
    "そのためデータに含まれる単純なパターンが層を通過する中で歪められてしまうことがある。<br>\n",
    "そこで層の通過をスキップする\"ワイド\"パスを含むモデルを作成する。\n",
    "\n",
    "今回作成するモデルは以下：\n",
    "\n",
    "![ワイドアンドディープニューラルネット](./fig/wide_and_deep_nural_net.png)"
   ]
  },
  {
   "cell_type": "markdown",
   "metadata": {},
   "source": [
    "## パッケージインポート"
   ]
  },
  {
   "cell_type": "code",
   "execution_count": 1,
   "metadata": {},
   "outputs": [
    {
     "name": "stdout",
     "output_type": "stream",
     "text": [
      "tensorflow ver.2.8.0\n",
      "keras ver.2.8.0\n"
     ]
    }
   ],
   "source": [
    "import tensorflow as tf\n",
    "from tensorflow import keras\n",
    "import numpy as np\n",
    "import pandas as pd\n",
    "\n",
    "print(f'tensorflow ver.{tf.__version__}')\n",
    "print(f'keras ver.{keras.__version__}')\n",
    "\n",
    "from sklearn.datasets import fetch_california_housing\n",
    "from sklearn.model_selection import train_test_split\n",
    "from sklearn.preprocessing import StandardScaler"
   ]
  },
  {
   "cell_type": "markdown",
   "metadata": {},
   "source": [
    "## データロードと前処理"
   ]
  },
  {
   "cell_type": "markdown",
   "metadata": {},
   "source": [
    "###  データロード（sklearn.datasets.fetch_california_housing）"
   ]
  },
  {
   "cell_type": "code",
   "execution_count": 2,
   "metadata": {},
   "outputs": [],
   "source": [
    "housing = fetch_california_housing()\n",
    "\n",
    "x_train_full, x_test, y_train_full, y_test = train_test_split(housing.data, housing.target)"
   ]
  },
  {
   "cell_type": "markdown",
   "metadata": {},
   "source": [
    "### validation分割"
   ]
  },
  {
   "cell_type": "code",
   "execution_count": 3,
   "metadata": {},
   "outputs": [
    {
     "name": "stdout",
     "output_type": "stream",
     "text": [
      "x_train.shape : (11610, 8)\n",
      "y_train.shape : (11610,)\n",
      "x_valid.shape : (3870, 8)\n",
      "y_valid.shape : (3870,)\n"
     ]
    }
   ],
   "source": [
    "x_train, x_valid, y_train, y_valid = train_test_split(x_train_full, y_train_full)\n",
    "\n",
    "# データサイズを確認\n",
    "print(f'x_train.shape : {x_train.shape}')\n",
    "print(f'y_train.shape : {y_train.shape}')\n",
    "print(f'x_valid.shape : {x_valid.shape}')\n",
    "print(f'y_valid.shape : {y_valid.shape}')"
   ]
  },
  {
   "cell_type": "markdown",
   "metadata": {},
   "source": [
    "trainデータを確認"
   ]
  },
  {
   "cell_type": "code",
   "execution_count": 4,
   "metadata": {},
   "outputs": [
    {
     "data": {
      "text/html": [
       "<div>\n",
       "<style scoped>\n",
       "    .dataframe tbody tr th:only-of-type {\n",
       "        vertical-align: middle;\n",
       "    }\n",
       "\n",
       "    .dataframe tbody tr th {\n",
       "        vertical-align: top;\n",
       "    }\n",
       "\n",
       "    .dataframe thead th {\n",
       "        text-align: right;\n",
       "    }\n",
       "</style>\n",
       "<table border=\"1\" class=\"dataframe\">\n",
       "  <thead>\n",
       "    <tr style=\"text-align: right;\">\n",
       "      <th></th>\n",
       "      <th>MedInc</th>\n",
       "      <th>HouseAge</th>\n",
       "      <th>AveRooms</th>\n",
       "      <th>AveBedrms</th>\n",
       "      <th>Population</th>\n",
       "      <th>AveOccup</th>\n",
       "      <th>Latitude</th>\n",
       "      <th>Longitude</th>\n",
       "    </tr>\n",
       "  </thead>\n",
       "  <tbody>\n",
       "    <tr>\n",
       "      <th>0</th>\n",
       "      <td>3.5250</td>\n",
       "      <td>34.0</td>\n",
       "      <td>4.296296</td>\n",
       "      <td>0.895062</td>\n",
       "      <td>398.0</td>\n",
       "      <td>2.456790</td>\n",
       "      <td>37.63</td>\n",
       "      <td>-122.49</td>\n",
       "    </tr>\n",
       "    <tr>\n",
       "      <th>1</th>\n",
       "      <td>5.4063</td>\n",
       "      <td>36.0</td>\n",
       "      <td>5.378652</td>\n",
       "      <td>1.011236</td>\n",
       "      <td>2039.0</td>\n",
       "      <td>2.291011</td>\n",
       "      <td>37.41</td>\n",
       "      <td>-122.13</td>\n",
       "    </tr>\n",
       "    <tr>\n",
       "      <th>2</th>\n",
       "      <td>3.5129</td>\n",
       "      <td>34.0</td>\n",
       "      <td>5.234072</td>\n",
       "      <td>1.060942</td>\n",
       "      <td>2356.0</td>\n",
       "      <td>3.263158</td>\n",
       "      <td>38.01</td>\n",
       "      <td>-121.90</td>\n",
       "    </tr>\n",
       "    <tr>\n",
       "      <th>3</th>\n",
       "      <td>4.1500</td>\n",
       "      <td>46.0</td>\n",
       "      <td>4.039216</td>\n",
       "      <td>0.862745</td>\n",
       "      <td>134.0</td>\n",
       "      <td>2.627451</td>\n",
       "      <td>37.42</td>\n",
       "      <td>-122.14</td>\n",
       "    </tr>\n",
       "    <tr>\n",
       "      <th>4</th>\n",
       "      <td>2.3547</td>\n",
       "      <td>31.0</td>\n",
       "      <td>4.174497</td>\n",
       "      <td>1.040268</td>\n",
       "      <td>821.0</td>\n",
       "      <td>1.836689</td>\n",
       "      <td>37.33</td>\n",
       "      <td>-121.95</td>\n",
       "    </tr>\n",
       "    <tr>\n",
       "      <th>...</th>\n",
       "      <td>...</td>\n",
       "      <td>...</td>\n",
       "      <td>...</td>\n",
       "      <td>...</td>\n",
       "      <td>...</td>\n",
       "      <td>...</td>\n",
       "      <td>...</td>\n",
       "      <td>...</td>\n",
       "    </tr>\n",
       "    <tr>\n",
       "      <th>11605</th>\n",
       "      <td>3.5972</td>\n",
       "      <td>26.0</td>\n",
       "      <td>5.000000</td>\n",
       "      <td>1.097902</td>\n",
       "      <td>1150.0</td>\n",
       "      <td>2.680653</td>\n",
       "      <td>33.90</td>\n",
       "      <td>-118.14</td>\n",
       "    </tr>\n",
       "    <tr>\n",
       "      <th>11606</th>\n",
       "      <td>3.5444</td>\n",
       "      <td>12.0</td>\n",
       "      <td>4.786854</td>\n",
       "      <td>1.027230</td>\n",
       "      <td>2029.0</td>\n",
       "      <td>1.905164</td>\n",
       "      <td>38.68</td>\n",
       "      <td>-121.29</td>\n",
       "    </tr>\n",
       "    <tr>\n",
       "      <th>11607</th>\n",
       "      <td>10.2849</td>\n",
       "      <td>26.0</td>\n",
       "      <td>7.807095</td>\n",
       "      <td>1.008869</td>\n",
       "      <td>1336.0</td>\n",
       "      <td>2.962306</td>\n",
       "      <td>33.64</td>\n",
       "      <td>-117.87</td>\n",
       "    </tr>\n",
       "    <tr>\n",
       "      <th>11608</th>\n",
       "      <td>4.5100</td>\n",
       "      <td>9.0</td>\n",
       "      <td>5.736216</td>\n",
       "      <td>1.073514</td>\n",
       "      <td>2630.0</td>\n",
       "      <td>2.843243</td>\n",
       "      <td>34.08</td>\n",
       "      <td>-117.16</td>\n",
       "    </tr>\n",
       "    <tr>\n",
       "      <th>11609</th>\n",
       "      <td>3.1944</td>\n",
       "      <td>29.0</td>\n",
       "      <td>5.979592</td>\n",
       "      <td>1.023324</td>\n",
       "      <td>915.0</td>\n",
       "      <td>2.667638</td>\n",
       "      <td>36.22</td>\n",
       "      <td>-119.35</td>\n",
       "    </tr>\n",
       "  </tbody>\n",
       "</table>\n",
       "<p>11610 rows × 8 columns</p>\n",
       "</div>"
      ],
      "text/plain": [
       "        MedInc  HouseAge  AveRooms  AveBedrms  Population  AveOccup  Latitude  \\\n",
       "0       3.5250      34.0  4.296296   0.895062       398.0  2.456790     37.63   \n",
       "1       5.4063      36.0  5.378652   1.011236      2039.0  2.291011     37.41   \n",
       "2       3.5129      34.0  5.234072   1.060942      2356.0  3.263158     38.01   \n",
       "3       4.1500      46.0  4.039216   0.862745       134.0  2.627451     37.42   \n",
       "4       2.3547      31.0  4.174497   1.040268       821.0  1.836689     37.33   \n",
       "...        ...       ...       ...        ...         ...       ...       ...   \n",
       "11605   3.5972      26.0  5.000000   1.097902      1150.0  2.680653     33.90   \n",
       "11606   3.5444      12.0  4.786854   1.027230      2029.0  1.905164     38.68   \n",
       "11607  10.2849      26.0  7.807095   1.008869      1336.0  2.962306     33.64   \n",
       "11608   4.5100       9.0  5.736216   1.073514      2630.0  2.843243     34.08   \n",
       "11609   3.1944      29.0  5.979592   1.023324       915.0  2.667638     36.22   \n",
       "\n",
       "       Longitude  \n",
       "0        -122.49  \n",
       "1        -122.13  \n",
       "2        -121.90  \n",
       "3        -122.14  \n",
       "4        -121.95  \n",
       "...          ...  \n",
       "11605    -118.14  \n",
       "11606    -121.29  \n",
       "11607    -117.87  \n",
       "11608    -117.16  \n",
       "11609    -119.35  \n",
       "\n",
       "[11610 rows x 8 columns]"
      ]
     },
     "metadata": {},
     "output_type": "display_data"
    },
    {
     "name": "stdout",
     "output_type": "stream",
     "text": [
      "<class 'pandas.core.frame.DataFrame'>\n",
      "RangeIndex: 11610 entries, 0 to 11609\n",
      "Data columns (total 8 columns):\n",
      " #   Column      Non-Null Count  Dtype  \n",
      "---  ------      --------------  -----  \n",
      " 0   MedInc      11610 non-null  float64\n",
      " 1   HouseAge    11610 non-null  float64\n",
      " 2   AveRooms    11610 non-null  float64\n",
      " 3   AveBedrms   11610 non-null  float64\n",
      " 4   Population  11610 non-null  float64\n",
      " 5   AveOccup    11610 non-null  float64\n",
      " 6   Latitude    11610 non-null  float64\n",
      " 7   Longitude   11610 non-null  float64\n",
      "dtypes: float64(8)\n",
      "memory usage: 725.8 KB\n"
     ]
    },
    {
     "data": {
      "text/html": [
       "<div>\n",
       "<style scoped>\n",
       "    .dataframe tbody tr th:only-of-type {\n",
       "        vertical-align: middle;\n",
       "    }\n",
       "\n",
       "    .dataframe tbody tr th {\n",
       "        vertical-align: top;\n",
       "    }\n",
       "\n",
       "    .dataframe thead th {\n",
       "        text-align: right;\n",
       "    }\n",
       "</style>\n",
       "<table border=\"1\" class=\"dataframe\">\n",
       "  <thead>\n",
       "    <tr style=\"text-align: right;\">\n",
       "      <th></th>\n",
       "      <th>MedInc</th>\n",
       "      <th>HouseAge</th>\n",
       "      <th>AveRooms</th>\n",
       "      <th>AveBedrms</th>\n",
       "      <th>Population</th>\n",
       "      <th>AveOccup</th>\n",
       "      <th>Latitude</th>\n",
       "      <th>Longitude</th>\n",
       "    </tr>\n",
       "  </thead>\n",
       "  <tbody>\n",
       "    <tr>\n",
       "      <th>count</th>\n",
       "      <td>11610.000000</td>\n",
       "      <td>11610.000000</td>\n",
       "      <td>11610.000000</td>\n",
       "      <td>11610.000000</td>\n",
       "      <td>11610.000000</td>\n",
       "      <td>11610.000000</td>\n",
       "      <td>11610.000000</td>\n",
       "      <td>11610.000000</td>\n",
       "    </tr>\n",
       "    <tr>\n",
       "      <th>mean</th>\n",
       "      <td>3.858186</td>\n",
       "      <td>28.573643</td>\n",
       "      <td>5.444476</td>\n",
       "      <td>1.100467</td>\n",
       "      <td>1430.212748</td>\n",
       "      <td>3.007000</td>\n",
       "      <td>35.634738</td>\n",
       "      <td>-119.563834</td>\n",
       "    </tr>\n",
       "    <tr>\n",
       "      <th>std</th>\n",
       "      <td>1.875128</td>\n",
       "      <td>12.596228</td>\n",
       "      <td>2.448460</td>\n",
       "      <td>0.491478</td>\n",
       "      <td>1162.821538</td>\n",
       "      <td>5.216354</td>\n",
       "      <td>2.133309</td>\n",
       "      <td>1.992910</td>\n",
       "    </tr>\n",
       "    <tr>\n",
       "      <th>min</th>\n",
       "      <td>0.499900</td>\n",
       "      <td>1.000000</td>\n",
       "      <td>0.846154</td>\n",
       "      <td>0.375000</td>\n",
       "      <td>3.000000</td>\n",
       "      <td>0.692308</td>\n",
       "      <td>32.540000</td>\n",
       "      <td>-124.300000</td>\n",
       "    </tr>\n",
       "    <tr>\n",
       "      <th>25%</th>\n",
       "      <td>2.564300</td>\n",
       "      <td>18.000000</td>\n",
       "      <td>4.446701</td>\n",
       "      <td>1.005894</td>\n",
       "      <td>788.000000</td>\n",
       "      <td>2.436990</td>\n",
       "      <td>33.930000</td>\n",
       "      <td>-121.780000</td>\n",
       "    </tr>\n",
       "    <tr>\n",
       "      <th>50%</th>\n",
       "      <td>3.543250</td>\n",
       "      <td>29.000000</td>\n",
       "      <td>5.231288</td>\n",
       "      <td>1.049401</td>\n",
       "      <td>1171.000000</td>\n",
       "      <td>2.822441</td>\n",
       "      <td>34.260000</td>\n",
       "      <td>-118.490000</td>\n",
       "    </tr>\n",
       "    <tr>\n",
       "      <th>75%</th>\n",
       "      <td>4.734400</td>\n",
       "      <td>37.000000</td>\n",
       "      <td>6.081031</td>\n",
       "      <td>1.100427</td>\n",
       "      <td>1724.750000</td>\n",
       "      <td>3.283559</td>\n",
       "      <td>37.710000</td>\n",
       "      <td>-118.010000</td>\n",
       "    </tr>\n",
       "    <tr>\n",
       "      <th>max</th>\n",
       "      <td>15.000100</td>\n",
       "      <td>52.000000</td>\n",
       "      <td>132.533333</td>\n",
       "      <td>34.066667</td>\n",
       "      <td>35682.000000</td>\n",
       "      <td>502.461538</td>\n",
       "      <td>41.860000</td>\n",
       "      <td>-114.310000</td>\n",
       "    </tr>\n",
       "  </tbody>\n",
       "</table>\n",
       "</div>"
      ],
      "text/plain": [
       "             MedInc      HouseAge      AveRooms     AveBedrms    Population  \\\n",
       "count  11610.000000  11610.000000  11610.000000  11610.000000  11610.000000   \n",
       "mean       3.858186     28.573643      5.444476      1.100467   1430.212748   \n",
       "std        1.875128     12.596228      2.448460      0.491478   1162.821538   \n",
       "min        0.499900      1.000000      0.846154      0.375000      3.000000   \n",
       "25%        2.564300     18.000000      4.446701      1.005894    788.000000   \n",
       "50%        3.543250     29.000000      5.231288      1.049401   1171.000000   \n",
       "75%        4.734400     37.000000      6.081031      1.100427   1724.750000   \n",
       "max       15.000100     52.000000    132.533333     34.066667  35682.000000   \n",
       "\n",
       "           AveOccup      Latitude     Longitude  \n",
       "count  11610.000000  11610.000000  11610.000000  \n",
       "mean       3.007000     35.634738   -119.563834  \n",
       "std        5.216354      2.133309      1.992910  \n",
       "min        0.692308     32.540000   -124.300000  \n",
       "25%        2.436990     33.930000   -121.780000  \n",
       "50%        2.822441     34.260000   -118.490000  \n",
       "75%        3.283559     37.710000   -118.010000  \n",
       "max      502.461538     41.860000   -114.310000  "
      ]
     },
     "execution_count": 4,
     "metadata": {},
     "output_type": "execute_result"
    }
   ],
   "source": [
    "pd_x_train = pd.DataFrame(x_train, columns=housing.feature_names)\n",
    "display(pd_x_train)\n",
    "pd_x_train.info()\n",
    "pd_x_train.describe()"
   ]
  },
  {
   "cell_type": "markdown",
   "metadata": {},
   "source": [
    "### 前処理"
   ]
  },
  {
   "cell_type": "markdown",
   "metadata": {},
   "source": [
    "#### スケーリング"
   ]
  },
  {
   "cell_type": "markdown",
   "metadata": {},
   "source": [
    "### [StandardScaler](https://scikit-learn.org/stable/modules/generated/sklearn.preprocessing.StandardScaler.html)\n",
    "データの標準化を行う。\n",
    "\n",
    "代表的なメソッドは以下：\n",
    "\n",
    "|メソッド|説明|\n",
    "|---|---|\n",
    "|fit()|標準化するための平均と分散を計算する。|\n",
    "|trasform()|（事前に計算した平均と分散を使用して）標準化を行う。|\n",
    "|fit_transform()|平均と分散を計算し、標準化を行う。|"
   ]
  },
  {
   "cell_type": "code",
   "execution_count": 5,
   "metadata": {},
   "outputs": [],
   "source": [
    "scaler = StandardScaler()\n",
    "\n",
    "x_train = scaler.fit_transform(x_train)\n",
    "x_valid = scaler.transform(x_valid)  # x_trainの平均・分散を使用する（のはなぜ？）\n",
    "x_test = scaler.transform(x_test)  # x_trainの平均・分散を使用する（のはなぜ？）"
   ]
  },
  {
   "cell_type": "markdown",
   "metadata": {},
   "source": [
    "#### inputデータ分割"
   ]
  },
  {
   "cell_type": "code",
   "execution_count": 6,
   "metadata": {},
   "outputs": [],
   "source": [
    "# ワイドパス、ディープパス用で分割\n",
    "x_train_A, x_train_B = x_train[:, :5], x_train[:, 2:]\n",
    "x_valid_A, x_valid_B = x_valid[:, :5], x_valid[:, 2:]\n",
    "x_test_A, x_test_B = x_test[:, :5], x_test[:, 2:]"
   ]
  },
  {
   "cell_type": "markdown",
   "metadata": {},
   "source": [
    "# モデル作成"
   ]
  },
  {
   "cell_type": "markdown",
   "metadata": {},
   "source": [
    "## レイヤ構成を定義"
   ]
  },
  {
   "cell_type": "markdown",
   "metadata": {},
   "source": [
    "Sequential APIでは層の順番を定義したが、\n",
    "関数型APIではより複雑に層同士の接続方法を定義することが出来る。<br>\n",
    "\n",
    "具体的には層の出力を別の層の入力に渡すことで接続方法をモデルに指示する。<br>\n",
    "これがレイヤクラスのインスタンスを生成する際に入力を渡す姿が関数のように見えるため関数型APIと言われる所以である。\n",
    "\n",
    "ちなみにインスタンス生成時は層の接続方法を指示しているだけで、データはまだ処理されていない。"
   ]
  },
  {
   "cell_type": "code",
   "execution_count": 7,
   "metadata": {},
   "outputs": [
    {
     "name": "stderr",
     "output_type": "stream",
     "text": [
      "2022-07-10 21:04:27.879928: I tensorflow/core/platform/cpu_feature_guard.cc:151] This TensorFlow binary is optimized with oneAPI Deep Neural Network Library (oneDNN) to use the following CPU instructions in performance-critical operations:  AVX2 FMA\n",
      "To enable them in other operations, rebuild TensorFlow with the appropriate compiler flags.\n"
     ]
    }
   ],
   "source": [
    "# 初期化時にレイヤのリストを渡すことでレイヤ定義も同時に行う\n",
    "input_A = keras.layers.Input(shape=[5], name='wide_input')  # ワイドパスのインプット層\n",
    "input_B = keras.layers.Input(shape=[6], name='deep_input')  # ディープパスのインプット層\n",
    "hidden1 = keras.layers.Dense(units=30, activation='relu')(input_B)  # input_B → hidden_1 へ\n",
    "hidden2 = keras.layers.Dense(units=30, activation='relu')(hidden1)  # hidden_1 → hidden_2 へ\n",
    "concat = keras.layers.concatenate([input_A, hidden2])  # input_Aとhidden_2を結合\n",
    "output = keras.layers.Dense(1, name='output')(concat)  # concat →　output\n",
    "\n",
    "model = keras.Model(inputs=[input_A, input_B], outputs=[output])"
   ]
  },
  {
   "cell_type": "markdown",
   "metadata": {},
   "source": [
    "## モデルのコンパイル"
   ]
  },
  {
   "cell_type": "code",
   "execution_count": 8,
   "metadata": {},
   "outputs": [
    {
     "name": "stdout",
     "output_type": "stream",
     "text": [
      "Model: \"model\"\n",
      "__________________________________________________________________________________________________\n",
      " Layer (type)                   Output Shape         Param #     Connected to                     \n",
      "==================================================================================================\n",
      " deep_input (InputLayer)        [(None, 6)]          0           []                               \n",
      "                                                                                                  \n",
      " dense (Dense)                  (None, 30)           210         ['deep_input[0][0]']             \n",
      "                                                                                                  \n",
      " wide_input (InputLayer)        [(None, 5)]          0           []                               \n",
      "                                                                                                  \n",
      " dense_1 (Dense)                (None, 30)           930         ['dense[0][0]']                  \n",
      "                                                                                                  \n",
      " concatenate (Concatenate)      (None, 35)           0           ['wide_input[0][0]',             \n",
      "                                                                  'dense_1[0][0]']                \n",
      "                                                                                                  \n",
      " output (Dense)                 (None, 1)            36          ['concatenate[0][0]']            \n",
      "                                                                                                  \n",
      "==================================================================================================\n",
      "Total params: 1,176\n",
      "Trainable params: 1,176\n",
      "Non-trainable params: 0\n",
      "__________________________________________________________________________________________________\n"
     ]
    }
   ],
   "source": [
    "model.compile(loss=\"mse\", optimizer=keras.optimizers.SGD(learning_rate=1e-3))\n",
    "\n",
    "model.summary()"
   ]
  },
  {
   "cell_type": "markdown",
   "metadata": {},
   "source": [
    "# 学習と評価"
   ]
  },
  {
   "cell_type": "markdown",
   "metadata": {},
   "source": [
    "### コールバック設定"
   ]
  },
  {
   "cell_type": "code",
   "execution_count": 9,
   "metadata": {},
   "outputs": [],
   "source": [
    "import os\n",
    "\n",
    "# ログ出力のルートディレクトリ\n",
    "root_dir = os.path.join(os.curdir, 'my_logs')\n",
    "\n",
    "# ログディレクトリ名を生成する関数\n",
    "def get_run_logdir():\n",
    "    import time\n",
    "    run_id = time.strftime('run_%Y_%m_%d-%H_%M_%S')\n",
    "    return os.path.join(root_dir, run_id)\n",
    "\n",
    "run_logdir = get_run_logdir()\n",
    "\n",
    "tensorboard_cb = keras.callbacks.TensorBoard(run_logdir)"
   ]
  },
  {
   "cell_type": "code",
   "execution_count": 10,
   "metadata": {},
   "outputs": [],
   "source": [
    "# 早期打ち切りのコールバック関数\n",
    "# 学習打ち切り時に性能が最高だった時の重みを復元するので最良モデルの保存と復元は不要\n",
    "early_stopping_cb = keras.callbacks.EarlyStopping(patience=10, restore_best_weights=True)  # patienceで指定したエポック数学習が進まなかったときに学習を打ち切る"
   ]
  },
  {
   "cell_type": "code",
   "execution_count": 11,
   "metadata": {},
   "outputs": [],
   "source": [
    "class PrintValTrainRatioCallback(keras.callbacks.Callback):\n",
    "    def on_epoch_end(self, epoch, logs):\n",
    "        print(\"\\nval/train: {:.2f}\".format(logs[\"val_loss\"] / logs[\"loss\"]))\n",
    "\n",
    "print_valid_train_ration_cb = PrintValTrainRatioCallback()"
   ]
  },
  {
   "cell_type": "markdown",
   "metadata": {},
   "source": [
    "## 学習"
   ]
  },
  {
   "cell_type": "code",
   "execution_count": 12,
   "metadata": {},
   "outputs": [
    {
     "name": "stdout",
     "output_type": "stream",
     "text": [
      "Epoch 1/20\n",
      "  1/363 [..............................] - ETA: 1:39 - loss: 4.2648WARNING:tensorflow:Callback method `on_train_batch_end` is slow compared to the batch time (batch time: 0.0007s vs `on_train_batch_end` time: 0.0012s). Check your callbacks.\n",
      "353/363 [============================>.] - ETA: 0s - loss: 2.5674\n",
      "val/train: 0.41\n",
      "363/363 [==============================] - 1s 2ms/step - loss: 2.5210 - val_loss: 1.0439\n",
      "Epoch 2/20\n",
      "333/363 [==========================>...] - ETA: 0s - loss: 0.8225\n",
      "val/train: 0.91\n",
      "363/363 [==============================] - 1s 2ms/step - loss: 0.8119 - val_loss: 0.7397\n",
      "Epoch 3/20\n",
      "360/363 [============================>.] - ETA: 0s - loss: 0.6767\n",
      "val/train: 0.97\n",
      "363/363 [==============================] - 1s 1ms/step - loss: 0.6775 - val_loss: 0.6590\n",
      "Epoch 4/20\n",
      "344/363 [===========================>..] - ETA: 0s - loss: 0.6316\n",
      "val/train: 0.99\n",
      "363/363 [==============================] - 0s 1ms/step - loss: 0.6281 - val_loss: 0.6188\n",
      "Epoch 5/20\n",
      "339/363 [===========================>..] - ETA: 0s - loss: 0.5968\n",
      "val/train: 0.99\n",
      "363/363 [==============================] - 0s 1ms/step - loss: 0.5959 - val_loss: 0.5876\n",
      "Epoch 6/20\n",
      "325/363 [=========================>....] - ETA: 0s - loss: 0.5725\n",
      "val/train: 0.99\n",
      "363/363 [==============================] - 0s 1ms/step - loss: 0.5723 - val_loss: 0.5673\n",
      "Epoch 7/20\n",
      "326/363 [=========================>....] - ETA: 0s - loss: 0.5519\n",
      "val/train: 1.00\n",
      "363/363 [==============================] - 0s 1ms/step - loss: 0.5530 - val_loss: 0.5505\n",
      "Epoch 8/20\n",
      "312/363 [========================>.....] - ETA: 0s - loss: 0.5399\n",
      "val/train: 1.00\n",
      "363/363 [==============================] - 0s 1ms/step - loss: 0.5372 - val_loss: 0.5370\n",
      "Epoch 9/20\n",
      "342/363 [===========================>..] - ETA: 0s - loss: 0.5244\n",
      "val/train: 1.00\n",
      "363/363 [==============================] - 0s 949us/step - loss: 0.5247 - val_loss: 0.5253\n",
      "Epoch 10/20\n",
      "326/363 [=========================>....] - ETA: 0s - loss: 0.5160\n",
      "val/train: 1.00\n",
      "363/363 [==============================] - 0s 1ms/step - loss: 0.5137 - val_loss: 0.5146\n",
      "Epoch 11/20\n",
      "344/363 [===========================>..] - ETA: 0s - loss: 0.5044\n",
      "val/train: 1.01\n",
      "363/363 [==============================] - 0s 943us/step - loss: 0.5042 - val_loss: 0.5081\n",
      "Epoch 12/20\n",
      "342/363 [===========================>..] - ETA: 0s - loss: 0.4999\n",
      "val/train: 1.01\n",
      "363/363 [==============================] - 0s 963us/step - loss: 0.4962 - val_loss: 0.4994\n",
      "Epoch 13/20\n",
      "345/363 [===========================>..] - ETA: 0s - loss: 0.4883\n",
      "val/train: 1.01\n",
      "363/363 [==============================] - 0s 950us/step - loss: 0.4888 - val_loss: 0.4929\n",
      "Epoch 14/20\n",
      "350/363 [===========================>..] - ETA: 0s - loss: 0.4834\n",
      "val/train: 1.01\n",
      "363/363 [==============================] - 0s 930us/step - loss: 0.4824 - val_loss: 0.4873\n",
      "Epoch 15/20\n",
      "354/363 [============================>.] - ETA: 0s - loss: 0.4778\n",
      "val/train: 1.02\n",
      "363/363 [==============================] - 0s 928us/step - loss: 0.4766 - val_loss: 0.4840\n",
      "Epoch 16/20\n",
      "349/363 [===========================>..] - ETA: 0s - loss: 0.4697\n",
      "val/train: 1.01\n",
      "363/363 [==============================] - 0s 944us/step - loss: 0.4711 - val_loss: 0.4765\n",
      "Epoch 17/20\n",
      "360/363 [============================>.] - ETA: 0s - loss: 0.4668\n",
      "val/train: 1.01\n",
      "363/363 [==============================] - 0s 915us/step - loss: 0.4661 - val_loss: 0.4716\n",
      "Epoch 18/20\n",
      "350/363 [===========================>..] - ETA: 0s - loss: 0.4567\n",
      "val/train: 1.01\n",
      "363/363 [==============================] - 0s 935us/step - loss: 0.4613 - val_loss: 0.4670\n",
      "Epoch 19/20\n",
      "352/363 [============================>.] - ETA: 0s - loss: 0.4582\n",
      "val/train: 1.01\n",
      "363/363 [==============================] - 0s 947us/step - loss: 0.4568 - val_loss: 0.4603\n",
      "Epoch 20/20\n",
      "342/363 [===========================>..] - ETA: 0s - loss: 0.4508\n",
      "val/train: 1.01\n",
      "363/363 [==============================] - 0s 1ms/step - loss: 0.4526 - val_loss: 0.4580\n"
     ]
    }
   ],
   "source": [
    "history = model.fit((x_train_A, x_train_B), y_train, epochs=20, validation_data=((x_valid_A, x_valid_B), y_valid), callbacks=[tensorboard_cb, early_stopping_cb, print_valid_train_ration_cb])"
   ]
  },
  {
   "cell_type": "markdown",
   "metadata": {},
   "source": [
    "## 学習結果の可視化"
   ]
  },
  {
   "cell_type": "code",
   "execution_count": 13,
   "metadata": {},
   "outputs": [
    {
     "data": {
      "text/plain": [
       "Reusing TensorBoard on port 6006 (pid 59349), started 0:00:56 ago. (Use '!kill 59349' to kill it.)"
      ]
     },
     "metadata": {},
     "output_type": "display_data"
    },
    {
     "data": {
      "text/html": [
       "\n",
       "      <iframe id=\"tensorboard-frame-4b78e3247778458\" width=\"100%\" height=\"800\" frameborder=\"0\">\n",
       "      </iframe>\n",
       "      <script>\n",
       "        (function() {\n",
       "          const frame = document.getElementById(\"tensorboard-frame-4b78e3247778458\");\n",
       "          const url = new URL(\"http://localhost\");\n",
       "          const port = 6006;\n",
       "          if (port) {\n",
       "            url.port = port;\n",
       "          }\n",
       "          frame.src = url;\n",
       "        })();\n",
       "      </script>\n",
       "    "
      ],
      "text/plain": [
       "<IPython.core.display.HTML object>"
      ]
     },
     "metadata": {},
     "output_type": "display_data"
    }
   ],
   "source": [
    "%load_ext tensorboard\n",
    "%tensorboard --logdir ./my_logs"
   ]
  },
  {
   "cell_type": "markdown",
   "metadata": {},
   "source": [
    "## 学習結果の評価"
   ]
  },
  {
   "cell_type": "code",
   "execution_count": 14,
   "metadata": {},
   "outputs": [
    {
     "name": "stdout",
     "output_type": "stream",
     "text": [
      "162/162 [==============================] - 0s 1ms/step - loss: 0.4652\n"
     ]
    },
    {
     "data": {
      "text/plain": [
       "0.46522411704063416"
      ]
     },
     "execution_count": 14,
     "metadata": {},
     "output_type": "execute_result"
    }
   ],
   "source": [
    "mse_test = model.evaluate((x_test_A, x_test_B), y_test)\n",
    "mse_test"
   ]
  },
  {
   "cell_type": "markdown",
   "metadata": {},
   "source": [
    "# 学習済みモデルを使った予測"
   ]
  },
  {
   "cell_type": "code",
   "execution_count": 15,
   "metadata": {},
   "outputs": [
    {
     "name": "stdout",
     "output_type": "stream",
     "text": [
      "predict : [5.7440825  2.1155465  0.77685887]\n",
      "correct : [4.167 3.5   1.224]\n"
     ]
    }
   ],
   "source": [
    "# サンプル用にデータサイズを限定\n",
    "x_new_A, x_new_B = x_test_A[:3], x_test_B[:3]\n",
    "\n",
    "y_pred = model.predict((x_new_A, x_new_B))\n",
    "print(f'predict : {y_pred.reshape(-1)}')\n",
    "print(f'correct : {y_test[:3]}')"
   ]
  },
  {
   "cell_type": "markdown",
   "metadata": {},
   "source": [
    "# 複数の出力をもつニューラルネットワーク"
   ]
  },
  {
   "cell_type": "markdown",
   "metadata": {},
   "source": [
    "マルチタスク分類に対応したモデルを作成する場合、出力を複数用意する必要がある。<br>\n",
    "例えば同じ顔写真から表情と眼鏡を掛けているかどうかを分類するような問題がこれに当たる。\n",
    "\n",
    "また、ユースケースとしては正則化テクニックとして使用する場合がある。<br>\n",
    "例えばネットワークの下位層だけで独自に役立つ情報が学習ができるように補助出力を追加するような場合である。\n",
    "\n",
    "今回は正則化テクニックを想定して、下位の隠れ層2層だけで独自に学習が出来るニューラルネットを作成する。\n",
    "\n",
    "![複数出力をもつニューラルネット](./fig/multiple_outputs_nural_net.png)\n"
   ]
  },
  {
   "cell_type": "markdown",
   "metadata": {},
   "source": [
    "モジュールインポートからデータ前処理まではワイド・アンド・ディープニューラルネットを流用する"
   ]
  },
  {
   "cell_type": "markdown",
   "metadata": {},
   "source": [
    "# モデル作成"
   ]
  },
  {
   "cell_type": "markdown",
   "metadata": {},
   "source": [
    "## レイヤ構成を定義"
   ]
  },
  {
   "cell_type": "code",
   "execution_count": 16,
   "metadata": {},
   "outputs": [],
   "source": [
    "# 初期化時にレイヤのリストを渡すことでレイヤ定義も同時に行う\n",
    "input_A = keras.layers.Input(shape=[5], name='wide_input')  # ワイドパスのインプット層\n",
    "input_B = keras.layers.Input(shape=[6], name='deep_input')  # ディープパスのインプット層\n",
    "hidden1 = keras.layers.Dense(units=30, activation='relu')(input_B)  # input_B → hidden_1 へ\n",
    "hidden2 = keras.layers.Dense(units=30, activation='relu')(hidden1)  # hidden_1 → hidden_2 へ\n",
    "concat = keras.layers.concatenate([input_A, hidden2])  # input_Aとhidden_2を結合\n",
    "output = keras.layers.Dense(1, name='output')(concat)  # concat →　output\n",
    "aux_output = keras.layers.Dense(1, name='aux_output')(hidden2)  # hidden_2 →　aux_output\n",
    "\n",
    "multi_outputs_model = keras.Model(inputs=[input_A, input_B], outputs=[output, aux_output])"
   ]
  },
  {
   "cell_type": "markdown",
   "metadata": {},
   "source": [
    "## モデルのコンパイル"
   ]
  },
  {
   "cell_type": "markdown",
   "metadata": {},
   "source": [
    "個々の出力に対して専用の損失関数を準備する必要があるため損失関数のリストを引数に渡す。<br>\n",
    "またデフォルトでは単純に個々の損失を合計してモデル全体の損失とする。重みづけする場合はloss_weightsで重みを指定する。<br>\n",
    "今回の例では正則化のための補助出力よりもメイン出力の方が重要なのでメイン出力の重みを大きくする。"
   ]
  },
  {
   "cell_type": "code",
   "execution_count": 17,
   "metadata": {},
   "outputs": [
    {
     "name": "stdout",
     "output_type": "stream",
     "text": [
      "Model: \"model_1\"\n",
      "__________________________________________________________________________________________________\n",
      " Layer (type)                   Output Shape         Param #     Connected to                     \n",
      "==================================================================================================\n",
      " deep_input (InputLayer)        [(None, 6)]          0           []                               \n",
      "                                                                                                  \n",
      " dense_2 (Dense)                (None, 30)           210         ['deep_input[0][0]']             \n",
      "                                                                                                  \n",
      " wide_input (InputLayer)        [(None, 5)]          0           []                               \n",
      "                                                                                                  \n",
      " dense_3 (Dense)                (None, 30)           930         ['dense_2[0][0]']                \n",
      "                                                                                                  \n",
      " concatenate_1 (Concatenate)    (None, 35)           0           ['wide_input[0][0]',             \n",
      "                                                                  'dense_3[0][0]']                \n",
      "                                                                                                  \n",
      " output (Dense)                 (None, 1)            36          ['concatenate_1[0][0]']          \n",
      "                                                                                                  \n",
      " aux_output (Dense)             (None, 1)            31          ['dense_3[0][0]']                \n",
      "                                                                                                  \n",
      "==================================================================================================\n",
      "Total params: 1,207\n",
      "Trainable params: 1,207\n",
      "Non-trainable params: 0\n",
      "__________________________________________________________________________________________________\n"
     ]
    }
   ],
   "source": [
    "multi_outputs_model.compile(loss=[\"mse\", \"mse\"], loss_weights=[0.9, 0.1], optimizer=keras.optimizers.SGD())\n",
    "\n",
    "multi_outputs_model.summary()"
   ]
  },
  {
   "cell_type": "markdown",
   "metadata": {},
   "source": [
    "# 学習と評価"
   ]
  },
  {
   "cell_type": "markdown",
   "metadata": {},
   "source": [
    "## 学習"
   ]
  },
  {
   "cell_type": "markdown",
   "metadata": {},
   "source": [
    "学習時もそれぞれの出力に対してラベルを指定する必要がある。<br>\n",
    "今回の例では両方同じものを予測しているので同じラベルを渡す。"
   ]
  },
  {
   "cell_type": "markdown",
   "metadata": {},
   "source": [
    "### コールバック設定"
   ]
  },
  {
   "cell_type": "code",
   "execution_count": 18,
   "metadata": {},
   "outputs": [],
   "source": [
    "import os\n",
    "\n",
    "# ログ出力のルートディレクトリ\n",
    "root_dir = os.path.join(os.curdir, 'my_logs')\n",
    "\n",
    "# ログディレクトリ名を生成する関数\n",
    "def get_run_logdir():\n",
    "    import time\n",
    "    run_id = time.strftime('run_%Y_%m_%d-%H_%M_%S')\n",
    "    return os.path.join(root_dir, run_id)\n",
    "\n",
    "run_logdir = get_run_logdir()\n",
    "\n",
    "tensorboard_cb = keras.callbacks.TensorBoard(run_logdir)"
   ]
  },
  {
   "cell_type": "code",
   "execution_count": 19,
   "metadata": {},
   "outputs": [],
   "source": [
    "# 早期打ち切りのコールバック関数\n",
    "# 学習打ち切り時に性能が最高だった時の重みを復元するので最良モデルの保存と復元は不要\n",
    "early_stopping_cb = keras.callbacks.EarlyStopping(patience=10, restore_best_weights=True)  # patienceで指定したエポック数学習が進まなかったときに学習を打ち切る"
   ]
  },
  {
   "cell_type": "code",
   "execution_count": 20,
   "metadata": {},
   "outputs": [],
   "source": [
    "class PrintValTrainRatioCallback(keras.callbacks.Callback):\n",
    "    def on_epoch_end(self, epoch, logs):\n",
    "        print(\"\\nval/train: {:.2f}\".format(logs[\"val_loss\"] / logs[\"loss\"]))\n",
    "\n",
    "print_valid_train_ration_cb = PrintValTrainRatioCallback()"
   ]
  },
  {
   "cell_type": "code",
   "execution_count": 21,
   "metadata": {},
   "outputs": [
    {
     "name": "stdout",
     "output_type": "stream",
     "text": [
      "Epoch 1/20\n",
      "  1/363 [..............................] - ETA: 2:50 - loss: 5.3294 - output_loss: 5.3680 - aux_output_loss: 4.9819WARNING:tensorflow:Callback method `on_train_batch_end` is slow compared to the batch time (batch time: 0.0008s vs `on_train_batch_end` time: 0.0021s). Check your callbacks.\n",
      "322/363 [=========================>....] - ETA: 0s - loss: 1.0985 - output_loss: 0.9180 - aux_output_loss: 2.7230\n",
      "val/train: 1.45\n",
      "363/363 [==============================] - 1s 2ms/step - loss: 1.0442 - output_loss: 0.8759 - aux_output_loss: 2.5588 - val_loss: 1.5171 - val_output_loss: 1.5409 - val_aux_output_loss: 1.3027\n",
      "Epoch 2/20\n",
      "325/363 [=========================>....] - ETA: 0s - loss: 0.6069 - output_loss: 0.5523 - aux_output_loss: 1.0986\n",
      "val/train: 0.95\n",
      "363/363 [==============================] - 0s 1ms/step - loss: 0.6169 - output_loss: 0.5657 - aux_output_loss: 1.0775 - val_loss: 0.5857 - val_output_loss: 0.5328 - val_aux_output_loss: 1.0621\n",
      "Epoch 3/20\n",
      "354/363 [============================>.] - ETA: 0s - loss: 0.5179 - output_loss: 0.4747 - aux_output_loss: 0.9064\n",
      "val/train: 1.09\n",
      "363/363 [==============================] - 1s 1ms/step - loss: 0.5156 - output_loss: 0.4724 - aux_output_loss: 0.9049 - val_loss: 0.5620 - val_output_loss: 0.5285 - val_aux_output_loss: 0.8633\n",
      "Epoch 4/20\n",
      "350/363 [===========================>..] - ETA: 0s - loss: 0.4727 - output_loss: 0.4378 - aux_output_loss: 0.7867\n",
      "val/train: 1.00\n",
      "363/363 [==============================] - 0s 1ms/step - loss: 0.4716 - output_loss: 0.4369 - aux_output_loss: 0.7835 - val_loss: 0.4693 - val_output_loss: 0.4368 - val_aux_output_loss: 0.7622\n",
      "Epoch 5/20\n",
      "342/363 [===========================>..] - ETA: 0s - loss: 0.4487 - output_loss: 0.4196 - aux_output_loss: 0.7107\n",
      "val/train: 1.07\n",
      "363/363 [==============================] - 0s 1ms/step - loss: 0.4499 - output_loss: 0.4209 - aux_output_loss: 0.7102 - val_loss: 0.4810 - val_output_loss: 0.4569 - val_aux_output_loss: 0.6974\n",
      "Epoch 6/20\n",
      "345/363 [===========================>..] - ETA: 0s - loss: 0.4315 - output_loss: 0.4063 - aux_output_loss: 0.6585\n",
      "val/train: 1.08\n",
      "363/363 [==============================] - 0s 1ms/step - loss: 0.4361 - output_loss: 0.4110 - aux_output_loss: 0.6621 - val_loss: 0.4727 - val_output_loss: 0.4533 - val_aux_output_loss: 0.6475\n",
      "Epoch 7/20\n",
      "334/363 [==========================>...] - ETA: 0s - loss: 0.4303 - output_loss: 0.4079 - aux_output_loss: 0.6314\n",
      "val/train: 1.08\n",
      "363/363 [==============================] - 0s 1ms/step - loss: 0.4294 - output_loss: 0.4072 - aux_output_loss: 0.6290 - val_loss: 0.4648 - val_output_loss: 0.4478 - val_aux_output_loss: 0.6175\n",
      "Epoch 8/20\n",
      "328/363 [==========================>...] - ETA: 0s - loss: 0.4200 - output_loss: 0.3991 - aux_output_loss: 0.6076\n",
      "val/train: 1.02\n",
      "363/363 [==============================] - 0s 1ms/step - loss: 0.4193 - output_loss: 0.3987 - aux_output_loss: 0.6047 - val_loss: 0.4269 - val_output_loss: 0.4070 - val_aux_output_loss: 0.6063\n",
      "Epoch 9/20\n",
      "347/363 [===========================>..] - ETA: 0s - loss: 0.4083 - output_loss: 0.3888 - aux_output_loss: 0.5845\n",
      "val/train: 1.04\n",
      "363/363 [==============================] - 0s 1ms/step - loss: 0.4093 - output_loss: 0.3897 - aux_output_loss: 0.5856 - val_loss: 0.4260 - val_output_loss: 0.4084 - val_aux_output_loss: 0.5850\n",
      "Epoch 10/20\n",
      "329/363 [==========================>...] - ETA: 0s - loss: 0.4105 - output_loss: 0.3923 - aux_output_loss: 0.5737\n",
      "val/train: 1.04\n",
      "363/363 [==============================] - 0s 1ms/step - loss: 0.4086 - output_loss: 0.3908 - aux_output_loss: 0.5687 - val_loss: 0.4241 - val_output_loss: 0.4071 - val_aux_output_loss: 0.5767\n",
      "Epoch 11/20\n",
      "340/363 [===========================>..] - ETA: 0s - loss: 0.4110 - output_loss: 0.3934 - aux_output_loss: 0.5700\n",
      "val/train: 1.04\n",
      "363/363 [==============================] - 0s 1ms/step - loss: 0.4072 - output_loss: 0.3897 - aux_output_loss: 0.5644 - val_loss: 0.4214 - val_output_loss: 0.4042 - val_aux_output_loss: 0.5766\n",
      "Epoch 12/20\n",
      "355/363 [============================>.] - ETA: 0s - loss: 0.3954 - output_loss: 0.3783 - aux_output_loss: 0.5492\n",
      "val/train: 1.13\n",
      "363/363 [==============================] - 0s 1ms/step - loss: 0.3967 - output_loss: 0.3795 - aux_output_loss: 0.5520 - val_loss: 0.4490 - val_output_loss: 0.4368 - val_aux_output_loss: 0.5583\n",
      "Epoch 13/20\n",
      "353/363 [============================>.] - ETA: 0s - loss: 0.3907 - output_loss: 0.3741 - aux_output_loss: 0.5402\n",
      "val/train: 1.03\n",
      "363/363 [==============================] - 0s 1ms/step - loss: 0.3915 - output_loss: 0.3748 - aux_output_loss: 0.5416 - val_loss: 0.4020 - val_output_loss: 0.3843 - val_aux_output_loss: 0.5605\n",
      "Epoch 14/20\n",
      "358/363 [============================>.] - ETA: 0s - loss: 0.3892 - output_loss: 0.3730 - aux_output_loss: 0.5352\n",
      "val/train: 1.29\n",
      "363/363 [==============================] - 0s 1ms/step - loss: 0.3897 - output_loss: 0.3736 - aux_output_loss: 0.5342 - val_loss: 0.5040 - val_output_loss: 0.4965 - val_aux_output_loss: 0.5717\n",
      "Epoch 15/20\n",
      "354/363 [============================>.] - ETA: 0s - loss: 0.3867 - output_loss: 0.3709 - aux_output_loss: 0.5289\n",
      "val/train: 1.14\n",
      "363/363 [==============================] - 0s 1ms/step - loss: 0.3861 - output_loss: 0.3702 - aux_output_loss: 0.5284 - val_loss: 0.4396 - val_output_loss: 0.4289 - val_aux_output_loss: 0.5359\n",
      "Epoch 16/20\n",
      "348/363 [===========================>..] - ETA: 0s - loss: 0.3810 - output_loss: 0.3654 - aux_output_loss: 0.5216\n",
      "val/train: 1.03\n",
      "363/363 [==============================] - 0s 1ms/step - loss: 0.3803 - output_loss: 0.3647 - aux_output_loss: 0.5202 - val_loss: 0.3902 - val_output_loss: 0.3729 - val_aux_output_loss: 0.5463\n",
      "Epoch 17/20\n",
      "357/363 [============================>.] - ETA: 0s - loss: 0.3797 - output_loss: 0.3644 - aux_output_loss: 0.5176\n",
      "val/train: 1.02\n",
      "363/363 [==============================] - 0s 1ms/step - loss: 0.3780 - output_loss: 0.3628 - aux_output_loss: 0.5157 - val_loss: 0.3839 - val_output_loss: 0.3673 - val_aux_output_loss: 0.5336\n",
      "Epoch 18/20\n",
      "339/363 [===========================>..] - ETA: 0s - loss: 0.3691 - output_loss: 0.3542 - aux_output_loss: 0.5035\n",
      "val/train: 1.05\n",
      "363/363 [==============================] - 0s 1ms/step - loss: 0.3731 - output_loss: 0.3581 - aux_output_loss: 0.5083 - val_loss: 0.3934 - val_output_loss: 0.3774 - val_aux_output_loss: 0.5374\n",
      "Epoch 19/20\n",
      "349/363 [===========================>..] - ETA: 0s - loss: 0.3671 - output_loss: 0.3521 - aux_output_loss: 0.5022\n",
      "val/train: 1.04\n",
      "363/363 [==============================] - 0s 1ms/step - loss: 0.3692 - output_loss: 0.3544 - aux_output_loss: 0.5023 - val_loss: 0.3845 - val_output_loss: 0.3693 - val_aux_output_loss: 0.5210\n",
      "Epoch 20/20\n",
      "332/363 [==========================>...] - ETA: 0s - loss: 0.3710 - output_loss: 0.3568 - aux_output_loss: 0.4987\n",
      "val/train: 1.01\n",
      "363/363 [==============================] - 0s 1ms/step - loss: 0.3702 - output_loss: 0.3560 - aux_output_loss: 0.4976 - val_loss: 0.3750 - val_output_loss: 0.3591 - val_aux_output_loss: 0.5176\n"
     ]
    }
   ],
   "source": [
    "history = multi_outputs_model.fit([x_train_A, x_train_B], [y_train, y_train], epochs=20, validation_data=([x_valid_A, x_valid_B], [y_valid, y_valid]), callbacks=[tensorboard_cb, early_stopping_cb, print_valid_train_ration_cb])"
   ]
  },
  {
   "cell_type": "markdown",
   "metadata": {},
   "source": [
    "## 学習結果の可視化"
   ]
  },
  {
   "cell_type": "code",
   "execution_count": 22,
   "metadata": {},
   "outputs": [
    {
     "name": "stdout",
     "output_type": "stream",
     "text": [
      "The tensorboard extension is already loaded. To reload it, use:\n",
      "  %reload_ext tensorboard\n"
     ]
    },
    {
     "data": {
      "text/plain": [
       "Reusing TensorBoard on port 6006 (pid 59349), started 0:01:06 ago. (Use '!kill 59349' to kill it.)"
      ]
     },
     "metadata": {},
     "output_type": "display_data"
    },
    {
     "data": {
      "text/html": [
       "\n",
       "      <iframe id=\"tensorboard-frame-bbee69fc11838705\" width=\"100%\" height=\"800\" frameborder=\"0\">\n",
       "      </iframe>\n",
       "      <script>\n",
       "        (function() {\n",
       "          const frame = document.getElementById(\"tensorboard-frame-bbee69fc11838705\");\n",
       "          const url = new URL(\"http://localhost\");\n",
       "          const port = 6006;\n",
       "          if (port) {\n",
       "            url.port = port;\n",
       "          }\n",
       "          frame.src = url;\n",
       "        })();\n",
       "      </script>\n",
       "    "
      ],
      "text/plain": [
       "<IPython.core.display.HTML object>"
      ]
     },
     "metadata": {},
     "output_type": "display_data"
    }
   ],
   "source": [
    "%load_ext tensorboard\n",
    "%tensorboard --logdir ./my_logs"
   ]
  },
  {
   "cell_type": "markdown",
   "metadata": {},
   "source": [
    "## 学習結果の評価"
   ]
  },
  {
   "cell_type": "code",
   "execution_count": 23,
   "metadata": {},
   "outputs": [
    {
     "name": "stdout",
     "output_type": "stream",
     "text": [
      "162/162 [==============================] - 0s 792us/step - loss: 0.3822 - output_loss: 0.3682 - aux_output_loss: 0.5089\n"
     ]
    },
    {
     "data": {
      "text/plain": [
       "(0.3822328448295593, 0.36815345287323, 0.508946418762207)"
      ]
     },
     "execution_count": 23,
     "metadata": {},
     "output_type": "execute_result"
    }
   ],
   "source": [
    "total_loss, main_loss, aux_loss = multi_outputs_model.evaluate((x_test_A, x_test_B), (y_test, y_test))\n",
    "total_loss, main_loss, aux_loss"
   ]
  },
  {
   "cell_type": "markdown",
   "metadata": {},
   "source": [
    "# 学習済みモデルを使った予測"
   ]
  },
  {
   "cell_type": "code",
   "execution_count": 24,
   "metadata": {},
   "outputs": [
    {
     "name": "stdout",
     "output_type": "stream",
     "text": [
      "predict_main : [4.9272776 2.9948034 0.7014493]\n",
      "predict_aux : [3.419609  2.6005955 0.7368641]\n",
      "correct : [4.167 3.5   1.224]\n"
     ]
    }
   ],
   "source": [
    "# サンプル用にデータサイズを限定\n",
    "x_new_A, x_new_B = x_test_A[:3], x_test_B[:3]\n",
    "\n",
    "y_pred_main, y_pred_aux = multi_outputs_model.predict((x_new_A, x_new_B))\n",
    "print(f'predict_main : {y_pred_main.reshape(-1)}')\n",
    "print(f'predict_aux : {y_pred_aux.reshape(-1)}')\n",
    "print(f'correct : {y_test[:3]}')"
   ]
  }
 ],
 "metadata": {
  "kernelspec": {
   "display_name": "Python 3.9.7 ('.kaggle_')",
   "language": "python",
   "name": "python3"
  },
  "language_info": {
   "codemirror_mode": {
    "name": "ipython",
    "version": 3
   },
   "file_extension": ".py",
   "mimetype": "text/x-python",
   "name": "python",
   "nbconvert_exporter": "python",
   "pygments_lexer": "ipython3",
   "version": "3.9.7"
  },
  "orig_nbformat": 4,
  "vscode": {
   "interpreter": {
    "hash": "2267c7f86544334f90fd828bd0d523f9563b963bbe28c7d2d8efd515b9a10ad6"
   }
  }
 },
 "nbformat": 4,
 "nbformat_minor": 2
}

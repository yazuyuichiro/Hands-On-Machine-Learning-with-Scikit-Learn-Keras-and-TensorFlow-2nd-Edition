{
 "cells": [
  {
   "cell_type": "markdown",
   "metadata": {},
   "source": [
    "https://to-in.com/blog/104278"
   ]
  },
  {
   "attachments": {},
   "cell_type": "markdown",
   "metadata": {},
   "source": [
    "「エンコーダー」、「アテンション機構」、「デコーダー」の3つのパーツから構成されています。\n",
    "エンコーダーでは、入力文を実数値ベクトルに変換します。アテンション機構では、実数値ベクトルに変換された入力文のどの部分に注目するかを判断します。デコーダーでは、エンコーダーとアテンション機構で行った作業を元にして出力文を生成していきます。\n"
   ]
  }
 ],
 "metadata": {
  "kernelspec": {
   "display_name": "Python 3",
   "language": "python",
   "name": "python3"
  },
  "language_info": {
   "name": "python",
   "version": "3.9.13 | packaged by conda-forge | (main, May 27 2022, 16:56:21) \n[GCC 10.3.0]"
  },
  "orig_nbformat": 4,
  "vscode": {
   "interpreter": {
    "hash": "83b288150e23b31d9b915c3a982202dfca53d1993a132fa098fe73118440dfc1"
   }
  }
 },
 "nbformat": 4,
 "nbformat_minor": 2
}

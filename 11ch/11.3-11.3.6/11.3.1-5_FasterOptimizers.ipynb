{
 "cells": [
  {
   "cell_type": "markdown",
   "id": "6ed8aa9f-3b57-4e8a-a651-bd3cbcae7d5b",
   "metadata": {},
   "source": [
    "# 11.3 Faster Optimizers オプティマイザーの高速化"
   ]
  },
  {
   "cell_type": "markdown",
   "id": "cff72d72-4ad2-4c3d-98ea-af74d59476e2",
   "metadata": {},
   "source": [
    "## はじめに\n",
    "\n",
    "### 目的 \n",
    "\n",
    "勾配降下法オプティマイザよりも高速なオプティマイザを利用する\n",
    "\n",
    "### 注意点\n",
    "\n",
    "各種参考文献でモーメンタムとβの符号が混乱しているので注意すること\n",
    "参考文献の２つめのネット情報が分かりやすく直感的に見える。\n",
    "\n",
    "実践機械学習は、あるw(i,j,k...)の座標から、モーメンタムmを足すとなっているが、\n",
    "図をかいた時のわかりやすさを重視し、パラメータの符号を変え整合性がとれるようにした。\n",
    "\n",
    "- 教科書, Adamの符号が間違っているように見える\n",
    "- 下記紹介している Youtube, Nagの括弧の中の符号が間違っている + でなくて、負\n",
    "\n",
    "\n",
    "### 参考\n",
    "\n",
    "- 1. https://www.youtube.com/watch?v=q933reMpvX8\n",
    "    - このYoutubeはNAGのgradの中のβの符号が間違っているので注意、もしかしてNagの挙動も間違っているかも\n",
    "- 2. https://pystyle.info/pytorch-sgd/ (これが一番正確で分かりやすいと思う)"
   ]
  },
  {
   "cell_type": "code",
   "execution_count": 40,
   "id": "063253a2-acd3-4f6b-a7ce-7bd61569ab0c",
   "metadata": {},
   "outputs": [],
   "source": [
    "import tensorflow as tf\n",
    "from tensorflow import keras\n",
    "assert tf.__version__ >= \"2.0\""
   ]
  },
  {
   "cell_type": "markdown",
   "id": "78390ada-430e-454b-ab74-c616c482151d",
   "metadata": {},
   "source": [
    "## 復習: SGD"
   ]
  },
  {
   "cell_type": "markdown",
   "id": "41fba54c-0a46-4b8e-9b1d-fb859e779ff9",
   "metadata": {},
   "source": [
    "$$\n",
    "\\begin{align}\n",
    "&w^{t+1} = w^t - \\eta \\triangledown_wE\\left(w^t\\right) 　\\\\\n",
    "\\end{align}\n",
    "$$"
   ]
  },
  {
   "cell_type": "markdown",
   "id": "f31497df-5149-4472-8d92-c523b80b2fd8",
   "metadata": {},
   "source": [
    "重み関数が一つ、誤差関数をコスト関数(Error)を2時間数と過程したときで理解"
   ]
  },
  {
   "cell_type": "code",
   "execution_count": 51,
   "id": "26512a20-06ad-4d3c-bdb6-b0a78e8d7f5a",
   "metadata": {},
   "outputs": [],
   "source": [
    "def create_tangent_line(xj, yj, a):\n",
    "    b = yj - a + xj\n",
    "    xi = xj - 1\n",
    "    xk = xj + 1\n",
    "    yi = a * xi + b\n",
    "    yk = a * xk + b\n",
    "    x = [xi, xj, xk]\n",
    "    y = [yi, yj, yk]\n",
    "    return x, y\n",
    "    \n",
    "def delta_x(eta, x):\n",
    "    return 2 * eta * x\n",
    "\n",
    "def square(x):\n",
    "    return x**2"
   ]
  },
  {
   "cell_type": "code",
   "execution_count": 80,
   "id": "d5350a4c-fd47-46a1-83bb-fe2957e287c4",
   "metadata": {
    "tags": []
   },
   "outputs": [
    {
     "data": {
      "text/plain": [
       "<function matplotlib.pyplot.show(close=None, block=None)>"
      ]
     },
     "execution_count": 80,
     "metadata": {},
     "output_type": "execute_result"
    },
    {
     "data": {
      "image/png": "[encoded data removed]",
      "text/plain": [
       "<Figure size 432x288 with 1 Axes>"
      ]
     },
     "metadata": {
      "needs_background": "light"
     },
     "output_type": "display_data"
    }
   ],
   "source": [
    "eta = 0.9\n",
    "xinit = 8\n",
    "u = np.array(range(1,200))\n",
    "x_guide = 0.1 * u - 10\n",
    "y_guide = x_guide**2\n",
    "a = 2*x\n",
    "\n",
    "iter = 30\n",
    "x = xinit\n",
    "y = square(xinit)\n",
    "xlist = []\n",
    "ylist = []\n",
    "for val in range(iter):\n",
    "    xlist.append(x)\n",
    "    ylist.append(y)\n",
    "    x = x - delta_x(eta, x)\n",
    "    y = square(x)\n",
    "\n",
    "plt.plot(x_guide, y_guide)\n",
    "plt.scatter(xlist, ylist)\n",
    "plt.plot(xlist, ylist)\n",
    "plt.xlabel(\"Weight\")\n",
    "plt.ylabel(\"Error\")\n",
    "plt.show"
   ]
  },
  {
   "cell_type": "markdown",
   "id": "6e7e303d-9648-40f4-bce7-1cb4a537c34e",
   "metadata": {},
   "source": [
    "## 11.3.1 Momentum optimization (Momentum SGD)"
   ]
  },
  {
   "cell_type": "markdown",
   "id": "adec9c5b-eea8-41f0-94f1-0ac833bdc9f6",
   "metadata": {},
   "source": [
    "- MomentumSGDは慣性をもたせた手法\n",
    "- https://www.youtube.com/watch?v=q933reMpvX8\n",
    "    - 6:12 - 9:22 を参照\n"
   ]
  },
  {
   "cell_type": "markdown",
   "id": "366e7e9e-a324-4c35-bcae-ab44f0bc7d10",
   "metadata": {},
   "source": [
    "![](https://docs.google.com/drawings/d/e/2PACX-1vQpQaX6DfO3PYIvrHg6YnLNilhtEq9nSVa_4eW5RtMiVfLd0SoKwiIyfsS3g1VKS8A-5dZWgiFuAJwI/pub?w=897&h=499)"
   ]
  },
  {
   "cell_type": "markdown",
   "id": "da8331c7-776f-470e-a942-b02d8037faf0",
   "metadata": {},
   "source": [
    "$$\n",
    "\\begin{align}\n",
    "&m^{t} = \\beta m^{t-1} - \\eta \\triangledown_wE\\left(w^{t}\\right) 　\\\\\n",
    "&w^{t+1} = w^t+m^{t}\n",
    "\\end{align}\n",
    "$$\n",
    "\n",
    "\n",
    "つまり以下のようになる。\n",
    "$$\n",
    "\\begin{align}\n",
    "&w^{t+1} = w^{t} + \\beta m^{t-1} - \\eta \\triangledown_wE\\left(w^t\\right)\n",
    "\\end{align}\n",
    "$$\n",
    "\n",
    "- SGDと比較して `βm` が付与されいる。`β`がゼロの時はSGDと完全に一致する。過去の勾配情報を引きずりながら、収束する動作となる\n",
    "- 副次的な利点として、慣性で局所最適点を超えていく可能正もある。\n",
    "- オーバーシュートの問題がある"
   ]
  },
  {
   "cell_type": "code",
   "execution_count": 41,
   "id": "ac50562f-0588-4c71-b4dd-8bb1d69fd21a",
   "metadata": {},
   "outputs": [],
   "source": [
    "optimizer = keras.optimizers.SGD(learning_rate=0.001, momentum=0.9)"
   ]
  },
  {
   "cell_type": "markdown",
   "id": "ea6747c3-5488-47ef-addc-6ef32735c1ef",
   "metadata": {},
   "source": [
    "## 11.3.2 NAG (Nesterov Accelerated Gradient)"
   ]
  },
  {
   "cell_type": "markdown",
   "id": "76bdcf07-3263-46ae-8f3c-ddd35f2ba80b",
   "metadata": {},
   "source": [
    "- 勾配を計算する場所を変える。(ω+βm) が最終的に出てくるのだから、gradするのもこの位置でやるのが妥当だろう。\n",
    "- これにより、Momentum SGDのオーバーシュートの問題を解決する\n",
    "- https://www.youtube.com/watch?v=q933reMpvX8\n",
    "    - このYoutubeのNAGの紹介は一部まちがっており、作者の符号のとり方だと ω-βm が正解となることに注意。挙動も違っているかも・・・)\n",
    "    - 9:17 - 10:33"
   ]
  },
  {
   "cell_type": "markdown",
   "id": "1cef843c-6249-4094-94c3-97ee35aed66a",
   "metadata": {},
   "source": [
    "![](https://docs.google.com/drawings/d/e/2PACX-1vSmxkeaa31-zz4zRe-RW-kzVe3lnL5yaEkZjAiVo9ltHom8HFu9jWU98cG56hWIFe2wt8LeXG6kblWa/pub?w=897&h=499)"
   ]
  },
  {
   "cell_type": "markdown",
   "id": "fcb9d93c-42c1-479b-b747-9bc558b3856b",
   "metadata": {},
   "source": [
    "$$\n",
    "\\begin{align}\n",
    "&m^{t} = \\beta m^{t-1} - \\eta \\triangledown_wE\\left(w^t+\\beta m^{t-1}\\right) 　\\\\\n",
    "&w^{t+1} = w^t+m^{t}\n",
    "\\end{align}\n",
    "$$\n",
    "\n",
    "\n",
    "つまり、以下のようになる。同じ位置で微分していることが分かるように、わざと括弧をつけていることに着目\n",
    "\n",
    "$$\n",
    "\\begin{align}\n",
    "&w^{t+1} = \\left(w^t + \\beta m^{t-1}\\right) - \\eta \\triangledown_wE\\left(w^t+\\beta m^{t-1}\\right) 　\\\\\n",
    "\\end{align}\n",
    "$$\n",
    "\n",
    "w(t)-βm進めると傾きが反転する場合、MomentumにくらべてNagはいち早くこの傾き反転を反映できるため、オーバーシュートが少なくなる"
   ]
  },
  {
   "cell_type": "code",
   "execution_count": 42,
   "id": "9645b0d0-46e6-4cb3-88c7-9831adf94701",
   "metadata": {},
   "outputs": [],
   "source": [
    "optimizer = keras.optimizers.SGD(learning_rate=0.001, momentum=0.9, nesterov=True)"
   ]
  },
  {
   "cell_type": "markdown",
   "id": "954259cb-e75b-46e6-90fb-84c039a390d0",
   "metadata": {},
   "source": [
    "## 11.3.3 AddGrad"
   ]
  },
  {
   "cell_type": "markdown",
   "id": "e2ebe0b4-41b7-4215-a3d3-44897f267105",
   "metadata": {},
   "source": [
    "早い段階で全体の最適値の方に向きを修正できる.もっとも影響力のある次元(重みパラメータ)を弱体化するイメージ\n",
    "変動する学習率とも考えることができる。\n",
    "\n",
    "- 最初の項で、傾きが大きい次元が2乗されることで、大きい値はより大きくなる\n",
    "- 第2項を見ると、これは学習率が動的に変化すると考えることができる。\n",
    "    - 傾きが急だと学習率が下がる=>傾きが緩やかな方にボールが転がる、つまり最適解のほうへベクトルが向いていることに等しい\n",
    "        - 傾きが急なところはゆっくり収束させる\n",
    "        - 傾きがゆるやかなところは一気に進ませる\n",
    "- 早すぎる段階でスローダウンし、全体の最適解に収束しない場合がある\n",
    "- εはゼロ割を防ぐための定数"
   ]
  },
  {
   "cell_type": "markdown",
   "id": "a0400fce-a6c3-4135-9e28-a1f117716a8b",
   "metadata": {},
   "source": [
    "![](https://docs.google.com/drawings/d/e/2PACX-1vTG7oBzUksKj_ltEVzxqV0iafuks2-dYwE8ryEywdwsVh3ZV1QUgdM0bh8Esz_f_BTq9sUr8k6X9O9w/pub?w=729&h=452)"
   ]
  },
  {
   "cell_type": "markdown",
   "id": "1c2d4d25-5f49-4c51-a37f-aed867bda01c",
   "metadata": {},
   "source": [
    "$$\n",
    "\\begin{align}\n",
    "&s^{t+1} = \\beta s^t + \\triangledown_wE\\left(w^t\\right)\\otimes \\triangledown_wE\\left(w^t\\right)　\\\\\n",
    "&w^{t+1} = w^t-\\eta \\triangledown_wE\\left(w^t\\right) \\oslash \\sqrt{s+\\epsilon}\n",
    "\\end{align}\n",
    "$$"
   ]
  },
  {
   "cell_type": "code",
   "execution_count": 43,
   "id": "07af6700-7613-4202-a20a-83017d7cd371",
   "metadata": {},
   "outputs": [],
   "source": [
    "optimizer = keras.optimizers.Adagrad(learning_rate=0.001)"
   ]
  },
  {
   "cell_type": "markdown",
   "id": "74a714e9-c771-4272-abb8-0e44b6a4ae8f",
   "metadata": {},
   "source": [
    "## 11.3.4 RMSProp"
   ]
  },
  {
   "cell_type": "markdown",
   "id": "035c62fc-8d65-4e47-befd-1e32bd68e9ec",
   "metadata": {},
   "source": [
    "- AddGradの改良。AddGradの問題点 「早すぎる段階でスローダウンし、全体の最適解に収束しない場合がある」 を改善。\n",
    "    - AddGradの問題点のイメージとしては、最短の方向を向いたものの、スピードがでないイメージ。傾きが大きいところの実質的な学習率は下がるため\n",
    "- (1-β)とすることで、できるだけ直近の勾配の影響のみ影響を与えるようにしている\n",
    "- β = 1とするとSGDの式とほとんど同じ η/ε = η' と考えることでSGDと同じになる\n",
    "- εはゼロ割を防ぐための定数\n",
    "- fdsasdf\n",
    "    - 10:34 - 13:32"
   ]
  },
  {
   "cell_type": "markdown",
   "id": "405dd904-a7fb-4a00-94b1-d3af47d12b43",
   "metadata": {},
   "source": [
    "$$\n",
    "\\begin{align}\n",
    "&s^{t+1} = \\beta s^t + \\left(1-\\beta\\right)\\triangledown_wE\\left(w^t\\right)\\otimes \\triangledown_wE\\left(w^t\\right)　\\\\\n",
    "&w^{t+1} = w^t-\\eta \\triangledown_wE\\left(w^t\\right) \\oslash \\sqrt{s+\\epsilon}\n",
    "\\end{align}\n",
    "$$"
   ]
  },
  {
   "cell_type": "code",
   "execution_count": 44,
   "id": "1d155c78-38d2-491b-8b70-a2321df124d9",
   "metadata": {},
   "outputs": [],
   "source": [
    "optimizer = keras.optimizers.RMSprop(learning_rate=0.001, rho=0.9)"
   ]
  },
  {
   "cell_type": "markdown",
   "id": "d4f4b0b9-75cf-43cc-ae34-305d8dfcce23",
   "metadata": {},
   "source": [
    "## 11.3.5 Adam, Nadam"
   ]
  },
  {
   "cell_type": "markdown",
   "id": "39ab2aa9-2828-4c60-aa49-74cde55fcf37",
   "metadata": {},
   "source": [
    "### Adam (Adaptive moment estimation)"
   ]
  },
  {
   "cell_type": "markdown",
   "id": "0da96cac-f2dd-4e87-b017-0e1a59570114",
   "metadata": {},
   "source": [
    "- モーメンタム最適化とRMSPropのアイデアを組み合わせたもの\n",
    "- 学習開始初期はm, sの値が大きくなるようにしている。βが0.9の場合、開始直後 m_hatは10倍になる\n",
    "- β1は0.9, β2は0.999で初期化されることが多い, εは10^-7くらいの大きさが多い\n",
    "- ηは実質的に自動調整されることになるが、通常0.001を与えることがおおい\n",
    "- https://www.youtube.com/watch?v=q933reMpvX8\n",
    "    - 13:35 - 16:57"
   ]
  },
  {
   "cell_type": "markdown",
   "id": "cd59dcba-27ab-4893-bcc6-fd8a0a133d93",
   "metadata": {},
   "source": [
    "$$\n",
    "\\begin{align}\n",
    "&m^{t+1} = \\beta_1 m^t - \\left(1-\\beta_1\\right)\\triangledown_wE\\left(w^t\\right) \\\\\n",
    "&s^{t+1} = \\beta_2 s^t + \\left(1-\\beta_2\\right)\\triangledown_wE\\left(w^t\\right)\\otimes \\triangledown_wE\\left(w^t\\right)　\\\\\n",
    "&\\hat{m}^{t+1} = \\frac{m^{t+1}}{1-{\\beta_1}^{t}} \\\\\n",
    "&\\hat{s}^{t+1} = \\frac{s^{t+1}}{1-{\\beta_2}^{t}} \\\\\n",
    "&w^{t+1} = w^t+\\eta\\hat{m}^{t+1} \\oslash \\sqrt{s+\\epsilon}\n",
    "\\end{align}\n",
    "$$"
   ]
  },
  {
   "cell_type": "markdown",
   "id": "f6354380-ba9b-4516-8469-dfff199c52ee",
   "metadata": {},
   "source": [
    "### AdaMax\n",
    "\n",
    "式の詳細は省略するが、以下を記憶にとどめておくと良い\n",
    "\n",
    "- 一般的にはAdamのほうが性能が高い\n",
    "- Adamで問題起きた時この手法を試せば良い"
   ]
  },
  {
   "cell_type": "code",
   "execution_count": 45,
   "id": "af007ef9-1bf4-451a-ace8-d3bb959359bf",
   "metadata": {},
   "outputs": [],
   "source": [
    "optimizer = keras.optimizers.Adamax(learning_rate=0.001, beta_1=0.9, beta_2=0.999)"
   ]
  },
  {
   "cell_type": "markdown",
   "id": "6c46a40c-339a-4fc2-86d9-a43329e2e348",
   "metadata": {},
   "source": [
    "### Nadam\n",
    "\n",
    "一言でいうと、Adam + Nag\n",
    "\n",
    "- Adamより少しはやく収束することが多い\n",
    "- しばしば性能はRMSPropに負ける\n"
   ]
  },
  {
   "cell_type": "code",
   "execution_count": 46,
   "id": "ea6be62b-3d19-4f8c-b200-605996916913",
   "metadata": {},
   "outputs": [],
   "source": [
    "optimizer = keras.optimizers.Nadam(learning_rate=0.001, beta_1=0.9, beta_2=0.999)"
   ]
  },
  {
   "cell_type": "markdown",
   "id": "1f77ee1b-970f-4e0d-acf2-e019a9a6b271",
   "metadata": {},
   "source": [
    "### 注意事項\n",
    "\n",
    "- RMSProp, Adam, Nadam はよい解に速く収束し上手く機能することが多い。しかし、汎化性能が十分でない可能性があり。\n",
    "- モデルの性能が上がらなかったときはプレーンなNAGを試す"
   ]
  },
  {
   "cell_type": "code",
   "execution_count": 38,
   "id": "4d8d425b-b5cc-44c6-a53c-40c6dc745f4e",
   "metadata": {},
   "outputs": [
    {
     "data": {
      "image/png": "[encoded data removed]",
      "text/plain": [
       "<Figure size 432x288 with 2 Axes>"
      ]
     },
     "metadata": {
      "needs_background": "light"
     },
     "output_type": "display_data"
    }
   ],
   "source": [
    "%matplotlib inline\n",
    "import matplotlib.pyplot as plt\n",
    "import numpy as np\n",
    "\n",
    "\n",
    "def f(x, y):\n",
    "    a1 = 0.1\n",
    "    a2 = 1\n",
    "    #z = -np.exp(-(a1*X**2 + a2*Y**2))\n",
    "    z = a1 * x**2 + a2 * y**2\n",
    "    return z\n",
    "\n",
    "x = np.linspace(-1, 1, 100)\n",
    "y = np.linspace(-1, 1, 100)\n",
    "X, Y = np.meshgrid(x, y)\n",
    "Z = f(X, Y)\n",
    "\n",
    "fig, ax = plt.subplots()\n",
    "contf = ax.contourf(X, Y, Z, 20, cmap='PuOr')\n",
    "ax.set_aspect('equal','box')\n",
    "plt.colorbar(contf)\n",
    "plt.savefig(\"contourf_PuOr.png\", bbox_inches = 'tight', pad_inches = 0.1)"
   ]
  },
  {
   "cell_type": "code",
   "execution_count": null,
   "id": "252db03e-eb0a-42c8-970f-61245ed819c9",
   "metadata": {},
   "outputs": [],
   "source": []
  }
 ],
 "metadata": {
  "kernelspec": {
   "display_name": "Python 3.7.6 ('base')",
   "language": "python",
   "name": "python3"
  },
  "language_info": {
   "codemirror_mode": {
    "name": "ipython",
    "version": 3
   },
   "file_extension": ".py",
   "mimetype": "text/x-python",
   "name": "python",
   "nbconvert_exporter": "python",
   "pygments_lexer": "ipython3",
   "version": "3.7.6"
  },
  "vscode": {
   "interpreter": {
    "hash": "86c3969cb8e4d6528009ba441e3b227910147fcb8261d5b261fbcbb462fd60ef"
   }
  }
 },
 "nbformat": 4,
 "nbformat_minor": 5
}

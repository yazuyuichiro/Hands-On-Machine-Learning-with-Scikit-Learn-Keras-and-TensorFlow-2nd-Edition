{
 "cells": [
  {
   "cell_type": "markdown",
   "id": "900ec475-e565-4fac-bd99-12c66c40cfaa",
   "metadata": {},
   "source": [
    "# 11.3.6 Learning Rate Scheduling 学習率のスケジューリング\n",
    "\n",
    "## 目的\n",
    "\n",
    "一定の学習率を利用するより、学習中、動的に学習率を変更することで、より早く高い精度のモデルが得られること多い。\n",
    "\n",
    "これを **Learning Rate Scheduling**と呼ぶ。このセクションでは、以下のLearning Rate Schedulingの手法について学ぶ。\n",
    "\n",
    "- Power Scheduling\n",
    "- Exponential Scheduling\n",
    "- Piecewise Constant Scheduling\n",
    "- Performance Scheduling\n",
    "- 1Cycle Scheduling\n",
    "\n",
    "## 結論を言うと・・・\n",
    "\n",
    "結論を言うと、以下は収束までの時間を大幅に短縮することができる\n",
    "\n",
    "- Exponential Scheduling\n",
    "- Performance Scheduling\n",
    "- 1Cycle Scheduling\n",
    "\n",
    "## Note\n",
    "\n",
    "- 本書は、SGDを用いて学習率を調整している。オプティマイザーが変わると動的に調整するパラメータが変わるかもしれない。\n",
    "- たとえば1CycleSchedulingにおいて、SGDではなくモーメンタム最適化を利用する例が紹介されている\n",
    "    - このとき、学習率の代わりにモーメンタムを学習の進捗に合わせて調整する\n",
    "        - モーメンタムのbetaを高い=>低い=>高い\n",
    "- Adam, RMSProp, AddGrad は、実質的にηの動的調整が入ることを考慮\n",
    "    - 他のオプティマイザと比較して、あまりηのスケジューリングにこだわる必要はないかもしれない？"
   ]
  },
  {
   "cell_type": "markdown",
   "id": "57c5645e-c8e3-4b4f-ab62-d37587ce6a77",
   "metadata": {},
   "source": [
    "## サンプルコードを動かすための事前準備"
   ]
  },
  {
   "cell_type": "code",
   "execution_count": 1,
   "id": "a07e68d5-bd7a-4c6d-9c32-34749a8dae45",
   "metadata": {},
   "outputs": [],
   "source": [
    "# Python ≥3.5 is required\n",
    "import sys\n",
    "assert sys.version_info >= (3, 5)\n",
    "\n",
    "# Scikit-Learn ≥0.20 is required\n",
    "import sklearn\n",
    "assert sklearn.__version__ >= \"0.20\"\n",
    "\n",
    "try:\n",
    "    # %tensorflow_version only exists in Colab.\n",
    "    %tensorflow_version 2.x\n",
    "except Exception:\n",
    "    pass\n",
    "\n",
    "# TensorFlow ≥2.0 is required\n",
    "import tensorflow as tf\n",
    "from tensorflow import keras\n",
    "assert tf.__version__ >= \"2.0\"\n",
    "\n",
    "%load_ext tensorboard\n",
    "\n",
    "# Common imports\n",
    "import numpy as np\n",
    "import os\n",
    "\n",
    "# to make this notebook's output stable across runs\n",
    "np.random.seed(42)\n",
    "\n",
    "# To plot pretty figures\n",
    "%matplotlib inline\n",
    "import matplotlib as mpl\n",
    "import matplotlib.pyplot as plt\n",
    "mpl.rc('axes', labelsize=14)\n",
    "mpl.rc('xtick', labelsize=12)\n",
    "mpl.rc('ytick', labelsize=12)\n",
    "\n",
    "# Where to save the figures\n",
    "PROJECT_ROOT_DIR = \".\"\n",
    "CHAPTER_ID = \"deep\"\n",
    "IMAGES_PATH = os.path.join(PROJECT_ROOT_DIR, \"images\", CHAPTER_ID)\n",
    "os.makedirs(IMAGES_PATH, exist_ok=True)\n",
    "\n",
    "def save_fig(fig_id, tight_layout=True, fig_extension=\"png\", resolution=300):\n",
    "    path = os.path.join(IMAGES_PATH, fig_id + \".\" + fig_extension)\n",
    "    print(\"Saving figure\", fig_id)\n",
    "    if tight_layout:\n",
    "        plt.tight_layout()\n",
    "    plt.savefig(path, format=fig_extension, dpi=resolution)"
   ]
  },
  {
   "cell_type": "code",
   "execution_count": 2,
   "id": "6b622880-3429-4863-b3ad-926057cf015a",
   "metadata": {},
   "outputs": [],
   "source": [
    "(X_train_full, y_train_full), (X_test, y_test) = keras.datasets.fashion_mnist.load_data()\n",
    "X_train_full = X_train_full / 255.0\n",
    "X_test = X_test / 255.0\n",
    "X_valid, X_train = X_train_full[:5000], X_train_full[5000:]\n",
    "y_valid, y_train = y_train_full[:5000], y_train_full[5000:]"
   ]
  },
  {
   "cell_type": "code",
   "execution_count": 3,
   "id": "5c83e645-4bea-4c68-86b7-9a3bf964ed85",
   "metadata": {},
   "outputs": [],
   "source": [
    "pixel_means = X_train.mean(axis=0, keepdims=True)\n",
    "pixel_stds = X_train.std(axis=0, keepdims=True)\n",
    "X_train_scaled = (X_train - pixel_means) / pixel_stds\n",
    "X_valid_scaled = (X_valid - pixel_means) / pixel_stds\n",
    "X_test_scaled = (X_test - pixel_means) / pixel_stds"
   ]
  },
  {
   "cell_type": "markdown",
   "id": "e8ded75a-ef46-4455-848e-611a2f4c56e0",
   "metadata": {},
   "source": [
    "## Power Scheduling"
   ]
  },
  {
   "cell_type": "markdown",
   "id": "66d6046f-ffec-4961-a41c-934ae0485567",
   "metadata": {},
   "source": [
    "### Power Schedulingの定義\n",
    "\n",
    "```lr = lr0 / (1 + steps / s)**c```\n",
    "\n",
    "#### 一般的には...\n",
    "\n",
    "$$\n",
    "\\begin{align}\n",
    "&l_r=\\frac{l_{ro}}{\\left(1+\\frac{steps}{s}\\right)^c}\n",
    "\\end{align}\n",
    "$$\n",
    "\n",
    "- `lr0`: 初期学習率\n",
    "- `c`: 指数, 一般的に1\n",
    "- `s`: 減衰のスピードをきめるハイパーパラメータ\n",
    "- `steps`: 全データ数 × エポック数 / バッチ数\n",
    "\n",
    "#### Kerasの場合`c=1`として...\n",
    "\n",
    "$$\n",
    "\\begin{align}\n",
    "&l_r=\\frac{l_{ro}}{1+steps\\cdot decay} \\\\\n",
    "&decay = \\frac{1}{s} \\\\\n",
    "\\end{align}\n",
    "$$"
   ]
  },
  {
   "cell_type": "markdown",
   "id": "3ebba2b5-60ed-4bee-98c3-6fe45cbc3d2e",
   "metadata": {},
   "source": [
    "### スケジューリング指定方法\n",
    "\n",
    "- Power scheduling が最も簡単なスケジュール設定方法である\n",
    "- `decay` を設定するだけで良い"
   ]
  },
  {
   "cell_type": "code",
   "execution_count": 4,
   "id": "4d185b02-6cd9-4cea-9467-eaf5af82ceb9",
   "metadata": {},
   "outputs": [],
   "source": [
    "optimizer = keras.optimizers.SGD(learning_rate=0.01, decay=1e-4)"
   ]
  },
  {
   "cell_type": "code",
   "execution_count": 5,
   "id": "a706d91f-f9b2-4a83-90c0-ccacb1c57e14",
   "metadata": {},
   "outputs": [
    {
     "name": "stdout",
     "output_type": "stream",
     "text": [
      "Metal device set to: Apple M1\n"
     ]
    },
    {
     "name": "stderr",
     "output_type": "stream",
     "text": [
      "2022-08-05 13:53:26.084024: I tensorflow/core/common_runtime/pluggable_device/pluggable_device_factory.cc:305] Could not identify NUMA node of platform GPU ID 0, defaulting to 0. Your kernel may not have been built with NUMA support.\n",
      "2022-08-05 13:53:26.084157: I tensorflow/core/common_runtime/pluggable_device/pluggable_device_factory.cc:271] Created TensorFlow device (/job:localhost/replica:0/task:0/device:GPU:0 with 0 MB memory) -> physical PluggableDevice (device: 0, name: METAL, pci bus id: <undefined>)\n"
     ]
    }
   ],
   "source": [
    "model = keras.models.Sequential([\n",
    "    keras.layers.Flatten(input_shape=[28, 28]),\n",
    "    keras.layers.Dense(300, activation=\"selu\", kernel_initializer=\"lecun_normal\"),\n",
    "    keras.layers.Dense(100, activation=\"selu\", kernel_initializer=\"lecun_normal\"),\n",
    "    keras.layers.Dense(10, activation=\"softmax\")\n",
    "])\n",
    "model.compile(loss=\"sparse_categorical_crossentropy\", optimizer=optimizer, metrics=[\"accuracy\"])"
   ]
  },
  {
   "cell_type": "code",
   "execution_count": 6,
   "id": "cf1b272e-5c91-492f-af04-26022649c18e",
   "metadata": {
    "scrolled": true,
    "tags": []
   },
   "outputs": [
    {
     "name": "stderr",
     "output_type": "stream",
     "text": [
      "2022-08-05 13:53:29.501641: W tensorflow/core/platform/profile_utils/cpu_utils.cc:128] Failed to get CPU frequency: 0 Hz\n",
      "2022-08-05 13:53:29.609262: I tensorflow/core/grappler/optimizers/custom_graph_optimizer_registry.cc:112] Plugin optimizer for device_type GPU is enabled.\n"
     ]
    },
    {
     "name": "stdout",
     "output_type": "stream",
     "text": [
      "Epoch 1/25\n",
      "1716/1719 [============================>.] - ETA: 0s - loss: 0.4904 - accuracy: 0.8268"
     ]
    },
    {
     "name": "stderr",
     "output_type": "stream",
     "text": [
      "2022-08-05 13:53:41.766152: I tensorflow/core/grappler/optimizers/custom_graph_optimizer_registry.cc:112] Plugin optimizer for device_type GPU is enabled.\n"
     ]
    },
    {
     "name": "stdout",
     "output_type": "stream",
     "text": [
      "1719/1719 [==============================] - 13s 7ms/step - loss: 0.4900 - accuracy: 0.8270 - val_loss: 0.4059 - val_accuracy: 0.8596\n",
      "Epoch 2/25\n",
      "1719/1719 [==============================] - 13s 7ms/step - loss: 0.3791 - accuracy: 0.8654 - val_loss: 0.3826 - val_accuracy: 0.8668\n",
      "Epoch 3/25\n",
      "1719/1719 [==============================] - 14s 8ms/step - loss: 0.3455 - accuracy: 0.8776 - val_loss: 0.3644 - val_accuracy: 0.8742\n",
      "Epoch 4/25\n",
      "1719/1719 [==============================] - 14s 8ms/step - loss: 0.3234 - accuracy: 0.8853 - val_loss: 0.3565 - val_accuracy: 0.8798\n",
      "Epoch 5/25\n",
      "1719/1719 [==============================] - 13s 8ms/step - loss: 0.3073 - accuracy: 0.8903 - val_loss: 0.3460 - val_accuracy: 0.8784\n",
      "Epoch 6/25\n",
      "1719/1719 [==============================] - 13s 7ms/step - loss: 0.2936 - accuracy: 0.8958 - val_loss: 0.3414 - val_accuracy: 0.8800\n",
      "Epoch 7/25\n",
      "1719/1719 [==============================] - 13s 7ms/step - loss: 0.2830 - accuracy: 0.8994 - val_loss: 0.3422 - val_accuracy: 0.8788\n",
      "Epoch 8/25\n",
      "1719/1719 [==============================] - 13s 7ms/step - loss: 0.2746 - accuracy: 0.9018 - val_loss: 0.3365 - val_accuracy: 0.8800\n",
      "Epoch 9/25\n",
      "1719/1719 [==============================] - 13s 8ms/step - loss: 0.2670 - accuracy: 0.9051 - val_loss: 0.3302 - val_accuracy: 0.8848\n",
      "Epoch 10/25\n",
      "1719/1719 [==============================] - 13s 7ms/step - loss: 0.2597 - accuracy: 0.9081 - val_loss: 0.3331 - val_accuracy: 0.8826\n",
      "Epoch 11/25\n",
      "1719/1719 [==============================] - 14s 8ms/step - loss: 0.2533 - accuracy: 0.9107 - val_loss: 0.3323 - val_accuracy: 0.8858\n",
      "Epoch 12/25\n",
      "1719/1719 [==============================] - 13s 8ms/step - loss: 0.2478 - accuracy: 0.9120 - val_loss: 0.3309 - val_accuracy: 0.8846\n",
      "Epoch 13/25\n",
      "1719/1719 [==============================] - 13s 7ms/step - loss: 0.2424 - accuracy: 0.9144 - val_loss: 0.3268 - val_accuracy: 0.8876\n",
      "Epoch 14/25\n",
      "1719/1719 [==============================] - 13s 7ms/step - loss: 0.2381 - accuracy: 0.9160 - val_loss: 0.3225 - val_accuracy: 0.8852\n",
      "Epoch 15/25\n",
      "1719/1719 [==============================] - 14s 8ms/step - loss: 0.2335 - accuracy: 0.9180 - val_loss: 0.3254 - val_accuracy: 0.8890\n",
      "Epoch 16/25\n",
      "1719/1719 [==============================] - 13s 8ms/step - loss: 0.2296 - accuracy: 0.9201 - val_loss: 0.3325 - val_accuracy: 0.8832\n",
      "Epoch 17/25\n",
      "1719/1719 [==============================] - 14s 8ms/step - loss: 0.2258 - accuracy: 0.9209 - val_loss: 0.3224 - val_accuracy: 0.8896\n",
      "Epoch 18/25\n",
      "1719/1719 [==============================] - 14s 8ms/step - loss: 0.2224 - accuracy: 0.9222 - val_loss: 0.3255 - val_accuracy: 0.8880\n",
      "Epoch 19/25\n",
      "1719/1719 [==============================] - 13s 8ms/step - loss: 0.2194 - accuracy: 0.9233 - val_loss: 0.3258 - val_accuracy: 0.8878\n",
      "Epoch 20/25\n",
      "1719/1719 [==============================] - 13s 8ms/step - loss: 0.2158 - accuracy: 0.9249 - val_loss: 0.3223 - val_accuracy: 0.8884\n",
      "Epoch 21/25\n",
      "1719/1719 [==============================] - 13s 8ms/step - loss: 0.2133 - accuracy: 0.9256 - val_loss: 0.3242 - val_accuracy: 0.8892\n",
      "Epoch 22/25\n",
      "1719/1719 [==============================] - 13s 8ms/step - loss: 0.2102 - accuracy: 0.9271 - val_loss: 0.3227 - val_accuracy: 0.8894\n",
      "Epoch 23/25\n",
      "1719/1719 [==============================] - 14s 8ms/step - loss: 0.2077 - accuracy: 0.9285 - val_loss: 0.3249 - val_accuracy: 0.8890\n",
      "Epoch 24/25\n",
      "1719/1719 [==============================] - 13s 8ms/step - loss: 0.2052 - accuracy: 0.9287 - val_loss: 0.3241 - val_accuracy: 0.8872\n",
      "Epoch 25/25\n",
      "1719/1719 [==============================] - 13s 7ms/step - loss: 0.2030 - accuracy: 0.9306 - val_loss: 0.3220 - val_accuracy: 0.8910\n"
     ]
    }
   ],
   "source": [
    "n_epochs = 25\n",
    "history = model.fit(X_train_scaled, y_train, epochs=n_epochs,\n",
    "                    validation_data=(X_valid_scaled, y_valid))"
   ]
  },
  {
   "cell_type": "markdown",
   "id": "d3c40952-e254-43e5-9f6d-88dcbcd36334",
   "metadata": {},
   "source": [
    "### Epoch vs Learning Rate"
   ]
  },
  {
   "cell_type": "markdown",
   "id": "446d4ff6-8129-47d0-9f8f-230796575f7f",
   "metadata": {},
   "source": [
    "- ステップ数 = データ数/バッチ数であることに注意\n",
    "- epoch * n_steps_per_sporch /s = 1になると、lrは半分になる"
   ]
  },
  {
   "cell_type": "code",
   "execution_count": 7,
   "id": "6dce490a-3917-44d9-846f-39a0ce1332df",
   "metadata": {},
   "outputs": [
    {
     "data": {
      "image/png": "[encoded data removed]",
      "text/plain": [
       "<Figure size 432x288 with 1 Axes>"
      ]
     },
     "metadata": {
      "needs_background": "light"
     },
     "output_type": "display_data"
    }
   ],
   "source": [
    "import math\n",
    "\n",
    "learning_rate = 0.01\n",
    "decay = 1e-4\n",
    "batch_size = 32\n",
    "n_steps_per_epoch = math.ceil(len(X_train) / batch_size)\n",
    "epochs = np.arange(n_epochs)\n",
    "lrs = learning_rate / (1 + decay * epochs * n_steps_per_epoch)\n",
    "\n",
    "plt.plot(epochs, lrs,  \"o-\")\n",
    "plt.axis([0, n_epochs - 1, 0, 0.01])\n",
    "plt.xlabel(\"Epoch\")\n",
    "plt.ylabel(\"Learning Rate\")\n",
    "plt.title(\"Power Scheduling\", fontsize=14)\n",
    "plt.grid(True)\n",
    "plt.show()"
   ]
  },
  {
   "cell_type": "markdown",
   "id": "d76b2859-9db6-41cb-a1f9-b2b3460b0db6",
   "metadata": {},
   "source": [
    "## Exponential Scheduling (指数スケジューリング)"
   ]
  },
  {
   "cell_type": "markdown",
   "id": "7cf79bbc-cf23-44aa-82ba-78b478592f21",
   "metadata": {},
   "source": [
    "### Expornential Schedulingの定義\n",
    "\n",
    "```lr = lr0 * 0.1**(epoch / s)```\n",
    "\n",
    "\n",
    "$$\n",
    "\\begin{align}\n",
    "&l_r=l_{ro}\\cdot \\left(\\frac{1}{10}\\right)^{\\frac{epoch}{s}}\n",
    "\\end{align}\n",
    "$$"
   ]
  },
  {
   "cell_type": "markdown",
   "id": "76718786-1d39-494c-88d3-c3e152bb9359",
   "metadata": {},
   "source": [
    "### スケジューリング指定方法\n",
    "\n",
    "Kerasのコールバックを使う\n",
    "\n",
    "- `exponential_decay_fn`: 指数スケジューリングを満たす俺々スケジューリング関数を用意\n",
    "- `lr_scheduler = keras.callbacks.LearningRateScheduler(exponential_decay_fn)`\n",
    "- `model.fit(...., callbacks=[lr_scheduler])`"
   ]
  },
  {
   "cell_type": "code",
   "execution_count": 8,
   "id": "dd58c8d1-434f-480d-8bb0-c9d59db3059f",
   "metadata": {},
   "outputs": [],
   "source": [
    "def exponential_decay_fn(epoch):\n",
    "    return 0.01 * 0.1**(epoch / 20)"
   ]
  },
  {
   "cell_type": "code",
   "execution_count": 9,
   "id": "395d5549-0ad4-4f78-8d4a-7051a4e121a4",
   "metadata": {},
   "outputs": [],
   "source": [
    "def exponential_decay(lr0, s):\n",
    "    def exponential_decay_fn(epoch):\n",
    "        return lr0 * 0.1**(epoch / s)\n",
    "    return exponential_decay_fn\n",
    "\n",
    "# 関数オブジェクトを返す\n",
    "exponential_decay_fn = exponential_decay(lr0=0.01, s=20)"
   ]
  },
  {
   "cell_type": "code",
   "execution_count": 10,
   "id": "74e48d7d-3eff-49ee-9bf6-2eefbb14f069",
   "metadata": {},
   "outputs": [],
   "source": [
    "model = keras.models.Sequential([\n",
    "    keras.layers.Flatten(input_shape=[28, 28]),\n",
    "    keras.layers.Dense(300, activation=\"selu\", kernel_initializer=\"lecun_normal\"),\n",
    "    keras.layers.Dense(100, activation=\"selu\", kernel_initializer=\"lecun_normal\"),\n",
    "    keras.layers.Dense(10, activation=\"softmax\")\n",
    "])\n",
    "model.compile(loss=\"sparse_categorical_crossentropy\", optimizer=\"nadam\", metrics=[\"accuracy\"])\n",
    "n_epochs = 25"
   ]
  },
  {
   "cell_type": "code",
   "execution_count": 11,
   "id": "2a33a191-2be0-40f5-97eb-4238b32ed890",
   "metadata": {
    "scrolled": true,
    "tags": []
   },
   "outputs": [
    {
     "name": "stdout",
     "output_type": "stream",
     "text": [
      "Epoch 1/25\n"
     ]
    },
    {
     "name": "stderr",
     "output_type": "stream",
     "text": [
      "2022-08-05 13:58:59.613747: I tensorflow/core/grappler/optimizers/custom_graph_optimizer_registry.cc:112] Plugin optimizer for device_type GPU is enabled.\n"
     ]
    },
    {
     "name": "stdout",
     "output_type": "stream",
     "text": [
      "1719/1719 [==============================] - ETA: 0s - loss: 0.8288 - accuracy: 0.7671"
     ]
    },
    {
     "name": "stderr",
     "output_type": "stream",
     "text": [
      "2022-08-05 13:59:16.164217: I tensorflow/core/grappler/optimizers/custom_graph_optimizer_registry.cc:112] Plugin optimizer for device_type GPU is enabled.\n"
     ]
    },
    {
     "name": "stdout",
     "output_type": "stream",
     "text": [
      "1719/1719 [==============================] - 17s 10ms/step - loss: 0.8288 - accuracy: 0.7671 - val_loss: 0.9592 - val_accuracy: 0.7234\n",
      "Epoch 2/25\n",
      "1719/1719 [==============================] - 17s 10ms/step - loss: 0.6672 - accuracy: 0.8012 - val_loss: 0.6911 - val_accuracy: 0.7994\n",
      "Epoch 3/25\n",
      "1719/1719 [==============================] - 16s 9ms/step - loss: 0.6029 - accuracy: 0.8150 - val_loss: 0.6247 - val_accuracy: 0.8232\n",
      "Epoch 4/25\n",
      "1719/1719 [==============================] - 16s 9ms/step - loss: 0.5523 - accuracy: 0.8315 - val_loss: 0.6038 - val_accuracy: 0.8286\n",
      "Epoch 5/25\n",
      "1719/1719 [==============================] - 16s 9ms/step - loss: 0.4891 - accuracy: 0.8449 - val_loss: 0.7304 - val_accuracy: 0.8520\n",
      "Epoch 6/25\n",
      "1719/1719 [==============================] - 16s 9ms/step - loss: 0.4683 - accuracy: 0.8554 - val_loss: 0.5577 - val_accuracy: 0.8562\n",
      "Epoch 7/25\n",
      "1719/1719 [==============================] - 16s 9ms/step - loss: 0.4183 - accuracy: 0.8641 - val_loss: 0.5654 - val_accuracy: 0.8374\n",
      "Epoch 8/25\n",
      "1719/1719 [==============================] - 16s 9ms/step - loss: 0.3864 - accuracy: 0.8723 - val_loss: 0.4845 - val_accuracy: 0.8688\n",
      "Epoch 9/25\n",
      "1719/1719 [==============================] - 16s 9ms/step - loss: 0.3587 - accuracy: 0.8835 - val_loss: 0.5031 - val_accuracy: 0.8538\n",
      "Epoch 10/25\n",
      "1719/1719 [==============================] - 16s 9ms/step - loss: 0.3298 - accuracy: 0.8889 - val_loss: 0.4632 - val_accuracy: 0.8668\n",
      "Epoch 11/25\n",
      "1719/1719 [==============================] - 16s 9ms/step - loss: 0.3065 - accuracy: 0.8961 - val_loss: 0.4769 - val_accuracy: 0.8630\n",
      "Epoch 12/25\n",
      "1719/1719 [==============================] - 16s 9ms/step - loss: 0.2829 - accuracy: 0.9020 - val_loss: 0.4685 - val_accuracy: 0.8752\n",
      "Epoch 13/25\n",
      "1719/1719 [==============================] - 16s 9ms/step - loss: 0.2622 - accuracy: 0.9097 - val_loss: 0.5109 - val_accuracy: 0.8670\n",
      "Epoch 14/25\n",
      "1719/1719 [==============================] - 16s 9ms/step - loss: 0.2499 - accuracy: 0.9131 - val_loss: 0.4872 - val_accuracy: 0.8832\n",
      "Epoch 15/25\n",
      "1719/1719 [==============================] - 16s 9ms/step - loss: 0.2296 - accuracy: 0.9189 - val_loss: 0.5038 - val_accuracy: 0.8774\n",
      "Epoch 16/25\n",
      "1719/1719 [==============================] - 16s 9ms/step - loss: 0.2121 - accuracy: 0.9269 - val_loss: 0.5086 - val_accuracy: 0.8838\n",
      "Epoch 17/25\n",
      "1719/1719 [==============================] - 16s 9ms/step - loss: 0.2017 - accuracy: 0.9305 - val_loss: 0.4861 - val_accuracy: 0.8864\n",
      "Epoch 18/25\n",
      "1719/1719 [==============================] - 16s 10ms/step - loss: 0.1860 - accuracy: 0.9351 - val_loss: 0.5169 - val_accuracy: 0.8748\n",
      "Epoch 19/25\n",
      "1719/1719 [==============================] - 16s 9ms/step - loss: 0.1739 - accuracy: 0.9390 - val_loss: 0.4959 - val_accuracy: 0.8888\n",
      "Epoch 20/25\n",
      "1719/1719 [==============================] - 16s 9ms/step - loss: 0.1607 - accuracy: 0.9448 - val_loss: 0.5040 - val_accuracy: 0.8878\n",
      "Epoch 21/25\n",
      "1719/1719 [==============================] - 17s 10ms/step - loss: 0.1511 - accuracy: 0.9481 - val_loss: 0.5272 - val_accuracy: 0.8872\n",
      "Epoch 22/25\n",
      "1719/1719 [==============================] - 16s 9ms/step - loss: 0.1399 - accuracy: 0.9522 - val_loss: 0.5555 - val_accuracy: 0.8886\n",
      "Epoch 23/25\n",
      "1719/1719 [==============================] - 16s 9ms/step - loss: 0.1331 - accuracy: 0.9553 - val_loss: 0.5897 - val_accuracy: 0.8898\n",
      "Epoch 24/25\n",
      "1719/1719 [==============================] - 16s 9ms/step - loss: 0.1240 - accuracy: 0.9590 - val_loss: 0.5962 - val_accuracy: 0.8914\n",
      "Epoch 25/25\n",
      "1719/1719 [==============================] - 16s 9ms/step - loss: 0.1176 - accuracy: 0.9613 - val_loss: 0.6138 - val_accuracy: 0.8902\n"
     ]
    }
   ],
   "source": [
    "lr_scheduler = keras.callbacks.LearningRateScheduler(exponential_decay_fn)\n",
    "history = model.fit(X_train_scaled, y_train, epochs=n_epochs,\n",
    "                    validation_data=(X_valid_scaled, y_valid),\n",
    "                    callbacks=[lr_scheduler])"
   ]
  },
  {
   "cell_type": "markdown",
   "id": "b8e16629-d357-48a1-bd2b-c24850e60881",
   "metadata": {},
   "source": [
    "### Epochs vs Learning Rate"
   ]
  },
  {
   "cell_type": "markdown",
   "id": "099b2e95-ea21-402c-9dcd-aeffb6316594",
   "metadata": {},
   "source": [
    "- ステップ数 = データ数/バッチ数であることに注意\n",
    "- ステップ数 = s で 1/10となる"
   ]
  },
  {
   "cell_type": "code",
   "execution_count": 12,
   "id": "979d3d46-f629-4113-b6ed-2796bed3ebde",
   "metadata": {},
   "outputs": [
    {
     "data": {
      "image/png": "[encoded data removed]",
      "text/plain": [
       "<Figure size 432x288 with 1 Axes>"
      ]
     },
     "metadata": {
      "needs_background": "light"
     },
     "output_type": "display_data"
    }
   ],
   "source": [
    "plt.plot(history.epoch, history.history[\"lr\"], \"o-\")\n",
    "plt.axis([0, n_epochs - 1, 0, 0.011])\n",
    "plt.xlabel(\"Epoch\")\n",
    "plt.ylabel(\"Learning Rate\")\n",
    "plt.title(\"Exponential Scheduling\", fontsize=14)\n",
    "plt.grid(True)\n",
    "plt.show()"
   ]
  },
  {
   "cell_type": "markdown",
   "id": "a702a1ce-e94d-45d4-b351-5fdc21727cdf",
   "metadata": {},
   "source": [
    "### 現在の学習率を引数として受け取るには？ (エポック毎の場合)"
   ]
  },
  {
   "cell_type": "markdown",
   "id": "aa61f50a-a96d-49de-8d30-67868de597a0",
   "metadata": {},
   "source": [
    "The schedule function can take the current learning rate as a second argument:\n",
    "\n",
    "スケジュール関数は、現在の学習率を `2番目の引数` として受け取ることができます。"
   ]
  },
  {
   "cell_type": "code",
   "execution_count": 13,
   "id": "60dd6483-0f5e-4d7f-8ff5-6da8ec4ffd24",
   "metadata": {},
   "outputs": [],
   "source": [
    "def exponential_decay_fn(epoch, lr):\n",
    "    return lr * 0.1**(1 / 20)"
   ]
  },
  {
   "cell_type": "markdown",
   "id": "9dd02eac-6db5-423a-bf0a-7d0c5a4af581",
   "metadata": {},
   "source": [
    "### 現在の学習率を引数として受け取る (エポックでなくてバッチ毎に受け取る場合)"
   ]
  },
  {
   "cell_type": "markdown",
   "id": "b7dae654-d417-4bc1-bdbf-2f8dc77877d5",
   "metadata": {},
   "source": [
    "If you want to update the learning rate at each iteration rather than at each epoch, you must write your own callback class:\n",
    "\n",
    "エポックごとではなく反復ごとに学習率を更新する場合は、独自のコールバック クラスを作成する必要があります。"
   ]
  },
  {
   "cell_type": "markdown",
   "id": "4972301f-8044-407e-bd4c-7301484a018c",
   "metadata": {},
   "source": [
    "#### 複雑なのでいったん図でイメージ, `10.2.7の page308` も参考にすること\n",
    "\n",
    "- `keras.callbacks.Callback` を継承した俺々クラスを作成\n",
    "- `on_batch_begin`メソッドをカスタマイズ\n",
    "- `on_epoch_end`メソッドをカスタマイズ\n",
    "\n",
    "![](https://docs.google.com/drawings/d/e/2PACX-1vTXEpRjNd7NMhcwEwk8kNruL6FuOkZl6-IjxXCuDzr6m8310SD-4lhIeMKTbafyFBxt6znnGqCVqkN5/pub?w=946&h=623)"
   ]
  },
  {
   "cell_type": "code",
   "execution_count": 14,
   "id": "be1f6656-980d-4d24-9142-e055e060001f",
   "metadata": {
    "scrolled": true,
    "tags": []
   },
   "outputs": [
    {
     "name": "stdout",
     "output_type": "stream",
     "text": [
      "Epoch 1/25\n"
     ]
    },
    {
     "name": "stderr",
     "output_type": "stream",
     "text": [
      "2022-08-05 14:05:42.741277: I tensorflow/core/grappler/optimizers/custom_graph_optimizer_registry.cc:112] Plugin optimizer for device_type GPU is enabled.\n"
     ]
    },
    {
     "name": "stdout",
     "output_type": "stream",
     "text": [
      "1717/1719 [============================>.] - ETA: 0s - loss: 0.8010 - accuracy: 0.7655"
     ]
    },
    {
     "name": "stderr",
     "output_type": "stream",
     "text": [
      "2022-08-05 14:06:00.082001: I tensorflow/core/grappler/optimizers/custom_graph_optimizer_registry.cc:112] Plugin optimizer for device_type GPU is enabled.\n"
     ]
    },
    {
     "name": "stdout",
     "output_type": "stream",
     "text": [
      "1719/1719 [==============================] - 18s 10ms/step - loss: 0.8013 - accuracy: 0.7656 - val_loss: 0.7799 - val_accuracy: 0.7788\n",
      "Epoch 2/25\n",
      "1719/1719 [==============================] - 17s 10ms/step - loss: 0.6584 - accuracy: 0.8009 - val_loss: 0.4953 - val_accuracy: 0.8506\n",
      "Epoch 3/25\n",
      "1719/1719 [==============================] - 18s 11ms/step - loss: 0.5570 - accuracy: 0.8255 - val_loss: 0.5626 - val_accuracy: 0.8450\n",
      "Epoch 4/25\n",
      "1719/1719 [==============================] - 17s 10ms/step - loss: 0.5067 - accuracy: 0.8419 - val_loss: 0.4932 - val_accuracy: 0.8528\n",
      "Epoch 5/25\n",
      "1719/1719 [==============================] - 17s 10ms/step - loss: 0.4548 - accuracy: 0.8549 - val_loss: 0.4981 - val_accuracy: 0.8394\n",
      "Epoch 6/25\n",
      "1719/1719 [==============================] - 18s 11ms/step - loss: 0.4085 - accuracy: 0.8668 - val_loss: 0.4624 - val_accuracy: 0.8704\n",
      "Epoch 7/25\n",
      "1719/1719 [==============================] - 19s 11ms/step - loss: 0.3956 - accuracy: 0.8742 - val_loss: 0.4247 - val_accuracy: 0.8680\n",
      "Epoch 8/25\n",
      "1719/1719 [==============================] - 18s 10ms/step - loss: 0.3560 - accuracy: 0.8835 - val_loss: 0.4799 - val_accuracy: 0.8734\n",
      "Epoch 9/25\n",
      "1719/1719 [==============================] - 19s 11ms/step - loss: 0.3360 - accuracy: 0.8897 - val_loss: 0.4480 - val_accuracy: 0.8772\n",
      "Epoch 10/25\n",
      "1719/1719 [==============================] - 18s 11ms/step - loss: 0.3099 - accuracy: 0.8978 - val_loss: 0.4429 - val_accuracy: 0.8768\n",
      "Epoch 11/25\n",
      "1719/1719 [==============================] - 17s 10ms/step - loss: 0.2889 - accuracy: 0.9030 - val_loss: 0.4572 - val_accuracy: 0.8768\n",
      "Epoch 12/25\n",
      "1719/1719 [==============================] - 17s 10ms/step - loss: 0.2726 - accuracy: 0.9088 - val_loss: 0.4375 - val_accuracy: 0.8754\n",
      "Epoch 13/25\n",
      "1719/1719 [==============================] - 17s 10ms/step - loss: 0.2452 - accuracy: 0.9159 - val_loss: 0.4467 - val_accuracy: 0.8794\n",
      "Epoch 14/25\n",
      "1719/1719 [==============================] - 17s 10ms/step - loss: 0.2292 - accuracy: 0.9220 - val_loss: 0.4022 - val_accuracy: 0.8910\n",
      "Epoch 15/25\n",
      "1719/1719 [==============================] - 17s 10ms/step - loss: 0.2152 - accuracy: 0.9265 - val_loss: 0.4384 - val_accuracy: 0.8876\n",
      "Epoch 16/25\n",
      "1719/1719 [==============================] - 17s 10ms/step - loss: 0.1937 - accuracy: 0.9346 - val_loss: 0.4432 - val_accuracy: 0.8846\n",
      "Epoch 17/25\n",
      "1719/1719 [==============================] - 18s 10ms/step - loss: 0.1890 - accuracy: 0.9363 - val_loss: 0.4513 - val_accuracy: 0.8916\n",
      "Epoch 18/25\n",
      "1719/1719 [==============================] - 17s 10ms/step - loss: 0.1713 - accuracy: 0.9427 - val_loss: 0.4343 - val_accuracy: 0.8934\n",
      "Epoch 19/25\n",
      "1719/1719 [==============================] - 17s 10ms/step - loss: 0.1566 - accuracy: 0.9469 - val_loss: 0.4488 - val_accuracy: 0.8916\n",
      "Epoch 20/25\n",
      "1719/1719 [==============================] - 17s 10ms/step - loss: 0.1497 - accuracy: 0.9511 - val_loss: 0.4664 - val_accuracy: 0.8888\n",
      "Epoch 21/25\n",
      "1719/1719 [==============================] - 17s 10ms/step - loss: 0.1373 - accuracy: 0.9545 - val_loss: 0.4966 - val_accuracy: 0.8860\n",
      "Epoch 22/25\n",
      "1719/1719 [==============================] - 17s 10ms/step - loss: 0.1294 - accuracy: 0.9570 - val_loss: 0.5036 - val_accuracy: 0.8914\n",
      "Epoch 23/25\n",
      "1719/1719 [==============================] - 18s 10ms/step - loss: 0.1236 - accuracy: 0.9597 - val_loss: 0.5123 - val_accuracy: 0.8922\n",
      "Epoch 24/25\n",
      "1719/1719 [==============================] - 17s 10ms/step - loss: 0.1133 - accuracy: 0.9628 - val_loss: 0.5352 - val_accuracy: 0.8920\n",
      "Epoch 25/25\n",
      "1719/1719 [==============================] - 17s 10ms/step - loss: 0.1075 - accuracy: 0.9652 - val_loss: 0.5689 - val_accuracy: 0.8922\n"
     ]
    }
   ],
   "source": [
    "K = keras.backend\n",
    "\n",
    "# keras.callbacks.Callbackを継承して俺々コールバッククラスを作る\n",
    "class ExponentialDecay(keras.callbacks.Callback):\n",
    "    def __init__(self, s=40000):\n",
    "        super().__init__()\n",
    "        self.s = s\n",
    "\n",
    "    def on_batch_begin(self, batch, logs=None):\n",
    "        # Note: the `batch` argument is reset at each epoch\n",
    "        lr = K.get_value(self.model.optimizer.learning_rate)\n",
    "        K.set_value(self.model.optimizer.learning_rate, lr * 0.1**(1 / self.s))\n",
    "\n",
    "    def on_epoch_end(self, epoch, logs=None):\n",
    "        logs = logs or {}\n",
    "        logs['lr'] = K.get_value(self.model.optimizer.learning_rate)\n",
    "\n",
    "model = keras.models.Sequential([\n",
    "    keras.layers.Flatten(input_shape=[28, 28]),\n",
    "    keras.layers.Dense(300, activation=\"selu\", kernel_initializer=\"lecun_normal\"),\n",
    "    keras.layers.Dense(100, activation=\"selu\", kernel_initializer=\"lecun_normal\"),\n",
    "    keras.layers.Dense(10, activation=\"softmax\")\n",
    "])\n",
    "lr0 = 0.01\n",
    "optimizer = keras.optimizers.Nadam(learning_rate=lr0)\n",
    "model.compile(loss=\"sparse_categorical_crossentropy\", optimizer=optimizer, metrics=[\"accuracy\"])\n",
    "n_epochs = 25\n",
    "\n",
    "s = 20 * len(X_train) // 32 # number of steps in 20 epochs (batch size = 32)\n",
    "exp_decay = ExponentialDecay(s)\n",
    "history = model.fit(X_train_scaled, y_train, epochs=n_epochs,\n",
    "                    validation_data=(X_valid_scaled, y_valid),\n",
    "                    callbacks=[exp_decay])"
   ]
  },
  {
   "cell_type": "code",
   "execution_count": 15,
   "id": "f7bfa518-a435-4f67-8ed7-39867bc265d6",
   "metadata": {},
   "outputs": [
    {
     "name": "stdout",
     "output_type": "stream",
     "text": [
      "n_epochs 25\n",
      "len(X_train) 55000\n",
      "n_steps(エポック25分の全ステップ数) 42968\n"
     ]
    }
   ],
   "source": [
    "n_steps = n_epochs * len(X_train) // 32\n",
    "steps = np.arange(n_steps)\n",
    "lrs = lr0 * 0.1**(steps / s)\n",
    "print(\"n_epochs\", n_epochs)\n",
    "print(\"len(X_train)\", len(X_train))\n",
    "print(\"n_steps(エポック25分の全ステップ数)\", n_steps)"
   ]
  },
  {
   "cell_type": "code",
   "execution_count": 16,
   "id": "e54770fd-4ffb-4da0-af62-6645a3a343e8",
   "metadata": {},
   "outputs": [
    {
     "data": {
      "image/png": "[encoded data removed]",
      "text/plain": [
       "<Figure size 432x288 with 1 Axes>"
      ]
     },
     "metadata": {
      "needs_background": "light"
     },
     "output_type": "display_data"
    }
   ],
   "source": [
    "plt.plot(steps, lrs, \"-\", linewidth=2)\n",
    "plt.axis([0, n_steps - 1, 0, lr0 * 1.1])\n",
    "plt.xlabel(\"Total number of steps in 25 batches\")\n",
    "plt.ylabel(\"Learning Rate\")\n",
    "plt.title(\"Exponential Scheduling (per batch)\", fontsize=14)\n",
    "plt.grid(True)\n",
    "plt.show()"
   ]
  },
  {
   "cell_type": "markdown",
   "id": "a2c7c7d1-c51f-484d-b134-473f4950f830",
   "metadata": {},
   "source": [
    "## Piecewise Constant Scheduling (部分毎に一定の学習率をあらかじめ決めて置く方法)"
   ]
  },
  {
   "cell_type": "markdown",
   "id": "fed33df2-bad9-402a-85b2-d006ab65819c",
   "metadata": {},
   "source": [
    "- 適切な学習率と継続期間を予め明らかにするためには試行錯誤が必要になる (めんどうかも？)"
   ]
  },
  {
   "cell_type": "markdown",
   "id": "62ee7c7e-de2f-4ebe-a914-be6807c29e88",
   "metadata": {},
   "source": [
    "### スケジューリング指定方法\n",
    "\n",
    "- 基本的には指数スケジューリングと同様\n",
    "    - `keras.callbacks.LearningRateScheduler` コールバックを利用する\n",
    "- オレオレ関数の引数の一番目にepoch情報が入るので、それを使って制御する"
   ]
  },
  {
   "cell_type": "code",
   "execution_count": 17,
   "id": "5c151e78-7749-4616-a9ea-c2e490f2357b",
   "metadata": {},
   "outputs": [],
   "source": [
    "def piecewise_constant_fn(epoch):\n",
    "    if epoch < 5:\n",
    "        return 0.01\n",
    "    elif epoch < 15:\n",
    "        return 0.005\n",
    "    else:\n",
    "        return 0.001"
   ]
  },
  {
   "cell_type": "code",
   "execution_count": 18,
   "id": "8e158918-d631-45fb-9a80-cd80c0d9b846",
   "metadata": {},
   "outputs": [],
   "source": [
    "def piecewise_constant(boundaries, values):\n",
    "    boundaries = np.array([0] + boundaries)\n",
    "    values = np.array(values)\n",
    "    def piecewise_constant_fn(epoch):\n",
    "        return values[np.argmax(boundaries > epoch) - 1]\n",
    "    return piecewise_constant_fn\n",
    "\n",
    "piecewise_constant_fn = piecewise_constant([5, 15], [0.01, 0.005, 0.001])"
   ]
  },
  {
   "cell_type": "code",
   "execution_count": 19,
   "id": "09ca267c-2135-4914-a98a-9cd6f9edd6bb",
   "metadata": {
    "scrolled": true,
    "tags": []
   },
   "outputs": [
    {
     "name": "stdout",
     "output_type": "stream",
     "text": [
      "Epoch 1/25\n"
     ]
    },
    {
     "name": "stderr",
     "output_type": "stream",
     "text": [
      "2022-08-05 14:13:00.644694: I tensorflow/core/grappler/optimizers/custom_graph_optimizer_registry.cc:112] Plugin optimizer for device_type GPU is enabled.\n"
     ]
    },
    {
     "name": "stdout",
     "output_type": "stream",
     "text": [
      "1715/1719 [============================>.] - ETA: 0s - loss: 0.8456 - accuracy: 0.7562"
     ]
    },
    {
     "name": "stderr",
     "output_type": "stream",
     "text": [
      "2022-08-05 14:13:16.492048: I tensorflow/core/grappler/optimizers/custom_graph_optimizer_registry.cc:112] Plugin optimizer for device_type GPU is enabled.\n"
     ]
    },
    {
     "name": "stdout",
     "output_type": "stream",
     "text": [
      "1719/1719 [==============================] - 17s 9ms/step - loss: 0.8457 - accuracy: 0.7562 - val_loss: 0.8634 - val_accuracy: 0.8200\n",
      "Epoch 2/25\n",
      "1719/1719 [==============================] - 16s 9ms/step - loss: 0.8284 - accuracy: 0.7698 - val_loss: 0.8527 - val_accuracy: 0.7298\n",
      "Epoch 3/25\n",
      "1719/1719 [==============================] - 16s 9ms/step - loss: 1.1529 - accuracy: 0.6042 - val_loss: 1.0814 - val_accuracy: 0.6254\n",
      "Epoch 4/25\n",
      "1719/1719 [==============================] - 16s 9ms/step - loss: 1.0730 - accuracy: 0.5982 - val_loss: 0.9615 - val_accuracy: 0.6252\n",
      "Epoch 5/25\n",
      "1719/1719 [==============================] - 16s 9ms/step - loss: 1.0672 - accuracy: 0.5958 - val_loss: 1.0511 - val_accuracy: 0.6312\n",
      "Epoch 6/25\n",
      "1719/1719 [==============================] - 16s 10ms/step - loss: 0.8319 - accuracy: 0.6579 - val_loss: 0.9114 - val_accuracy: 0.6696\n",
      "Epoch 7/25\n",
      "1719/1719 [==============================] - 16s 9ms/step - loss: 0.8080 - accuracy: 0.6720 - val_loss: 1.0982 - val_accuracy: 0.6434\n",
      "Epoch 8/25\n",
      "1719/1719 [==============================] - 16s 9ms/step - loss: 0.7924 - accuracy: 0.6716 - val_loss: 0.9330 - val_accuracy: 0.6704\n",
      "Epoch 9/25\n",
      "1719/1719 [==============================] - 16s 9ms/step - loss: 0.7734 - accuracy: 0.6770 - val_loss: 0.9495 - val_accuracy: 0.6762\n",
      "Epoch 10/25\n",
      "1719/1719 [==============================] - 16s 9ms/step - loss: 0.7951 - accuracy: 0.6871 - val_loss: 0.8864 - val_accuracy: 0.6784\n",
      "Epoch 11/25\n",
      "1719/1719 [==============================] - 16s 9ms/step - loss: 0.6662 - accuracy: 0.7484 - val_loss: 0.8730 - val_accuracy: 0.7254\n",
      "Epoch 12/25\n",
      "1719/1719 [==============================] - 16s 9ms/step - loss: 0.5936 - accuracy: 0.7764 - val_loss: 0.7566 - val_accuracy: 0.7544\n",
      "Epoch 13/25\n",
      "1719/1719 [==============================] - 16s 9ms/step - loss: 0.5774 - accuracy: 0.7820 - val_loss: 0.7400 - val_accuracy: 0.7584\n",
      "Epoch 14/25\n",
      "1719/1719 [==============================] - 16s 9ms/step - loss: 0.5707 - accuracy: 0.7863 - val_loss: 0.7346 - val_accuracy: 0.7694\n",
      "Epoch 15/25\n",
      "1719/1719 [==============================] - 16s 9ms/step - loss: 0.5022 - accuracy: 0.8351 - val_loss: 0.6620 - val_accuracy: 0.8340\n",
      "Epoch 16/25\n",
      "1719/1719 [==============================] - 16s 9ms/step - loss: 0.3162 - accuracy: 0.9021 - val_loss: 0.5467 - val_accuracy: 0.8624\n",
      "Epoch 17/25\n",
      "1719/1719 [==============================] - 16s 9ms/step - loss: 0.2933 - accuracy: 0.9091 - val_loss: 0.5283 - val_accuracy: 0.8732\n",
      "Epoch 18/25\n",
      "1719/1719 [==============================] - 16s 9ms/step - loss: 0.2769 - accuracy: 0.9133 - val_loss: 0.5291 - val_accuracy: 0.8766\n",
      "Epoch 19/25\n",
      "1719/1719 [==============================] - 16s 9ms/step - loss: 0.2658 - accuracy: 0.9165 - val_loss: 0.5330 - val_accuracy: 0.8738\n",
      "Epoch 20/25\n",
      "1719/1719 [==============================] - 17s 10ms/step - loss: 0.2554 - accuracy: 0.9198 - val_loss: 0.5306 - val_accuracy: 0.8774\n",
      "Epoch 21/25\n",
      "1719/1719 [==============================] - 17s 10ms/step - loss: 0.2450 - accuracy: 0.9223 - val_loss: 0.5512 - val_accuracy: 0.8784\n",
      "Epoch 22/25\n",
      "1719/1719 [==============================] - 16s 10ms/step - loss: 0.2359 - accuracy: 0.9250 - val_loss: 0.6260 - val_accuracy: 0.8764\n",
      "Epoch 23/25\n",
      "1719/1719 [==============================] - 16s 9ms/step - loss: 0.2305 - accuracy: 0.9272 - val_loss: 0.6058 - val_accuracy: 0.8712\n",
      "Epoch 24/25\n",
      "1719/1719 [==============================] - 17s 10ms/step - loss: 0.2209 - accuracy: 0.9312 - val_loss: 0.5946 - val_accuracy: 0.8766\n",
      "Epoch 25/25\n",
      "1719/1719 [==============================] - 17s 10ms/step - loss: 0.2165 - accuracy: 0.9331 - val_loss: 0.6192 - val_accuracy: 0.8808\n"
     ]
    }
   ],
   "source": [
    "lr_scheduler = keras.callbacks.LearningRateScheduler(piecewise_constant_fn)\n",
    "\n",
    "model = keras.models.Sequential([\n",
    "    keras.layers.Flatten(input_shape=[28, 28]),\n",
    "    keras.layers.Dense(300, activation=\"selu\", kernel_initializer=\"lecun_normal\"),\n",
    "    keras.layers.Dense(100, activation=\"selu\", kernel_initializer=\"lecun_normal\"),\n",
    "    keras.layers.Dense(10, activation=\"softmax\")\n",
    "])\n",
    "model.compile(loss=\"sparse_categorical_crossentropy\", optimizer=\"nadam\", metrics=[\"accuracy\"])\n",
    "n_epochs = 25\n",
    "history = model.fit(X_train_scaled, y_train, epochs=n_epochs,\n",
    "                    validation_data=(X_valid_scaled, y_valid),\n",
    "                    callbacks=[lr_scheduler])"
   ]
  },
  {
   "cell_type": "markdown",
   "id": "efa320fb-bff3-4b16-bdd1-3d35b3248aa9",
   "metadata": {},
   "source": [
    "### Epochs vs Learning Rate"
   ]
  },
  {
   "cell_type": "code",
   "execution_count": 20,
   "id": "f89ae532-068b-4df1-9301-762061dcb601",
   "metadata": {},
   "outputs": [
    {
     "data": {
      "image/png": "[encoded data removed]",
      "text/plain": [
       "<Figure size 432x288 with 1 Axes>"
      ]
     },
     "metadata": {
      "needs_background": "light"
     },
     "output_type": "display_data"
    }
   ],
   "source": [
    "plt.plot(history.epoch, [piecewise_constant_fn(epoch) for epoch in history.epoch], \"o-\")\n",
    "plt.axis([0, n_epochs - 1, 0, 0.011])\n",
    "plt.xlabel(\"Epoch\")\n",
    "plt.ylabel(\"Learning Rate\")\n",
    "plt.title(\"Piecewise Constant Scheduling\", fontsize=14)\n",
    "plt.grid(True)\n",
    "plt.show()"
   ]
  },
  {
   "cell_type": "markdown",
   "id": "1e34a753-4cba-42c7-99e5-ad2c0bcdd7d6",
   "metadata": {},
   "source": [
    "## Performance Scheduling 性能によるスケジューリング"
   ]
  },
  {
   "cell_type": "markdown",
   "id": "c2bca4b2-4ff7-4c52-9a16-3c7db1fab37a",
   "metadata": {},
   "source": [
    "誤差の低下が止まると、学習率を低下していく方法"
   ]
  },
  {
   "cell_type": "code",
   "execution_count": 21,
   "id": "f69943c3-69f4-4457-8846-dce45b1763b5",
   "metadata": {},
   "outputs": [],
   "source": [
    "tf.random.set_seed(42)\n",
    "np.random.seed(42)"
   ]
  },
  {
   "cell_type": "markdown",
   "id": "7c065b44-a4b2-420c-a0e3-e58b8a280e4d",
   "metadata": {},
   "source": [
    "### スケジューリング指定方法\n",
    "\n",
    "- `keras.callbacks.ReduceLROnPlateau`コールバック が用意されている\n",
    "- 以下、最良の検証損失が向上しなければ、学習率に0.5をかけていく"
   ]
  },
  {
   "cell_type": "code",
   "execution_count": 22,
   "id": "ea364884-2a0e-45f4-b7ff-73f747677ed4",
   "metadata": {
    "scrolled": true,
    "tags": []
   },
   "outputs": [
    {
     "name": "stdout",
     "output_type": "stream",
     "text": [
      "Epoch 1/25\n",
      "  15/1719 [..............................] - ETA: 13s - loss: 1.7049 - accuracy: 0.5458"
     ]
    },
    {
     "name": "stderr",
     "output_type": "stream",
     "text": [
      "2022-08-05 14:19:45.108221: I tensorflow/core/grappler/optimizers/custom_graph_optimizer_registry.cc:112] Plugin optimizer for device_type GPU is enabled.\n"
     ]
    },
    {
     "name": "stdout",
     "output_type": "stream",
     "text": [
      "1717/1719 [============================>.] - ETA: 0s - loss: 0.6028 - accuracy: 0.8051"
     ]
    },
    {
     "name": "stderr",
     "output_type": "stream",
     "text": [
      "2022-08-05 14:19:56.873357: I tensorflow/core/grappler/optimizers/custom_graph_optimizer_registry.cc:112] Plugin optimizer for device_type GPU is enabled.\n"
     ]
    },
    {
     "name": "stdout",
     "output_type": "stream",
     "text": [
      "1719/1719 [==============================] - 12s 7ms/step - loss: 0.6032 - accuracy: 0.8051 - val_loss: 0.4798 - val_accuracy: 0.8474\n",
      "Epoch 2/25\n",
      "1719/1719 [==============================] - 12s 7ms/step - loss: 0.4939 - accuracy: 0.8402 - val_loss: 0.5513 - val_accuracy: 0.8370\n",
      "Epoch 3/25\n",
      "1719/1719 [==============================] - 14s 8ms/step - loss: 0.5191 - accuracy: 0.8414 - val_loss: 0.5743 - val_accuracy: 0.8408\n",
      "Epoch 4/25\n",
      "1719/1719 [==============================] - 13s 8ms/step - loss: 0.5149 - accuracy: 0.8458 - val_loss: 0.4950 - val_accuracy: 0.8514\n",
      "Epoch 5/25\n",
      "1719/1719 [==============================] - 14s 8ms/step - loss: 0.5257 - accuracy: 0.8485 - val_loss: 0.4692 - val_accuracy: 0.8546\n",
      "Epoch 6/25\n",
      "1719/1719 [==============================] - 13s 8ms/step - loss: 0.4962 - accuracy: 0.8569 - val_loss: 0.5070 - val_accuracy: 0.8644\n",
      "Epoch 7/25\n",
      "1719/1719 [==============================] - 13s 7ms/step - loss: 0.5088 - accuracy: 0.8559 - val_loss: 0.5333 - val_accuracy: 0.8506\n",
      "Epoch 8/25\n",
      "1719/1719 [==============================] - 13s 7ms/step - loss: 0.5223 - accuracy: 0.8559 - val_loss: 0.6209 - val_accuracy: 0.8314\n",
      "Epoch 9/25\n",
      "1719/1719 [==============================] - 13s 8ms/step - loss: 0.5311 - accuracy: 0.8554 - val_loss: 0.5725 - val_accuracy: 0.8702\n",
      "Epoch 10/25\n",
      "1719/1719 [==============================] - 13s 7ms/step - loss: 0.5496 - accuracy: 0.8532 - val_loss: 0.6947 - val_accuracy: 0.8408\n",
      "Epoch 11/25\n",
      "1719/1719 [==============================] - 12s 7ms/step - loss: 0.2976 - accuracy: 0.8959 - val_loss: 0.4000 - val_accuracy: 0.8816\n",
      "Epoch 12/25\n",
      "1719/1719 [==============================] - 12s 7ms/step - loss: 0.2501 - accuracy: 0.9095 - val_loss: 0.4408 - val_accuracy: 0.8796\n",
      "Epoch 13/25\n",
      "1719/1719 [==============================] - 12s 7ms/step - loss: 0.2241 - accuracy: 0.9168 - val_loss: 0.4937 - val_accuracy: 0.8824\n",
      "Epoch 14/25\n",
      "1719/1719 [==============================] - 12s 7ms/step - loss: 0.2111 - accuracy: 0.9206 - val_loss: 0.4655 - val_accuracy: 0.8744\n",
      "Epoch 15/25\n",
      "1719/1719 [==============================] - 12s 7ms/step - loss: 0.2053 - accuracy: 0.9233 - val_loss: 0.4484 - val_accuracy: 0.8802\n",
      "Epoch 16/25\n",
      "1719/1719 [==============================] - 12s 7ms/step - loss: 0.1869 - accuracy: 0.9291 - val_loss: 0.5018 - val_accuracy: 0.8824\n",
      "Epoch 17/25\n",
      "1719/1719 [==============================] - 12s 7ms/step - loss: 0.1340 - accuracy: 0.9467 - val_loss: 0.4497 - val_accuracy: 0.8928\n",
      "Epoch 18/25\n",
      "1719/1719 [==============================] - 13s 7ms/step - loss: 0.1202 - accuracy: 0.9523 - val_loss: 0.5005 - val_accuracy: 0.8870\n",
      "Epoch 19/25\n",
      "1719/1719 [==============================] - 12s 7ms/step - loss: 0.1131 - accuracy: 0.9552 - val_loss: 0.4920 - val_accuracy: 0.8946\n",
      "Epoch 20/25\n",
      "1719/1719 [==============================] - 12s 7ms/step - loss: 0.1077 - accuracy: 0.9568 - val_loss: 0.4991 - val_accuracy: 0.8964\n",
      "Epoch 21/25\n",
      "1719/1719 [==============================] - 12s 7ms/step - loss: 0.0992 - accuracy: 0.9609 - val_loss: 0.5162 - val_accuracy: 0.8924\n",
      "Epoch 22/25\n",
      "1719/1719 [==============================] - 13s 7ms/step - loss: 0.0816 - accuracy: 0.9684 - val_loss: 0.5337 - val_accuracy: 0.8984\n",
      "Epoch 23/25\n",
      "1719/1719 [==============================] - 12s 7ms/step - loss: 0.0758 - accuracy: 0.9708 - val_loss: 0.5406 - val_accuracy: 0.8984\n",
      "Epoch 24/25\n",
      "1719/1719 [==============================] - 12s 7ms/step - loss: 0.0731 - accuracy: 0.9718 - val_loss: 0.5568 - val_accuracy: 0.8962\n",
      "Epoch 25/25\n",
      "1719/1719 [==============================] - 12s 7ms/step - loss: 0.0698 - accuracy: 0.9739 - val_loss: 0.5618 - val_accuracy: 0.8970\n"
     ]
    }
   ],
   "source": [
    "lr_scheduler = keras.callbacks.ReduceLROnPlateau(factor=0.5, patience=5)\n",
    "\n",
    "model = keras.models.Sequential([\n",
    "    keras.layers.Flatten(input_shape=[28, 28]),\n",
    "    keras.layers.Dense(300, activation=\"selu\", kernel_initializer=\"lecun_normal\"),\n",
    "    keras.layers.Dense(100, activation=\"selu\", kernel_initializer=\"lecun_normal\"),\n",
    "    keras.layers.Dense(10, activation=\"softmax\")\n",
    "])\n",
    "optimizer = keras.optimizers.SGD(learning_rate=0.02, momentum=0.9)\n",
    "model.compile(loss=\"sparse_categorical_crossentropy\", optimizer=optimizer, metrics=[\"accuracy\"])\n",
    "n_epochs = 25\n",
    "\n",
    "# callbacks引数に上記lr_schedulerを渡す\n",
    "history = model.fit(X_train_scaled, y_train, epochs=n_epochs,\n",
    "                    validation_data=(X_valid_scaled, y_valid),\n",
    "                    callbacks=[lr_scheduler])"
   ]
  },
  {
   "cell_type": "code",
   "execution_count": 23,
   "id": "2b05d6da-b969-4d25-8e82-ea559ac94822",
   "metadata": {},
   "outputs": [
    {
     "data": {
      "image/png": "[encoded data removed]",
      "text/plain": [
       "<Figure size 432x288 with 2 Axes>"
      ]
     },
     "metadata": {
      "needs_background": "light"
     },
     "output_type": "display_data"
    }
   ],
   "source": [
    "plt.plot(history.epoch, history.history[\"lr\"], \"bo-\")\n",
    "plt.xlabel(\"Epoch\")\n",
    "plt.ylabel(\"Learning Rate\", color='b')\n",
    "plt.tick_params('y', colors='b')\n",
    "plt.gca().set_xlim(0, n_epochs - 1)\n",
    "plt.grid(True)\n",
    "\n",
    "ax2 = plt.gca().twinx()\n",
    "ax2.plot(history.epoch, history.history[\"val_loss\"], \"r^-\")\n",
    "ax2.set_ylabel('Validation Loss', color='r')\n",
    "ax2.tick_params('y', colors='r')\n",
    "\n",
    "plt.title(\"Reduce LR on Plateau\", fontsize=14)\n",
    "plt.show()"
   ]
  },
  {
   "cell_type": "markdown",
   "id": "26ba3e23-1179-4eee-ac3b-7a22ac8f0361",
   "metadata": {},
   "source": [
    "## tf.keras限定, 別のスケジューリング指定方法の紹介\n",
    "\n",
    "tf.keras限定で別のスケジューリング指定方法があるので、紹介する"
   ]
  },
  {
   "cell_type": "markdown",
   "id": "d27f0d03-aa46-4866-a9bd-eb666d52171c",
   "metadata": {},
   "source": [
    "先程説明した exponential_decay_fn() の別の方法"
   ]
  },
  {
   "cell_type": "code",
   "execution_count": 24,
   "id": "89b6675b-8415-411f-9c0e-829e66e04665",
   "metadata": {
    "scrolled": true,
    "tags": []
   },
   "outputs": [
    {
     "name": "stdout",
     "output_type": "stream",
     "text": [
      "Epoch 1/25\n",
      "  15/1719 [..............................] - ETA: 13s - loss: 1.5010 - accuracy: 0.4875"
     ]
    },
    {
     "name": "stderr",
     "output_type": "stream",
     "text": [
      "2022-08-05 14:25:01.092540: I tensorflow/core/grappler/optimizers/custom_graph_optimizer_registry.cc:112] Plugin optimizer for device_type GPU is enabled.\n"
     ]
    },
    {
     "name": "stdout",
     "output_type": "stream",
     "text": [
      "1719/1719 [==============================] - ETA: 0s - loss: 0.4870 - accuracy: 0.8285"
     ]
    },
    {
     "name": "stderr",
     "output_type": "stream",
     "text": [
      "2022-08-05 14:25:13.640234: I tensorflow/core/grappler/optimizers/custom_graph_optimizer_registry.cc:112] Plugin optimizer for device_type GPU is enabled.\n"
     ]
    },
    {
     "name": "stdout",
     "output_type": "stream",
     "text": [
      "1719/1719 [==============================] - 13s 8ms/step - loss: 0.4870 - accuracy: 0.8285 - val_loss: 0.4004 - val_accuracy: 0.8614\n",
      "Epoch 2/25\n",
      "1719/1719 [==============================] - 14s 8ms/step - loss: 0.3797 - accuracy: 0.8650 - val_loss: 0.3653 - val_accuracy: 0.8732\n",
      "Epoch 3/25\n",
      "1719/1719 [==============================] - 13s 8ms/step - loss: 0.3459 - accuracy: 0.8772 - val_loss: 0.3655 - val_accuracy: 0.8736\n",
      "Epoch 4/25\n",
      "1719/1719 [==============================] - 14s 8ms/step - loss: 0.3245 - accuracy: 0.8847 - val_loss: 0.3429 - val_accuracy: 0.8798\n",
      "Epoch 5/25\n",
      "1719/1719 [==============================] - 13s 8ms/step - loss: 0.3086 - accuracy: 0.8903 - val_loss: 0.3367 - val_accuracy: 0.8826\n",
      "Epoch 6/25\n",
      "1719/1719 [==============================] - 13s 8ms/step - loss: 0.2942 - accuracy: 0.8959 - val_loss: 0.3353 - val_accuracy: 0.8818\n",
      "Epoch 7/25\n",
      "1719/1719 [==============================] - 13s 8ms/step - loss: 0.2841 - accuracy: 0.8987 - val_loss: 0.3296 - val_accuracy: 0.8816\n",
      "Epoch 8/25\n",
      "1719/1719 [==============================] - 13s 8ms/step - loss: 0.2751 - accuracy: 0.9023 - val_loss: 0.3329 - val_accuracy: 0.8820\n",
      "Epoch 9/25\n",
      "1719/1719 [==============================] - 13s 7ms/step - loss: 0.2669 - accuracy: 0.9042 - val_loss: 0.3222 - val_accuracy: 0.8840\n",
      "Epoch 10/25\n",
      "1719/1719 [==============================] - 13s 8ms/step - loss: 0.2601 - accuracy: 0.9069 - val_loss: 0.3202 - val_accuracy: 0.8856\n",
      "Epoch 11/25\n",
      "1719/1719 [==============================] - 13s 8ms/step - loss: 0.2545 - accuracy: 0.9090 - val_loss: 0.3205 - val_accuracy: 0.8864\n",
      "Epoch 12/25\n",
      "1719/1719 [==============================] - 13s 8ms/step - loss: 0.2492 - accuracy: 0.9113 - val_loss: 0.3239 - val_accuracy: 0.8842\n",
      "Epoch 13/25\n",
      "1719/1719 [==============================] - 13s 8ms/step - loss: 0.2445 - accuracy: 0.9132 - val_loss: 0.3174 - val_accuracy: 0.8890\n",
      "Epoch 14/25\n",
      "1719/1719 [==============================] - 14s 8ms/step - loss: 0.2411 - accuracy: 0.9143 - val_loss: 0.3208 - val_accuracy: 0.8878\n",
      "Epoch 15/25\n",
      "1719/1719 [==============================] - 14s 8ms/step - loss: 0.2372 - accuracy: 0.9159 - val_loss: 0.3166 - val_accuracy: 0.8884\n",
      "Epoch 16/25\n",
      "1719/1719 [==============================] - 14s 8ms/step - loss: 0.2341 - accuracy: 0.9167 - val_loss: 0.3145 - val_accuracy: 0.8890\n",
      "Epoch 17/25\n",
      "1719/1719 [==============================] - 13s 8ms/step - loss: 0.2315 - accuracy: 0.9185 - val_loss: 0.3163 - val_accuracy: 0.8890\n",
      "Epoch 18/25\n",
      "1719/1719 [==============================] - 13s 8ms/step - loss: 0.2288 - accuracy: 0.9193 - val_loss: 0.3137 - val_accuracy: 0.8908\n",
      "Epoch 19/25\n",
      "1719/1719 [==============================] - 14s 8ms/step - loss: 0.2268 - accuracy: 0.9199 - val_loss: 0.3156 - val_accuracy: 0.8900\n",
      "Epoch 20/25\n",
      "1719/1719 [==============================] - 13s 8ms/step - loss: 0.2249 - accuracy: 0.9209 - val_loss: 0.3138 - val_accuracy: 0.8896\n",
      "Epoch 21/25\n",
      "1719/1719 [==============================] - 13s 8ms/step - loss: 0.2229 - accuracy: 0.9217 - val_loss: 0.3144 - val_accuracy: 0.8914\n",
      "Epoch 22/25\n",
      "1719/1719 [==============================] - 13s 8ms/step - loss: 0.2216 - accuracy: 0.9221 - val_loss: 0.3132 - val_accuracy: 0.8908\n",
      "Epoch 23/25\n",
      "1719/1719 [==============================] - 14s 8ms/step - loss: 0.2201 - accuracy: 0.9223 - val_loss: 0.3138 - val_accuracy: 0.8912\n",
      "Epoch 24/25\n",
      "1719/1719 [==============================] - 14s 8ms/step - loss: 0.2188 - accuracy: 0.9234 - val_loss: 0.3136 - val_accuracy: 0.8904\n",
      "Epoch 25/25\n",
      "1719/1719 [==============================] - 14s 8ms/step - loss: 0.2180 - accuracy: 0.9238 - val_loss: 0.3136 - val_accuracy: 0.8908\n"
     ]
    }
   ],
   "source": [
    "# モデル作成\n",
    "model = keras.models.Sequential([\n",
    "    keras.layers.Flatten(input_shape=[28, 28]),\n",
    "    keras.layers.Dense(300, activation=\"selu\", kernel_initializer=\"lecun_normal\"),\n",
    "    keras.layers.Dense(100, activation=\"selu\", kernel_initializer=\"lecun_normal\"),\n",
    "    keras.layers.Dense(10, activation=\"softmax\")\n",
    "])\n",
    "\n",
    "# 指数スケジューリングの設定\n",
    "# 20エポック * ステップ数で学習率が1/10になるように設定\n",
    "s = 20 * len(X_train) // 32 # number of steps in 20 epochs (batch size = 32)\n",
    "learning_rate = keras.optimizers.schedules.ExponentialDecay(0.01, s, 0.1)\n",
    "\n",
    "# optimizersの引数にわたす。以下はOptimizerとしてSGDを利用している場合\n",
    "optimizer = keras.optimizers.SGD(learning_rate)\n",
    "\n",
    "# compileでoptimizerを渡す\n",
    "model.compile(loss=\"sparse_categorical_crossentropy\", optimizer=optimizer, metrics=[\"accuracy\"])\n",
    "n_epochs = 25\n",
    "history = model.fit(X_train_scaled, y_train, epochs=n_epochs,\n",
    "                    validation_data=(X_valid_scaled, y_valid))"
   ]
  },
  {
   "cell_type": "code",
   "execution_count": 25,
   "id": "3856a010-4029-4c7e-819c-9c2efd7de48f",
   "metadata": {},
   "outputs": [],
   "source": [
    "learning_rate = keras.optimizers.schedules.PiecewiseConstantDecay(\n",
    "    boundaries=[5. * n_steps_per_epoch, 15. * n_steps_per_epoch],\n",
    "    values=[0.01, 0.005, 0.001])"
   ]
  },
  {
   "cell_type": "code",
   "execution_count": 26,
   "id": "ea480507-2d8f-422a-8f8a-59d61d7600b9",
   "metadata": {},
   "outputs": [
    {
     "name": "stdout",
     "output_type": "stream",
     "text": [
      "<keras.optimizer_v2.learning_rate_schedule.PiecewiseConstantDecay object at 0x28acaa550>\n"
     ]
    }
   ],
   "source": [
    "print(learning_rate)"
   ]
  },
  {
   "cell_type": "markdown",
   "id": "290811a1-995f-41f3-a543-eb68b611be6d",
   "metadata": {},
   "source": [
    "## 1Cycle scheduling\n",
    "\n",
    "横軸をステップ数としたとき、下記のようなプロファイルで学習率を調整する。\n",
    "\n",
    "- η1は学習率曲線を描いてやって、それで求めてやる"
   ]
  },
  {
   "cell_type": "markdown",
   "id": "35bdd36b-0d15-40d7-a0a7-17a1a9bfeede",
   "metadata": {},
   "source": [
    "![](https://docs.google.com/drawings/d/e/2PACX-1vRaUwCD0e8VMlXnl2clFZw-1ZHJP4H71dfJFVllmKhSVyW1bZvBpryDmJJt3-JvDQ9hIyZQJeLTX2ib/pub?w=915&h=445)"
   ]
  },
  {
   "cell_type": "markdown",
   "id": "50ec9249-c13d-459f-aa20-3d12110ad549",
   "metadata": {},
   "source": [
    "### STEP1: η1を決定する"
   ]
  },
  {
   "cell_type": "code",
   "execution_count": 32,
   "id": "590f1eaa-d908-4709-ad9e-2f7ccb5f45e5",
   "metadata": {},
   "outputs": [],
   "source": [
    "K = keras.backend\n",
    "\n",
    "class ExponentialLearningRate(keras.callbacks.Callback):\n",
    "    def __init__(self, factor):\n",
    "        self.factor = factor\n",
    "        self.rates = []\n",
    "        self.losses = []\n",
    "    def on_batch_end(self, batch, logs):\n",
    "        self.rates.append(K.get_value(self.model.optimizer.learning_rate))\n",
    "        self.losses.append(logs[\"loss\"])\n",
    "        K.set_value(self.model.optimizer.learning_rate, self.model.optimizer.learning_rate * self.factor)\n",
    "\n",
    "def find_learning_rate(model, X, y, epochs=1, batch_size=32, min_rate=10**-5, max_rate=10):\n",
    "    init_weights = model.get_weights()\n",
    "    iterations = math.ceil(len(X) / batch_size) * epochs\n",
    "    factor = np.exp(np.log(max_rate / min_rate) / iterations)\n",
    "    init_lr = K.get_value(model.optimizer.learning_rate)\n",
    "    K.set_value(model.optimizer.learning_rate, min_rate)\n",
    "    exp_lr = ExponentialLearningRate(factor)\n",
    "    history = model.fit(X, y, epochs=epochs, batch_size=batch_size,\n",
    "                        callbacks=[exp_lr])\n",
    "    K.set_value(model.optimizer.learning_rate, init_lr)\n",
    "    model.set_weights(init_weights)\n",
    "    return exp_lr.rates, exp_lr.losses\n",
    "\n",
    "def plot_lr_vs_loss(rates, losses):\n",
    "    plt.plot(rates, losses)\n",
    "    plt.gca().set_xscale('log')\n",
    "    plt.hlines(min(losses), min(rates), max(rates))\n",
    "    plt.axis([min(rates), max(rates), min(losses), (losses[0] + min(losses)) / 2])\n",
    "    plt.xlabel(\"Learning rate\")\n",
    "    plt.ylabel(\"Loss\")"
   ]
  },
  {
   "cell_type": "markdown",
   "id": "ea7c6f76-ac8c-4923-9bd7-4e1dd7a24237",
   "metadata": {},
   "source": [
    "**Warning**: In the `on_batch_end()` method, `logs[\"loss\"]` used to contain the batch loss, but in TensorFlow 2.2.0 it was replaced with the mean loss (since the start of the epoch). This explains why the graph below is much smoother than in the book (if you are using TF 2.2 or above). It also means that there is a lag between the moment the batch loss starts exploding and the moment the explosion becomes clear in the graph. So you should choose a slightly smaller learning rate than you would have chosen with the \"noisy\" graph. Alternatively, you can tweak the `ExponentialLearningRate` callback above so it computes the batch loss (based on the current mean loss and the previous mean loss):\n",
    "\n",
    "警告 on_batch_end()メソッドでは、logs[\"loss\"]にバッチロスが含まれていましたが、TensorFlow 2.2.0では平均ロス（エポック開始からの）に置き換えられています。このため、下のグラフは書籍よりもずっと滑らかです（TF 2.2以降を使用している場合）。また、バッチロスが爆発的に増え始めてから、その爆発がグラフで明らかになるまでにタイムラグがあることも意味します。ですから、「ノイズの多い」グラフのときよりも、少し小さめの学習率を選ぶとよいでしょう。あるいは、上記のExponentialLearningRateコールバックを微調整して、（現在の平均損失と以前の平均損失に基づいて）バッチ損失を計算するようにすることもできる。\n",
    "\n",
    "```python\n",
    "class ExponentialLearningRate(keras.callbacks.Callback):\n",
    "    def __init__(self, factor):\n",
    "        self.factor = factor\n",
    "        self.rates = []\n",
    "        self.losses = []\n",
    "    def on_epoch_begin(self, epoch, logs=None):\n",
    "        self.prev_loss = 0\n",
    "    def on_batch_end(self, batch, logs=None):\n",
    "        batch_loss = logs[\"loss\"] * (batch + 1) - self.prev_loss * batch\n",
    "        self.prev_loss = logs[\"loss\"]\n",
    "        self.rates.append(K.get_value(self.model.optimizer.learning_rate))\n",
    "        self.losses.append(batch_loss)\n",
    "        K.set_value(self.model.optimizer.learning_rate, self.model.optimizer.learning_rate * self.factor)\n",
    "```"
   ]
  },
  {
   "cell_type": "code",
   "execution_count": 28,
   "id": "9aaf6ed4-1f02-47d0-b3ce-6fddda9a44b1",
   "metadata": {},
   "outputs": [],
   "source": [
    "tf.random.set_seed(42)\n",
    "np.random.seed(42)\n",
    "\n",
    "model = keras.models.Sequential([\n",
    "    keras.layers.Flatten(input_shape=[28, 28]),\n",
    "    keras.layers.Dense(300, activation=\"selu\", kernel_initializer=\"lecun_normal\"),\n",
    "    keras.layers.Dense(100, activation=\"selu\", kernel_initializer=\"lecun_normal\"),\n",
    "    keras.layers.Dense(10, activation=\"softmax\")\n",
    "])\n",
    "model.compile(loss=\"sparse_categorical_crossentropy\",\n",
    "              optimizer=keras.optimizers.SGD(learning_rate=1e-3),\n",
    "              metrics=[\"accuracy\"])"
   ]
  },
  {
   "cell_type": "code",
   "execution_count": 29,
   "id": "74b07122-60df-49af-bed1-345e19957c49",
   "metadata": {},
   "outputs": [
    {
     "name": "stdout",
     "output_type": "stream",
     "text": [
      " 12/430 [..............................] - ETA: 4s - loss: 2.8759 - accuracy: 0.1055"
     ]
    },
    {
     "name": "stderr",
     "output_type": "stream",
     "text": [
      "2022-08-05 14:30:36.041429: I tensorflow/core/grappler/optimizers/custom_graph_optimizer_registry.cc:112] Plugin optimizer for device_type GPU is enabled.\n"
     ]
    },
    {
     "name": "stdout",
     "output_type": "stream",
     "text": [
      "430/430 [==============================] - 4s 10ms/step - loss: nan - accuracy: 0.3733\n"
     ]
    },
    {
     "data": {
      "image/png": "[encoded data removed]",
      "text/plain": [
       "<Figure size 432x288 with 1 Axes>"
      ]
     },
     "metadata": {
      "needs_background": "light"
     },
     "output_type": "display_data"
    }
   ],
   "source": [
    "batch_size = 128\n",
    "rates, losses = find_learning_rate(model, X_train_scaled, y_train, epochs=1, batch_size=batch_size)\n",
    "plot_lr_vs_loss(rates, losses)"
   ]
  },
  {
   "cell_type": "markdown",
   "id": "a9c271c9-ca99-4de5-9eb9-57a92b3f500d",
   "metadata": {},
   "source": [
    "### OneCycleSchedulerを開始"
   ]
  },
  {
   "cell_type": "code",
   "execution_count": 30,
   "id": "952f4af6-11d2-4387-9ec7-6e90bad29c4c",
   "metadata": {},
   "outputs": [],
   "source": [
    "class OneCycleScheduler(keras.callbacks.Callback):\n",
    "    def __init__(self, iterations, max_rate, start_rate=None,\n",
    "                 last_iterations=None, last_rate=None):\n",
    "        self.iterations = iterations\n",
    "        self.max_rate = max_rate\n",
    "        self.start_rate = start_rate or max_rate / 10\n",
    "        self.last_iterations = last_iterations or iterations // 10 + 1\n",
    "        self.half_iteration = (iterations - self.last_iterations) // 2\n",
    "        self.last_rate = last_rate or self.start_rate / 1000\n",
    "        self.iteration = 0\n",
    "        print(\"self.start_rate :\", self.start_rate)\n",
    "        print(\"self.max_rate   :\", self.max_rate)\n",
    "        print(\"self.last_rate  :\", self.last_rate)\n",
    "        print(\"self.iterations:\", self.iterations)\n",
    "        print(\"self.half_iteration:\", self.half_iteration)\n",
    "        print(\"self.last_iterations:\", self.last_iterations)\n",
    "    def _interpolate(self, iter1, iter2, rate1, rate2):\n",
    "        return ((rate2 - rate1) * (self.iteration - iter1)\n",
    "                / (iter2 - iter1) + rate1)\n",
    "    def on_batch_begin(self, batch, logs):\n",
    "        if self.iteration < self.half_iteration:\n",
    "            rate = self._interpolate(0, self.half_iteration, self.start_rate, self.max_rate)\n",
    "        elif self.iteration < 2 * self.half_iteration:\n",
    "            rate = self._interpolate(self.half_iteration, 2 * self.half_iteration,\n",
    "                                     self.max_rate, self.start_rate)\n",
    "        else:\n",
    "            rate = self._interpolate(2 * self.half_iteration, self.iterations,\n",
    "                                     self.start_rate, self.last_rate)\n",
    "        self.iteration += 1\n",
    "        K.set_value(self.model.optimizer.learning_rate, rate)"
   ]
  },
  {
   "cell_type": "code",
   "execution_count": 31,
   "id": "342597f3-a151-46e4-acbe-df4798e8308c",
   "metadata": {
    "scrolled": true,
    "tags": []
   },
   "outputs": [
    {
     "name": "stdout",
     "output_type": "stream",
     "text": [
      "self.start_rate : 0.005\n",
      "self.max_rate   : 0.05\n",
      "self.last_rate  : 5e-06\n",
      "self.iterations: 10750\n",
      "self.half_iteration: 4837\n",
      "self.last_iterations: 1076\n",
      "Epoch 1/25\n",
      "428/430 [============================>.] - ETA: 0s - loss: 0.6538 - accuracy: 0.7714"
     ]
    },
    {
     "name": "stderr",
     "output_type": "stream",
     "text": [
      "2022-08-05 14:30:44.690463: I tensorflow/core/grappler/optimizers/custom_graph_optimizer_registry.cc:112] Plugin optimizer for device_type GPU is enabled.\n"
     ]
    },
    {
     "name": "stdout",
     "output_type": "stream",
     "text": [
      "430/430 [==============================] - 4s 9ms/step - loss: 0.6530 - accuracy: 0.7717 - val_loss: 0.4807 - val_accuracy: 0.8350\n",
      "Epoch 2/25\n",
      "430/430 [==============================] - 4s 9ms/step - loss: 0.4553 - accuracy: 0.8405 - val_loss: 0.4252 - val_accuracy: 0.8556\n",
      "Epoch 3/25\n",
      "430/430 [==============================] - 4s 9ms/step - loss: 0.4104 - accuracy: 0.8553 - val_loss: 0.4097 - val_accuracy: 0.8556\n",
      "Epoch 4/25\n",
      "430/430 [==============================] - 4s 9ms/step - loss: 0.3814 - accuracy: 0.8650 - val_loss: 0.3836 - val_accuracy: 0.8638\n",
      "Epoch 5/25\n",
      "430/430 [==============================] - 4s 9ms/step - loss: 0.3613 - accuracy: 0.8716 - val_loss: 0.3676 - val_accuracy: 0.8704\n",
      "Epoch 6/25\n",
      "430/430 [==============================] - 4s 9ms/step - loss: 0.3427 - accuracy: 0.8772 - val_loss: 0.3650 - val_accuracy: 0.8718\n",
      "Epoch 7/25\n",
      "430/430 [==============================] - 4s 9ms/step - loss: 0.3296 - accuracy: 0.8814 - val_loss: 0.3546 - val_accuracy: 0.8752\n",
      "Epoch 8/25\n",
      "430/430 [==============================] - 4s 10ms/step - loss: 0.3153 - accuracy: 0.8853 - val_loss: 0.3821 - val_accuracy: 0.8576\n",
      "Epoch 9/25\n",
      "430/430 [==============================] - 4s 9ms/step - loss: 0.3035 - accuracy: 0.8904 - val_loss: 0.3423 - val_accuracy: 0.8756\n",
      "Epoch 10/25\n",
      "430/430 [==============================] - 4s 9ms/step - loss: 0.2918 - accuracy: 0.8928 - val_loss: 0.3329 - val_accuracy: 0.8820\n",
      "Epoch 11/25\n",
      "430/430 [==============================] - 4s 9ms/step - loss: 0.2816 - accuracy: 0.8972 - val_loss: 0.3402 - val_accuracy: 0.8808\n",
      "Epoch 12/25\n",
      "430/430 [==============================] - 4s 9ms/step - loss: 0.2682 - accuracy: 0.9033 - val_loss: 0.3473 - val_accuracy: 0.8746\n",
      "Epoch 13/25\n",
      "430/430 [==============================] - 4s 9ms/step - loss: 0.2516 - accuracy: 0.9077 - val_loss: 0.3283 - val_accuracy: 0.8858\n",
      "Epoch 14/25\n",
      "430/430 [==============================] - 4s 9ms/step - loss: 0.2386 - accuracy: 0.9126 - val_loss: 0.3294 - val_accuracy: 0.8876\n",
      "Epoch 15/25\n",
      "430/430 [==============================] - 5s 11ms/step - loss: 0.2259 - accuracy: 0.9186 - val_loss: 0.3200 - val_accuracy: 0.8882\n",
      "Epoch 16/25\n",
      "430/430 [==============================] - 4s 9ms/step - loss: 0.2150 - accuracy: 0.9232 - val_loss: 0.3219 - val_accuracy: 0.8832\n",
      "Epoch 17/25\n",
      "430/430 [==============================] - 4s 9ms/step - loss: 0.2050 - accuracy: 0.9262 - val_loss: 0.3273 - val_accuracy: 0.8908\n",
      "Epoch 18/25\n",
      "430/430 [==============================] - 4s 9ms/step - loss: 0.1966 - accuracy: 0.9300 - val_loss: 0.3164 - val_accuracy: 0.8932\n",
      "Epoch 19/25\n",
      "430/430 [==============================] - 4s 10ms/step - loss: 0.1881 - accuracy: 0.9348 - val_loss: 0.3169 - val_accuracy: 0.8896\n",
      "Epoch 20/25\n",
      "430/430 [==============================] - 4s 10ms/step - loss: 0.1810 - accuracy: 0.9377 - val_loss: 0.3146 - val_accuracy: 0.8914\n",
      "Epoch 21/25\n",
      "430/430 [==============================] - 4s 9ms/step - loss: 0.1742 - accuracy: 0.9409 - val_loss: 0.3143 - val_accuracy: 0.8926\n",
      "Epoch 22/25\n",
      "430/430 [==============================] - 4s 9ms/step - loss: 0.1692 - accuracy: 0.9422 - val_loss: 0.3128 - val_accuracy: 0.8920\n",
      "Epoch 23/25\n",
      "430/430 [==============================] - 4s 9ms/step - loss: 0.1646 - accuracy: 0.9444 - val_loss: 0.3129 - val_accuracy: 0.8944\n",
      "Epoch 24/25\n",
      "430/430 [==============================] - 4s 9ms/step - loss: 0.1619 - accuracy: 0.9461 - val_loss: 0.3126 - val_accuracy: 0.8932\n",
      "Epoch 25/25\n",
      "430/430 [==============================] - 4s 9ms/step - loss: 0.1601 - accuracy: 0.9467 - val_loss: 0.3116 - val_accuracy: 0.8924\n"
     ]
    }
   ],
   "source": [
    "n_epochs = 25\n",
    "onecycle = OneCycleScheduler(math.ceil(len(X_train) / batch_size) * n_epochs, max_rate=0.05)\n",
    "history = model.fit(X_train_scaled, y_train, epochs=n_epochs, batch_size=batch_size,\n",
    "                    validation_data=(X_valid_scaled, y_valid),\n",
    "                    callbacks=[onecycle])"
   ]
  },
  {
   "cell_type": "code",
   "execution_count": null,
   "id": "6f4875d7-b661-41d2-82e8-16760eda6e41",
   "metadata": {},
   "outputs": [],
   "source": []
  }
 ],
 "metadata": {
  "kernelspec": {
   "display_name": "Python 3.7.6 ('base')",
   "language": "python",
   "name": "python3"
  },
  "language_info": {
   "codemirror_mode": {
    "name": "ipython",
    "version": 3
   },
   "file_extension": ".py",
   "mimetype": "text/x-python",
   "name": "python",
   "nbconvert_exporter": "python",
   "pygments_lexer": "ipython3",
   "version": "3.7.6"
  },
  "vscode": {
   "interpreter": {
    "hash": "86c3969cb8e4d6528009ba441e3b227910147fcb8261d5b261fbcbb462fd60ef"
   }
  }
 },
 "nbformat": 4,
 "nbformat_minor": 5
}

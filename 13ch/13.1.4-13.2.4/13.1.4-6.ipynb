{
 "cells": [
  {
   "cell_type": "markdown",
   "metadata": {},
   "source": [
    "# 13.1 データAPI\n",
    "\n",
    "## このNotebookの対応するセクションとその概要\n",
    "\n",
    "- 13.1.4: 1つにまとめる\n",
    "    - これまで学んだDATA APIを1つにまとめてコードの再利用性を高める\n",
    "        - `csv_reader_dataset()` 関数を作成\n",
    "- 13.1.5: プリフェッチ\n",
    "    - trainingの時間を短縮化するためのテクニック\n",
    "- 13.1.6: tf.kerasのもとでのデータセットの使い方\n",
    "    - データAPIを利用した `csv_reader_dataset()`関数をtf.kerasで適用してみる\n",
    "    - データAPIを利用することで、これまでよりコードをより簡潔にかくことができるようになる\n",
    "        - つまりこれまでのコードの書き方と少し異なるのでそれについて学ぶ。\n",
    "\n",
    "### Note\n",
    "\n",
    "- 13.1では、`CSV`形式を取り扱っていることを必ず忘れないようにしよう。\n",
    "- 13.2でもっと効率的なデータ形式 `TRRecord` 形式を学ぶ"
   ]
  },
  {
   "cell_type": "markdown",
   "metadata": {},
   "source": [
    "## 事前準備 (前回の復習)"
   ]
  },
  {
   "cell_type": "code",
   "execution_count": 1,
   "metadata": {},
   "outputs": [],
   "source": [
    "# Python ≥3.5 is required\n",
    "import sys\n",
    "assert sys.version_info >= (3, 5)\n",
    "\n",
    "# Is this notebook running on Colab or Kaggle?\n",
    "IS_COLAB = \"google.colab\" in sys.modules\n",
    "IS_KAGGLE = \"kaggle_secrets\" in sys.modules\n",
    "\n",
    "if IS_COLAB or IS_KAGGLE:\n",
    "    %pip install -q -U tfx\n",
    "    print(\"You can safely ignore the package incompatibility errors.\")\n",
    "\n",
    "# Scikit-Learn ≥0.20 is required\n",
    "import sklearn\n",
    "assert sklearn.__version__ >= \"0.20\"\n",
    "\n",
    "# TensorFlow ≥2.0 is required\n",
    "import tensorflow as tf\n",
    "from tensorflow import keras\n",
    "assert tf.__version__ >= \"2.0\"\n",
    "\n",
    "# Common imports\n",
    "import numpy as np\n",
    "import os\n",
    "\n",
    "# to make this notebook's output stable across runs\n",
    "np.random.seed(42)\n",
    "\n",
    "# To plot pretty figures\n",
    "%matplotlib inline\n",
    "import matplotlib as mpl\n",
    "import matplotlib.pyplot as plt\n",
    "mpl.rc('axes', labelsize=14)\n",
    "mpl.rc('xtick', labelsize=12)\n",
    "mpl.rc('ytick', labelsize=12)\n",
    "\n",
    "# Where to save the figures\n",
    "PROJECT_ROOT_DIR = \".\"\n",
    "CHAPTER_ID = \"data\"\n",
    "IMAGES_PATH = os.path.join(PROJECT_ROOT_DIR, \"images\", CHAPTER_ID)\n",
    "os.makedirs(IMAGES_PATH, exist_ok=True)\n",
    "\n",
    "def save_fig(fig_id, tight_layout=True, fig_extension=\"png\", resolution=300):\n",
    "    path = os.path.join(IMAGES_PATH, fig_id + \".\" + fig_extension)\n",
    "    print(\"Saving figure\", fig_id)\n",
    "    if tight_layout:\n",
    "        plt.tight_layout()\n",
    "    plt.savefig(path, format=fig_extension, dpi=resolution)"
   ]
  },
  {
   "cell_type": "markdown",
   "metadata": {},
   "source": [
    "#### Split the California dataset to multiple CSV files"
   ]
  },
  {
   "cell_type": "markdown",
   "metadata": {},
   "source": [
    "まず、California housing datasetのロードと準備から始めましょう。まずロードして、トレーニングセット、検証セット、テストセットに分割し、最後にスケーリングします。"
   ]
  },
  {
   "cell_type": "code",
   "execution_count": 2,
   "metadata": {},
   "outputs": [],
   "source": [
    "from sklearn.datasets import fetch_california_housing\n",
    "from sklearn.model_selection import train_test_split\n",
    "from sklearn.preprocessing import StandardScaler\n",
    "\n",
    "# データセットの読み込み\n",
    "housing = fetch_california_housing()\n",
    "\n",
    "# 学習用とテスト用に分ける\n",
    "X_train_full, X_test, y_train_full, y_test = train_test_split(\n",
    "                                                housing.data, \n",
    "                                                housing.target.reshape(-1, 1), \n",
    "                                                random_state=42)\n",
    "\n",
    "# 先程つくた学習用データセットをさらに学習用と検証用に分ける\n",
    "X_train, X_valid, y_train, y_valid = train_test_split(\n",
    "                                        X_train_full, \n",
    "                                        y_train_full, \n",
    "                                        random_state=42)\n",
    "\n",
    "# データの標準化\n",
    "scaler = StandardScaler()\n",
    "scaler.fit(X_train)\n",
    "X_mean = scaler.mean_   # 平均\n",
    "X_std = scaler.scale_   # 標準偏差"
   ]
  },
  {
   "cell_type": "markdown",
   "metadata": {},
   "source": [
    "メモリに収まらないような非常に大きなデータセットの場合、通常はまず多くのファイルに分割し、TensorFlowにこれらのファイルを並行して読み込ませることになるでしょう。このことを示すために、まず住宅データセットを分割し、20個のCSVファイルに保存してみましょう。"
   ]
  },
  {
   "cell_type": "markdown",
   "metadata": {},
   "source": [
    "ファイル分割して保存する関数の作成"
   ]
  },
  {
   "cell_type": "code",
   "execution_count": 3,
   "metadata": {},
   "outputs": [],
   "source": [
    "def save_to_multiple_csv_files(data, name_prefix, header=None, n_parts=10):\n",
    "    housing_dir = os.path.join(\"datasets\", \"housing\")\n",
    "    # ディレクトリ作成\n",
    "    os.makedirs(housing_dir, exist_ok=True)\n",
    "    # PATH & ファイル名\n",
    "    path_format = os.path.join(housing_dir, \"my_{}_{:02d}.csv\")\n",
    "\n",
    "    filepaths = []\n",
    "    m = len(data)\n",
    "    for file_idx, row_indices in enumerate(np.array_split(np.arange(m), n_parts)):\n",
    "        # \"my_{}_{:02d}.csv\" に値が渡される\n",
    "        part_csv = path_format.format(name_prefix, file_idx)\n",
    "        # path information\n",
    "        filepaths.append(part_csv)\n",
    "        with open(part_csv, \"wt\", encoding=\"utf-8\") as f:\n",
    "            if header is not None:\n",
    "                f.write(header)\n",
    "                f.write(\"\\n\")\n",
    "            # 大きく分割した中に存在するIDのループ\n",
    "            for row_idx in row_indices:\n",
    "                f.write(\",\".join([repr(col) for col in data[row_idx]]))\n",
    "                f.write(\"\\n\")\n",
    "    return filepaths"
   ]
  },
  {
   "cell_type": "markdown",
   "metadata": {},
   "source": [
    "作成した関数の実行"
   ]
  },
  {
   "cell_type": "code",
   "execution_count": 4,
   "metadata": {},
   "outputs": [],
   "source": [
    "train_data = np.c_[X_train, y_train]\n",
    "valid_data = np.c_[X_valid, y_valid]\n",
    "test_data = np.c_[X_test, y_test]\n",
    "header_cols = housing.feature_names + [\"MedianHouseValue\"]\n",
    "header = \",\".join(header_cols)\n",
    "\n",
    "train_filepaths = save_to_multiple_csv_files(train_data, \"train\", header, n_parts=20)\n",
    "valid_filepaths = save_to_multiple_csv_files(valid_data, \"valid\", header, n_parts=10)\n",
    "test_filepaths = save_to_multiple_csv_files(test_data, \"test\", header, n_parts=10)"
   ]
  },
  {
   "cell_type": "markdown",
   "metadata": {},
   "source": [
    "では、そのCSVファイルの最初の数行を覗いてみましょう。"
   ]
  },
  {
   "cell_type": "code",
   "execution_count": 5,
   "metadata": {},
   "outputs": [
    {
     "data": {
      "text/html": [
       "<div>\n",
       "<style scoped>\n",
       "    .dataframe tbody tr th:only-of-type {\n",
       "        vertical-align: middle;\n",
       "    }\n",
       "\n",
       "    .dataframe tbody tr th {\n",
       "        vertical-align: top;\n",
       "    }\n",
       "\n",
       "    .dataframe thead th {\n",
       "        text-align: right;\n",
       "    }\n",
       "</style>\n",
       "<table border=\"1\" class=\"dataframe\">\n",
       "  <thead>\n",
       "    <tr style=\"text-align: right;\">\n",
       "      <th></th>\n",
       "      <th>MedInc</th>\n",
       "      <th>HouseAge</th>\n",
       "      <th>AveRooms</th>\n",
       "      <th>AveBedrms</th>\n",
       "      <th>Population</th>\n",
       "      <th>AveOccup</th>\n",
       "      <th>Latitude</th>\n",
       "      <th>Longitude</th>\n",
       "      <th>MedianHouseValue</th>\n",
       "    </tr>\n",
       "  </thead>\n",
       "  <tbody>\n",
       "    <tr>\n",
       "      <th>0</th>\n",
       "      <td>3.5214</td>\n",
       "      <td>15.0</td>\n",
       "      <td>3.049945</td>\n",
       "      <td>1.106548</td>\n",
       "      <td>1447.0</td>\n",
       "      <td>1.605993</td>\n",
       "      <td>37.63</td>\n",
       "      <td>-122.43</td>\n",
       "      <td>1.442</td>\n",
       "    </tr>\n",
       "    <tr>\n",
       "      <th>1</th>\n",
       "      <td>5.3275</td>\n",
       "      <td>5.0</td>\n",
       "      <td>6.490060</td>\n",
       "      <td>0.991054</td>\n",
       "      <td>3464.0</td>\n",
       "      <td>3.443340</td>\n",
       "      <td>33.69</td>\n",
       "      <td>-117.39</td>\n",
       "      <td>1.687</td>\n",
       "    </tr>\n",
       "    <tr>\n",
       "      <th>2</th>\n",
       "      <td>3.1000</td>\n",
       "      <td>29.0</td>\n",
       "      <td>7.542373</td>\n",
       "      <td>1.591525</td>\n",
       "      <td>1328.0</td>\n",
       "      <td>2.250847</td>\n",
       "      <td>38.44</td>\n",
       "      <td>-122.98</td>\n",
       "      <td>1.621</td>\n",
       "    </tr>\n",
       "    <tr>\n",
       "      <th>3</th>\n",
       "      <td>7.1736</td>\n",
       "      <td>12.0</td>\n",
       "      <td>6.289003</td>\n",
       "      <td>0.997442</td>\n",
       "      <td>1054.0</td>\n",
       "      <td>2.695652</td>\n",
       "      <td>33.55</td>\n",
       "      <td>-117.70</td>\n",
       "      <td>2.621</td>\n",
       "    </tr>\n",
       "    <tr>\n",
       "      <th>4</th>\n",
       "      <td>2.0549</td>\n",
       "      <td>13.0</td>\n",
       "      <td>5.312457</td>\n",
       "      <td>1.085092</td>\n",
       "      <td>3297.0</td>\n",
       "      <td>2.244384</td>\n",
       "      <td>33.93</td>\n",
       "      <td>-116.93</td>\n",
       "      <td>0.956</td>\n",
       "    </tr>\n",
       "  </tbody>\n",
       "</table>\n",
       "</div>"
      ],
      "text/plain": [
       "   MedInc  HouseAge  AveRooms  AveBedrms  Population  AveOccup  Latitude  \\\n",
       "0  3.5214      15.0  3.049945   1.106548      1447.0  1.605993     37.63   \n",
       "1  5.3275       5.0  6.490060   0.991054      3464.0  3.443340     33.69   \n",
       "2  3.1000      29.0  7.542373   1.591525      1328.0  2.250847     38.44   \n",
       "3  7.1736      12.0  6.289003   0.997442      1054.0  2.695652     33.55   \n",
       "4  2.0549      13.0  5.312457   1.085092      3297.0  2.244384     33.93   \n",
       "\n",
       "   Longitude  MedianHouseValue  \n",
       "0    -122.43             1.442  \n",
       "1    -117.39             1.687  \n",
       "2    -122.98             1.621  \n",
       "3    -117.70             2.621  \n",
       "4    -116.93             0.956  "
      ]
     },
     "execution_count": 5,
     "metadata": {},
     "output_type": "execute_result"
    }
   ],
   "source": [
    "import pandas as pd\n",
    "\n",
    "pd.read_csv(train_filepaths[0]).head()"
   ]
  },
  {
   "cell_type": "markdown",
   "metadata": {},
   "source": [
    "- `list_files()`メソッドを使うことでfile pathがシャフルされる\n",
    "- `seed` を指定しない場合はコールするたびにシャフルされる内容が変わる"
   ]
  },
  {
   "cell_type": "code",
   "execution_count": 6,
   "metadata": {},
   "outputs": [
    {
     "name": "stdout",
     "output_type": "stream",
     "text": [
      "Metal device set to: Apple M2\n",
      "\n",
      "systemMemory: 16.00 GB\n",
      "maxCacheSize: 5.33 GB\n",
      "\n",
      "tf.Tensor(b'datasets/housing/my_train_05.csv', shape=(), dtype=string)\n",
      "tf.Tensor(b'datasets/housing/my_train_16.csv', shape=(), dtype=string)\n",
      "tf.Tensor(b'datasets/housing/my_train_01.csv', shape=(), dtype=string)\n",
      "tf.Tensor(b'datasets/housing/my_train_17.csv', shape=(), dtype=string)\n",
      "tf.Tensor(b'datasets/housing/my_train_00.csv', shape=(), dtype=string)\n",
      "tf.Tensor(b'datasets/housing/my_train_14.csv', shape=(), dtype=string)\n",
      "tf.Tensor(b'datasets/housing/my_train_10.csv', shape=(), dtype=string)\n",
      "tf.Tensor(b'datasets/housing/my_train_02.csv', shape=(), dtype=string)\n",
      "tf.Tensor(b'datasets/housing/my_train_12.csv', shape=(), dtype=string)\n",
      "tf.Tensor(b'datasets/housing/my_train_19.csv', shape=(), dtype=string)\n",
      "tf.Tensor(b'datasets/housing/my_train_07.csv', shape=(), dtype=string)\n",
      "tf.Tensor(b'datasets/housing/my_train_09.csv', shape=(), dtype=string)\n",
      "tf.Tensor(b'datasets/housing/my_train_13.csv', shape=(), dtype=string)\n",
      "tf.Tensor(b'datasets/housing/my_train_15.csv', shape=(), dtype=string)\n",
      "tf.Tensor(b'datasets/housing/my_train_11.csv', shape=(), dtype=string)\n",
      "tf.Tensor(b'datasets/housing/my_train_18.csv', shape=(), dtype=string)\n",
      "tf.Tensor(b'datasets/housing/my_train_04.csv', shape=(), dtype=string)\n",
      "tf.Tensor(b'datasets/housing/my_train_06.csv', shape=(), dtype=string)\n",
      "tf.Tensor(b'datasets/housing/my_train_03.csv', shape=(), dtype=string)\n",
      "tf.Tensor(b'datasets/housing/my_train_08.csv', shape=(), dtype=string)\n"
     ]
    },
    {
     "name": "stderr",
     "output_type": "stream",
     "text": [
      "2022-10-02 16:41:50.210534: I tensorflow/core/common_runtime/pluggable_device/pluggable_device_factory.cc:306] Could not identify NUMA node of platform GPU ID 0, defaulting to 0. Your kernel may not have been built with NUMA support.\n",
      "2022-10-02 16:41:50.210650: I tensorflow/core/common_runtime/pluggable_device/pluggable_device_factory.cc:272] Created TensorFlow device (/job:localhost/replica:0/task:0/device:GPU:0 with 0 MB memory) -> physical PluggableDevice (device: 0, name: METAL, pci bus id: <undefined>)\n"
     ]
    }
   ],
   "source": [
    "filepath_dataset = tf.data.Dataset.list_files(train_filepaths, seed=42)\n",
    "for filename in filepath_dataset:\n",
    "    print(filename)"
   ]
  },
  {
   "cell_type": "code",
   "execution_count": 7,
   "metadata": {},
   "outputs": [
    {
     "name": "stdout",
     "output_type": "stream",
     "text": [
      "MedInc,HouseAge,AveRooms,AveBedrms,Population,AveOccup,Latitude,Longitude,MedianHouseValue\n",
      "4.7361,7.0,7.464968152866242,1.1178343949044587,846.0,2.694267515923567,34.49,-117.27,1.745\n",
      "8.944,30.0,7.170454545454546,1.0875,1776.0,2.018181818181818,34.1,-118.39,5.00001\n",
      "3.0568,41.0,5.95320197044335,1.0714285714285714,973.0,2.396551724137931,35.38,-118.96,0.856\n",
      "3.2569,15.0,5.444444444444445,1.08994708994709,891.0,2.357142857142857,36.84,-119.77,1.244\n"
     ]
    }
   ],
   "source": [
    "! cat datasets/housing/my_train_15.csv | head -5"
   ]
  },
  {
   "cell_type": "markdown",
   "metadata": {},
   "source": [
    "複数ファイルのインターリーブ"
   ]
  },
  {
   "cell_type": "code",
   "execution_count": 8,
   "metadata": {},
   "outputs": [],
   "source": [
    "n_readers = 5  # 同時5個からファイル読み出し\n",
    "dataset = filepath_dataset.interleave(\n",
    "    lambda filepath: tf.data.TextLineDataset(filepath).skip(1),\n",
    "    cycle_length=n_readers)"
   ]
  },
  {
   "cell_type": "markdown",
   "metadata": {},
   "source": [
    "前処理関数の作成"
   ]
  },
  {
   "cell_type": "code",
   "execution_count": 9,
   "metadata": {},
   "outputs": [],
   "source": [
    "n_inputs = 8 # X_train.shape[-1]\n",
    "\n",
    "@tf.function\n",
    "def preprocess(line):\n",
    "    # csvの各行のデフォルト値を定義する\n",
    "    defs = [0.] * n_inputs + [tf.constant([], dtype=tf.float32)]\n",
    "    # ここでparseする\n",
    "    fields = tf.io.decode_csv(line, record_defaults=defs)\n",
    "    x = tf.stack(fields[:-1])\n",
    "    y = tf.stack(fields[-1:])\n",
    "    return (x - X_mean) / X_std, y"
   ]
  },
  {
   "cell_type": "markdown",
   "metadata": {},
   "source": [
    "## 13.1.4 ひとつにまとめる"
   ]
  },
  {
   "cell_type": "markdown",
   "metadata": {},
   "source": [
    "### ひとつにまとめた関数を作成"
   ]
  },
  {
   "cell_type": "code",
   "execution_count": 10,
   "metadata": {},
   "outputs": [],
   "source": [
    "def csv_reader_dataset(filepaths, repeat=1, n_readers=5,\n",
    "                       n_read_threads=None, shuffle_buffer_size=10000,\n",
    "                       n_parse_threads=5, batch_size=32):\n",
    "    # ファイルパスのリストをシャフルして出力\n",
    "    dataset = tf.data.Dataset.list_files(filepaths).repeat(repeat)\n",
    "    # この例だとファイル数は5で中のデータをインターリーブする\n",
    "    # <Input>\n",
    "    # - File1: a1, a2, a3 ...\n",
    "    # - File2: b1, b2, b3 ...\n",
    "    # - File3: c1, c2, c3 ...\n",
    "    # - File4: d1, d2, d3 ...\n",
    "    # - File5: e1, e2, e3 ...\n",
    "    # <output>\n",
    "    # - a1, b1, c1, d1, e1, a2, b2, c2, d2, e2, a3, b3, c3, d3, e3,.... \n",
    "    dataset = dataset.interleave(\n",
    "        lambda filepath: tf.data.TextLineDataset(filepath).skip(1),\n",
    "        cycle_length=n_readers, num_parallel_calls=n_read_threads)\n",
    "    # shuffle_buffer_size で再度シャフル\n",
    "    dataset = dataset.shuffle(shuffle_buffer_size)\n",
    "    # 要素１つずつに前処理を施す\n",
    "    dataset = dataset.map(preprocess, num_parallel_calls=n_parse_threads)\n",
    "    # batch化する\n",
    "    dataset = dataset.batch(batch_size)\n",
    "    return dataset.prefetch(1)"
   ]
  },
  {
   "cell_type": "markdown",
   "metadata": {},
   "source": [
    "### 関数の動作確認"
   ]
  },
  {
   "cell_type": "markdown",
   "metadata": {},
   "source": [
    "変数の確認"
   ]
  },
  {
   "cell_type": "code",
   "execution_count": 11,
   "metadata": {},
   "outputs": [
    {
     "data": {
      "text/plain": [
       "['datasets/housing/my_train_00.csv',\n",
       " 'datasets/housing/my_train_01.csv',\n",
       " 'datasets/housing/my_train_02.csv',\n",
       " 'datasets/housing/my_train_03.csv',\n",
       " 'datasets/housing/my_train_04.csv']"
      ]
     },
     "execution_count": 11,
     "metadata": {},
     "output_type": "execute_result"
    }
   ],
   "source": [
    "train_filepaths[:5]"
   ]
  },
  {
   "cell_type": "markdown",
   "metadata": {},
   "source": [
    "関数の動作テスト.確認テストのため`batch_size=3`と少なめにした"
   ]
  },
  {
   "cell_type": "code",
   "execution_count": 12,
   "metadata": {},
   "outputs": [],
   "source": [
    "tf.random.set_seed(42)\n",
    "train_set = csv_reader_dataset(train_filepaths, batch_size=3)"
   ]
  },
  {
   "cell_type": "code",
   "execution_count": 13,
   "metadata": {},
   "outputs": [
    {
     "name": "stdout",
     "output_type": "stream",
     "text": [
      "--------- 0 -----------\n",
      "X = tf.Tensor(\n",
      "[[ 0.5804519  -0.20762321  0.05616303 -0.15191229  0.01343246  0.00604472\n",
      "   1.2525111  -1.3671792 ]\n",
      " [ 5.818099    1.8491895   1.1784915   0.28173092 -1.2496178  -0.3571987\n",
      "   0.7231292  -1.0023477 ]\n",
      " [-0.9253566   0.5834586  -0.7807257  -0.28213993 -0.36530012  0.27389365\n",
      "  -0.76194876  0.72684526]], shape=(3, 8), dtype=float32)\n",
      "y = tf.Tensor(\n",
      "[[1.752]\n",
      " [1.313]\n",
      " [1.535]], shape=(3, 1), dtype=float32)\n",
      "\n",
      "--------- 1 -----------\n",
      "X = tf.Tensor(\n",
      "[[-0.8324941   0.6625668  -0.20741376 -0.18699841 -0.14536144  0.09635526\n",
      "   0.9807942  -0.67250353]\n",
      " [-0.62183803  0.5834586  -0.19862501 -0.3500319  -1.1437552  -0.3363751\n",
      "   1.107282   -0.8674123 ]\n",
      " [ 0.8683102   0.02970133  0.3427381  -0.29872298  0.7124906   0.28026953\n",
      "  -0.72915536  0.86178064]], shape=(3, 8), dtype=float32)\n",
      "y = tf.Tensor(\n",
      "[[0.919]\n",
      " [1.028]\n",
      " [2.182]], shape=(3, 1), dtype=float32)\n",
      "\n"
     ]
    },
    {
     "name": "stderr",
     "output_type": "stream",
     "text": [
      "2022-10-02 17:26:46.685021: W tensorflow/core/platform/profile_utils/cpu_utils.cc:128] Failed to get CPU frequency: 0 Hz\n"
     ]
    }
   ],
   "source": [
    "# 2データ分を試しに出力\n",
    "for i, (X_batch, y_batch) in enumerate(train_set.take(2)):\n",
    "    print(f\"--------- {i} -----------\")\n",
    "    print(\"X =\", X_batch)\n",
    "    print(\"y =\", y_batch)\n",
    "    print()"
   ]
  },
  {
   "cell_type": "markdown",
   "metadata": {},
   "source": [
    "## 13.1.5 プリフェッチ"
   ]
  },
  {
   "cell_type": "markdown",
   "metadata": {},
   "source": [
    "### プリフェッチのコード\n",
    "\n",
    "- 上記のコードを抜き出すと以下の`dataset.prefetch(1)`がプリフェッチのコードである。\n",
    "- `n_parse_threads` も重要\n",
    "\n",
    "```python\n",
    "def csv_reader_dataset(filepaths, repeat=1, n_readers=5,\n",
    "                       n_read_threads=None, shuffle_buffer_size=10000,\n",
    "                       n_parse_threads=5, batch_size=32):\n",
    "\n",
    "    ~~~~ (省略) ~~~~\n",
    "    \n",
    "    return dataset.prefetch(1)\n",
    "```"
   ]
  },
  {
   "cell_type": "markdown",
   "metadata": {},
   "source": [
    "![prefetch](./13.1.5_prefetch.drawio.svg)"
   ]
  },
  {
   "cell_type": "markdown",
   "metadata": {},
   "source": [
    "## 13.1.6 tf.kerasのもとでのデータセットの使い方"
   ]
  },
  {
   "cell_type": "markdown",
   "metadata": {},
   "source": [
    "- california_housing のデータを使って実際に学習、推論を行ってみる\n",
    "- 先程作成した　`csv_reader_dataset()` が、学習だけでなく検証, テスト用でも使えることを示す\n",
    "- 従来と引数の指定方法が若干異なることを理解する"
   ]
  },
  {
   "cell_type": "markdown",
   "metadata": {},
   "source": [
    "### 学習用だけでなく、検証, テスト用データにも前処理を行う\n",
    "\n",
    "- 先程作った関数を利用して前処理を実行する\n",
    "- 学習用だけでなく検証用とテスト用のデータもこの関数で作成可能"
   ]
  },
  {
   "cell_type": "code",
   "execution_count": 14,
   "metadata": {},
   "outputs": [],
   "source": [
    "# repeat=Noneで永遠に繰り返す。\n",
    "# repeat=Noneもしくはrepeat=10以上(今回のエポック数)にしないとうまく学習できないことに注意\n",
    "train_set = csv_reader_dataset(train_filepaths, repeat=None)\n",
    "valid_set = csv_reader_dataset(valid_filepaths)\n",
    "test_set = csv_reader_dataset(test_filepaths)"
   ]
  },
  {
   "cell_type": "code",
   "execution_count": 15,
   "metadata": {},
   "outputs": [
    {
     "name": "stdout",
     "output_type": "stream",
     "text": [
      "(<tf.Tensor: shape=(32, 8), dtype=float32, numpy=\n",
      "array([[ 1.18324661e+00, -2.86731392e-01,  2.56954998e-01,\n",
      "        -9.14653018e-02,  6.74161077e-01,  5.36658242e-02,\n",
      "        -7.43209183e-01,  7.11849034e-01],\n",
      "       [-4.45226371e-01,  1.84918952e+00, -3.20666254e-01,\n",
      "        -1.40449286e-01, -1.06119268e-01, -6.69142455e-02,\n",
      "        -6.91677988e-01,  7.31840193e-01],\n",
      "       [ 3.09196889e-01,  5.04350424e-01,  2.08594278e-01,\n",
      "        -2.77027190e-01,  6.08453274e-01,  2.73698270e-01,\n",
      "        -8.46275151e-01,  7.81819880e-01],\n",
      "       [-1.28795540e+00,  1.45364857e+00, -5.05224824e-01,\n",
      "         2.03960374e-01, -4.95803148e-01,  4.35151726e-01,\n",
      "        -7.66634524e-01,  6.56878173e-01],\n",
      "       [-6.46088064e-01, -1.07781315e+00, -3.59055459e-01,\n",
      "         9.48920622e-02,  1.03099108e+00, -2.29778379e-01,\n",
      "        -7.24471331e-01,  9.76728678e-01],\n",
      "       [ 1.76200092e+00, -6.82272315e-01,  7.48218775e-01,\n",
      "        -2.33296052e-01, -6.32694423e-01, -3.28950375e-01,\n",
      "        -1.32412410e+00,  1.17163742e+00],\n",
      "       [-8.82408321e-01, -6.03164136e-01,  1.27520874e-01,\n",
      "        -8.90796334e-02, -4.89414871e-01, -2.11330920e-01,\n",
      "         2.01613259e+00, -1.32220197e+00],\n",
      "       [-2.11472481e-01, -4.44947749e-01, -2.81041592e-01,\n",
      "        -7.66088367e-02,  1.64973962e+00,  9.41126049e-02,\n",
      "        -7.99427927e-01,  7.81819880e-01],\n",
      "       [ 7.31399357e-01, -2.86731392e-01,  2.08306715e-01,\n",
      "        -1.28486872e-01,  1.04376757e+00,  2.93916881e-01,\n",
      "         8.87098014e-01, -1.23224378e+00],\n",
      "       [-9.08962905e-01,  2.97013279e-02, -3.84408563e-01,\n",
      "         5.40421605e-02,  3.62961560e-01,  4.81269434e-02,\n",
      "        -7.15101540e-01,  1.17163742e+00],\n",
      "       [ 9.88669991e-01,  5.04350424e-01,  1.47498306e-02,\n",
      "        -2.81318069e-01,  1.73138961e-01,  5.72082074e-03,\n",
      "        -7.10415781e-01,  6.81864262e-01],\n",
      "       [-7.34393954e-01, -2.07623214e-01, -3.63375694e-01,\n",
      "        -8.05393681e-02, -6.79237485e-01, -7.10713029e-01,\n",
      "         1.04169524e+00, -1.24723625e+00],\n",
      "       [ 3.27503729e+00, -2.07623214e-01,  6.85181141e-01,\n",
      "        -2.23821998e-01,  1.01821446e+00, -3.07035856e-02,\n",
      "        -8.79068553e-01,  6.06898427e-01],\n",
      "       [ 1.53954521e-01,  4.25242215e-01, -6.55603707e-02,\n",
      "        -1.34625837e-01,  4.68824148e-01,  1.91881478e-01,\n",
      "        -6.68252587e-01,  5.81912398e-01],\n",
      "       [-3.83894116e-01,  1.08809508e-01, -5.43491721e-01,\n",
      "        -2.14056507e-01, -6.14014454e-02,  1.80052847e-01,\n",
      "        -6.35459185e-01,  5.71914911e-01],\n",
      "       [-8.74447227e-01, -6.82272315e-01, -1.05253473e-01,\n",
      "        -1.88480273e-01, -3.12853642e-02,  4.98876870e-01,\n",
      "         3.29606682e-01,  8.71404409e-02],\n",
      "       [-7.42474571e-02, -5.24055958e-01, -5.07303655e-01,\n",
      "        -1.65777594e-01, -1.59963176e-01, -4.04022664e-01,\n",
      "         7.69978225e-01, -1.17726910e+00],\n",
      "       [ 3.58849287e-01,  5.04350424e-01,  1.70763180e-01,\n",
      "        -8.68478864e-02, -3.98154020e-01,  1.23289488e-01,\n",
      "         9.76108432e-01, -1.41715515e+00],\n",
      "       [ 4.24319208e-01, -1.15692139e+00,  3.96204680e-01,\n",
      "        -2.82479785e-02,  1.36135530e+00, -2.99455851e-01,\n",
      "        -1.16952515e+00,  1.23660576e+00],\n",
      "       [ 1.11421525e+00, -1.63157046e+00,  3.49512666e-01,\n",
      "        -1.11953646e-01,  1.28520098e+01,  4.73563746e-02,\n",
      "        -7.57264733e-01,  9.01762903e-01],\n",
      "       [-9.77732539e-01,  1.13721585e+00, -4.51955080e-01,\n",
      "        -1.43616855e-01, -5.51472247e-01,  1.70150116e-01,\n",
      "        -7.38525152e-01,  7.31840193e-01],\n",
      "       [-6.94640577e-01, -9.98705029e-01, -1.96070284e-01,\n",
      "        -1.87727824e-01, -2.72214025e-01, -8.42992365e-02,\n",
      "         9.90162194e-01, -6.42518759e-01],\n",
      "       [ 3.18572164e-01,  5.83458602e-01,  3.43575895e-01,\n",
      "        -9.57274958e-02, -5.31879701e-02, -2.57369697e-01,\n",
      "         9.43315029e-01, -7.12485790e-01],\n",
      "       [-5.63700676e-01, -1.28515035e-01, -4.69962627e-01,\n",
      "        -1.54817089e-01,  5.36357164e-01,  3.13233227e-01,\n",
      "        -7.76002586e-01,  7.31840193e-01],\n",
      "       [-3.70800078e-01,  2.67025858e-01,  9.16407779e-02,\n",
      "         6.74595460e-02, -2.74039239e-01,  3.88330251e-01,\n",
      "        -7.29155362e-01,  1.05169070e+00],\n",
      "       [-2.41902903e-01, -4.94068526e-02, -1.66961759e-01,\n",
      "        -3.02063674e-01,  5.54609358e-01, -2.16260672e-01,\n",
      "         1.39305460e+00, -8.82404685e-01],\n",
      "       [ 2.53102243e-01,  5.83458602e-01, -2.55851120e-01,\n",
      "        -3.70137751e-01, -6.54597044e-01,  2.64679715e-02,\n",
      "        -8.04111958e-01,  7.41837621e-01],\n",
      "       [ 3.45283955e-01, -1.31513774e+00,  3.90285879e-01,\n",
      "        -1.37683287e-01,  4.17718053e-01, -2.11980641e-02,\n",
      "         1.32746780e+00, -1.57708037e+00],\n",
      "       [ 1.31853390e+00, -1.15692139e+00,  4.20707822e-01,\n",
      "        -2.45102882e-01, -2.71301419e-01,  1.26349360e-01,\n",
      "         1.17287052e+00, -1.51711082e+00],\n",
      "       [ 5.23152709e-01,  5.83458602e-01,  3.49397093e-01,\n",
      "        -1.06145307e-01, -6.76499665e-01,  6.76955208e-02,\n",
      "        -8.41591120e-01,  6.11897171e-01],\n",
      "       [-2.55258679e-01, -8.40488672e-01,  2.80466467e-01,\n",
      "         8.02463815e-02, -4.37396199e-01,  1.17488399e-01,\n",
      "         4.84205663e-01,  8.71404409e-02],\n",
      "       [-3.89707774e-01,  1.84918952e+00,  5.20540588e-02,\n",
      "        -2.85251409e-01, -4.07280117e-01, -4.45685834e-01,\n",
      "        -7.24471331e-01,  9.31747675e-01]], dtype=float32)>, <tf.Tensor: shape=(32, 1), dtype=float32, numpy=\n",
      "array([[3.151  ],\n",
      "       [2.226  ],\n",
      "       [2.141  ],\n",
      "       [1.141  ],\n",
      "       [1.228  ],\n",
      "       [3.923  ],\n",
      "       [0.864  ],\n",
      "       [1.918  ],\n",
      "       [2.231  ],\n",
      "       [0.723  ],\n",
      "       [2.724  ],\n",
      "       [0.734  ],\n",
      "       [5.00001],\n",
      "       [1.986  ],\n",
      "       [1.601  ],\n",
      "       [0.529  ],\n",
      "       [2.125  ],\n",
      "       [2.545  ],\n",
      "       [1.911  ],\n",
      "       [2.539  ],\n",
      "       [2.156  ],\n",
      "       [1.164  ],\n",
      "       [1.514  ],\n",
      "       [1.768  ],\n",
      "       [0.986  ],\n",
      "       [1.64   ],\n",
      "       [1.745  ],\n",
      "       [1.783  ],\n",
      "       [3.349  ],\n",
      "       [3.344  ],\n",
      "       [1.153  ],\n",
      "       [2.912  ]], dtype=float32)>)\n",
      "(<tf.Tensor: shape=(32, 8), dtype=float32, numpy=\n",
      "array([[-0.39965922,  1.6909732 , -0.38753408, -0.14806423, -0.49397793,\n",
      "         0.02320052, -0.7104158 ,  0.6968566 ],\n",
      "       [-0.21686716,  1.4536486 , -0.22849748, -0.07112679,  0.1028681 ,\n",
      "         0.10017852, -0.68699217,  0.7318402 ],\n",
      "       [ 0.645241  ,  1.8491895 ,  0.128179  , -0.27741444, -0.3862901 ,\n",
      "        -0.11655063, -0.82753557,  0.82679707],\n",
      "       [ 1.9263043 , -1.9480032 ,  1.0077876 ,  0.12339026, -0.80243963,\n",
      "        -0.0446618 , -0.3637422 , -0.43261376],\n",
      "       [-0.8723521 , -1.9480032 , -0.5661001 ,  0.02117113, -0.35982445,\n",
      "        -0.19174539, -0.9352855 ,  0.8717781 ],\n",
      "       [ 1.0126582 , -1.7106786 , -0.12214744, -0.07160956,  0.9753219 ,\n",
      "        -0.29413363, -0.9259175 ,  0.8018072 ],\n",
      "       [-0.39997354, -0.7613805 , -0.01095384, -0.16249451,  0.36387417,\n",
      "         0.29098797, -0.13418664,  0.3220315 ],\n",
      "       [ 0.19046068,  1.6909732 ,  0.3565931 , -0.247109  , -0.68653834,\n",
      "        -0.15848827, -0.76194876,  0.63188833],\n",
      "       [-1.6179761 , -0.44494775, -0.03399715,  0.10985789, -0.33792186,\n",
      "         0.12035774,  1.0135876 , -1.3521868 ],\n",
      "       [-1.0205761 ,  0.82078314,  0.04300878, -0.11334971, -0.5323075 ,\n",
      "        -0.14006282, -0.70573175,  1.1416489 ],\n",
      "       [-1.235527  ,  0.5834586 , -1.1312624 ,  0.13113786,  1.4653927 ,\n",
      "         0.18871489, -0.72447133,  0.6368871 ],\n",
      "       [-0.36975253,  0.42524222,  0.34905273,  0.4965719 , -0.97583526,\n",
      "        -0.09659495,  1.4071101 , -0.8973971 ],\n",
      "       [-0.7741472 , -0.60316414, -0.02739217,  0.071492  , -0.07052753,\n",
      "         0.55213106,  0.5076293 , -0.12276073],\n",
      "       [ 0.05234518, -0.91959685, -0.4163298 , -0.19726102,  1.1532806 ,\n",
      "        -0.51144934, -0.94465536,  0.81680346],\n",
      "       [-1.6073438 ,  0.10880951, -0.6634764 , -0.05211595, -0.8097405 ,\n",
      "        -0.11026349,  0.2640199 ,  0.12212779],\n",
      "       [-0.26248664,  1.5327568 ,  0.10838237, -0.41625994, -0.5487344 ,\n",
      "        -0.22795069, -0.76194876,  0.63188833],\n",
      "       [-0.24153627,  1.6118649 , -0.22316031, -0.12487724, -0.60166574,\n",
      "        -0.03052205, -0.75726473,  0.62189466],\n",
      "       [-0.03302755,  0.5043504 , -0.23478593, -0.01420415,  0.22880809,\n",
      "        -0.07473364, -0.86969876,  0.63188833],\n",
      "       [ 2.363591  , -1.7106786 ,  0.85449886, -0.11943591,  9.836751  ,\n",
      "         0.14328495,  0.8824122 , -1.1672716 ],\n",
      "       [ 0.2772476 ,  0.5043504 , -0.05880151, -0.15526913,  0.04446115,\n",
      "         0.2986865 , -0.9352855 ,  0.82679707],\n",
      "       [ 0.5287568 ,  1.2954322 ,  0.07029681, -0.32890868, -0.5432588 ,\n",
      "        -0.14904343,  0.8964678 , -1.3621805 ],\n",
      "       [-0.64048386, -1.3151377 , -0.9906055 , -0.06704336,  5.479958  ,\n",
      "        -0.3290766 , -0.81348175,  0.62189466],\n",
      "       [-1.0179049 , -0.998705  , -0.4859051 , -0.24854141, -0.33792186,\n",
      "        -0.5365729 ,  0.54979247, -0.06778607],\n",
      "       [ 0.4411842 , -1.9480032 , -0.07104149,  0.06660695,  3.0460308 ,\n",
      "        -0.20760317, -0.93060154,  0.9567376 ],\n",
      "       [ 0.62140983, -0.04940685,  0.11451133, -0.2140565 , -0.12528405,\n",
      "        -0.15419309, -0.7994279 ,  0.81680346],\n",
      "       [ 0.27237654,  0.1879177 , -0.3330575 , -0.199481  ,  0.4213685 ,\n",
      "        -0.16932614, -0.80411196,  0.7868148 ],\n",
      "       [-0.6609628 , -1.1569214 ,  1.5562632 ,  1.9773234 ,  0.261662  ,\n",
      "        -0.5284479 , -0.86969876,  1.5514575 ],\n",
      "       [-0.6912886 ,  0.5043504 , -0.12633327,  0.06020879,  0.04628637,\n",
      "         0.64556134,  0.39987928,  0.16210623],\n",
      "       [ 2.2584202 , -1.7106786 ,  0.21660301, -0.193111  ,  0.2507107 ,\n",
      "        -0.2509427 , -0.8181658 ,  0.5969048 ],\n",
      "       [ 1.1431266 , -2.0271113 ,  0.43965957, -0.03938879, -0.6518592 ,\n",
      "        -0.03078184, -0.9821345 ,  0.9467401 ],\n",
      "       [-0.829142  ,  1.8491895 , -0.55567265, -0.07249442,  0.01251985,\n",
      "        -0.0728578 ,  0.9807942 , -1.4171551 ],\n",
      "       [-1.21531   ,  0.74167496, -0.5974942 ,  0.34293905, -0.6801501 ,\n",
      "         0.52193683, -0.7994279 ,  0.65187943]], dtype=float32)>, <tf.Tensor: shape=(32, 1), dtype=float32, numpy=\n",
      "array([[1.98   ],\n",
      "       [2.306  ],\n",
      "       [2.4    ],\n",
      "       [3.287  ],\n",
      "       [2.25   ],\n",
      "       [2.647  ],\n",
      "       [0.762  ],\n",
      "       [1.943  ],\n",
      "       [1.125  ],\n",
      "       [0.89   ],\n",
      "       [2.5    ],\n",
      "       [1.095  ],\n",
      "       [0.621  ],\n",
      "       [2.716  ],\n",
      "       [0.684  ],\n",
      "       [1.897  ],\n",
      "       [1.302  ],\n",
      "       [2.799  ],\n",
      "       [4.511  ],\n",
      "       [2.152  ],\n",
      "       [3.301  ],\n",
      "       [1.923  ],\n",
      "       [1.125  ],\n",
      "       [2.374  ],\n",
      "       [2.641  ],\n",
      "       [1.744  ],\n",
      "       [1.452  ],\n",
      "       [0.743  ],\n",
      "       [5.00001],\n",
      "       [2.743  ],\n",
      "       [2.586  ],\n",
      "       [0.897  ]], dtype=float32)>)\n"
     ]
    }
   ],
   "source": [
    "icount = 0\n",
    "for tmp in train_set.take(2):\n",
    "    print(tmp)"
   ]
  },
  {
   "cell_type": "markdown",
   "metadata": {},
   "source": [
    "### 次にSequential API を使ってNeuralNetモデルを作成する\n",
    "\n",
    "このステップは従来どおりである"
   ]
  },
  {
   "cell_type": "markdown",
   "metadata": {},
   "source": [
    "![](https://docs.google.com/drawings/d/e/2PACX-1vSiIQ399T-rsCxEeqT4aD1vTE7YFMjmQRXDfz-4T3PmWcFAl_RYkyeyKzwozmJAFWfMrH949cPjMCN-/pub?w=583&h=402)"
   ]
  },
  {
   "cell_type": "code",
   "execution_count": 16,
   "metadata": {},
   "outputs": [],
   "source": [
    "keras.backend.clear_session()\n",
    "np.random.seed(42)\n",
    "tf.random.set_seed(42)\n",
    "\n",
    "model = keras.models.Sequential([\n",
    "    keras.layers.Dense(30, activation=\"relu\", input_shape=X_train.shape[1:]),\n",
    "    keras.layers.Dense(1),\n",
    "])"
   ]
  },
  {
   "cell_type": "code",
   "execution_count": 17,
   "metadata": {},
   "outputs": [],
   "source": [
    "model.compile(loss=\"mse\", optimizer=keras.optimizers.SGD(learning_rate=1e-3))"
   ]
  },
  {
   "cell_type": "code",
   "execution_count": 19,
   "metadata": {},
   "outputs": [
    {
     "name": "stdout",
     "output_type": "stream",
     "text": [
      "Model: \"sequential\"\n",
      "_________________________________________________________________\n",
      " Layer (type)                Output Shape              Param #   \n",
      "=================================================================\n",
      " dense (Dense)               (None, 30)                270       \n",
      "                                                                 \n",
      " dense_1 (Dense)             (None, 1)                 31        \n",
      "                                                                 \n",
      "=================================================================\n",
      "Total params: 301\n",
      "Trainable params: 301\n",
      "Non-trainable params: 0\n",
      "_________________________________________________________________\n"
     ]
    }
   ],
   "source": [
    "model.summary()"
   ]
  },
  {
   "cell_type": "markdown",
   "metadata": {},
   "source": [
    "### 学習の開始"
   ]
  },
  {
   "cell_type": "code",
   "execution_count": 20,
   "metadata": {},
   "outputs": [],
   "source": [
    "batch_size = 32\n",
    "num_epochs = 10"
   ]
  },
  {
   "cell_type": "markdown",
   "metadata": {},
   "source": [
    "#### 従来方法 (10.2.3 参照)\n",
    "\n",
    "- 従来方法は、引数に `X_train, y_train`, `validation_data=(X_varid, y_valid)` と値を渡している\n",
    "- 今回はデータとラベルが１つにまとまっている"
   ]
  },
  {
   "cell_type": "markdown",
   "metadata": {},
   "source": [
    "従来の前処理は以下\n",
    "\n",
    "```python\n",
    "scaler = StandardScaler()\n",
    "X_train = scaler.fit_transform(X_train)\n",
    "X_valid = scaler.transform(X_valid)\n",
    "X_test = scaler.transform(X_test)\n",
    "```\n",
    "\n",
    "モデル作成方法は今回と同様で、学習開始の`fit()`メソッドおける引数の渡し方が従来方法と異なる\n",
    "\n",
    "```python\n",
    "history = model.fit(X_train, y_train,\n",
    "                    epochs=num_epochs, \n",
    "                    validation_data=(X_valid, y_valid))\n",
    "```"
   ]
  },
  {
   "cell_type": "markdown",
   "metadata": {},
   "source": [
    "#### 本章で作成したデータセットを使った学習"
   ]
  },
  {
   "cell_type": "code",
   "execution_count": 21,
   "metadata": {},
   "outputs": [
    {
     "name": "stdout",
     "output_type": "stream",
     "text": [
      "Epoch 1/10\n",
      " 17/362 [>.............................] - ETA: 1s - loss: 4.9388  "
     ]
    },
    {
     "name": "stderr",
     "output_type": "stream",
     "text": [
      "2022-10-02 17:38:27.081323: I tensorflow/core/grappler/optimizers/custom_graph_optimizer_registry.cc:114] Plugin optimizer for device_type GPU is enabled.\n"
     ]
    },
    {
     "name": "stdout",
     "output_type": "stream",
     "text": [
      "360/362 [============================>.] - ETA: 0s - loss: 2.3133"
     ]
    },
    {
     "name": "stderr",
     "output_type": "stream",
     "text": [
      "2022-10-02 17:38:28.210116: I tensorflow/core/grappler/optimizers/custom_graph_optimizer_registry.cc:114] Plugin optimizer for device_type GPU is enabled.\n"
     ]
    },
    {
     "name": "stdout",
     "output_type": "stream",
     "text": [
      "362/362 [==============================] - 2s 4ms/step - loss: 2.3069 - val_loss: 0.9083\n",
      "Epoch 2/10\n",
      "362/362 [==============================] - 1s 3ms/step - loss: 0.7222 - val_loss: 0.6887\n",
      "Epoch 3/10\n",
      "362/362 [==============================] - 1s 4ms/step - loss: 0.6173 - val_loss: 0.6139\n",
      "Epoch 4/10\n",
      "362/362 [==============================] - 1s 3ms/step - loss: 0.5631 - val_loss: 0.5646\n",
      "Epoch 5/10\n",
      "362/362 [==============================] - 1s 3ms/step - loss: 0.5647 - val_loss: 0.5061\n",
      "Epoch 6/10\n",
      "362/362 [==============================] - 1s 3ms/step - loss: 0.4986 - val_loss: 0.5157\n",
      "Epoch 7/10\n",
      "362/362 [==============================] - 1s 3ms/step - loss: 0.5014 - val_loss: 0.4664\n",
      "Epoch 8/10\n",
      "362/362 [==============================] - 1s 3ms/step - loss: 0.4725 - val_loss: 0.4468\n",
      "Epoch 9/10\n",
      "362/362 [==============================] - 1s 3ms/step - loss: 0.4710 - val_loss: 0.4398\n",
      "Epoch 10/10\n",
      "362/362 [==============================] - 1s 3ms/step - loss: 0.4618 - val_loss: 0.4285\n"
     ]
    }
   ],
   "source": [
    "keras.backend.clear_session()\n",
    "np.random.seed(42)\n",
    "tf.random.set_seed(42)\n",
    "res = model.fit(train_set,                                           # 学習データ\n",
    "                steps_per_epoch=(len(X_train) // batch_size),    # エポックあたり、なんステップあるか？\n",
    "                epochs=num_epochs,                               # エポック数\n",
    "                validation_data=valid_set)                       # 検証用データ"
   ]
  },
  {
   "cell_type": "code",
   "execution_count": 22,
   "metadata": {},
   "outputs": [
    {
     "data": {
      "text/plain": [
       "dict_keys(['loss', 'val_loss'])"
      ]
     },
     "execution_count": 22,
     "metadata": {},
     "output_type": "execute_result"
    }
   ],
   "source": [
    "res.history.keys()"
   ]
  },
  {
   "cell_type": "code",
   "execution_count": 23,
   "metadata": {},
   "outputs": [
    {
     "data": {
      "image/png": "[encoded data removed]",
      "text/plain": [
       "<Figure size 640x480 with 1 Axes>"
      ]
     },
     "metadata": {},
     "output_type": "display_data"
    }
   ],
   "source": [
    "import matplotlib.pyplot as plt\n",
    "%matplotlib inline\n",
    "plt.plot(range(1, num_epochs+1), res.history['loss'], label=\"training\")\n",
    "plt.plot(range(1, num_epochs+1), res.history['val_loss'], label=\"validation\")\n",
    "plt.xlabel('Epochs')\n",
    "plt.ylabel('Accuracy')\n",
    "plt.legend()\n",
    "plt.show()"
   ]
  },
  {
   "cell_type": "markdown",
   "metadata": {},
   "source": [
    "### この前処理したデータは`evaluate()`, `predict()` でも使うことができる"
   ]
  },
  {
   "cell_type": "markdown",
   "metadata": {},
   "source": [
    "#### 学習モデルの評価"
   ]
  },
  {
   "cell_type": "code",
   "execution_count": 24,
   "metadata": {},
   "outputs": [
    {
     "name": "stdout",
     "output_type": "stream",
     "text": [
      "161/161 [==============================] - 0s 2ms/step - loss: 0.4432\n"
     ]
    }
   ],
   "source": [
    "# \"//\" であまりは無視\n",
    "res = model.evaluate(test_set, steps=len(X_test) // batch_size)"
   ]
  },
  {
   "cell_type": "markdown",
   "metadata": {},
   "source": [
    "#### 推論時はラベル情報はいらない。もしラベル情報を削除したいなら以下のように処理する"
   ]
  },
  {
   "cell_type": "code",
   "execution_count": 25,
   "metadata": {},
   "outputs": [
    {
     "name": "stdout",
     "output_type": "stream",
     "text": [
      "124/161 [======================>.......] - ETA: 0s"
     ]
    },
    {
     "name": "stderr",
     "output_type": "stream",
     "text": [
      "2022-10-02 17:38:57.703305: I tensorflow/core/grappler/optimizers/custom_graph_optimizer_registry.cc:114] Plugin optimizer for device_type GPU is enabled.\n"
     ]
    },
    {
     "name": "stdout",
     "output_type": "stream",
     "text": [
      "161/161 [==============================] - 0s 1ms/step\n"
     ]
    },
    {
     "data": {
      "text/plain": [
       "array([[3.9054303],\n",
       "       [2.515842 ],\n",
       "       [1.1908185],\n",
       "       ...,\n",
       "       [3.3227916],\n",
       "       [1.3247879],\n",
       "       [3.2831535]], dtype=float32)"
      ]
     },
     "execution_count": 25,
     "metadata": {},
     "output_type": "execute_result"
    }
   ],
   "source": [
    "new_set = test_set.map(lambda X, y: X) \n",
    "X_new = X_test\n",
    "model.predict(new_set, steps=len(X_new) // batch_size)"
   ]
  },
  {
   "cell_type": "markdown",
   "metadata": {},
   "source": [
    "#### Kerasはラベルを無視することができる。めんどくさければそのままでもOK"
   ]
  },
  {
   "cell_type": "code",
   "execution_count": 26,
   "metadata": {},
   "outputs": [
    {
     "name": "stdout",
     "output_type": "stream",
     "text": [
      "124/161 [======================>.......] - ETA: 0s"
     ]
    },
    {
     "name": "stderr",
     "output_type": "stream",
     "text": [
      "2022-10-02 17:39:01.140545: I tensorflow/core/grappler/optimizers/custom_graph_optimizer_registry.cc:114] Plugin optimizer for device_type GPU is enabled.\n"
     ]
    },
    {
     "name": "stdout",
     "output_type": "stream",
     "text": [
      "161/161 [==============================] - 0s 1ms/step\n"
     ]
    },
    {
     "data": {
      "text/plain": [
       "array([[1.5967462 ],\n",
       "       [3.1248822 ],\n",
       "       [3.4969707 ],\n",
       "       ...,\n",
       "       [2.9878387 ],\n",
       "       [1.5033703 ],\n",
       "       [0.99150753]], dtype=float32)"
      ]
     },
     "execution_count": 26,
     "metadata": {},
     "output_type": "execute_result"
    }
   ],
   "source": [
    "model.predict(test_set, steps=len(X_new) // batch_size)"
   ]
  },
  {
   "cell_type": "markdown",
   "metadata": {},
   "source": [
    "### 独自ループを作りたい場合、ごく自然に訓練セットを反復処理できる (12.3.9 参照)"
   ]
  },
  {
   "cell_type": "markdown",
   "metadata": {},
   "source": [
    "#### 12.3.9 のコード 抜粋\n",
    "\n",
    "```python\n",
    "# エポックのループ\n",
    "for epoch in range(1, n_epochs + 1):\n",
    "    print(\"Epoch {}/{}\".format(epoch, n_epochs))\n",
    "    # バッチのループ\n",
    "    for step in range(1, n_steps + 1):\n",
    "        # 適当にバッチサイズを取得, デフォルトは32に設定\n",
    "        X_batch, y_batch = random_batch(X_train_scaled, y_train)\n",
    "        with tf.GradientTape() as tape:\n",
    "            # 順伝搬\n",
    "            y_pred = model(X_batch)\n",
    "            # lossの計算, reduce_meanでバッチ毎の平均ロスを計算\n",
    "            main_loss = tf.reduce_mean(loss_fn(y_batch, y_pred))\n",
    "            # メインのロスの他に、レイヤ毎の正則化ロスを加えている\n",
    "            loss = tf.add_n([main_loss] + model.losses)\n",
    "        # 逆伝搬の計算\n",
    "        gradients = tape.gradient(loss, model.trainable_variables)\n",
    "        # オプティマイザー従って重みなど値を更新する\n",
    "        optimizer.apply_gradients(zip(gradients, model.trainable_variables))\n",
    "```"
   ]
  },
  {
   "cell_type": "markdown",
   "metadata": {},
   "source": [
    "#### 13.1.6のコード\n",
    "\n",
    "- ループ処理の工程が簡単にかけるようになっていることに注目する\n",
    "- ちゃんと学習工程を動かすには、12.3.9のコードを参照して付け加えること"
   ]
  },
  {
   "cell_type": "code",
   "execution_count": 27,
   "metadata": {},
   "outputs": [
    {
     "name": "stdout",
     "output_type": "stream",
     "text": [
      "Global step 1810/1810"
     ]
    }
   ],
   "source": [
    "optimizer = keras.optimizers.Nadam(learning_rate=0.01)\n",
    "loss_fn = keras.losses.mean_squared_error\n",
    "\n",
    "n_epochs = 5\n",
    "batch_size = 32\n",
    "n_steps_per_epoch = len(X_train) // batch_size\n",
    "total_steps = n_epochs * n_steps_per_epoch\n",
    "global_step = 0\n",
    "for X_batch, y_batch in train_set.take(total_steps):                          # ここが異なる\n",
    "    global_step += 1                                                          # ここが異なる\n",
    "    print(\"\\rGlobal step {}/{}\".format(global_step, total_steps), end=\"\")\n",
    "    with tf.GradientTape() as tape:\n",
    "        y_pred = model(X_batch)\n",
    "        main_loss = tf.reduce_mean(loss_fn(y_batch, y_pred))\n",
    "        loss = tf.add_n([main_loss] + model.losses)\n",
    "    gradients = tape.gradient(loss, model.trainable_variables)\n",
    "    optimizer.apply_gradients(zip(gradients, model.trainable_variables))"
   ]
  },
  {
   "cell_type": "markdown",
   "metadata": {},
   "source": [
    "### 訓練ループ全体を実行するTF関数にも対応可能"
   ]
  },
  {
   "cell_type": "markdown",
   "metadata": {},
   "source": [
    "- Python関数からTF関数に変換することで、計算グラフが最適化され、高速に計算することができる\n",
    "- 以下のコードは、前処理も含めて`@tf.function`のデコレータを用い、tf関数化されている。データAPIはtf関数化をサポートしていることを知っていればOK\n",
    "- 以下、なぜ２つのTF関数が紹介されているかはよくわからない。２つ目のコードのほうを見ればよいと思う。そちらはちゃんと学習の動作をする"
   ]
  },
  {
   "cell_type": "code",
   "execution_count": 28,
   "metadata": {},
   "outputs": [],
   "source": [
    "keras.backend.clear_session()\n",
    "np.random.seed(42)\n",
    "tf.random.set_seed(42)"
   ]
  },
  {
   "cell_type": "code",
   "execution_count": 29,
   "metadata": {},
   "outputs": [
    {
     "name": "stderr",
     "output_type": "stream",
     "text": [
      "2022-10-02 17:40:53.018745: I tensorflow/core/grappler/optimizers/custom_graph_optimizer_registry.cc:114] Plugin optimizer for device_type GPU is enabled.\n",
      "2022-10-02 17:40:53.056207: I tensorflow/core/grappler/optimizers/custom_graph_optimizer_registry.cc:114] Plugin optimizer for device_type GPU is enabled.\n",
      "2022-10-02 17:40:53.091515: I tensorflow/core/grappler/optimizers/custom_graph_optimizer_registry.cc:114] Plugin optimizer for device_type GPU is enabled.\n"
     ]
    }
   ],
   "source": [
    "# こっちではなく、次のコードを参照したほうが参考になる\n",
    "optimizer = keras.optimizers.Nadam(learning_rate=0.01)\n",
    "loss_fn = keras.losses.mean_squared_error\n",
    "\n",
    "@tf.function\n",
    "def train(model, n_epochs, batch_size=32,\n",
    "          n_readers=5, n_read_threads=5, shuffle_buffer_size=10000, n_parse_threads=5):\n",
    "    train_set = csv_reader_dataset(train_filepaths, repeat=n_epochs, n_readers=n_readers,\n",
    "                       n_read_threads=n_read_threads, shuffle_buffer_size=shuffle_buffer_size,\n",
    "                       n_parse_threads=n_parse_threads, batch_size=batch_size)\n",
    "    for X_batch, y_batch in train_set:\n",
    "        with tf.GradientTape() as tape:\n",
    "            y_pred = model(X_batch)\n",
    "            main_loss = tf.reduce_mean(loss_fn(y_batch, y_pred))\n",
    "            loss = tf.add_n([main_loss] + model.losses)\n",
    "        gradients = tape.gradient(loss, model.trainable_variables)\n",
    "        optimizer.apply_gradients(zip(gradients, model.trainable_variables))\n",
    "\n",
    "train(model, 5)"
   ]
  },
  {
   "cell_type": "code",
   "execution_count": 30,
   "metadata": {},
   "outputs": [],
   "source": [
    "keras.backend.clear_session()\n",
    "np.random.seed(42)\n",
    "tf.random.set_seed(42)"
   ]
  },
  {
   "cell_type": "code",
   "execution_count": 31,
   "metadata": {},
   "outputs": [
    {
     "name": "stderr",
     "output_type": "stream",
     "text": [
      "2022-10-02 17:41:03.966944: I tensorflow/core/grappler/optimizers/custom_graph_optimizer_registry.cc:114] Plugin optimizer for device_type GPU is enabled.\n",
      "2022-10-02 17:41:04.007108: I tensorflow/core/grappler/optimizers/custom_graph_optimizer_registry.cc:114] Plugin optimizer for device_type GPU is enabled.\n",
      "2022-10-02 17:41:04.044925: I tensorflow/core/grappler/optimizers/custom_graph_optimizer_registry.cc:114] Plugin optimizer for device_type GPU is enabled.\n"
     ]
    },
    {
     "name": "stdout",
     "output_type": "stream",
     "text": [
      "Global step 100 / 1810\n",
      "Global step 200 / 1810\n",
      "Global step 300 / 1810\n",
      "Global step 400 / 1810\n",
      "Global step 500 / 1810\n",
      "Global step 600 / 1810\n",
      "Global step 700 / 1810\n",
      "Global step 800 / 1810\n",
      "Global step 900 / 1810\n",
      "Global step 1000 / 1810\n",
      "Global step 1100 / 1810\n",
      "Global step 1200 / 1810\n",
      "Global step 1300 / 1810\n",
      "Global step 1400 / 1810\n",
      "Global step 1500 / 1810\n",
      "Global step 1600 / 1810\n",
      "Global step 1700 / 1810\n",
      "Global step 1800 / 1810\n"
     ]
    }
   ],
   "source": [
    "optimizer = keras.optimizers.Nadam(learning_rate=0.01)\n",
    "loss_fn = keras.losses.mean_squared_error\n",
    "\n",
    "@tf.function\n",
    "def train(model, n_epochs, batch_size=32,\n",
    "          n_readers=5, n_read_threads=5, shuffle_buffer_size=10000, n_parse_threads=5):\n",
    "    train_set = csv_reader_dataset(train_filepaths, repeat=n_epochs, n_readers=n_readers,\n",
    "                       n_read_threads=n_read_threads, shuffle_buffer_size=shuffle_buffer_size,\n",
    "                       n_parse_threads=n_parse_threads, batch_size=batch_size)\n",
    "    n_steps_per_epoch = len(X_train) // batch_size                      # 追加\n",
    "    total_steps = n_epochs * n_steps_per_epoch                          # 追加\n",
    "    global_step = 0                                                     # 追加\n",
    "    for X_batch, y_batch in train_set.take(total_steps):                # 変更\n",
    "        global_step += 1                                                # 追加\n",
    "        if tf.equal(global_step % 100, 0):                              # 追加\n",
    "            tf.print(\"\\rGlobal step\", global_step, \"/\", total_steps)    # 追加\n",
    "        with tf.GradientTape() as tape:\n",
    "            y_pred = model(X_batch)\n",
    "            main_loss = tf.reduce_mean(loss_fn(y_batch, y_pred))\n",
    "            loss = tf.add_n([main_loss] + model.losses)\n",
    "        gradients = tape.gradient(loss, model.trainable_variables)\n",
    "        optimizer.apply_gradients(zip(gradients, model.trainable_variables))\n",
    "\n",
    "train(model, 5)"
   ]
  },
  {
   "cell_type": "markdown",
   "metadata": {},
   "source": [
    "## 以下 `Dataset` クラスの各メソッドの簡単な説明\n",
    "\n",
    "- 以下のコードは便利かも。いろいろ使えそう"
   ]
  },
  {
   "cell_type": "code",
   "execution_count": 32,
   "metadata": {},
   "outputs": [
    {
     "name": "stdout",
     "output_type": "stream",
     "text": [
      "● apply()              Applies a transformation function to this dataset.\n",
      "● as_numpy_iterator()  Returns an iterator which converts all elements of the dataset to numpy.\n",
      "● batch()              Combines consecutive elements of this dataset into batches.\n",
      "● bucket_by_sequence_length()A transformation that buckets elements in a `Dataset` by length.\n",
      "● cache()              Caches the elements in this dataset.\n",
      "● cardinality()        Returns the cardinality of the dataset, if known.\n",
      "● choose_from_datasets()Creates a dataset that deterministically chooses elements from `datasets`.\n",
      "● concatenate()        Creates a `Dataset` by concatenating the given dataset with this dataset.\n",
      "● element_spec()       The type specification of an element of this dataset.\n",
      "● enumerate()          Enumerates the elements of this dataset.\n",
      "● filter()             Filters this dataset according to `predicate`.\n",
      "● flat_map()           Maps `map_func` across this dataset and flattens the result.\n",
      "● from_generator()     Creates a `Dataset` whose elements are generated by `generator`. (deprecated arguments)\n",
      "● from_tensor_slices() Creates a `Dataset` whose elements are slices of the given tensors.\n",
      "● from_tensors()       Creates a `Dataset` with a single element, comprising the given tensors.\n",
      "● get_single_element() Returns the single element of the `dataset`.\n",
      "● group_by_window()    Groups windows of elements by key and reduces them.\n",
      "● interleave()         Maps `map_func` across this dataset, and interleaves the results.\n",
      "● list_files()         A dataset of all files matching one or more glob patterns.\n",
      "● load()               Loads a previously saved dataset.\n",
      "● map()                Maps `map_func` across the elements of this dataset.\n",
      "● options()            Returns the options for this dataset and its inputs.\n",
      "● padded_batch()       Combines consecutive elements of this dataset into padded batches.\n",
      "● prefetch()           Creates a `Dataset` that prefetches elements from this dataset.\n",
      "● random()             Creates a `Dataset` of pseudorandom values.\n",
      "● range()              Creates a `Dataset` of a step-separated range of values.\n",
      "● reduce()             Reduces the input dataset to a single element.\n",
      "● rejection_resample() A transformation that resamples a dataset to a target distribution.\n",
      "● repeat()             Repeats this dataset so each original value is seen `count` times.\n",
      "● sample_from_datasets()Samples elements at random from the datasets in `datasets`.\n",
      "● save()               Saves the content of the given dataset.\n",
      "● scan()               A transformation that scans a function across an input dataset.\n",
      "● shard()              Creates a `Dataset` that includes only 1/`num_shards` of this dataset.\n",
      "● shuffle()            Randomly shuffles the elements of this dataset.\n",
      "● skip()               Creates a `Dataset` that skips `count` elements from this dataset.\n",
      "● snapshot()           API to persist the output of the input dataset.\n",
      "● take()               Creates a `Dataset` with at most `count` elements from this dataset.\n",
      "● take_while()         A transformation that stops dataset iteration based on a `predicate`.\n",
      "● unbatch()            Splits elements of a dataset into multiple elements.\n",
      "● unique()             A transformation that discards duplicate elements of a `Dataset`.\n",
      "● window()             Returns a dataset of \"windows\".\n",
      "● with_options()       Returns a new `tf.data.Dataset` with the given options set.\n",
      "● zip()                Creates a `Dataset` by zipping together the given datasets.\n"
     ]
    }
   ],
   "source": [
    "for m in dir(tf.data.Dataset):\n",
    "    if not (m.startswith(\"_\") or m.endswith(\"_\")):\n",
    "        func = getattr(tf.data.Dataset, m)\n",
    "        if hasattr(func, \"__doc__\"):         # __doc__というメソッドがTrueならば\n",
    "            print(\"● {:21s}{}\".format(m + \"()\", func.__doc__.split(\"\\n\")[0]))"
   ]
  },
  {
   "cell_type": "markdown",
   "metadata": {},
   "source": [
    "## 補足"
   ]
  },
  {
   "cell_type": "markdown",
   "metadata": {},
   "source": [
    "### 演算子 `//` の挙動"
   ]
  },
  {
   "cell_type": "code",
   "execution_count": 39,
   "metadata": {},
   "outputs": [
    {
     "name": "stdout",
     "output_type": "stream",
     "text": [
      "362.8125\n",
      "362\n",
      "362\n"
     ]
    }
   ],
   "source": [
    "batch_size = 32\n",
    "print(len(X_train) / batch_size)\n",
    "print(len(X_train) // batch_size)\n",
    "print(int(len(X_train) / batch_size))"
   ]
  },
  {
   "cell_type": "markdown",
   "metadata": {},
   "source": [
    "### `getattr`"
   ]
  },
  {
   "cell_type": "code",
   "execution_count": 40,
   "metadata": {},
   "outputs": [
    {
     "name": "stdout",
     "output_type": "stream",
     "text": [
      "1\n",
      "3\n",
      "1\n",
      "None\n",
      "I got Hello World\n"
     ]
    }
   ],
   "source": [
    "class hello():\n",
    "    def __init__(self):\n",
    "        self.x = 1\n",
    "        self.y = 2\n",
    "    def plus(self):\n",
    "        return self.x + self.y\n",
    "    def minus(self):\n",
    "        return self.y - self.x\n",
    "    def args(self, s):\n",
    "        return \"I got {}\".format(s)\n",
    "\n",
    "test = hello() \n",
    "print(getattr(test, \"x\"))\n",
    "print(getattr(test, \"plus\")())\n",
    "print(getattr(test, \"minus\")())\n",
    "print(getattr(test, \"multi\", \"None\"))\n",
    "print(getattr(test, \"args\")(\"Hello World\"))"
   ]
  },
  {
   "cell_type": "markdown",
   "metadata": {},
   "source": [
    "### `hasattr`"
   ]
  },
  {
   "cell_type": "code",
   "execution_count": 41,
   "metadata": {},
   "outputs": [
    {
     "name": "stdout",
     "output_type": "stream",
     "text": [
      "True\n",
      "True\n",
      "False\n"
     ]
    }
   ],
   "source": [
    "class AttrTest():\n",
    " \n",
    "    def __init__(self):\n",
    "        self.code = -1\n",
    " \n",
    " \n",
    "test = AttrTest()\n",
    "test.name = 'python-izm'\n",
    " \n",
    "print(hasattr(test, 'code'))\n",
    "print(hasattr(test, 'name'))\n",
    "print(hasattr(test, 'kana'))"
   ]
  },
  {
   "cell_type": "markdown",
   "metadata": {},
   "source": [
    "## 参考\n",
    "\n",
    "- https://qiita.com/typecprint/items/3d10e77e76e74db6e9e9"
   ]
  },
  {
   "cell_type": "markdown",
   "metadata": {},
   "source": [
    "## メモ\n",
    "\n",
    "- `repeat()`メソッドの使い所がよくわからない\n",
    "- TF関数の使い所。Pythonコードは高速化のためにとりあえず変換しちゃえば良い？\n",
    "    - ルールはあるので注意"
   ]
  }
 ],
 "metadata": {
  "kernelspec": {
   "display_name": "Python 3.9.7 ('kinocode')",
   "language": "python",
   "name": "python3"
  },
  "language_info": {
   "codemirror_mode": {
    "name": "ipython",
    "version": 3
   },
   "file_extension": ".py",
   "mimetype": "text/x-python",
   "name": "python",
   "nbconvert_exporter": "python",
   "pygments_lexer": "ipython3",
   "version": "3.9.7"
  },
  "orig_nbformat": 4,
  "vscode": {
   "interpreter": {
    "hash": "c222fa9c04e7ed09ba82d4b2c90d6d09380978bc4549bc0b0460fb9c58f648a7"
   }
  }
 },
 "nbformat": 4,
 "nbformat_minor": 2
}

{
  "nbformat": 4,
  "nbformat_minor": 0,
  "metadata": {
    "colab": {
      "provenance": [],
      "authorship_tag": "ABX9TyMB0QQg5XD7+u1yvFPdOuBb",
      "include_colab_link": true
    },
    "kernelspec": {
      "name": "python3",
      "display_name": "Python 3"
    },
    "language_info": {
      "name": "python"
    }
  },
  "cells": [
    {
      "cell_type": "markdown",
      "metadata": {
        "id": "view-in-github",
        "colab_type": "text"
      },
      "source": [
        "<a href=\"https://colab.research.google.com/github/yazuyuichiro/Hands-On-Machine-Learning-with-Scikit-Learn-Keras-and-TensorFlow-2nd-Edition/blob/master/15ch/15-15.3.1/step15_15_3_1.ipynb\" target=\"_parent\"><img src=\"https://colab.research.google.com/assets/colab-badge.svg\" alt=\"Open In Colab\"/></a>"
      ]
    },
    {
      "cell_type": "markdown",
      "source": [
        "### 時系列データの予測"
      ],
      "metadata": {
        "id": "SGivcXWThocm"
      }
    },
    {
      "cell_type": "markdown",
      "source": [
        "#### データ準備"
      ],
      "metadata": {
        "id": "HkuMdZZDl6vC"
      }
    },
    {
      "cell_type": "code",
      "source": [
        "import numpy as np\n",
        "import matplotlib.pyplot as plt\n",
        "from keras import losses, models, layers"
      ],
      "metadata": {
        "id": "BtOtWNE-jOAd"
      },
      "execution_count": 35,
      "outputs": []
    },
    {
      "cell_type": "code",
      "execution_count": 30,
      "metadata": {
        "id": "Rt9tY7h_hjw1"
      },
      "outputs": [],
      "source": [
        "def generate_time_series(batch_size, n_steps):\n",
        "  freq1, freq2, offsets1, offsets2 = np.random.rand(4, batch_size, 1)\n",
        "  time = np.linspace(0, 1, n_steps)\n",
        "  series = 0.5 * np.sin((time - offsets1) * (freq1 * 10 + 10)) # 波形1\n",
        "  series += 0.2 * np.sin((time - offsets2) * (freq2 * 20 + 20)) # +波形2\n",
        "  series += 0.1 * (np.random.rand(batch_size, n_steps) - 0.5) # +ノイズ\n",
        "  return series[..., np.newaxis].astype(np.float32)"
      ]
    },
    {
      "cell_type": "code",
      "source": [
        "n_steps = 50\n",
        "series = generate_time_series(10000, n_steps + 1)\n",
        "X_train, y_train = series[:7000, :n_steps], series[:7000, -1]\n",
        "X_valid, y_valid = series[7000:9000, :n_steps], series[7000:9000, -1]\n",
        "X_test, y_test = series[9000:, :n_steps], series[9000:, -1]"
      ],
      "metadata": {
        "id": "AzZxCVSJir6m"
      },
      "execution_count": 31,
      "outputs": []
    },
    {
      "cell_type": "code",
      "source": [
        "X_train.shape, y_train.shape, X_valid.shape, y_valid.shape, X_test.shape, y_test.shape"
      ],
      "metadata": {
        "colab": {
          "base_uri": "https://localhost:8080/"
        },
        "id": "961GqnQblL9F",
        "outputId": "ba93af43-fe47-47f7-c041-f6c224256b71"
      },
      "execution_count": 32,
      "outputs": [
        {
          "output_type": "execute_result",
          "data": {
            "text/plain": [
              "((7000, 50, 1), (7000, 1), (2000, 50, 1), (2000, 1), (1000, 50, 1), (1000, 1))"
            ]
          },
          "metadata": {},
          "execution_count": 32
        }
      ]
    },
    {
      "cell_type": "code",
      "source": [
        "plt.plot(X_train[0])"
      ],
      "metadata": {
        "colab": {
          "base_uri": "https://localhost:8080/",
          "height": 282
        },
        "id": "quLdNh7VjqWF",
        "outputId": "9f910c56-3b02-4132-d6ba-b24041da7f4b"
      },
      "execution_count": 33,
      "outputs": [
        {
          "output_type": "execute_result",
          "data": {
            "text/plain": [
              "[<matplotlib.lines.Line2D at 0x7f244f032b10>]"
            ]
          },
          "metadata": {},
          "execution_count": 33
        },
        {
          "output_type": "display_data",
          "data": {
            "text/plain": [
              "<Figure size 432x288 with 1 Axes>"
            ],
            "image/png": "[encoded data removed]"
          },
          "metadata": {
            "needs_background": "light"
          }
        }
      ]
    },
    {
      "cell_type": "markdown",
      "source": [
        "#### ベースライン指標"
      ],
      "metadata": {
        "id": "yJAM4T_fl8_M"
      }
    },
    {
      "cell_type": "code",
      "source": [
        "# ベースライン1\n",
        "y_pred = X_valid[:, -1]\n",
        "np.mean(losses.mean_squared_error(y_valid, y_pred))"
      ],
      "metadata": {
        "colab": {
          "base_uri": "https://localhost:8080/"
        },
        "id": "ZyqNIzL5lIxb",
        "outputId": "22978cd5-c761-4637-ae23-8800aed91985"
      },
      "execution_count": 34,
      "outputs": [
        {
          "output_type": "execute_result",
          "data": {
            "text/plain": [
              "0.020405129"
            ]
          },
          "metadata": {},
          "execution_count": 34
        }
      ]
    },
    {
      "cell_type": "code",
      "source": [
        "# ベースライン2\n",
        "model = models.Sequential([\n",
        "    layers.Flatten(input_shape=[50, 1]),\n",
        "    layers.Dense(1)\n",
        "])\n",
        "\n",
        "model.compile(loss=\"mse\", optimizer=\"adam\")\n",
        "history = model.fit(X_train, y_train, epochs=20,\n",
        "                    validation_data=(X_valid, y_valid))"
      ],
      "metadata": {
        "colab": {
          "base_uri": "https://localhost:8080/"
        },
        "id": "qiU4BU5qseYD",
        "outputId": "57a91215-20d7-4659-8686-9ae0a0958f25"
      },
      "execution_count": 38,
      "outputs": [
        {
          "output_type": "stream",
          "name": "stdout",
          "text": [
            "Epoch 1/20\n",
            "219/219 [==============================] - 2s 3ms/step - loss: 0.0919 - val_loss: 0.0409\n",
            "Epoch 2/20\n",
            "219/219 [==============================] - 0s 2ms/step - loss: 0.0286 - val_loss: 0.0206\n",
            "Epoch 3/20\n",
            "219/219 [==============================] - 1s 2ms/step - loss: 0.0162 - val_loss: 0.0132\n",
            "Epoch 4/20\n",
            "219/219 [==============================] - 1s 3ms/step - loss: 0.0114 - val_loss: 0.0101\n",
            "Epoch 5/20\n",
            "219/219 [==============================] - 1s 2ms/step - loss: 0.0093 - val_loss: 0.0088\n",
            "Epoch 6/20\n",
            "219/219 [==============================] - 1s 3ms/step - loss: 0.0083 - val_loss: 0.0078\n",
            "Epoch 7/20\n",
            "219/219 [==============================] - 0s 2ms/step - loss: 0.0076 - val_loss: 0.0073\n",
            "Epoch 8/20\n",
            "219/219 [==============================] - 0s 2ms/step - loss: 0.0070 - val_loss: 0.0067\n",
            "Epoch 9/20\n",
            "219/219 [==============================] - 0s 2ms/step - loss: 0.0065 - val_loss: 0.0063\n",
            "Epoch 10/20\n",
            "219/219 [==============================] - 0s 2ms/step - loss: 0.0061 - val_loss: 0.0060\n",
            "Epoch 11/20\n",
            "219/219 [==============================] - 0s 2ms/step - loss: 0.0058 - val_loss: 0.0057\n",
            "Epoch 12/20\n",
            "219/219 [==============================] - 1s 2ms/step - loss: 0.0055 - val_loss: 0.0056\n",
            "Epoch 13/20\n",
            "219/219 [==============================] - 0s 2ms/step - loss: 0.0053 - val_loss: 0.0053\n",
            "Epoch 14/20\n",
            "219/219 [==============================] - 0s 2ms/step - loss: 0.0051 - val_loss: 0.0051\n",
            "Epoch 15/20\n",
            "219/219 [==============================] - 1s 2ms/step - loss: 0.0049 - val_loss: 0.0051\n",
            "Epoch 16/20\n",
            "219/219 [==============================] - 1s 2ms/step - loss: 0.0048 - val_loss: 0.0048\n",
            "Epoch 17/20\n",
            "219/219 [==============================] - 0s 2ms/step - loss: 0.0046 - val_loss: 0.0047\n",
            "Epoch 18/20\n",
            "219/219 [==============================] - 0s 2ms/step - loss: 0.0045 - val_loss: 0.0047\n",
            "Epoch 19/20\n",
            "219/219 [==============================] - 0s 2ms/step - loss: 0.0044 - val_loss: 0.0044\n",
            "Epoch 20/20\n",
            "219/219 [==============================] - 1s 2ms/step - loss: 0.0043 - val_loss: 0.0043\n"
          ]
        }
      ]
    },
    {
      "cell_type": "code",
      "source": [
        "model.evaluate(X_valid, y_valid)"
      ],
      "metadata": {
        "colab": {
          "base_uri": "https://localhost:8080/"
        },
        "id": "22VRvGNHsqVT",
        "outputId": "c3c801c1-2c5c-4e39-f89c-f8e6be5ad7bc"
      },
      "execution_count": 39,
      "outputs": [
        {
          "output_type": "stream",
          "name": "stdout",
          "text": [
            "63/63 [==============================] - 0s 2ms/step - loss: 0.0043\n"
          ]
        },
        {
          "output_type": "execute_result",
          "data": {
            "text/plain": [
              "0.004295163322240114"
            ]
          },
          "metadata": {},
          "execution_count": 39
        }
      ]
    }
  ]
}